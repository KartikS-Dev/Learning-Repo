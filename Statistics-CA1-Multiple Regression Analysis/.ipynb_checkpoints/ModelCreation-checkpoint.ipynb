{
 "cells": [
  {
   "cell_type": "markdown",
   "id": "b9b1071c",
   "metadata": {},
   "source": [
    "# <font size='10' color='#1ABC9C'> Model Creation </font>"
   ]
  },
  {
   "cell_type": "code",
   "execution_count": 1,
   "id": "3abb25a1",
   "metadata": {},
   "outputs": [],
   "source": [
    "import pandas as pd\n",
    "import numpy as np\n",
    "import matplotlib.pyplot as plt\n",
    "%matplotlib inline \n",
    "## When using the 'inline' backend, \n",
    "## your matplotlib graphs will be included in your notebook, next to the code.\n",
    "import seaborn as sns\n",
    "from sklearn.linear_model import LinearRegression\n",
    "LR = LinearRegression()\n",
    "pd.pandas.set_option('display.max_columns',None)\n",
    "\n",
    "from sklearn.metrics import r2_score\n",
    "from sklearn.metrics import mean_squared_error"
   ]
  },
  {
   "cell_type": "code",
   "execution_count": 2,
   "id": "3666ada9",
   "metadata": {},
   "outputs": [
    {
     "name": "stdout",
     "output_type": "stream",
     "text": [
      "(3155, 13)\n"
     ]
    }
   ],
   "source": [
    "dataset=pd.read_csv('X_train.csv')\n",
    "\n",
    "##What's the shape of data set\n",
    "print(dataset.shape)"
   ]
  },
  {
   "cell_type": "code",
   "execution_count": 3,
   "id": "ee6bc916",
   "metadata": {},
   "outputs": [
    {
     "data": {
      "text/html": [
       "<div>\n",
       "<style scoped>\n",
       "    .dataframe tbody tr th:only-of-type {\n",
       "        vertical-align: middle;\n",
       "    }\n",
       "\n",
       "    .dataframe tbody tr th {\n",
       "        vertical-align: top;\n",
       "    }\n",
       "\n",
       "    .dataframe thead th {\n",
       "        text-align: right;\n",
       "    }\n",
       "</style>\n",
       "<table border=\"1\" class=\"dataframe\">\n",
       "  <thead>\n",
       "    <tr style=\"text-align: right;\">\n",
       "      <th></th>\n",
       "      <th>income</th>\n",
       "      <th>age</th>\n",
       "      <th>yrsed</th>\n",
       "      <th>edcat</th>\n",
       "      <th>yrsempl</th>\n",
       "      <th>creddebt</th>\n",
       "      <th>othdebt</th>\n",
       "      <th>default</th>\n",
       "      <th>jobsat</th>\n",
       "      <th>homeown</th>\n",
       "      <th>address</th>\n",
       "      <th>cars</th>\n",
       "      <th>carvalue</th>\n",
       "    </tr>\n",
       "  </thead>\n",
       "  <tbody>\n",
       "    <tr>\n",
       "      <th>0</th>\n",
       "      <td>2.772589</td>\n",
       "      <td>1.000000</td>\n",
       "      <td>0.411765</td>\n",
       "      <td>0.25</td>\n",
       "      <td>0.653846</td>\n",
       "      <td>0.475553</td>\n",
       "      <td>0.424034</td>\n",
       "      <td>0.0</td>\n",
       "      <td>0.75</td>\n",
       "      <td>0.0</td>\n",
       "      <td>0.771930</td>\n",
       "      <td>0.166667</td>\n",
       "      <td>0.354501</td>\n",
       "    </tr>\n",
       "    <tr>\n",
       "      <th>1</th>\n",
       "      <td>3.583519</td>\n",
       "      <td>0.114754</td>\n",
       "      <td>0.705882</td>\n",
       "      <td>0.75</td>\n",
       "      <td>0.000000</td>\n",
       "      <td>0.717623</td>\n",
       "      <td>0.532861</td>\n",
       "      <td>1.0</td>\n",
       "      <td>0.25</td>\n",
       "      <td>1.0</td>\n",
       "      <td>0.070175</td>\n",
       "      <td>0.000000</td>\n",
       "      <td>0.620105</td>\n",
       "    </tr>\n",
       "    <tr>\n",
       "      <th>2</th>\n",
       "      <td>4.127134</td>\n",
       "      <td>0.262295</td>\n",
       "      <td>0.764706</td>\n",
       "      <td>0.75</td>\n",
       "      <td>0.057692</td>\n",
       "      <td>0.632413</td>\n",
       "      <td>0.617074</td>\n",
       "      <td>1.0</td>\n",
       "      <td>0.25</td>\n",
       "      <td>1.0</td>\n",
       "      <td>0.140351</td>\n",
       "      <td>0.000000</td>\n",
       "      <td>0.594209</td>\n",
       "    </tr>\n",
       "    <tr>\n",
       "      <th>3</th>\n",
       "      <td>3.044522</td>\n",
       "      <td>0.770492</td>\n",
       "      <td>0.647059</td>\n",
       "      <td>0.75</td>\n",
       "      <td>0.442308</td>\n",
       "      <td>0.566571</td>\n",
       "      <td>0.457758</td>\n",
       "      <td>0.0</td>\n",
       "      <td>0.75</td>\n",
       "      <td>0.0</td>\n",
       "      <td>0.210526</td>\n",
       "      <td>0.166667</td>\n",
       "      <td>0.391828</td>\n",
       "    </tr>\n",
       "    <tr>\n",
       "      <th>4</th>\n",
       "      <td>2.564949</td>\n",
       "      <td>0.180328</td>\n",
       "      <td>0.647059</td>\n",
       "      <td>0.75</td>\n",
       "      <td>0.057692</td>\n",
       "      <td>0.436658</td>\n",
       "      <td>0.384711</td>\n",
       "      <td>0.0</td>\n",
       "      <td>0.50</td>\n",
       "      <td>1.0</td>\n",
       "      <td>0.105263</td>\n",
       "      <td>0.000000</td>\n",
       "      <td>0.220521</td>\n",
       "    </tr>\n",
       "  </tbody>\n",
       "</table>\n",
       "</div>"
      ],
      "text/plain": [
       "     income       age     yrsed  edcat   yrsempl  creddebt   othdebt  default  \\\n",
       "0  2.772589  1.000000  0.411765   0.25  0.653846  0.475553  0.424034      0.0   \n",
       "1  3.583519  0.114754  0.705882   0.75  0.000000  0.717623  0.532861      1.0   \n",
       "2  4.127134  0.262295  0.764706   0.75  0.057692  0.632413  0.617074      1.0   \n",
       "3  3.044522  0.770492  0.647059   0.75  0.442308  0.566571  0.457758      0.0   \n",
       "4  2.564949  0.180328  0.647059   0.75  0.057692  0.436658  0.384711      0.0   \n",
       "\n",
       "   jobsat  homeown   address      cars  carvalue  \n",
       "0    0.75      0.0  0.771930  0.166667  0.354501  \n",
       "1    0.25      1.0  0.070175  0.000000  0.620105  \n",
       "2    0.25      1.0  0.140351  0.000000  0.594209  \n",
       "3    0.75      0.0  0.210526  0.166667  0.391828  \n",
       "4    0.50      1.0  0.105263  0.000000  0.220521  "
      ]
     },
     "execution_count": 3,
     "metadata": {},
     "output_type": "execute_result"
    }
   ],
   "source": [
    "dataset.head()"
   ]
  },
  {
   "cell_type": "code",
   "execution_count": 4,
   "id": "d5b6fbf0",
   "metadata": {},
   "outputs": [],
   "source": [
    "## capturing the dependent feature\n",
    "y_train = dataset['income']"
   ]
  },
  {
   "cell_type": "code",
   "execution_count": 5,
   "id": "e5c8982e",
   "metadata": {},
   "outputs": [],
   "source": [
    "##Droping Dependent variable from the dataset\n",
    "x_train=dataset.drop(['income'],axis=1)\n",
    "\n",
    "## Droping unselected features\n",
    "x_train=dataset.drop(['age','yrsed','default','address','cars'],axis=1)"
   ]
  },
  {
   "cell_type": "markdown",
   "id": "381d11d9",
   "metadata": {},
   "source": [
    "### List of Selected Features :- \n",
    "    1. edcat\n",
    "    2. yrsempl\n",
    "    3. creddebt\n",
    "    4. othdebt\n",
    "    5. jobsat\n",
    "    6. homeown\n",
    "    7. carvalue"
   ]
  },
  {
   "cell_type": "code",
   "execution_count": 6,
   "id": "24d1b590",
   "metadata": {},
   "outputs": [
    {
     "data": {
      "text/html": [
       "<div>\n",
       "<style scoped>\n",
       "    .dataframe tbody tr th:only-of-type {\n",
       "        vertical-align: middle;\n",
       "    }\n",
       "\n",
       "    .dataframe tbody tr th {\n",
       "        vertical-align: top;\n",
       "    }\n",
       "\n",
       "    .dataframe thead th {\n",
       "        text-align: right;\n",
       "    }\n",
       "</style>\n",
       "<table border=\"1\" class=\"dataframe\">\n",
       "  <thead>\n",
       "    <tr style=\"text-align: right;\">\n",
       "      <th></th>\n",
       "      <th>income</th>\n",
       "      <th>age</th>\n",
       "      <th>yrsed</th>\n",
       "      <th>edcat</th>\n",
       "      <th>yrsempl</th>\n",
       "      <th>creddebt</th>\n",
       "      <th>othdebt</th>\n",
       "      <th>default</th>\n",
       "      <th>jobsat</th>\n",
       "      <th>homeown</th>\n",
       "      <th>address</th>\n",
       "      <th>cars</th>\n",
       "      <th>carvalue</th>\n",
       "    </tr>\n",
       "  </thead>\n",
       "  <tbody>\n",
       "    <tr>\n",
       "      <th>0</th>\n",
       "      <td>4.477337</td>\n",
       "      <td>0.459016</td>\n",
       "      <td>0.529412</td>\n",
       "      <td>0.50</td>\n",
       "      <td>0.211538</td>\n",
       "      <td>0.532582</td>\n",
       "      <td>0.537874</td>\n",
       "      <td>0.0</td>\n",
       "      <td>0.75</td>\n",
       "      <td>1.0</td>\n",
       "      <td>0.315789</td>\n",
       "      <td>0.166667</td>\n",
       "      <td>0.797952</td>\n",
       "    </tr>\n",
       "    <tr>\n",
       "      <th>1</th>\n",
       "      <td>3.688879</td>\n",
       "      <td>0.573770</td>\n",
       "      <td>0.117647</td>\n",
       "      <td>0.00</td>\n",
       "      <td>0.269231</td>\n",
       "      <td>0.417300</td>\n",
       "      <td>0.288202</td>\n",
       "      <td>0.0</td>\n",
       "      <td>0.25</td>\n",
       "      <td>1.0</td>\n",
       "      <td>0.315789</td>\n",
       "      <td>0.166667</td>\n",
       "      <td>0.512073</td>\n",
       "    </tr>\n",
       "    <tr>\n",
       "      <th>2</th>\n",
       "      <td>3.891820</td>\n",
       "      <td>0.245902</td>\n",
       "      <td>0.529412</td>\n",
       "      <td>0.50</td>\n",
       "      <td>0.115385</td>\n",
       "      <td>0.593294</td>\n",
       "      <td>0.544614</td>\n",
       "      <td>0.0</td>\n",
       "      <td>0.25</td>\n",
       "      <td>1.0</td>\n",
       "      <td>0.192982</td>\n",
       "      <td>0.000000</td>\n",
       "      <td>0.644696</td>\n",
       "    </tr>\n",
       "    <tr>\n",
       "      <th>3</th>\n",
       "      <td>2.890372</td>\n",
       "      <td>0.032787</td>\n",
       "      <td>0.352941</td>\n",
       "      <td>0.25</td>\n",
       "      <td>0.019231</td>\n",
       "      <td>0.596469</td>\n",
       "      <td>0.381121</td>\n",
       "      <td>1.0</td>\n",
       "      <td>0.00</td>\n",
       "      <td>0.0</td>\n",
       "      <td>0.000000</td>\n",
       "      <td>0.166667</td>\n",
       "      <td>0.321673</td>\n",
       "    </tr>\n",
       "    <tr>\n",
       "      <th>4</th>\n",
       "      <td>3.951244</td>\n",
       "      <td>0.803279</td>\n",
       "      <td>0.705882</td>\n",
       "      <td>0.75</td>\n",
       "      <td>0.096154</td>\n",
       "      <td>0.573228</td>\n",
       "      <td>0.618974</td>\n",
       "      <td>1.0</td>\n",
       "      <td>0.00</td>\n",
       "      <td>0.0</td>\n",
       "      <td>0.456140</td>\n",
       "      <td>0.166667</td>\n",
       "      <td>0.616721</td>\n",
       "    </tr>\n",
       "  </tbody>\n",
       "</table>\n",
       "</div>"
      ],
      "text/plain": [
       "     income       age     yrsed  edcat   yrsempl  creddebt   othdebt  default  \\\n",
       "0  4.477337  0.459016  0.529412   0.50  0.211538  0.532582  0.537874      0.0   \n",
       "1  3.688879  0.573770  0.117647   0.00  0.269231  0.417300  0.288202      0.0   \n",
       "2  3.891820  0.245902  0.529412   0.50  0.115385  0.593294  0.544614      0.0   \n",
       "3  2.890372  0.032787  0.352941   0.25  0.019231  0.596469  0.381121      1.0   \n",
       "4  3.951244  0.803279  0.705882   0.75  0.096154  0.573228  0.618974      1.0   \n",
       "\n",
       "   jobsat  homeown   address      cars  carvalue  \n",
       "0    0.75      1.0  0.315789  0.166667  0.797952  \n",
       "1    0.25      1.0  0.315789  0.166667  0.512073  \n",
       "2    0.25      1.0  0.192982  0.000000  0.644696  \n",
       "3    0.00      0.0  0.000000  0.166667  0.321673  \n",
       "4    0.00      0.0  0.456140  0.166667  0.616721  "
      ]
     },
     "execution_count": 6,
     "metadata": {},
     "output_type": "execute_result"
    }
   ],
   "source": [
    "test_dataSet =pd.read_csv('X_test.csv')\n",
    "\n",
    "test_dataSet.head()\n",
    "\n"
   ]
  },
  {
   "cell_type": "code",
   "execution_count": 7,
   "id": "c83ea6cc",
   "metadata": {},
   "outputs": [],
   "source": [
    "y_test = test_dataSet['income']\n",
    "x_test  = test_dataSet.drop(['age','yrsed','default','address','cars'],axis=1)"
   ]
  },
  {
   "cell_type": "markdown",
   "id": "cbd322b8",
   "metadata": {},
   "source": [
    "### Model 1"
   ]
  },
  {
   "cell_type": "code",
   "execution_count": 8,
   "id": "b80bbfc3",
   "metadata": {},
   "outputs": [
    {
     "data": {
      "text/plain": [
       "LinearRegression()"
      ]
     },
     "execution_count": 8,
     "metadata": {},
     "output_type": "execute_result"
    }
   ],
   "source": [
    "LR.fit(x_train,y_train)"
   ]
  },
  {
   "cell_type": "code",
   "execution_count": 13,
   "id": "95e77944",
   "metadata": {},
   "outputs": [
    {
     "data": {
      "text/plain": [
       "array([4.47733681, 3.68887945, 3.8918203 , ..., 3.80666249, 3.55534806,\n",
       "       2.39789527])"
      ]
     },
     "execution_count": 13,
     "metadata": {},
     "output_type": "execute_result"
    }
   ],
   "source": [
    "y_prediction = LR.predict(x_test)\n",
    "y_prediction"
   ]
  },
  {
   "cell_type": "code",
   "execution_count": 10,
   "id": "2bc058e3",
   "metadata": {},
   "outputs": [
    {
     "data": {
      "text/html": [
       "<div>\n",
       "<style scoped>\n",
       "    .dataframe tbody tr th:only-of-type {\n",
       "        vertical-align: middle;\n",
       "    }\n",
       "\n",
       "    .dataframe tbody tr th {\n",
       "        vertical-align: top;\n",
       "    }\n",
       "\n",
       "    .dataframe thead th {\n",
       "        text-align: right;\n",
       "    }\n",
       "</style>\n",
       "<table border=\"1\" class=\"dataframe\">\n",
       "  <thead>\n",
       "    <tr style=\"text-align: right;\">\n",
       "      <th></th>\n",
       "      <th>income</th>\n",
       "      <th>edcat</th>\n",
       "      <th>yrsempl</th>\n",
       "      <th>creddebt</th>\n",
       "      <th>othdebt</th>\n",
       "      <th>jobsat</th>\n",
       "      <th>homeown</th>\n",
       "      <th>carvalue</th>\n",
       "    </tr>\n",
       "  </thead>\n",
       "  <tbody>\n",
       "    <tr>\n",
       "      <th>1350</th>\n",
       "      <td>3.806662</td>\n",
       "      <td>0.50</td>\n",
       "      <td>0.134615</td>\n",
       "      <td>0.568094</td>\n",
       "      <td>0.336089</td>\n",
       "      <td>0.75</td>\n",
       "      <td>1.0</td>\n",
       "      <td>0.624551</td>\n",
       "    </tr>\n",
       "    <tr>\n",
       "      <th>1351</th>\n",
       "      <td>3.555348</td>\n",
       "      <td>0.75</td>\n",
       "      <td>0.115385</td>\n",
       "      <td>0.533909</td>\n",
       "      <td>0.540715</td>\n",
       "      <td>0.75</td>\n",
       "      <td>0.0</td>\n",
       "      <td>0.592969</td>\n",
       "    </tr>\n",
       "    <tr>\n",
       "      <th>1352</th>\n",
       "      <td>2.397895</td>\n",
       "      <td>0.75</td>\n",
       "      <td>0.307692</td>\n",
       "      <td>0.428130</td>\n",
       "      <td>0.423912</td>\n",
       "      <td>1.00</td>\n",
       "      <td>1.0</td>\n",
       "      <td>0.235513</td>\n",
       "    </tr>\n",
       "  </tbody>\n",
       "</table>\n",
       "</div>"
      ],
      "text/plain": [
       "        income  edcat   yrsempl  creddebt   othdebt  jobsat  homeown  carvalue\n",
       "1350  3.806662   0.50  0.134615  0.568094  0.336089    0.75      1.0  0.624551\n",
       "1351  3.555348   0.75  0.115385  0.533909  0.540715    0.75      0.0  0.592969\n",
       "1352  2.397895   0.75  0.307692  0.428130  0.423912    1.00      1.0  0.235513"
      ]
     },
     "execution_count": 10,
     "metadata": {},
     "output_type": "execute_result"
    }
   ],
   "source": [
    "x_test.tail(3)"
   ]
  },
  {
   "cell_type": "code",
   "execution_count": 11,
   "id": "e2386e0e",
   "metadata": {},
   "outputs": [
    {
     "name": "stdout",
     "output_type": "stream",
     "text": [
      "r2 socre is  1.0\n",
      "mean_sqrd_error is== 2.136862688569851e-31\n",
      "root_mean_squared error of is== 4.622621213737776e-16\n"
     ]
    }
   ],
   "source": [
    "# predicting the accuracy score\n",
    "score=r2_score(y_test,y_prediction)\n",
    "print(\"r2 socre is \",score)\n",
    "print(\"mean_sqrd_error is==\",mean_squared_error(y_test,y_prediction))\n",
    "print(\"root_mean_squared error of is==\",np.sqrt(mean_squared_error(y_test,y_prediction)))"
   ]
  },
  {
   "cell_type": "code",
   "execution_count": null,
   "id": "eaa9f292",
   "metadata": {},
   "outputs": [],
   "source": []
  }
 ],
 "metadata": {
  "kernelspec": {
   "display_name": "Python 3 (ipykernel)",
   "language": "python",
   "name": "python3"
  },
  "language_info": {
   "codemirror_mode": {
    "name": "ipython",
    "version": 3
   },
   "file_extension": ".py",
   "mimetype": "text/x-python",
   "name": "python",
   "nbconvert_exporter": "python",
   "pygments_lexer": "ipython3",
   "version": "3.9.7"
  }
 },
 "nbformat": 4,
 "nbformat_minor": 5
}
