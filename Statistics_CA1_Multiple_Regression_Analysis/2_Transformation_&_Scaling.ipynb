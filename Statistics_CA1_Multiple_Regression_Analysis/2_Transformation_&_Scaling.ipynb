{
 "cells": [
  {
   "cell_type": "markdown",
   "id": "62370142",
   "metadata": {},
   "source": [
    "# <font size='10' color='#1ABC9C'> Transforming the Data </font>\n",
    "\n",
    "Handling the Skewness in continuous Features.\n",
    "\n",
    "Handling Categorical Features"
   ]
  },
  {
   "cell_type": "code",
   "execution_count": 1,
   "id": "dce6f4ec",
   "metadata": {},
   "outputs": [],
   "source": [
    "import pandas as pd\n",
    "import numpy as np\n",
    "import matplotlib.pyplot as plt\n",
    "%matplotlib inline \n",
    "## When using the 'inline' backend, \n",
    "## your matplotlib graphs will be included in your notebook, next to the code.\n",
    "import seaborn as sns\n",
    "\n",
    "pd.pandas.set_option('display.max_columns',None)"
   ]
  },
  {
   "cell_type": "code",
   "execution_count": 2,
   "id": "e95052db",
   "metadata": {},
   "outputs": [
    {
     "name": "stdout",
     "output_type": "stream",
     "text": [
      "(4508, 13)\n"
     ]
    }
   ],
   "source": [
    "dataset=pd.read_csv('IncomeData.csv')\n",
    "\n",
    "##What's the shape of data set\n",
    "print(dataset.shape)"
   ]
  },
  {
   "cell_type": "markdown",
   "id": "b4b17966",
   "metadata": {},
   "source": [
    "## Basic Summary of the Varables in the Data Set\n",
    "edcat - Categorical Data\n",
    "\n",
    "default - Categorical Data and binary\n",
    "\n",
    "jobsat - Categorical Data and ordinal\n",
    "\n",
    "homeown - Categorical Data and binary\n",
    "\n",
    "cars - Descrete and numerical Data\n",
    "\n",
    "yrsed - Descrete and numerical Data\n",
    "\n",
    "yrsempl - Descrete and numerical Data\n",
    "\n",
    "address - Descrete and numerical Data\n",
    "\n",
    "age - Descrete and numerical Data\n",
    "\n",
    "Income - Descrete and Dependent Variable\n",
    "\n",
    "creddebt- Continuous and Numeric Data\n",
    "\n",
    "othdebt - Continuous and Numeric Data\n",
    "\n",
    "carvalue- Continuous and Numeric Data\n"
   ]
  },
  {
   "cell_type": "markdown",
   "id": "8ac52233",
   "metadata": {},
   "source": [
    "### One-Hot encoding for categorical feature \n",
    "We'll do this only for edcat , as other categorical features are already either binary or ordinally encoded"
   ]
  },
  {
   "cell_type": "markdown",
   "id": "66ecff05",
   "metadata": {},
   "source": [
    "##### checking missing values"
   ]
  },
  {
   "cell_type": "code",
   "execution_count": 3,
   "id": "3a9e7e28",
   "metadata": {},
   "outputs": [
    {
     "name": "stdout",
     "output_type": "stream",
     "text": [
      "[]\n"
     ]
    }
   ],
   "source": [
    "#What percentage of Missing Values are there in the each feature\n",
    "\n",
    "## Create a List of all features with missing values\n",
    "features_miss_val=[features for features in dataset.columns if dataset[features].isnull().sum()>1] \n",
    "print(features_miss_val)"
   ]
  },
  {
   "cell_type": "markdown",
   "id": "0baad08f",
   "metadata": {},
   "source": [
    "##### >>>>>>No missing Values in Data"
   ]
  },
  {
   "cell_type": "code",
   "execution_count": 4,
   "id": "ffe13db8",
   "metadata": {},
   "outputs": [],
   "source": [
    "temp = pd.get_dummies(dataset['edcat'],drop_first=True)\n",
    "dataset = pd.concat([dataset , temp],axis=1)\n",
    "##droping the edcat\n",
    "dataset= dataset.drop(['edcat'],axis=1)\n"
   ]
  },
  {
   "cell_type": "code",
   "execution_count": 5,
   "id": "8c150798",
   "metadata": {},
   "outputs": [
    {
     "data": {
      "text/html": [
       "<div>\n",
       "<style scoped>\n",
       "    .dataframe tbody tr th:only-of-type {\n",
       "        vertical-align: middle;\n",
       "    }\n",
       "\n",
       "    .dataframe tbody tr th {\n",
       "        vertical-align: top;\n",
       "    }\n",
       "\n",
       "    .dataframe thead th {\n",
       "        text-align: right;\n",
       "    }\n",
       "</style>\n",
       "<table border=\"1\" class=\"dataframe\">\n",
       "  <thead>\n",
       "    <tr style=\"text-align: right;\">\n",
       "      <th></th>\n",
       "      <th>age</th>\n",
       "      <th>yrsed</th>\n",
       "      <th>yrsempl</th>\n",
       "      <th>income</th>\n",
       "      <th>creddebt</th>\n",
       "      <th>othdebt</th>\n",
       "      <th>default</th>\n",
       "      <th>jobsat</th>\n",
       "      <th>homeown</th>\n",
       "      <th>address</th>\n",
       "      <th>cars</th>\n",
       "      <th>carvalue</th>\n",
       "      <th>2</th>\n",
       "      <th>3</th>\n",
       "      <th>4</th>\n",
       "      <th>5</th>\n",
       "    </tr>\n",
       "  </thead>\n",
       "  <tbody>\n",
       "    <tr>\n",
       "      <th>0</th>\n",
       "      <td>45</td>\n",
       "      <td>6</td>\n",
       "      <td>4</td>\n",
       "      <td>17</td>\n",
       "      <td>0.371518</td>\n",
       "      <td>1.294482</td>\n",
       "      <td>0</td>\n",
       "      <td>4</td>\n",
       "      <td>1</td>\n",
       "      <td>22</td>\n",
       "      <td>1</td>\n",
       "      <td>9.1</td>\n",
       "      <td>0</td>\n",
       "      <td>0</td>\n",
       "      <td>0</td>\n",
       "      <td>0</td>\n",
       "    </tr>\n",
       "    <tr>\n",
       "      <th>1</th>\n",
       "      <td>67</td>\n",
       "      <td>6</td>\n",
       "      <td>15</td>\n",
       "      <td>12</td>\n",
       "      <td>0.375552</td>\n",
       "      <td>0.392448</td>\n",
       "      <td>0</td>\n",
       "      <td>3</td>\n",
       "      <td>1</td>\n",
       "      <td>28</td>\n",
       "      <td>1</td>\n",
       "      <td>5.9</td>\n",
       "      <td>0</td>\n",
       "      <td>0</td>\n",
       "      <td>0</td>\n",
       "      <td>0</td>\n",
       "    </tr>\n",
       "    <tr>\n",
       "      <th>2</th>\n",
       "      <td>68</td>\n",
       "      <td>6</td>\n",
       "      <td>7</td>\n",
       "      <td>9</td>\n",
       "      <td>0.200970</td>\n",
       "      <td>0.789030</td>\n",
       "      <td>0</td>\n",
       "      <td>5</td>\n",
       "      <td>0</td>\n",
       "      <td>21</td>\n",
       "      <td>1</td>\n",
       "      <td>5.8</td>\n",
       "      <td>0</td>\n",
       "      <td>0</td>\n",
       "      <td>0</td>\n",
       "      <td>0</td>\n",
       "    </tr>\n",
       "    <tr>\n",
       "      <th>3</th>\n",
       "      <td>75</td>\n",
       "      <td>6</td>\n",
       "      <td>35</td>\n",
       "      <td>16</td>\n",
       "      <td>0.314096</td>\n",
       "      <td>0.757904</td>\n",
       "      <td>0</td>\n",
       "      <td>4</td>\n",
       "      <td>0</td>\n",
       "      <td>11</td>\n",
       "      <td>1</td>\n",
       "      <td>5.8</td>\n",
       "      <td>0</td>\n",
       "      <td>0</td>\n",
       "      <td>0</td>\n",
       "      <td>0</td>\n",
       "    </tr>\n",
       "    <tr>\n",
       "      <th>4</th>\n",
       "      <td>38</td>\n",
       "      <td>7</td>\n",
       "      <td>8</td>\n",
       "      <td>37</td>\n",
       "      <td>0.143190</td>\n",
       "      <td>0.411810</td>\n",
       "      <td>0</td>\n",
       "      <td>3</td>\n",
       "      <td>0</td>\n",
       "      <td>11</td>\n",
       "      <td>1</td>\n",
       "      <td>22.1</td>\n",
       "      <td>0</td>\n",
       "      <td>0</td>\n",
       "      <td>0</td>\n",
       "      <td>0</td>\n",
       "    </tr>\n",
       "  </tbody>\n",
       "</table>\n",
       "</div>"
      ],
      "text/plain": [
       "   age  yrsed  yrsempl  income  creddebt   othdebt  default  jobsat  homeown  \\\n",
       "0   45      6        4      17  0.371518  1.294482        0       4        1   \n",
       "1   67      6       15      12  0.375552  0.392448        0       3        1   \n",
       "2   68      6        7       9  0.200970  0.789030        0       5        0   \n",
       "3   75      6       35      16  0.314096  0.757904        0       4        0   \n",
       "4   38      7        8      37  0.143190  0.411810        0       3        0   \n",
       "\n",
       "   address  cars  carvalue  2  3  4  5  \n",
       "0       22     1       9.1  0  0  0  0  \n",
       "1       28     1       5.9  0  0  0  0  \n",
       "2       21     1       5.8  0  0  0  0  \n",
       "3       11     1       5.8  0  0  0  0  \n",
       "4       11     1      22.1  0  0  0  0  "
      ]
     },
     "execution_count": 5,
     "metadata": {},
     "output_type": "execute_result"
    }
   ],
   "source": [
    "dataset.rename(columns = {'2':'edcat2'}, inplace = True)\n",
    "dataset.rename(columns = {'3':'edcat3'}, inplace = True)\n",
    "dataset.rename(columns = {'4':'edcat4'}, inplace = True)\n",
    "dataset.rename(columns = {'5':'edcat5'}, inplace = True)\n",
    "dataset.head()"
   ]
  },
  {
   "cell_type": "code",
   "execution_count": 6,
   "id": "587a53ad",
   "metadata": {},
   "outputs": [
    {
     "data": {
      "text/plain": [
       "(4508, 16)"
      ]
     },
     "execution_count": 6,
     "metadata": {},
     "output_type": "execute_result"
    }
   ],
   "source": [
    "dataset.shape"
   ]
  },
  {
   "cell_type": "markdown",
   "id": "e031aef2",
   "metadata": {},
   "source": [
    "# log Transformation  of all values other than categorical data\n"
   ]
  },
  {
   "cell_type": "code",
   "execution_count": 7,
   "id": "8867524a",
   "metadata": {},
   "outputs": [
    {
     "name": "stdout",
     "output_type": "stream",
     "text": [
      "['income', 'yrsed', 'age', 'yrsempl', 'creddebt', 'othdebt', 'cars', 'carvalue']\n"
     ]
    }
   ],
   "source": [
    "list_features = (['income','yrsed','age','yrsempl','creddebt','othdebt','cars','carvalue'])\n",
    "print(list_features)"
   ]
  },
  {
   "cell_type": "code",
   "execution_count": 8,
   "id": "a536125b",
   "metadata": {},
   "outputs": [
    {
     "data": {
      "text/html": [
       "<div>\n",
       "<style scoped>\n",
       "    .dataframe tbody tr th:only-of-type {\n",
       "        vertical-align: middle;\n",
       "    }\n",
       "\n",
       "    .dataframe tbody tr th {\n",
       "        vertical-align: top;\n",
       "    }\n",
       "\n",
       "    .dataframe thead th {\n",
       "        text-align: right;\n",
       "    }\n",
       "</style>\n",
       "<table border=\"1\" class=\"dataframe\">\n",
       "  <thead>\n",
       "    <tr style=\"text-align: right;\">\n",
       "      <th></th>\n",
       "      <th>age</th>\n",
       "      <th>yrsed</th>\n",
       "      <th>yrsempl</th>\n",
       "      <th>income</th>\n",
       "      <th>creddebt</th>\n",
       "      <th>othdebt</th>\n",
       "      <th>default</th>\n",
       "      <th>jobsat</th>\n",
       "      <th>homeown</th>\n",
       "      <th>address</th>\n",
       "      <th>cars</th>\n",
       "      <th>carvalue</th>\n",
       "      <th>2</th>\n",
       "      <th>3</th>\n",
       "      <th>4</th>\n",
       "      <th>5</th>\n",
       "    </tr>\n",
       "  </thead>\n",
       "  <tbody>\n",
       "    <tr>\n",
       "      <th>0</th>\n",
       "      <td>45</td>\n",
       "      <td>6</td>\n",
       "      <td>4</td>\n",
       "      <td>17</td>\n",
       "      <td>0.371518</td>\n",
       "      <td>1.294482</td>\n",
       "      <td>0</td>\n",
       "      <td>4</td>\n",
       "      <td>1</td>\n",
       "      <td>22</td>\n",
       "      <td>1</td>\n",
       "      <td>9.1</td>\n",
       "      <td>0</td>\n",
       "      <td>0</td>\n",
       "      <td>0</td>\n",
       "      <td>0</td>\n",
       "    </tr>\n",
       "    <tr>\n",
       "      <th>1</th>\n",
       "      <td>67</td>\n",
       "      <td>6</td>\n",
       "      <td>15</td>\n",
       "      <td>12</td>\n",
       "      <td>0.375552</td>\n",
       "      <td>0.392448</td>\n",
       "      <td>0</td>\n",
       "      <td>3</td>\n",
       "      <td>1</td>\n",
       "      <td>28</td>\n",
       "      <td>1</td>\n",
       "      <td>5.9</td>\n",
       "      <td>0</td>\n",
       "      <td>0</td>\n",
       "      <td>0</td>\n",
       "      <td>0</td>\n",
       "    </tr>\n",
       "    <tr>\n",
       "      <th>2</th>\n",
       "      <td>68</td>\n",
       "      <td>6</td>\n",
       "      <td>7</td>\n",
       "      <td>9</td>\n",
       "      <td>0.200970</td>\n",
       "      <td>0.789030</td>\n",
       "      <td>0</td>\n",
       "      <td>5</td>\n",
       "      <td>0</td>\n",
       "      <td>21</td>\n",
       "      <td>1</td>\n",
       "      <td>5.8</td>\n",
       "      <td>0</td>\n",
       "      <td>0</td>\n",
       "      <td>0</td>\n",
       "      <td>0</td>\n",
       "    </tr>\n",
       "    <tr>\n",
       "      <th>3</th>\n",
       "      <td>75</td>\n",
       "      <td>6</td>\n",
       "      <td>35</td>\n",
       "      <td>16</td>\n",
       "      <td>0.314096</td>\n",
       "      <td>0.757904</td>\n",
       "      <td>0</td>\n",
       "      <td>4</td>\n",
       "      <td>0</td>\n",
       "      <td>11</td>\n",
       "      <td>1</td>\n",
       "      <td>5.8</td>\n",
       "      <td>0</td>\n",
       "      <td>0</td>\n",
       "      <td>0</td>\n",
       "      <td>0</td>\n",
       "    </tr>\n",
       "    <tr>\n",
       "      <th>4</th>\n",
       "      <td>38</td>\n",
       "      <td>7</td>\n",
       "      <td>8</td>\n",
       "      <td>37</td>\n",
       "      <td>0.143190</td>\n",
       "      <td>0.411810</td>\n",
       "      <td>0</td>\n",
       "      <td>3</td>\n",
       "      <td>0</td>\n",
       "      <td>11</td>\n",
       "      <td>1</td>\n",
       "      <td>22.1</td>\n",
       "      <td>0</td>\n",
       "      <td>0</td>\n",
       "      <td>0</td>\n",
       "      <td>0</td>\n",
       "    </tr>\n",
       "  </tbody>\n",
       "</table>\n",
       "</div>"
      ],
      "text/plain": [
       "   age  yrsed  yrsempl  income  creddebt   othdebt  default  jobsat  homeown  \\\n",
       "0   45      6        4      17  0.371518  1.294482        0       4        1   \n",
       "1   67      6       15      12  0.375552  0.392448        0       3        1   \n",
       "2   68      6        7       9  0.200970  0.789030        0       5        0   \n",
       "3   75      6       35      16  0.314096  0.757904        0       4        0   \n",
       "4   38      7        8      37  0.143190  0.411810        0       3        0   \n",
       "\n",
       "   address  cars  carvalue  2  3  4  5  \n",
       "0       22     1       9.1  0  0  0  0  \n",
       "1       28     1       5.9  0  0  0  0  \n",
       "2       21     1       5.8  0  0  0  0  \n",
       "3       11     1       5.8  0  0  0  0  \n",
       "4       11     1      22.1  0  0  0  0  "
      ]
     },
     "execution_count": 8,
     "metadata": {},
     "output_type": "execute_result"
    }
   ],
   "source": [
    "dataset.head()"
   ]
  },
  {
   "cell_type": "code",
   "execution_count": 9,
   "id": "4c5481db",
   "metadata": {},
   "outputs": [
    {
     "name": "stderr",
     "output_type": "stream",
     "text": [
      "C:\\Users\\offic\\anaconda3\\lib\\site-packages\\pandas\\core\\arraylike.py:364: RuntimeWarning: divide by zero encountered in log10\n",
      "  result = getattr(ufunc, method)(*inputs, **kwargs)\n"
     ]
    }
   ],
   "source": [
    "for feature in list_features:\n",
    "    dataset[feature] = np.log10(dataset[feature])\n",
    "   "
   ]
  },
  {
   "cell_type": "code",
   "execution_count": 10,
   "id": "c243eade",
   "metadata": {},
   "outputs": [
    {
     "data": {
      "text/plain": [
       "(3922, 16)"
      ]
     },
     "execution_count": 10,
     "metadata": {},
     "output_type": "execute_result"
    }
   ],
   "source": [
    "\n",
    "# Replacing infinite with nan\n",
    "dataset.replace([np.inf, -np.inf], np.nan, inplace=True)\n",
    "  \n",
    "# Dropping all the rows with nan values\n",
    "dataset.dropna(inplace=True)\n",
    "  \n",
    "# Printing df\n",
    "dataset.shape"
   ]
  },
  {
   "cell_type": "code",
   "execution_count": 11,
   "id": "e693b875",
   "metadata": {},
   "outputs": [
    {
     "data": {
      "image/png": "[encoded data removed]",
      "text/plain": [
       "<Figure size 432x288 with 1 Axes>"
      ]
     },
     "metadata": {
      "needs_background": "light"
     },
     "output_type": "display_data"
    },
    {
     "data": {
      "image/png": "[encoded data removed]",
      "text/plain": [
       "<Figure size 432x288 with 1 Axes>"
      ]
     },
     "metadata": {
      "needs_background": "light"
     },
     "output_type": "display_data"
    },
    {
     "data": {
      "image/png": "[encoded data removed]",
      "text/plain": [
       "<Figure size 432x288 with 1 Axes>"
      ]
     },
     "metadata": {
      "needs_background": "light"
     },
     "output_type": "display_data"
    },
    {
     "data": {
      "image/png": "[encoded data removed]",
      "text/plain": [
       "<Figure size 432x288 with 1 Axes>"
      ]
     },
     "metadata": {
      "needs_background": "light"
     },
     "output_type": "display_data"
    },
    {
     "data": {
      "image/png": "[encoded data removed]",
      "text/plain": [
       "<Figure size 432x288 with 1 Axes>"
      ]
     },
     "metadata": {
      "needs_background": "light"
     },
     "output_type": "display_data"
    },
    {
     "data": {
      "image/png": "[encoded data removed]",
      "text/plain": [
       "<Figure size 432x288 with 1 Axes>"
      ]
     },
     "metadata": {
      "needs_background": "light"
     },
     "output_type": "display_data"
    },
    {
     "data": {
      "image/png": "[encoded data removed]",
      "text/plain": [
       "<Figure size 432x288 with 1 Axes>"
      ]
     },
     "metadata": {
      "needs_background": "light"
     },
     "output_type": "display_data"
    },
    {
     "data": {
      "image/png": "[encoded data removed]",
      "text/plain": [
       "<Figure size 432x288 with 1 Axes>"
      ]
     },
     "metadata": {
      "needs_background": "light"
     },
     "output_type": "display_data"
    }
   ],
   "source": [
    "for feature in list_features:\n",
    "    dataset[feature].hist(bins=25)\n",
    "    plt.xlabel(feature)\n",
    "    plt.ylabel('count')\n",
    "    plt.title(feature)\n",
    "    plt.show()"
   ]
  },
  {
   "cell_type": "markdown",
   "id": "015541df",
   "metadata": {},
   "source": [
    "# <font size='10' color='#1ABC9C'> Scaling the Data </font>\n",
    "We need to do feature scaling because we have different feature measured with different units hence its good to do scaling before proceeding to apply machine learnign Algorithm.\n",
    "\n",
    "age cannot have 0 , there for we need to provide range to the scaler\n",
    "\n",
    "Helps in applying M.L. Algo in a better way\n",
    "\n",
    "Remember scaling is not applied on the Dependent Variable (income)"
   ]
  },
  {
   "cell_type": "markdown",
   "id": "e0031604",
   "metadata": {},
   "source": [
    "#### In making ML Model , we are not scaling the features."
   ]
  },
  {
   "cell_type": "markdown",
   "id": "73d7ea27",
   "metadata": {},
   "source": [
    "## Moving to Assumption Testing\n"
   ]
  },
  {
   "cell_type": "code",
   "execution_count": 12,
   "id": "a3734144",
   "metadata": {},
   "outputs": [],
   "source": [
    "dataset.to_csv('dataset_cleaned.csv',index=False)"
   ]
  }
 ],
 "metadata": {
  "kernelspec": {
   "display_name": "Python 3 (ipykernel)",
   "language": "python",
   "name": "python3"
  },
  "language_info": {
   "codemirror_mode": {
    "name": "ipython",
    "version": 3
   },
   "file_extension": ".py",
   "mimetype": "text/x-python",
   "name": "python",
   "nbconvert_exporter": "python",
   "pygments_lexer": "ipython3",
   "version": "3.9.7"
  }
 },
 "nbformat": 4,
 "nbformat_minor": 5
}
