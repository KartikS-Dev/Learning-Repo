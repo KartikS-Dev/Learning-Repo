{
 "cells": [
  {
   "cell_type": "markdown",
   "id": "62370142",
   "metadata": {},
   "source": [
    "# <font size='10' color='#1ABC9C'> Transforming the Data </font>\n",
    "\n",
    "Handling the Skewness in continuous Features.\n",
    "\n",
    "Handling Categorical Features"
   ]
  },
  {
   "cell_type": "code",
   "execution_count": 1,
   "id": "dce6f4ec",
   "metadata": {},
   "outputs": [],
   "source": [
    "import pandas as pd\n",
    "import numpy as np\n",
    "import matplotlib.pyplot as plt\n",
    "%matplotlib inline \n",
    "## When using the 'inline' backend, \n",
    "## your matplotlib graphs will be included in your notebook, next to the code.\n",
    "import seaborn as sns\n",
    "from scipy import stats\n",
    "pd.pandas.set_option('display.max_columns',None)"
   ]
  },
  {
   "cell_type": "code",
   "execution_count": 2,
   "id": "e95052db",
   "metadata": {},
   "outputs": [
    {
     "name": "stdout",
     "output_type": "stream",
     "text": [
      "(4508, 13)\n"
     ]
    }
   ],
   "source": [
    "dataset=pd.read_csv('IncomeData.csv')\n",
    "\n",
    "##What's the shape of data set\n",
    "print(dataset.shape)"
   ]
  },
  {
   "cell_type": "markdown",
   "id": "b4b17966",
   "metadata": {},
   "source": [
    "## Basic Summary of the Varables in the Data Set\n",
    "edcat - Categorical Data\n",
    "\n",
    "default - Categorical Data and binary\n",
    "\n",
    "jobsat - Categorical Data and ordinal\n",
    "\n",
    "homeown - Categorical Data and binary\n",
    "\n",
    "cars - Descrete and numerical Data\n",
    "\n",
    "yrsed - Descrete and numerical Data\n",
    "\n",
    "yrsempl - Descrete and numerical Data\n",
    "\n",
    "address - Descrete and numerical Data\n",
    "\n",
    "age - Descrete and numerical Data\n",
    "\n",
    "Income - Descrete and Dependent Variable\n",
    "\n",
    "creddebt- Continuous and Numeric Data\n",
    "\n",
    "othdebt - Continuous and Numeric Data\n",
    "\n",
    "carvalue- Continuous and Numeric Data\n"
   ]
  },
  {
   "cell_type": "markdown",
   "id": "8ac52233",
   "metadata": {},
   "source": [
    "### One-Hot encoding for categorical feature \n",
    "We'll do this only for edcat , as other categorical features are already either binary or ordinally encoded"
   ]
  },
  {
   "cell_type": "markdown",
   "id": "66ecff05",
   "metadata": {},
   "source": [
    "##### checking missing values"
   ]
  },
  {
   "cell_type": "code",
   "execution_count": 3,
   "id": "3a9e7e28",
   "metadata": {},
   "outputs": [
    {
     "name": "stdout",
     "output_type": "stream",
     "text": [
      "[]\n"
     ]
    }
   ],
   "source": [
    "#What percentage of Missing Values are there in the each feature\n",
    "\n",
    "## Create a List of all features with missing values\n",
    "features_miss_val=[features for features in dataset.columns if dataset[features].isnull().sum()>1] \n",
    "print(features_miss_val)"
   ]
  },
  {
   "cell_type": "markdown",
   "id": "0baad08f",
   "metadata": {},
   "source": [
    "##### >>>>>>No missing Values in Data"
   ]
  },
  {
   "cell_type": "code",
   "execution_count": 4,
   "id": "ffe13db8",
   "metadata": {},
   "outputs": [],
   "source": [
    "temp = pd.get_dummies(dataset['edcat'],drop_first=True)\n",
    "dataset = pd.concat([dataset , temp],axis=1)\n",
    "##droping the edcat\n",
    "dataset= dataset.drop(['edcat'],axis=1)"
   ]
  },
  {
   "cell_type": "code",
   "execution_count": 5,
   "id": "8c150798",
   "metadata": {},
   "outputs": [
    {
     "data": {
      "text/html": [
       "<div>\n",
       "<style scoped>\n",
       "    .dataframe tbody tr th:only-of-type {\n",
       "        vertical-align: middle;\n",
       "    }\n",
       "\n",
       "    .dataframe tbody tr th {\n",
       "        vertical-align: top;\n",
       "    }\n",
       "\n",
       "    .dataframe thead th {\n",
       "        text-align: right;\n",
       "    }\n",
       "</style>\n",
       "<table border=\"1\" class=\"dataframe\">\n",
       "  <thead>\n",
       "    <tr style=\"text-align: right;\">\n",
       "      <th></th>\n",
       "      <th>age</th>\n",
       "      <th>yrsed</th>\n",
       "      <th>yrsempl</th>\n",
       "      <th>income</th>\n",
       "      <th>creddebt</th>\n",
       "      <th>othdebt</th>\n",
       "      <th>default</th>\n",
       "      <th>jobsat</th>\n",
       "      <th>homeown</th>\n",
       "      <th>address</th>\n",
       "      <th>cars</th>\n",
       "      <th>carvalue</th>\n",
       "      <th>2</th>\n",
       "      <th>3</th>\n",
       "      <th>4</th>\n",
       "      <th>5</th>\n",
       "    </tr>\n",
       "  </thead>\n",
       "  <tbody>\n",
       "    <tr>\n",
       "      <th>0</th>\n",
       "      <td>45</td>\n",
       "      <td>6</td>\n",
       "      <td>4</td>\n",
       "      <td>17</td>\n",
       "      <td>0.371518</td>\n",
       "      <td>1.294482</td>\n",
       "      <td>0</td>\n",
       "      <td>4</td>\n",
       "      <td>1</td>\n",
       "      <td>22</td>\n",
       "      <td>1</td>\n",
       "      <td>9.1</td>\n",
       "      <td>0</td>\n",
       "      <td>0</td>\n",
       "      <td>0</td>\n",
       "      <td>0</td>\n",
       "    </tr>\n",
       "    <tr>\n",
       "      <th>1</th>\n",
       "      <td>67</td>\n",
       "      <td>6</td>\n",
       "      <td>15</td>\n",
       "      <td>12</td>\n",
       "      <td>0.375552</td>\n",
       "      <td>0.392448</td>\n",
       "      <td>0</td>\n",
       "      <td>3</td>\n",
       "      <td>1</td>\n",
       "      <td>28</td>\n",
       "      <td>1</td>\n",
       "      <td>5.9</td>\n",
       "      <td>0</td>\n",
       "      <td>0</td>\n",
       "      <td>0</td>\n",
       "      <td>0</td>\n",
       "    </tr>\n",
       "    <tr>\n",
       "      <th>2</th>\n",
       "      <td>68</td>\n",
       "      <td>6</td>\n",
       "      <td>7</td>\n",
       "      <td>9</td>\n",
       "      <td>0.200970</td>\n",
       "      <td>0.789030</td>\n",
       "      <td>0</td>\n",
       "      <td>5</td>\n",
       "      <td>0</td>\n",
       "      <td>21</td>\n",
       "      <td>1</td>\n",
       "      <td>5.8</td>\n",
       "      <td>0</td>\n",
       "      <td>0</td>\n",
       "      <td>0</td>\n",
       "      <td>0</td>\n",
       "    </tr>\n",
       "    <tr>\n",
       "      <th>3</th>\n",
       "      <td>75</td>\n",
       "      <td>6</td>\n",
       "      <td>35</td>\n",
       "      <td>16</td>\n",
       "      <td>0.314096</td>\n",
       "      <td>0.757904</td>\n",
       "      <td>0</td>\n",
       "      <td>4</td>\n",
       "      <td>0</td>\n",
       "      <td>11</td>\n",
       "      <td>1</td>\n",
       "      <td>5.8</td>\n",
       "      <td>0</td>\n",
       "      <td>0</td>\n",
       "      <td>0</td>\n",
       "      <td>0</td>\n",
       "    </tr>\n",
       "    <tr>\n",
       "      <th>4</th>\n",
       "      <td>38</td>\n",
       "      <td>7</td>\n",
       "      <td>8</td>\n",
       "      <td>37</td>\n",
       "      <td>0.143190</td>\n",
       "      <td>0.411810</td>\n",
       "      <td>0</td>\n",
       "      <td>3</td>\n",
       "      <td>0</td>\n",
       "      <td>11</td>\n",
       "      <td>1</td>\n",
       "      <td>22.1</td>\n",
       "      <td>0</td>\n",
       "      <td>0</td>\n",
       "      <td>0</td>\n",
       "      <td>0</td>\n",
       "    </tr>\n",
       "  </tbody>\n",
       "</table>\n",
       "</div>"
      ],
      "text/plain": [
       "   age  yrsed  yrsempl  income  creddebt   othdebt  default  jobsat  homeown  \\\n",
       "0   45      6        4      17  0.371518  1.294482        0       4        1   \n",
       "1   67      6       15      12  0.375552  0.392448        0       3        1   \n",
       "2   68      6        7       9  0.200970  0.789030        0       5        0   \n",
       "3   75      6       35      16  0.314096  0.757904        0       4        0   \n",
       "4   38      7        8      37  0.143190  0.411810        0       3        0   \n",
       "\n",
       "   address  cars  carvalue  2  3  4  5  \n",
       "0       22     1       9.1  0  0  0  0  \n",
       "1       28     1       5.9  0  0  0  0  \n",
       "2       21     1       5.8  0  0  0  0  \n",
       "3       11     1       5.8  0  0  0  0  \n",
       "4       11     1      22.1  0  0  0  0  "
      ]
     },
     "execution_count": 5,
     "metadata": {},
     "output_type": "execute_result"
    }
   ],
   "source": [
    "dataset.rename(columns = {\"2\":'edcat2'}, inplace = True)\n",
    "dataset.rename(columns = {'3':'edcat3'}, inplace = True)\n",
    "dataset.rename(columns = {'4':'edcat4'}, inplace = True)\n",
    "dataset.rename(columns = {'5':'edcat5'}, inplace = True)\n",
    "dataset.head()"
   ]
  },
  {
   "cell_type": "code",
   "execution_count": 6,
   "id": "587a53ad",
   "metadata": {},
   "outputs": [
    {
     "data": {
      "text/plain": [
       "(4508, 16)"
      ]
     },
     "execution_count": 6,
     "metadata": {},
     "output_type": "execute_result"
    }
   ],
   "source": [
    "dataset.shape"
   ]
  },
  {
   "cell_type": "markdown",
   "id": "e031aef2",
   "metadata": {},
   "source": [
    "# log Transformation  of all values other than categorical data and descrete data\n"
   ]
  },
  {
   "cell_type": "code",
   "execution_count": 7,
   "id": "8867524a",
   "metadata": {},
   "outputs": [
    {
     "name": "stdout",
     "output_type": "stream",
     "text": [
      "['income']\n"
     ]
    },
    {
     "data": {
      "image/png": "[encoded data removed]",
      "text/plain": [
       "<Figure size 432x288 with 1 Axes>"
      ]
     },
     "metadata": {
      "needs_background": "light"
     },
     "output_type": "display_data"
    }
   ],
   "source": [
    "list_features = (['income'])\n",
    "print(list_features)\n",
    "dataset['income'].hist(bins=25)\n",
    "plt.xlabel('income')\n",
    "plt.ylabel('count')\n",
    "plt.title('income')\n",
    "plt.show()"
   ]
  },
  {
   "cell_type": "code",
   "execution_count": 8,
   "id": "a536125b",
   "metadata": {},
   "outputs": [
    {
     "data": {
      "text/html": [
       "<div>\n",
       "<style scoped>\n",
       "    .dataframe tbody tr th:only-of-type {\n",
       "        vertical-align: middle;\n",
       "    }\n",
       "\n",
       "    .dataframe tbody tr th {\n",
       "        vertical-align: top;\n",
       "    }\n",
       "\n",
       "    .dataframe thead th {\n",
       "        text-align: right;\n",
       "    }\n",
       "</style>\n",
       "<table border=\"1\" class=\"dataframe\">\n",
       "  <thead>\n",
       "    <tr style=\"text-align: right;\">\n",
       "      <th></th>\n",
       "      <th>age</th>\n",
       "      <th>yrsed</th>\n",
       "      <th>yrsempl</th>\n",
       "      <th>income</th>\n",
       "      <th>creddebt</th>\n",
       "      <th>othdebt</th>\n",
       "      <th>default</th>\n",
       "      <th>jobsat</th>\n",
       "      <th>homeown</th>\n",
       "      <th>address</th>\n",
       "      <th>cars</th>\n",
       "      <th>carvalue</th>\n",
       "      <th>2</th>\n",
       "      <th>3</th>\n",
       "      <th>4</th>\n",
       "      <th>5</th>\n",
       "    </tr>\n",
       "  </thead>\n",
       "  <tbody>\n",
       "    <tr>\n",
       "      <th>0</th>\n",
       "      <td>45</td>\n",
       "      <td>6</td>\n",
       "      <td>4</td>\n",
       "      <td>17</td>\n",
       "      <td>0.371518</td>\n",
       "      <td>1.294482</td>\n",
       "      <td>0</td>\n",
       "      <td>4</td>\n",
       "      <td>1</td>\n",
       "      <td>22</td>\n",
       "      <td>1</td>\n",
       "      <td>9.1</td>\n",
       "      <td>0</td>\n",
       "      <td>0</td>\n",
       "      <td>0</td>\n",
       "      <td>0</td>\n",
       "    </tr>\n",
       "    <tr>\n",
       "      <th>1</th>\n",
       "      <td>67</td>\n",
       "      <td>6</td>\n",
       "      <td>15</td>\n",
       "      <td>12</td>\n",
       "      <td>0.375552</td>\n",
       "      <td>0.392448</td>\n",
       "      <td>0</td>\n",
       "      <td>3</td>\n",
       "      <td>1</td>\n",
       "      <td>28</td>\n",
       "      <td>1</td>\n",
       "      <td>5.9</td>\n",
       "      <td>0</td>\n",
       "      <td>0</td>\n",
       "      <td>0</td>\n",
       "      <td>0</td>\n",
       "    </tr>\n",
       "    <tr>\n",
       "      <th>2</th>\n",
       "      <td>68</td>\n",
       "      <td>6</td>\n",
       "      <td>7</td>\n",
       "      <td>9</td>\n",
       "      <td>0.200970</td>\n",
       "      <td>0.789030</td>\n",
       "      <td>0</td>\n",
       "      <td>5</td>\n",
       "      <td>0</td>\n",
       "      <td>21</td>\n",
       "      <td>1</td>\n",
       "      <td>5.8</td>\n",
       "      <td>0</td>\n",
       "      <td>0</td>\n",
       "      <td>0</td>\n",
       "      <td>0</td>\n",
       "    </tr>\n",
       "    <tr>\n",
       "      <th>3</th>\n",
       "      <td>75</td>\n",
       "      <td>6</td>\n",
       "      <td>35</td>\n",
       "      <td>16</td>\n",
       "      <td>0.314096</td>\n",
       "      <td>0.757904</td>\n",
       "      <td>0</td>\n",
       "      <td>4</td>\n",
       "      <td>0</td>\n",
       "      <td>11</td>\n",
       "      <td>1</td>\n",
       "      <td>5.8</td>\n",
       "      <td>0</td>\n",
       "      <td>0</td>\n",
       "      <td>0</td>\n",
       "      <td>0</td>\n",
       "    </tr>\n",
       "    <tr>\n",
       "      <th>4</th>\n",
       "      <td>38</td>\n",
       "      <td>7</td>\n",
       "      <td>8</td>\n",
       "      <td>37</td>\n",
       "      <td>0.143190</td>\n",
       "      <td>0.411810</td>\n",
       "      <td>0</td>\n",
       "      <td>3</td>\n",
       "      <td>0</td>\n",
       "      <td>11</td>\n",
       "      <td>1</td>\n",
       "      <td>22.1</td>\n",
       "      <td>0</td>\n",
       "      <td>0</td>\n",
       "      <td>0</td>\n",
       "      <td>0</td>\n",
       "    </tr>\n",
       "  </tbody>\n",
       "</table>\n",
       "</div>"
      ],
      "text/plain": [
       "   age  yrsed  yrsempl  income  creddebt   othdebt  default  jobsat  homeown  \\\n",
       "0   45      6        4      17  0.371518  1.294482        0       4        1   \n",
       "1   67      6       15      12  0.375552  0.392448        0       3        1   \n",
       "2   68      6        7       9  0.200970  0.789030        0       5        0   \n",
       "3   75      6       35      16  0.314096  0.757904        0       4        0   \n",
       "4   38      7        8      37  0.143190  0.411810        0       3        0   \n",
       "\n",
       "   address  cars  carvalue  2  3  4  5  \n",
       "0       22     1       9.1  0  0  0  0  \n",
       "1       28     1       5.9  0  0  0  0  \n",
       "2       21     1       5.8  0  0  0  0  \n",
       "3       11     1       5.8  0  0  0  0  \n",
       "4       11     1      22.1  0  0  0  0  "
      ]
     },
     "execution_count": 8,
     "metadata": {},
     "output_type": "execute_result"
    }
   ],
   "source": [
    "dataset.head()"
   ]
  },
  {
   "cell_type": "code",
   "execution_count": 9,
   "id": "1044071a",
   "metadata": {},
   "outputs": [],
   "source": [
    "for i in range (0,len(dataset['creddebt'])):\n",
    "    if dataset['creddebt'][i] <0:\n",
    "        print(dataset['creddebt'][i])"
   ]
  },
  {
   "cell_type": "code",
   "execution_count": 10,
   "id": "4c5481db",
   "metadata": {},
   "outputs": [
    {
     "data": {
      "text/html": [
       "<div>\n",
       "<style scoped>\n",
       "    .dataframe tbody tr th:only-of-type {\n",
       "        vertical-align: middle;\n",
       "    }\n",
       "\n",
       "    .dataframe tbody tr th {\n",
       "        vertical-align: top;\n",
       "    }\n",
       "\n",
       "    .dataframe thead th {\n",
       "        text-align: right;\n",
       "    }\n",
       "</style>\n",
       "<table border=\"1\" class=\"dataframe\">\n",
       "  <thead>\n",
       "    <tr style=\"text-align: right;\">\n",
       "      <th></th>\n",
       "      <th>age</th>\n",
       "      <th>yrsed</th>\n",
       "      <th>yrsempl</th>\n",
       "      <th>income</th>\n",
       "      <th>creddebt</th>\n",
       "      <th>othdebt</th>\n",
       "      <th>default</th>\n",
       "      <th>jobsat</th>\n",
       "      <th>homeown</th>\n",
       "      <th>address</th>\n",
       "      <th>cars</th>\n",
       "      <th>carvalue</th>\n",
       "      <th>2</th>\n",
       "      <th>3</th>\n",
       "      <th>4</th>\n",
       "      <th>5</th>\n",
       "    </tr>\n",
       "  </thead>\n",
       "  <tbody>\n",
       "    <tr>\n",
       "      <th>0</th>\n",
       "      <td>45</td>\n",
       "      <td>6</td>\n",
       "      <td>4</td>\n",
       "      <td>2.252303</td>\n",
       "      <td>0.371518</td>\n",
       "      <td>1.294482</td>\n",
       "      <td>0</td>\n",
       "      <td>4</td>\n",
       "      <td>1</td>\n",
       "      <td>22</td>\n",
       "      <td>1</td>\n",
       "      <td>9.1</td>\n",
       "      <td>0</td>\n",
       "      <td>0</td>\n",
       "      <td>0</td>\n",
       "      <td>0</td>\n",
       "    </tr>\n",
       "    <tr>\n",
       "      <th>1</th>\n",
       "      <td>67</td>\n",
       "      <td>6</td>\n",
       "      <td>15</td>\n",
       "      <td>2.029856</td>\n",
       "      <td>0.375552</td>\n",
       "      <td>0.392448</td>\n",
       "      <td>0</td>\n",
       "      <td>3</td>\n",
       "      <td>1</td>\n",
       "      <td>28</td>\n",
       "      <td>1</td>\n",
       "      <td>5.9</td>\n",
       "      <td>0</td>\n",
       "      <td>0</td>\n",
       "      <td>0</td>\n",
       "      <td>0</td>\n",
       "    </tr>\n",
       "    <tr>\n",
       "      <th>2</th>\n",
       "      <td>68</td>\n",
       "      <td>6</td>\n",
       "      <td>7</td>\n",
       "      <td>1.836011</td>\n",
       "      <td>0.200970</td>\n",
       "      <td>0.789030</td>\n",
       "      <td>0</td>\n",
       "      <td>5</td>\n",
       "      <td>0</td>\n",
       "      <td>21</td>\n",
       "      <td>1</td>\n",
       "      <td>5.8</td>\n",
       "      <td>0</td>\n",
       "      <td>0</td>\n",
       "      <td>0</td>\n",
       "      <td>0</td>\n",
       "    </tr>\n",
       "    <tr>\n",
       "      <th>3</th>\n",
       "      <td>75</td>\n",
       "      <td>6</td>\n",
       "      <td>35</td>\n",
       "      <td>2.214519</td>\n",
       "      <td>0.314096</td>\n",
       "      <td>0.757904</td>\n",
       "      <td>0</td>\n",
       "      <td>4</td>\n",
       "      <td>0</td>\n",
       "      <td>11</td>\n",
       "      <td>1</td>\n",
       "      <td>5.8</td>\n",
       "      <td>0</td>\n",
       "      <td>0</td>\n",
       "      <td>0</td>\n",
       "      <td>0</td>\n",
       "    </tr>\n",
       "    <tr>\n",
       "      <th>4</th>\n",
       "      <td>38</td>\n",
       "      <td>7</td>\n",
       "      <td>8</td>\n",
       "      <td>2.704247</td>\n",
       "      <td>0.143190</td>\n",
       "      <td>0.411810</td>\n",
       "      <td>0</td>\n",
       "      <td>3</td>\n",
       "      <td>0</td>\n",
       "      <td>11</td>\n",
       "      <td>1</td>\n",
       "      <td>22.1</td>\n",
       "      <td>0</td>\n",
       "      <td>0</td>\n",
       "      <td>0</td>\n",
       "      <td>0</td>\n",
       "    </tr>\n",
       "  </tbody>\n",
       "</table>\n",
       "</div>"
      ],
      "text/plain": [
       "   age  yrsed  yrsempl    income  creddebt   othdebt  default  jobsat  \\\n",
       "0   45      6        4  2.252303  0.371518  1.294482        0       4   \n",
       "1   67      6       15  2.029856  0.375552  0.392448        0       3   \n",
       "2   68      6        7  1.836011  0.200970  0.789030        0       5   \n",
       "3   75      6       35  2.214519  0.314096  0.757904        0       4   \n",
       "4   38      7        8  2.704247  0.143190  0.411810        0       3   \n",
       "\n",
       "   homeown  address  cars  carvalue  2  3  4  5  \n",
       "0        1       22     1       9.1  0  0  0  0  \n",
       "1        1       28     1       5.9  0  0  0  0  \n",
       "2        0       21     1       5.8  0  0  0  0  \n",
       "3        0       11     1       5.8  0  0  0  0  \n",
       "4        0       11     1      22.1  0  0  0  0  "
      ]
     },
     "execution_count": 10,
     "metadata": {},
     "output_type": "execute_result"
    }
   ],
   "source": [
    "## for feature in list_features:\n",
    "## income_data = dataset['income'].copy()\n",
    "dataset['income'], fitted_lambda  = stats.boxcox(dataset['income'])\n",
    "dataset.head()"
   ]
  },
  {
   "cell_type": "code",
   "execution_count": 11,
   "id": "c243eade",
   "metadata": {},
   "outputs": [
    {
     "data": {
      "text/plain": [
       "(4508, 16)"
      ]
     },
     "execution_count": 11,
     "metadata": {},
     "output_type": "execute_result"
    }
   ],
   "source": [
    "\n",
    "# Replacing infinite with nan\n",
    "dataset.replace([np.inf, -np.inf], np.nan, inplace=True)\n",
    "  \n",
    "# Dropping all the rows with nan values\n",
    "dataset.dropna(inplace=True)\n",
    "  \n",
    "# Printing df\n",
    "dataset.shape"
   ]
  },
  {
   "cell_type": "code",
   "execution_count": 12,
   "id": "e693b875",
   "metadata": {},
   "outputs": [
    {
     "data": {
      "image/png": "[encoded data removed]",
      "text/plain": [
       "<Figure size 432x288 with 1 Axes>"
      ]
     },
     "metadata": {
      "needs_background": "light"
     },
     "output_type": "display_data"
    }
   ],
   "source": [
    "dataset['income'].hist(bins=25)\n",
    "plt.xlabel('income')\n",
    "plt.ylabel('count')\n",
    "plt.title('income')\n",
    "plt.show()\n"
   ]
  },
  {
   "cell_type": "markdown",
   "id": "015541df",
   "metadata": {},
   "source": [
    "# <font size='10' color='#1ABC9C'> Handling the Outhliers </font>\n"
   ]
  },
  {
   "cell_type": "code",
   "execution_count": 13,
   "id": "b55c774b",
   "metadata": {},
   "outputs": [
    {
     "data": {
      "text/plain": [
       "['income',\n",
       " 'creddebt',\n",
       " 'othdebt',\n",
       " 'cars',\n",
       " 'carvalue',\n",
       " 'yrsempl',\n",
       " 'yrsed',\n",
       " 'age',\n",
       " 'address']"
      ]
     },
     "execution_count": 13,
     "metadata": {},
     "output_type": "execute_result"
    }
   ],
   "source": [
    "# categorical features not included\n",
    "list_features = ['income','creddebt','othdebt','cars','carvalue','yrsempl','yrsed','age','address']\n",
    "list_features"
   ]
  },
  {
   "cell_type": "code",
   "execution_count": 16,
   "id": "f5e0e256",
   "metadata": {},
   "outputs": [
    {
     "data": {
      "image/png": "[encoded data removed]",
      "text/plain": [
       "<Figure size 432x288 with 1 Axes>"
      ]
     },
     "metadata": {
      "needs_background": "light"
     },
     "output_type": "display_data"
    },
    {
     "data": {
      "image/png": "[encoded data removed]",
      "text/plain": [
       "<Figure size 432x288 with 1 Axes>"
      ]
     },
     "metadata": {
      "needs_background": "light"
     },
     "output_type": "display_data"
    },
    {
     "data": {
      "image/png": "[encoded data removed]",
      "text/plain": [
       "<Figure size 432x288 with 1 Axes>"
      ]
     },
     "metadata": {
      "needs_background": "light"
     },
     "output_type": "display_data"
    },
    {
     "data": {
      "image/png": "[encoded data removed]",
      "text/plain": [
       "<Figure size 432x288 with 1 Axes>"
      ]
     },
     "metadata": {
      "needs_background": "light"
     },
     "output_type": "display_data"
    },
    {
     "data": {
      "image/png": "[encoded data removed]",
      "text/plain": [
       "<Figure size 432x288 with 1 Axes>"
      ]
     },
     "metadata": {
      "needs_background": "light"
     },
     "output_type": "display_data"
    },
    {
     "data": {
      "image/png": "[encoded data removed]",
      "text/plain": [
       "<Figure size 432x288 with 1 Axes>"
      ]
     },
     "metadata": {
      "needs_background": "light"
     },
     "output_type": "display_data"
    },
    {
     "data": {
      "image/png": "[encoded data removed]",
      "text/plain": [
       "<Figure size 432x288 with 1 Axes>"
      ]
     },
     "metadata": {
      "needs_background": "light"
     },
     "output_type": "display_data"
    },
    {
     "data": {
      "image/png": "[encoded data removed]",
      "text/plain": [
       "<Figure size 432x288 with 1 Axes>"
      ]
     },
     "metadata": {
      "needs_background": "light"
     },
     "output_type": "display_data"
    },
    {
     "data": {
      "image/png": "[encoded data removed]",
      "text/plain": [
       "<Figure size 432x288 with 1 Axes>"
      ]
     },
     "metadata": {
      "needs_background": "light"
     },
     "output_type": "display_data"
    }
   ],
   "source": [
    "for feature in list_features:\n",
    "    plt.boxplot(dataset[feature])\n",
    "    plt.title(feature)\n",
    "    plt.show()"
   ]
  },
  {
   "cell_type": "code",
   "execution_count": 17,
   "id": "aadbdf65",
   "metadata": {},
   "outputs": [
    {
     "name": "stdout",
     "output_type": "stream",
     "text": [
      "IQR of income is  0.5587704437833878\n",
      "IQR of creddebt is  1.6885934999999999\n",
      "IQR of othdebt is  3.452293\n",
      "IQR of cars is  1.0\n",
      "IQR of carvalue is  22.7\n",
      "IQR of yrsempl is  13.0\n",
      "IQR of yrsed is  5.0\n",
      "IQR of age is  30.0\n",
      "IQR of address is  19.0\n"
     ]
    }
   ],
   "source": [
    "for feature in list_features:\n",
    "    Q1 = dataset[feature].quantile(0.25)\n",
    "    Q3 = dataset[feature].quantile(0.75)\n",
    "    IQR = Q3 - Q1\n",
    "    print('IQR of {} is '.format(feature),IQR )"
   ]
  },
  {
   "cell_type": "markdown",
   "id": "aae6f590",
   "metadata": {},
   "source": [
    "#### Removing the Outliers greater than Q3 or Less than Q1\n"
   ]
  },
  {
   "cell_type": "code",
   "execution_count": 22,
   "id": "0d35ad0e",
   "metadata": {},
   "outputs": [
    {
     "data": {
      "text/html": [
       "<div>\n",
       "<style scoped>\n",
       "    .dataframe tbody tr th:only-of-type {\n",
       "        vertical-align: middle;\n",
       "    }\n",
       "\n",
       "    .dataframe tbody tr th {\n",
       "        vertical-align: top;\n",
       "    }\n",
       "\n",
       "    .dataframe thead th {\n",
       "        text-align: right;\n",
       "    }\n",
       "</style>\n",
       "<table border=\"1\" class=\"dataframe\">\n",
       "  <thead>\n",
       "    <tr style=\"text-align: right;\">\n",
       "      <th></th>\n",
       "      <th>age</th>\n",
       "      <th>yrsed</th>\n",
       "      <th>yrsempl</th>\n",
       "      <th>income</th>\n",
       "      <th>creddebt</th>\n",
       "      <th>othdebt</th>\n",
       "      <th>default</th>\n",
       "      <th>jobsat</th>\n",
       "      <th>homeown</th>\n",
       "      <th>address</th>\n",
       "      <th>cars</th>\n",
       "      <th>carvalue</th>\n",
       "      <th>2</th>\n",
       "      <th>3</th>\n",
       "      <th>4</th>\n",
       "      <th>5</th>\n",
       "    </tr>\n",
       "  </thead>\n",
       "  <tbody>\n",
       "    <tr>\n",
       "      <th>count</th>\n",
       "      <td>4508.000000</td>\n",
       "      <td>4508.000000</td>\n",
       "      <td>4508.000000</td>\n",
       "      <td>4508.000000</td>\n",
       "      <td>4508.000000</td>\n",
       "      <td>4508.000000</td>\n",
       "      <td>4508.000000</td>\n",
       "      <td>4508.000000</td>\n",
       "      <td>4508.000000</td>\n",
       "      <td>4508.000000</td>\n",
       "      <td>4508.000000</td>\n",
       "      <td>4508.000000</td>\n",
       "      <td>4508.000000</td>\n",
       "      <td>4508.000000</td>\n",
       "      <td>4508.000000</td>\n",
       "      <td>4508.000000</td>\n",
       "    </tr>\n",
       "    <tr>\n",
       "      <th>mean</th>\n",
       "      <td>46.931677</td>\n",
       "      <td>14.531500</td>\n",
       "      <td>9.718722</td>\n",
       "      <td>2.730436</td>\n",
       "      <td>1.897866</td>\n",
       "      <td>3.691447</td>\n",
       "      <td>0.238909</td>\n",
       "      <td>2.964286</td>\n",
       "      <td>0.628438</td>\n",
       "      <td>16.371340</td>\n",
       "      <td>2.367125</td>\n",
       "      <td>26.081788</td>\n",
       "      <td>0.314552</td>\n",
       "      <td>0.203416</td>\n",
       "      <td>0.219831</td>\n",
       "      <td>0.071650</td>\n",
       "    </tr>\n",
       "    <tr>\n",
       "      <th>std</th>\n",
       "      <td>17.665010</td>\n",
       "      <td>3.285624</td>\n",
       "      <td>9.650876</td>\n",
       "      <td>0.399283</td>\n",
       "      <td>3.542646</td>\n",
       "      <td>5.378583</td>\n",
       "      <td>0.426464</td>\n",
       "      <td>1.377274</td>\n",
       "      <td>0.483276</td>\n",
       "      <td>12.367679</td>\n",
       "      <td>1.157778</td>\n",
       "      <td>20.862577</td>\n",
       "      <td>0.464389</td>\n",
       "      <td>0.402584</td>\n",
       "      <td>0.414178</td>\n",
       "      <td>0.257937</td>\n",
       "    </tr>\n",
       "    <tr>\n",
       "      <th>min</th>\n",
       "      <td>18.000000</td>\n",
       "      <td>6.000000</td>\n",
       "      <td>0.000000</td>\n",
       "      <td>1.836011</td>\n",
       "      <td>0.000000</td>\n",
       "      <td>0.000000</td>\n",
       "      <td>0.000000</td>\n",
       "      <td>1.000000</td>\n",
       "      <td>0.000000</td>\n",
       "      <td>0.000000</td>\n",
       "      <td>1.000000</td>\n",
       "      <td>2.200000</td>\n",
       "      <td>0.000000</td>\n",
       "      <td>0.000000</td>\n",
       "      <td>0.000000</td>\n",
       "      <td>0.000000</td>\n",
       "    </tr>\n",
       "    <tr>\n",
       "      <th>25%</th>\n",
       "      <td>32.000000</td>\n",
       "      <td>12.000000</td>\n",
       "      <td>2.000000</td>\n",
       "      <td>2.460030</td>\n",
       "      <td>0.387923</td>\n",
       "      <td>0.982819</td>\n",
       "      <td>0.000000</td>\n",
       "      <td>2.000000</td>\n",
       "      <td>0.000000</td>\n",
       "      <td>6.000000</td>\n",
       "      <td>2.000000</td>\n",
       "      <td>11.300000</td>\n",
       "      <td>0.000000</td>\n",
       "      <td>0.000000</td>\n",
       "      <td>0.000000</td>\n",
       "      <td>0.000000</td>\n",
       "    </tr>\n",
       "    <tr>\n",
       "      <th>50%</th>\n",
       "      <td>46.000000</td>\n",
       "      <td>14.000000</td>\n",
       "      <td>7.000000</td>\n",
       "      <td>2.718718</td>\n",
       "      <td>0.931824</td>\n",
       "      <td>2.081635</td>\n",
       "      <td>0.000000</td>\n",
       "      <td>3.000000</td>\n",
       "      <td>1.000000</td>\n",
       "      <td>14.000000</td>\n",
       "      <td>2.000000</td>\n",
       "      <td>18.900000</td>\n",
       "      <td>0.000000</td>\n",
       "      <td>0.000000</td>\n",
       "      <td>0.000000</td>\n",
       "      <td>0.000000</td>\n",
       "    </tr>\n",
       "    <tr>\n",
       "      <th>75%</th>\n",
       "      <td>62.000000</td>\n",
       "      <td>17.000000</td>\n",
       "      <td>15.000000</td>\n",
       "      <td>3.018801</td>\n",
       "      <td>2.076516</td>\n",
       "      <td>4.435112</td>\n",
       "      <td>0.000000</td>\n",
       "      <td>4.000000</td>\n",
       "      <td>1.000000</td>\n",
       "      <td>25.000000</td>\n",
       "      <td>3.000000</td>\n",
       "      <td>34.000000</td>\n",
       "      <td>1.000000</td>\n",
       "      <td>0.000000</td>\n",
       "      <td>0.000000</td>\n",
       "      <td>0.000000</td>\n",
       "    </tr>\n",
       "    <tr>\n",
       "      <th>max</th>\n",
       "      <td>79.000000</td>\n",
       "      <td>23.000000</td>\n",
       "      <td>52.000000</td>\n",
       "      <td>4.101371</td>\n",
       "      <td>109.072596</td>\n",
       "      <td>141.459150</td>\n",
       "      <td>1.000000</td>\n",
       "      <td>5.000000</td>\n",
       "      <td>1.000000</td>\n",
       "      <td>57.000000</td>\n",
       "      <td>8.000000</td>\n",
       "      <td>99.600000</td>\n",
       "      <td>1.000000</td>\n",
       "      <td>1.000000</td>\n",
       "      <td>1.000000</td>\n",
       "      <td>1.000000</td>\n",
       "    </tr>\n",
       "  </tbody>\n",
       "</table>\n",
       "</div>"
      ],
      "text/plain": [
       "               age        yrsed      yrsempl       income     creddebt  \\\n",
       "count  4508.000000  4508.000000  4508.000000  4508.000000  4508.000000   \n",
       "mean     46.931677    14.531500     9.718722     2.730436     1.897866   \n",
       "std      17.665010     3.285624     9.650876     0.399283     3.542646   \n",
       "min      18.000000     6.000000     0.000000     1.836011     0.000000   \n",
       "25%      32.000000    12.000000     2.000000     2.460030     0.387923   \n",
       "50%      46.000000    14.000000     7.000000     2.718718     0.931824   \n",
       "75%      62.000000    17.000000    15.000000     3.018801     2.076516   \n",
       "max      79.000000    23.000000    52.000000     4.101371   109.072596   \n",
       "\n",
       "           othdebt      default       jobsat      homeown      address  \\\n",
       "count  4508.000000  4508.000000  4508.000000  4508.000000  4508.000000   \n",
       "mean      3.691447     0.238909     2.964286     0.628438    16.371340   \n",
       "std       5.378583     0.426464     1.377274     0.483276    12.367679   \n",
       "min       0.000000     0.000000     1.000000     0.000000     0.000000   \n",
       "25%       0.982819     0.000000     2.000000     0.000000     6.000000   \n",
       "50%       2.081635     0.000000     3.000000     1.000000    14.000000   \n",
       "75%       4.435112     0.000000     4.000000     1.000000    25.000000   \n",
       "max     141.459150     1.000000     5.000000     1.000000    57.000000   \n",
       "\n",
       "              cars     carvalue            2            3            4  \\\n",
       "count  4508.000000  4508.000000  4508.000000  4508.000000  4508.000000   \n",
       "mean      2.367125    26.081788     0.314552     0.203416     0.219831   \n",
       "std       1.157778    20.862577     0.464389     0.402584     0.414178   \n",
       "min       1.000000     2.200000     0.000000     0.000000     0.000000   \n",
       "25%       2.000000    11.300000     0.000000     0.000000     0.000000   \n",
       "50%       2.000000    18.900000     0.000000     0.000000     0.000000   \n",
       "75%       3.000000    34.000000     1.000000     0.000000     0.000000   \n",
       "max       8.000000    99.600000     1.000000     1.000000     1.000000   \n",
       "\n",
       "                 5  \n",
       "count  4508.000000  \n",
       "mean      0.071650  \n",
       "std       0.257937  \n",
       "min       0.000000  \n",
       "25%       0.000000  \n",
       "50%       0.000000  \n",
       "75%       0.000000  \n",
       "max       1.000000  "
      ]
     },
     "execution_count": 22,
     "metadata": {},
     "output_type": "execute_result"
    }
   ],
   "source": [
    "dataset.describe()\n"
   ]
  },
  {
   "cell_type": "markdown",
   "id": "a44c7050",
   "metadata": {},
   "source": [
    "#### Credebt and Othdebt max values seem too much to be true, hence well trim those data points.\n",
    "\n",
    "#### Reference : -https://www.pluralsight.com/guides/cleaning-up-data-from-outliers\n",
    "for handling other outliers , we'll use Quantile-based Flooring and Capping , as max values for all other features seem to be true"
   ]
  },
  {
   "cell_type": "code",
   "execution_count": 28,
   "id": "5cbc304e",
   "metadata": {},
   "outputs": [
    {
     "name": "stdout",
     "output_type": "stream",
     "text": [
      "income  -  0.0017379656714312723\n",
      "creddebt  -  5.605083434854328\n",
      "othdebt  -  3.800955407606644\n",
      "cars  -  0.876190300358725\n",
      "carvalue  -  1.5301955214937446\n",
      "yrsempl  -  1.2505481845832198\n",
      "yrsed  -  0.020539924785500454\n",
      "age  -  0.09494803175250664\n",
      "address  -  0.7180720446811186\n"
     ]
    }
   ],
   "source": [
    "for feature in list_features:\n",
    "    print(feature ,\" - \", dataset[feature].skew())\n",
    "    \n",
    "    \n"
   ]
  },
  {
   "cell_type": "markdown",
   "id": "bd7a3bbb",
   "metadata": {},
   "source": [
    "#### creddebt , othdebt , cars ,carvalue , yrsempl and address are right skewed\n",
    "\n",
    "where creddebt , othdebt are highly skewed , followed by carvalue , yrsempl "
   ]
  },
  {
   "cell_type": "code",
   "execution_count": 27,
   "id": "13dd5c57",
   "metadata": {},
   "outputs": [
    {
     "data": {
      "text/plain": [
       "count    4506.000000\n",
       "mean        3.638987\n",
       "std         4.750514\n",
       "min         0.000000\n",
       "25%         0.982326\n",
       "50%         2.081271\n",
       "75%         4.421345\n",
       "max        66.927900\n",
       "Name: othdebt, dtype: float64"
      ]
     },
     "execution_count": 27,
     "metadata": {},
     "output_type": "execute_result"
    }
   ],
   "source": [
    "# trimming values more than = 100 in creddebt and othdebt\n",
    "\n",
    "index = dataset[(dataset['creddebt'] >= 100)].index\n",
    "dataset.drop(index, inplace=True)\n",
    "dataset['creddebt'].describe()\n",
    "\n",
    "index = dataset[(dataset['othdebt'] >= 100)].index\n",
    "dataset.drop(index, inplace=True)\n",
    "dataset['othdebt'].describe()"
   ]
  },
  {
   "cell_type": "code",
   "execution_count": 29,
   "id": "dcbec936",
   "metadata": {},
   "outputs": [
    {
     "name": "stdout",
     "output_type": "stream",
     "text": [
      "creddebt  -  0.3192616077247981\n",
      "othdebt  -  0.3202949296935166\n",
      "carvalue  -  0.28317592346296044\n",
      "yrsempl  -  0.252872518780415\n"
     ]
    }
   ],
   "source": [
    "# Quantile-based Flooring and Capping \n",
    "list_features=['creddebt','othdebt','carvalue','yrsempl']\n",
    "for feature in list_features:\n",
    "    Q1 = dataset[feature].quantile(0.25)\n",
    "    Q3 = dataset[feature].quantile(0.75)\n",
    "    IQR = Q3 - Q1\n",
    "    dataset[feature] = np.where(dataset[feature] <Q1, Q1,dataset[feature])\n",
    "    dataset[feature] = np.where(dataset[feature] >Q3, Q3,dataset[feature])\n",
    "   \n",
    "\n",
    "for feature in list_features:\n",
    "    print(feature ,\" - \", dataset[feature].skew())\n",
    "    "
   ]
  },
  {
   "cell_type": "code",
   "execution_count": 30,
   "id": "bbe763b3",
   "metadata": {},
   "outputs": [
    {
     "data": {
      "text/plain": [
       "(4506, 16)"
      ]
     },
     "execution_count": 30,
     "metadata": {},
     "output_type": "execute_result"
    }
   ],
   "source": [
    "dataset.shape"
   ]
  },
  {
   "cell_type": "code",
   "execution_count": 31,
   "id": "a39a16da",
   "metadata": {},
   "outputs": [
    {
     "data": {
      "image/png": "[encoded data removed]",
      "text/plain": [
       "<Figure size 432x288 with 1 Axes>"
      ]
     },
     "metadata": {
      "needs_background": "light"
     },
     "output_type": "display_data"
    },
    {
     "data": {
      "image/png": "[encoded data removed]",
      "text/plain": [
       "<Figure size 432x288 with 1 Axes>"
      ]
     },
     "metadata": {
      "needs_background": "light"
     },
     "output_type": "display_data"
    },
    {
     "data": {
      "image/png": "[encoded data removed]",
      "text/plain": [
       "<Figure size 432x288 with 1 Axes>"
      ]
     },
     "metadata": {
      "needs_background": "light"
     },
     "output_type": "display_data"
    },
    {
     "data": {
      "image/png": "[encoded data removed]",
      "text/plain": [
       "<Figure size 432x288 with 1 Axes>"
      ]
     },
     "metadata": {
      "needs_background": "light"
     },
     "output_type": "display_data"
    }
   ],
   "source": [
    "for feature in list_features:\n",
    "    plt.boxplot(dataset[feature])\n",
    "    plt.title(feature)\n",
    "    plt.show()"
   ]
  },
  {
   "cell_type": "markdown",
   "id": "73d7ea27",
   "metadata": {},
   "source": [
    "## Moving to Assumption Testing\n"
   ]
  },
  {
   "cell_type": "code",
   "execution_count": 32,
   "id": "a3734144",
   "metadata": {},
   "outputs": [],
   "source": [
    "dataset.to_csv('dataset_cleaned.csv',index=False)"
   ]
  },
  {
   "cell_type": "code",
   "execution_count": null,
   "id": "01f1caf9",
   "metadata": {},
   "outputs": [],
   "source": []
  }
 ],
 "metadata": {
  "kernelspec": {
   "display_name": "Python 3 (ipykernel)",
   "language": "python",
   "name": "python3"
  },
  "language_info": {
   "codemirror_mode": {
    "name": "ipython",
    "version": 3
   },
   "file_extension": ".py",
   "mimetype": "text/x-python",
   "name": "python",
   "nbconvert_exporter": "python",
   "pygments_lexer": "ipython3",
   "version": "3.9.7"
  }
 },
 "nbformat": 4,
 "nbformat_minor": 5
}
