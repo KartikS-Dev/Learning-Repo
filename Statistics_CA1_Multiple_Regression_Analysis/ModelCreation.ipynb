{
 "cells": [
  {
   "cell_type": "markdown",
   "id": "c135fa64",
   "metadata": {},
   "source": [
    "# <font size='10' color='#1ABC9C'> Model Creation </font>"
   ]
  },
  {
   "cell_type": "code",
   "execution_count": 1,
   "id": "d2bc8d5d",
   "metadata": {},
   "outputs": [],
   "source": [
    "import pandas as pd\n",
    "import numpy as np\n",
    "import matplotlib.pyplot as plt\n",
    "%matplotlib inline \n",
    "## When using the 'inline' backend, \n",
    "## your matplotlib graphs will be included in your notebook, next to the code.\n",
    "import seaborn as sns\n",
    "from sklearn import linear_model\n",
    "from sklearn.metrics import r2_score\n",
    "from sklearn.metrics import mean_squared_error\n",
    "from sklearn.preprocessing import MinMaxScaler\n",
    "import statsmodels.formula.api as smf\n",
    "import statsmodels.api as sm\n",
    "import itertools\n",
    "import time\n",
    "pd.pandas.set_option('display.max_columns',None)"
   ]
  },
  {
   "cell_type": "code",
   "execution_count": 2,
   "id": "3dade2fb",
   "metadata": {},
   "outputs": [
    {
     "name": "stdout",
     "output_type": "stream",
     "text": [
      "(2924, 5) (1204, 5)\n"
     ]
    },
    {
     "data": {
      "text/html": [
       "<div>\n",
       "<style scoped>\n",
       "    .dataframe tbody tr th:only-of-type {\n",
       "        vertical-align: middle;\n",
       "    }\n",
       "\n",
       "    .dataframe tbody tr th {\n",
       "        vertical-align: top;\n",
       "    }\n",
       "\n",
       "    .dataframe thead th {\n",
       "        text-align: right;\n",
       "    }\n",
       "</style>\n",
       "<table border=\"1\" class=\"dataframe\">\n",
       "  <thead>\n",
       "    <tr style=\"text-align: right;\">\n",
       "      <th></th>\n",
       "      <th>income</th>\n",
       "    </tr>\n",
       "  </thead>\n",
       "  <tbody>\n",
       "    <tr>\n",
       "      <th>0</th>\n",
       "      <td>0.493023</td>\n",
       "    </tr>\n",
       "    <tr>\n",
       "      <th>1</th>\n",
       "      <td>0.673929</td>\n",
       "    </tr>\n",
       "    <tr>\n",
       "      <th>2</th>\n",
       "      <td>0.298995</td>\n",
       "    </tr>\n",
       "    <tr>\n",
       "      <th>3</th>\n",
       "      <td>0.110763</td>\n",
       "    </tr>\n",
       "    <tr>\n",
       "      <th>4</th>\n",
       "      <td>0.451989</td>\n",
       "    </tr>\n",
       "  </tbody>\n",
       "</table>\n",
       "</div>"
      ],
      "text/plain": [
       "     income\n",
       "0  0.493023\n",
       "1  0.673929\n",
       "2  0.298995\n",
       "3  0.110763\n",
       "4  0.451989"
      ]
     },
     "execution_count": 2,
     "metadata": {},
     "output_type": "execute_result"
    }
   ],
   "source": [
    "X_train=pd.read_csv('X_train.csv')\n",
    "X_test= pd.read_csv('X_test.csv')\n",
    "X_test_No_Drop=pd.read_csv('X_test_no_drop.csv')\n",
    "X_train_No_Drop = pd.read_csv('X_train_no_drop.csv')\n",
    "\n",
    "Y_train=pd.read_csv('Y_train.csv')\n",
    "Y_test= pd.read_csv('Y_test.csv')\n",
    "\n",
    "##What's the shape of data set\n",
    "print(X_train.shape , X_test.shape)\n",
    "Y_train.head()\n"
   ]
  },
  {
   "cell_type": "code",
   "execution_count": 3,
   "id": "1d1b3456",
   "metadata": {},
   "outputs": [
    {
     "name": "stdout",
     "output_type": "stream",
     "text": [
      "<bound method NDFrame.head of         income\n",
      "0     0.493023\n",
      "1     0.673929\n",
      "2     0.298995\n",
      "3     0.110763\n",
      "4     0.451989\n",
      "...        ...\n",
      "2919  0.738478\n",
      "2920  0.790897\n",
      "2921  0.298995\n",
      "2922  0.261057\n",
      "2923  0.545686\n",
      "\n",
      "[2924 rows x 1 columns]> <bound method NDFrame.head of         income\n",
      "0     0.840627\n",
      "1     0.555475\n",
      "2     0.630596\n",
      "3     0.245850\n",
      "4     0.652353\n",
      "...        ...\n",
      "1199  0.888739\n",
      "1200  0.652353\n",
      "1201  0.245850\n",
      "1202  0.599231\n",
      "1203  0.505323\n",
      "\n",
      "[1204 rows x 1 columns]>\n"
     ]
    }
   ],
   "source": [
    "print(Y_train.head , Y_test.head)"
   ]
  },
  {
   "cell_type": "code",
   "execution_count": 4,
   "id": "c1c3e575",
   "metadata": {},
   "outputs": [
    {
     "data": {
      "text/plain": [
       "Index(['yrsed', 'creddebt', 'othdebt', 'carvalue', 'jobsat'], dtype='object')"
      ]
     },
     "execution_count": 4,
     "metadata": {},
     "output_type": "execute_result"
    }
   ],
   "source": [
    "X_train.columns"
   ]
  },
  {
   "cell_type": "markdown",
   "id": "a79e5ea6",
   "metadata": {},
   "source": [
    "## Some pre checks on the selected features"
   ]
  },
  {
   "cell_type": "markdown",
   "id": "63e6b52d",
   "metadata": {},
   "source": [
    "#### Normality of Selected Continuous Features"
   ]
  },
  {
   "cell_type": "code",
   "execution_count": 5,
   "id": "6b694f89",
   "metadata": {},
   "outputs": [
    {
     "data": {
      "image/png": "[encoded data removed]",
      "text/plain": [
       "<Figure size 432x288 with 1 Axes>"
      ]
     },
     "metadata": {
      "needs_background": "light"
     },
     "output_type": "display_data"
    },
    {
     "data": {
      "image/png": "[encoded data removed]",
      "text/plain": [
       "<Figure size 432x288 with 1 Axes>"
      ]
     },
     "metadata": {
      "needs_background": "light"
     },
     "output_type": "display_data"
    },
    {
     "data": {
      "image/png": "[encoded data removed]",
      "text/plain": [
       "<Figure size 432x288 with 1 Axes>"
      ]
     },
     "metadata": {
      "needs_background": "light"
     },
     "output_type": "display_data"
    },
    {
     "data": {
      "image/png": "[encoded data removed]",
      "text/plain": [
       "<Figure size 432x288 with 1 Axes>"
      ]
     },
     "metadata": {
      "needs_background": "light"
     },
     "output_type": "display_data"
    }
   ],
   "source": [
    "list_conti_features = [feature for feature in X_train.columns if 'jobsat' not in feature]\n",
    "\n",
    "for feature in list_conti_features:\n",
    "    X_train[feature].hist(bins=30)\n",
    "    plt.xlabel(feature)\n",
    "    plt.ylabel('count')\n",
    "    plt.title(feature)\n",
    "    plt.show()## dont use it to have all in one plot, it looks colorful\n",
    "    "
   ]
  },
  {
   "cell_type": "markdown",
   "id": "d7c1a5cc",
   "metadata": {},
   "source": [
    "#### correlation betweem income and selected feature "
   ]
  },
  {
   "cell_type": "code",
   "execution_count": 6,
   "id": "f61141ae",
   "metadata": {},
   "outputs": [
    {
     "name": "stdout",
     "output_type": "stream",
     "text": [
      "income  &  yrsed  =  0.2060996728787874\n",
      "income  &  creddebt  =  0.5719262291248887\n",
      "income  &  othdebt  =  0.6597597406748216\n",
      "income  &  carvalue  =  0.9582546203782575\n",
      "income  &  jobsat  =  0.25550374169413564\n"
     ]
    }
   ],
   "source": [
    "list_of_all_features = X_train.columns\n",
    "\n",
    "for feature in list_of_all_features:\n",
    "    correlation  = X_train[feature].corr(Y_train['income'])\n",
    "    print( 'income',' & ', feature , \" = \" , correlation)\n",
    "        \n"
   ]
  },
  {
   "cell_type": "markdown",
   "id": "99eddeea",
   "metadata": {},
   "source": [
    "#### correlation between selected features \n"
   ]
  },
  {
   "cell_type": "code",
   "execution_count": 7,
   "id": "18f06c6f",
   "metadata": {},
   "outputs": [
    {
     "name": "stdout",
     "output_type": "stream",
     "text": [
      "creddebt  &  othdebt  =  0.6553549382826677\n",
      "creddebt  &  carvalue  =  0.5427275572814454\n",
      "othdebt  &  carvalue  =  0.6278832080324844\n"
     ]
    }
   ],
   "source": [
    "for i in range (0,len(list_of_all_features)):\n",
    "    for j in range (i+1 , len(list_of_all_features)):\n",
    "        correlation  = X_train[list_of_all_features[i]].corr(X_train[list_of_all_features[j]])\n",
    "        if (correlation>=0.5):\n",
    "            print( list_of_all_features[i],' & ', list_of_all_features[j] , \" = \" , correlation)\n",
    "        \n"
   ]
  },
  {
   "cell_type": "markdown",
   "id": "c813d8f2",
   "metadata": {},
   "source": [
    "#### multicollinearity in Independent features"
   ]
  },
  {
   "cell_type": "code",
   "execution_count": 8,
   "id": "df7aff86",
   "metadata": {},
   "outputs": [
    {
     "name": "stdout",
     "output_type": "stream",
     "text": [
      "    feature        VIF\n",
      "0     yrsed  16.449844\n",
      "1  creddebt  59.976301\n",
      "2   othdebt  67.399633\n",
      "3  carvalue  48.462950\n",
      "4    jobsat   5.915424\n"
     ]
    }
   ],
   "source": [
    "from statsmodels.stats.outliers_influence import variance_inflation_factor\n",
    "vif_data = pd.DataFrame() \n",
    "vif_data[\"feature\"] =X_train[list_of_all_features].columns\n",
    "  \n",
    "  \n",
    "# calculating VIF for each feature\n",
    "vif_data[\"VIF\"] = [variance_inflation_factor(X_train[list_of_all_features].values, i)\n",
    "                          for i in range(len(X_train[list_of_all_features].columns))]\n",
    "  \n",
    "print(vif_data)"
   ]
  },
  {
   "cell_type": "markdown",
   "id": "c502e823",
   "metadata": {},
   "source": [
    "### Observations from above pre-modeling tests.\n",
    "we can assume to drop yrsed as it has highest multi-collinearity and is least significant for predicting \n",
    "the income.\n",
    "\n",
    "Also we can also think of droping creddebt as its also least significant in predicting the income.\n",
    "\n"
   ]
  },
  {
   "cell_type": "markdown",
   "id": "d844dc93",
   "metadata": {},
   "source": [
    "# Finally Creating the Models\n",
    "1. SKlearn model is used to model accuracy on the test data\n",
    "\n",
    "2. Statsmodel is used get the summary of the model produced.\n",
    "\n",
    "*Both the models are same "
   ]
  },
  {
   "cell_type": "markdown",
   "id": "a7ca826a",
   "metadata": {},
   "source": [
    "##  Model 1  - All selected features considered\n",
    "\n"
   ]
  },
  {
   "cell_type": "code",
   "execution_count": 9,
   "id": "44173cd0",
   "metadata": {},
   "outputs": [
    {
     "data": {
      "text/plain": [
       "LinearRegression()"
      ]
     },
     "execution_count": 9,
     "metadata": {},
     "output_type": "execute_result"
    }
   ],
   "source": [
    "model_1 = linear_model.LinearRegression()\n",
    "model_1.fit(X_train,Y_train)\n",
    "\n"
   ]
  },
  {
   "cell_type": "markdown",
   "id": "07f853df",
   "metadata": {},
   "source": [
    "Doing the prediction"
   ]
  },
  {
   "cell_type": "code",
   "execution_count": 10,
   "id": "1d0bb00b",
   "metadata": {},
   "outputs": [
    {
     "name": "stdout",
     "output_type": "stream",
     "text": [
      "r2 score is  -0.19308091240738823\n",
      "mean_sqrd_error is== 0.08203263772959749\n",
      "root_mean_squared error of is== 0.286413403543894\n"
     ]
    }
   ],
   "source": [
    "Y_prediction = model_1.predict(X_test)\n",
    "Y_prediction\n",
    "\n",
    "# predicting the accuracy score\n",
    "score=r2_score(Y_test,Y_prediction)\n",
    "print(\"r2 score is \",score)\n",
    "print(\"mean_sqrd_error is==\",mean_squared_error(Y_test,Y_prediction))\n",
    "print(\"root_mean_squared error of is==\",np.sqrt(mean_squared_error(Y_test,Y_prediction)))"
   ]
  },
  {
   "cell_type": "markdown",
   "id": "ea11528a",
   "metadata": {},
   "source": [
    "#### Moldel 1 Rejected as R2 is negative\n"
   ]
  },
  {
   "cell_type": "markdown",
   "id": "c6b4dcf4",
   "metadata": {},
   "source": [
    "## Model 2 - Removing least co-related feature with income i.e. yrsed\n",
    "\n"
   ]
  },
  {
   "cell_type": "code",
   "execution_count": 11,
   "id": "78e261a2",
   "metadata": {},
   "outputs": [
    {
     "name": "stdout",
     "output_type": "stream",
     "text": [
      "                            OLS Regression Results                            \n",
      "==============================================================================\n",
      "Dep. Variable:                 income   R-squared:                       0.925\n",
      "Model:                            OLS   Adj. R-squared:                  0.925\n",
      "Method:                 Least Squares   F-statistic:                     8972.\n",
      "Date:                Thu, 03 Mar 2022   Prob (F-statistic):               0.00\n",
      "Time:                        14:48:56   Log-Likelihood:                 3730.9\n",
      "No. Observations:                2924   AIC:                            -7452.\n",
      "Df Residuals:                    2919   BIC:                            -7422.\n",
      "Df Model:                           4                                         \n",
      "Covariance Type:            nonrobust                                         \n",
      "==============================================================================\n",
      "                 coef    std err          t      P>|t|      [0.025      0.975]\n",
      "------------------------------------------------------------------------------\n",
      "Intercept     -0.7617      0.008    -91.583      0.000      -0.778      -0.745\n",
      "creddebt       0.0070      0.001      5.736      0.000       0.005       0.009\n",
      "othdebt        0.0128      0.001     10.074      0.000       0.010       0.015\n",
      "carvalue       0.2441      0.002    130.662      0.000       0.240       0.248\n",
      "jobsat         0.0018      0.001      1.887      0.059   -7.04e-05       0.004\n",
      "==============================================================================\n",
      "Omnibus:                      185.076   Durbin-Watson:                   1.978\n",
      "Prob(Omnibus):                  0.000   Jarque-Bera (JB):              311.201\n",
      "Skew:                           0.489   Prob(JB):                     2.65e-68\n",
      "Kurtosis:                       4.264   Cond. No.                         87.0\n",
      "==============================================================================\n",
      "\n",
      "Notes:\n",
      "[1] Standard Errors assume that the covariance matrix of the errors is correctly specified.\n"
     ]
    }
   ],
   "source": [
    "# 'creddebt', 'othdebt', 'carvalue', 'jobsat'\n",
    "trainData = pd.concat([Y_train,X_train],axis=1)\n",
    "formula = 'income~creddebt+othdebt+carvalue+jobsat'\n",
    "model_2  = smf.ols(formula,trainData).fit()\n",
    "print(model_2.summary())"
   ]
  },
  {
   "cell_type": "code",
   "execution_count": 12,
   "id": "8f3737b2",
   "metadata": {},
   "outputs": [
    {
     "name": "stdout",
     "output_type": "stream",
     "text": [
      "r2 score is  -0.21057511240772886\n",
      "mean_sqrd_error is== 0.08323548604950008\n",
      "root_mean_squared error of is== 0.28850560835016725\n"
     ]
    }
   ],
   "source": [
    "prediction = model_2.predict(X_test)\n",
    "score=r2_score(Y_test,prediction)\n",
    "print(\"r2 score is \",score)\n",
    "print(\"mean_sqrd_error is==\",mean_squared_error(Y_test,prediction))\n",
    "print(\"root_mean_squared error of is==\",np.sqrt(mean_squared_error(Y_test,prediction)))"
   ]
  },
  {
   "cell_type": "markdown",
   "id": "19bf8813",
   "metadata": {},
   "source": [
    "#### Moldel 2 Rejected as R2 is negative"
   ]
  },
  {
   "cell_type": "markdown",
   "id": "7c6d0735",
   "metadata": {},
   "source": [
    "## Model 3 - Removing 2nd least co-related feature with income i.e. creddebt"
   ]
  },
  {
   "cell_type": "code",
   "execution_count": 13,
   "id": "2e8f163f",
   "metadata": {},
   "outputs": [
    {
     "name": "stdout",
     "output_type": "stream",
     "text": [
      "                            OLS Regression Results                            \n",
      "==============================================================================\n",
      "Dep. Variable:                 income   R-squared:                       0.924\n",
      "Model:                            OLS   Adj. R-squared:                  0.924\n",
      "Method:                 Least Squares   F-statistic:                 1.182e+04\n",
      "Date:                Thu, 03 Mar 2022   Prob (F-statistic):               0.00\n",
      "Time:                        14:48:56   Log-Likelihood:                 3714.5\n",
      "No. Observations:                2924   AIC:                            -7421.\n",
      "Df Residuals:                    2920   BIC:                            -7397.\n",
      "Df Model:                           3                                         \n",
      "Covariance Type:            nonrobust                                         \n",
      "==============================================================================\n",
      "                 coef    std err          t      P>|t|      [0.025      0.975]\n",
      "------------------------------------------------------------------------------\n",
      "Intercept     -0.7423      0.008    -97.161      0.000      -0.757      -0.727\n",
      "othdebt        0.0163      0.001     14.552      0.000       0.014       0.019\n",
      "carvalue       0.2464      0.002    134.290      0.000       0.243       0.250\n",
      "jobsat         0.0020      0.001      2.070      0.039       0.000       0.004\n",
      "==============================================================================\n",
      "Omnibus:                      190.247   Durbin-Watson:                   1.985\n",
      "Prob(Omnibus):                  0.000   Jarque-Bera (JB):              326.576\n",
      "Skew:                           0.494   Prob(JB):                     1.22e-71\n",
      "Kurtosis:                       4.306   Cond. No.                         60.4\n",
      "==============================================================================\n",
      "\n",
      "Notes:\n",
      "[1] Standard Errors assume that the covariance matrix of the errors is correctly specified.\n"
     ]
    }
   ],
   "source": [
    "trainData = pd.concat([Y_train,X_train],axis=1)\n",
    "formula = 'income~othdebt+carvalue+jobsat'\n",
    "model_3  = smf.ols(formula,trainData).fit()\n",
    "print(model_3.summary())"
   ]
  },
  {
   "cell_type": "code",
   "execution_count": 14,
   "id": "dd189197",
   "metadata": {},
   "outputs": [
    {
     "name": "stdout",
     "output_type": "stream",
     "text": [
      "r2 score is  -0.09493877294564146\n",
      "mean_sqrd_error is== 0.07528468083183089\n",
      "root_mean_squared error of is== 0.2743805401843048\n"
     ]
    }
   ],
   "source": [
    "prediction = model_3.predict(X_test)\n",
    "score=r2_score(Y_test,prediction)\n",
    "print(\"r2 score is \",score)\n",
    "print(\"mean_sqrd_error is==\",mean_squared_error(Y_test,prediction))\n",
    "print(\"root_mean_squared error of is==\",np.sqrt(mean_squared_error(Y_test,prediction)))"
   ]
  },
  {
   "cell_type": "markdown",
   "id": "ff0650ac",
   "metadata": {},
   "source": [
    "#### Moldel 3 Rejected as R2 is negative"
   ]
  },
  {
   "cell_type": "markdown",
   "id": "23fa2672",
   "metadata": {},
   "source": [
    "## since three models are already rejected , we'll apply Algorithms to find best model "
   ]
  },
  {
   "cell_type": "markdown",
   "id": "cb389496",
   "metadata": {},
   "source": [
    "## Algorithm 1 - Best Subset Model"
   ]
  },
  {
   "cell_type": "code",
   "execution_count": 15,
   "id": "68119939",
   "metadata": {},
   "outputs": [],
   "source": [
    "def fit_linear_reg(X,Y,x_test):\n",
    "    #Fit linear regression model and return RSS and R squared values\n",
    "    model_k = linear_model.LinearRegression(fit_intercept = True)\n",
    "    model_k.fit(X,Y)\n",
    "    list_of_features = [feature for feature in X.columns]\n",
    "    x_test = x_test[list_of_features].copy()\n",
    "        \n",
    "  # print(Y.shape,Y_test.Shape)\n",
    "    RSS = mean_squared_error(Y_test,model_k.predict(x_test)) * len(Y_test)\n",
    "    R_squared = model_k.score(x_test,Y_test)\n",
    "    return RSS, R_squared"
   ]
  },
  {
   "cell_type": "code",
   "execution_count": 16,
   "id": "4279b081",
   "metadata": {},
   "outputs": [
    {
     "name": "stderr",
     "output_type": "stream",
     "text": [
      "C:\\Users\\offic\\AppData\\Local\\Temp/ipykernel_12612/3439191930.py:12: TqdmDeprecationWarning: Please use `tqdm.notebook.trange` instead of `tqdm.tnrange`\n",
      "  for k in tnrange(1,len(X.columns) + 1, desc = 'Loop...'):\n"
     ]
    },
    {
     "data": {
      "application/vnd.jupyter.widget-view+json": {
       "model_id": "3bc2bc977f6846428c8337903b01f2d1",
       "version_major": 2,
       "version_minor": 0
      },
      "text/plain": [
       "Loop...:   0%|          | 0/5 [00:00<?, ?it/s]"
      ]
     },
     "metadata": {},
     "output_type": "display_data"
    }
   ],
   "source": [
    "#Importing tqdm for the progress bar\n",
    "from tqdm import tnrange, tqdm_notebook\n",
    "\n",
    "#Initialization variables\n",
    "Y = Y_train.copy()\n",
    "X = X_train.copy()\n",
    "k = 11\n",
    "RSS_list, R_squared_list, feature_list = [],[], []\n",
    "numb_features = []\n",
    "\n",
    "#Looping over k = 1 to k = 11 features in X\n",
    "for k in tnrange(1,len(X.columns) + 1, desc = 'Loop...'):\n",
    "\n",
    "    #Looping over all possible combinations: from 11 choose k\n",
    "    for combo in itertools.combinations(X.columns,k):\n",
    "        tempX = X_test.copy()\n",
    "        tmp_result = fit_linear_reg(X[list(combo)],Y,tempX)   #Store temp result \n",
    "        RSS_list.append(tmp_result[0])                  #Append lists\n",
    "        R_squared_list.append(tmp_result[1])\n",
    "        feature_list.append(combo)\n",
    "        numb_features.append(len(combo))   \n",
    "\n",
    "#Store in DataFrame\n",
    "df = pd.DataFrame({'numb_features': numb_features,'RSS': RSS_list, 'R_squared':R_squared_list,'features':feature_list})\n"
   ]
  },
  {
   "cell_type": "code",
   "execution_count": 17,
   "id": "f7c0db2d",
   "metadata": {},
   "outputs": [
    {
     "data": {
      "text/html": [
       "<div>\n",
       "<style scoped>\n",
       "    .dataframe tbody tr th:only-of-type {\n",
       "        vertical-align: middle;\n",
       "    }\n",
       "\n",
       "    .dataframe tbody tr th {\n",
       "        vertical-align: top;\n",
       "    }\n",
       "\n",
       "    .dataframe thead th {\n",
       "        text-align: right;\n",
       "    }\n",
       "</style>\n",
       "<table border=\"1\" class=\"dataframe\">\n",
       "  <thead>\n",
       "    <tr style=\"text-align: right;\">\n",
       "      <th></th>\n",
       "      <th>numb_features</th>\n",
       "      <th>RSS</th>\n",
       "      <th>R_squared</th>\n",
       "      <th>features</th>\n",
       "    </tr>\n",
       "  </thead>\n",
       "  <tbody>\n",
       "    <tr>\n",
       "      <th>2</th>\n",
       "      <td>1</td>\n",
       "      <td>69.488695</td>\n",
       "      <td>0.160596</td>\n",
       "      <td>(othdebt,)</td>\n",
       "    </tr>\n",
       "    <tr>\n",
       "      <th>9</th>\n",
       "      <td>2</td>\n",
       "      <td>42.715138</td>\n",
       "      <td>0.484013</td>\n",
       "      <td>(creddebt, othdebt)</td>\n",
       "    </tr>\n",
       "    <tr>\n",
       "      <th>22</th>\n",
       "      <td>3</td>\n",
       "      <td>41.714691</td>\n",
       "      <td>0.496098</td>\n",
       "      <td>(creddebt, othdebt, jobsat)</td>\n",
       "    </tr>\n",
       "  </tbody>\n",
       "</table>\n",
       "</div>"
      ],
      "text/plain": [
       "    numb_features        RSS  R_squared                     features\n",
       "2               1  69.488695   0.160596                   (othdebt,)\n",
       "9               2  42.715138   0.484013          (creddebt, othdebt)\n",
       "22              3  41.714691   0.496098  (creddebt, othdebt, jobsat)"
      ]
     },
     "metadata": {},
     "output_type": "display_data"
    },
    {
     "data": {
      "text/html": [
       "<div>\n",
       "<style scoped>\n",
       "    .dataframe tbody tr th:only-of-type {\n",
       "        vertical-align: middle;\n",
       "    }\n",
       "\n",
       "    .dataframe tbody tr th {\n",
       "        vertical-align: top;\n",
       "    }\n",
       "\n",
       "    .dataframe thead th {\n",
       "        text-align: right;\n",
       "    }\n",
       "</style>\n",
       "<table border=\"1\" class=\"dataframe\">\n",
       "  <thead>\n",
       "    <tr style=\"text-align: right;\">\n",
       "      <th></th>\n",
       "      <th>numb_features</th>\n",
       "      <th>RSS</th>\n",
       "      <th>R_squared</th>\n",
       "      <th>features</th>\n",
       "    </tr>\n",
       "  </thead>\n",
       "  <tbody>\n",
       "    <tr>\n",
       "      <th>2</th>\n",
       "      <td>1</td>\n",
       "      <td>69.488695</td>\n",
       "      <td>0.160596</td>\n",
       "      <td>(othdebt,)</td>\n",
       "    </tr>\n",
       "    <tr>\n",
       "      <th>9</th>\n",
       "      <td>2</td>\n",
       "      <td>42.715138</td>\n",
       "      <td>0.484013</td>\n",
       "      <td>(creddebt, othdebt)</td>\n",
       "    </tr>\n",
       "    <tr>\n",
       "      <th>22</th>\n",
       "      <td>3</td>\n",
       "      <td>41.714691</td>\n",
       "      <td>0.496098</td>\n",
       "      <td>(creddebt, othdebt, jobsat)</td>\n",
       "    </tr>\n",
       "  </tbody>\n",
       "</table>\n",
       "</div>"
      ],
      "text/plain": [
       "    numb_features        RSS  R_squared                     features\n",
       "2               1  69.488695   0.160596                   (othdebt,)\n",
       "9               2  42.715138   0.484013          (creddebt, othdebt)\n",
       "22              3  41.714691   0.496098  (creddebt, othdebt, jobsat)"
      ]
     },
     "metadata": {},
     "output_type": "display_data"
    }
   ],
   "source": [
    "df_min = df[df.groupby('numb_features')['RSS'].transform(min) == df['RSS']]\n",
    "df_max = df[df.groupby('numb_features')['R_squared'].transform(max) == df['R_squared']]\n",
    "display(df_min.head(3))\n",
    "display(df_max.head(3))"
   ]
  },
  {
   "cell_type": "code",
   "execution_count": null,
   "id": "6c1290de",
   "metadata": {},
   "outputs": [],
   "source": []
  },
  {
   "cell_type": "code",
   "execution_count": 18,
   "id": "d7ecabc1",
   "metadata": {},
   "outputs": [
    {
     "name": "stdout",
     "output_type": "stream",
     "text": [
      "9  >>>  0.4840132558888085  -  ('creddebt', 'othdebt')\n",
      "15  >>>  0.4905965289360269  -  ('yrsed', 'creddebt', 'othdebt')\n",
      "22  >>>  0.4960983693545291  -  ('creddebt', 'othdebt', 'jobsat')\n",
      "26  >>>  0.5050741451515242  -  ('yrsed', 'creddebt', 'othdebt', 'jobsat')\n"
     ]
    }
   ],
   "source": [
    "df['min_RSS'] = df.groupby('numb_features')['RSS'].transform(min)\n",
    "df['max_R_squared'] = df.groupby('numb_features')['R_squared'].transform(max)\n",
    "for i in range (0,len(df)):\n",
    "    if df['R_squared'][i]> 0.4:\n",
    "        print(i , \" >>> \" ,df['R_squared'][i],\" - \",df['features'][i]) \n"
   ]
  },
  {
   "cell_type": "markdown",
   "id": "f69f4dcd",
   "metadata": {},
   "source": [
    "### creating model with No_Drops"
   ]
  },
  {
   "cell_type": "code",
   "execution_count": 19,
   "id": "c45f3a9e",
   "metadata": {},
   "outputs": [
    {
     "name": "stderr",
     "output_type": "stream",
     "text": [
      "C:\\Users\\offic\\AppData\\Local\\Temp/ipykernel_12612/4218103327.py:22: TqdmDeprecationWarning: Please use `tqdm.notebook.trange` instead of `tqdm.tnrange`\n",
      "  for k in tnrange(1,len(X.columns) + 1, desc = 'Loop...'):\n"
     ]
    },
    {
     "data": {
      "application/vnd.jupyter.widget-view+json": {
       "model_id": "2d87784c30684258986271fe183ff49c",
       "version_major": 2,
       "version_minor": 0
      },
      "text/plain": [
       "Loop...:   0%|          | 0/10 [00:00<?, ?it/s]"
      ]
     },
     "metadata": {},
     "output_type": "display_data"
    },
    {
     "data": {
      "text/html": [
       "<div>\n",
       "<style scoped>\n",
       "    .dataframe tbody tr th:only-of-type {\n",
       "        vertical-align: middle;\n",
       "    }\n",
       "\n",
       "    .dataframe tbody tr th {\n",
       "        vertical-align: top;\n",
       "    }\n",
       "\n",
       "    .dataframe thead th {\n",
       "        text-align: right;\n",
       "    }\n",
       "</style>\n",
       "<table border=\"1\" class=\"dataframe\">\n",
       "  <thead>\n",
       "    <tr style=\"text-align: right;\">\n",
       "      <th></th>\n",
       "      <th>numb_features</th>\n",
       "      <th>RSS</th>\n",
       "      <th>R_squared</th>\n",
       "      <th>features</th>\n",
       "    </tr>\n",
       "  </thead>\n",
       "  <tbody>\n",
       "    <tr>\n",
       "      <th>3</th>\n",
       "      <td>1</td>\n",
       "      <td>69.488695</td>\n",
       "      <td>0.160596</td>\n",
       "      <td>(othdebt,)</td>\n",
       "    </tr>\n",
       "    <tr>\n",
       "      <th>27</th>\n",
       "      <td>2</td>\n",
       "      <td>42.715138</td>\n",
       "      <td>0.484013</td>\n",
       "      <td>(creddebt, othdebt)</td>\n",
       "    </tr>\n",
       "    <tr>\n",
       "      <th>121</th>\n",
       "      <td>3</td>\n",
       "      <td>40.266025</td>\n",
       "      <td>0.513598</td>\n",
       "      <td>(creddebt, othdebt, default)</td>\n",
       "    </tr>\n",
       "  </tbody>\n",
       "</table>\n",
       "</div>"
      ],
      "text/plain": [
       "     numb_features        RSS  R_squared                      features\n",
       "3                1  69.488695   0.160596                    (othdebt,)\n",
       "27               2  42.715138   0.484013           (creddebt, othdebt)\n",
       "121              3  40.266025   0.513598  (creddebt, othdebt, default)"
      ]
     },
     "metadata": {},
     "output_type": "display_data"
    },
    {
     "data": {
      "text/html": [
       "<div>\n",
       "<style scoped>\n",
       "    .dataframe tbody tr th:only-of-type {\n",
       "        vertical-align: middle;\n",
       "    }\n",
       "\n",
       "    .dataframe tbody tr th {\n",
       "        vertical-align: top;\n",
       "    }\n",
       "\n",
       "    .dataframe thead th {\n",
       "        text-align: right;\n",
       "    }\n",
       "</style>\n",
       "<table border=\"1\" class=\"dataframe\">\n",
       "  <thead>\n",
       "    <tr style=\"text-align: right;\">\n",
       "      <th></th>\n",
       "      <th>numb_features</th>\n",
       "      <th>RSS</th>\n",
       "      <th>R_squared</th>\n",
       "      <th>features</th>\n",
       "    </tr>\n",
       "  </thead>\n",
       "  <tbody>\n",
       "    <tr>\n",
       "      <th>3</th>\n",
       "      <td>1</td>\n",
       "      <td>69.488695</td>\n",
       "      <td>0.160596</td>\n",
       "      <td>(othdebt,)</td>\n",
       "    </tr>\n",
       "    <tr>\n",
       "      <th>27</th>\n",
       "      <td>2</td>\n",
       "      <td>42.715138</td>\n",
       "      <td>0.484013</td>\n",
       "      <td>(creddebt, othdebt)</td>\n",
       "    </tr>\n",
       "    <tr>\n",
       "      <th>121</th>\n",
       "      <td>3</td>\n",
       "      <td>40.266025</td>\n",
       "      <td>0.513598</td>\n",
       "      <td>(creddebt, othdebt, default)</td>\n",
       "    </tr>\n",
       "  </tbody>\n",
       "</table>\n",
       "</div>"
      ],
      "text/plain": [
       "     numb_features        RSS  R_squared                      features\n",
       "3                1  69.488695   0.160596                    (othdebt,)\n",
       "27               2  42.715138   0.484013           (creddebt, othdebt)\n",
       "121              3  40.266025   0.513598  (creddebt, othdebt, default)"
      ]
     },
     "metadata": {},
     "output_type": "display_data"
    }
   ],
   "source": [
    "def fit_linear_reg(X,Y,x_test):\n",
    "    #Fit linear regression model and return RSS and R squared values\n",
    "    model_k = linear_model.LinearRegression(fit_intercept = True)\n",
    "    model_k.fit(X,Y)\n",
    "    list_of_features = [feature for feature in X.columns]\n",
    "    x_test = x_test[list_of_features].copy()\n",
    "        \n",
    "  # print(Y.shape,Y_test.Shape)\n",
    "    RSS = mean_squared_error(Y_test,model_k.predict(x_test)) * len(Y_test)\n",
    "    R_squared = model_k.score(x_test,Y_test)\n",
    "    return RSS, R_squared\n",
    "\n",
    "\n",
    "#Initialization variables\n",
    "Y = Y_train.copy()\n",
    "X = X_train_No_Drop.copy()\n",
    "k = 11\n",
    "RSS_list, R_squared_list, feature_list = [],[], []\n",
    "numb_features = []\n",
    "\n",
    "#Looping over k = 1 to k = 11 features in X\n",
    "for k in tnrange(1,len(X.columns) + 1, desc = 'Loop...'):\n",
    "\n",
    "    #Looping over all possible combinations: from 11 choose k\n",
    "    for combo in itertools.combinations(X.columns,k):\n",
    "        tempX = X_test_No_Drop.copy()\n",
    "        tmp_result = fit_linear_reg(X[list(combo)],Y,tempX)   #Store temp result \n",
    "        RSS_list.append(tmp_result[0])                  #Append lists\n",
    "        R_squared_list.append(tmp_result[1])\n",
    "        feature_list.append(combo)\n",
    "        numb_features.append(len(combo))   \n",
    "\n",
    "#Store in DataFrame\n",
    "df = pd.DataFrame({'numb_features': numb_features,'RSS': RSS_list, 'R_squared':R_squared_list,'features':feature_list})\n",
    "\n",
    "df_min = df[df.groupby('numb_features')['RSS'].transform(min) == df['RSS']]\n",
    "df_max = df[df.groupby('numb_features')['R_squared'].transform(max) == df['R_squared']]\n",
    "display(df_min.head(3))\n",
    "display(df_max.head(3))"
   ]
  },
  {
   "cell_type": "code",
   "execution_count": 20,
   "id": "e15ec5f2",
   "metadata": {},
   "outputs": [
    {
     "name": "stdout",
     "output_type": "stream",
     "text": [
      "937  >>>  0.5365997213422451  -  ('yrsed', 'creddebt', 'othdebt', 'cars', 'default', 'jobsat', 'homeown')\n",
      "1007  >>>  0.5369390315435778  -  ('yrsed', 'creddebt', 'othdebt', 'cars', 'default', 'jobsat', 'homeown', 'edcat5')\n",
      "1016  >>>  0.5360930511195203  -  ('age', 'yrsed', 'creddebt', 'othdebt', 'cars', 'default', 'jobsat', 'homeown', 'edcat5')\n"
     ]
    }
   ],
   "source": [
    "df['min_RSS'] = df.groupby('numb_features')['RSS'].transform(min)\n",
    "df['max_R_squared'] = df.groupby('numb_features')['R_squared'].transform(max)\n",
    "for i in range (0,len(df)):\n",
    "    if df['R_squared'][i]> 0.536:\n",
    "        print(i , \" >>> \" ,df['R_squared'][i],\" - \",df['features'][i]) "
   ]
  },
  {
   "cell_type": "markdown",
   "id": "e6dd66b6",
   "metadata": {},
   "source": [
    "### 3 possible best Subsets are \n",
    "\n",
    "1. without using the lasso algo to find best subsets\n",
    "\n",
    "    a. 'yrsed', 'creddebt', 'othdebt', 'cars', 'default', 'jobsat', 'homeown' - 0.5365997213422451\n",
    "    \n",
    "    b. 'yrsed', 'creddebt', 'othdebt', 'cars', 'default', 'jobsat', 'homeown', 'edcat5' - 0.5369390315435778\n",
    "    \n",
    "    \n",
    "2. using lasso reg to find best subsets \n",
    "\n",
    "    a. 'yrsed', 'creddebt', 'othdebt', 'jobsat' - 0.5050741451515242"
   ]
  },
  {
   "cell_type": "markdown",
   "id": "5fcd4e01",
   "metadata": {},
   "source": [
    "## Model 4  - with 2.a features  formula - 'yrsed'+'creddebt'*'othdebt'+'jobsat' "
   ]
  },
  {
   "cell_type": "code",
   "execution_count": 21,
   "id": "1e0e1ab9",
   "metadata": {},
   "outputs": [
    {
     "name": "stdout",
     "output_type": "stream",
     "text": [
      "                            OLS Regression Results                            \n",
      "==============================================================================\n",
      "Dep. Variable:                 income   R-squared:                       0.507\n",
      "Model:                            OLS   Adj. R-squared:                  0.506\n",
      "Method:                 Least Squares   F-statistic:                     499.6\n",
      "Date:                Thu, 03 Mar 2022   Prob (F-statistic):               0.00\n",
      "Time:                        14:49:01   Log-Likelihood:                 981.62\n",
      "No. Observations:                2924   AIC:                            -1949.\n",
      "Df Residuals:                    2917   BIC:                            -1907.\n",
      "Df Model:                           6                                         \n",
      "Covariance Type:            nonrobust                                         \n",
      "====================================================================================\n",
      "                       coef    std err          t      P>|t|      [0.025      0.975]\n",
      "------------------------------------------------------------------------------------\n",
      "Intercept           -0.1025      0.102     -1.003      0.316      -0.303       0.098\n",
      "yrsed                0.0387      0.007      5.791      0.000       0.026       0.052\n",
      "othdebt              0.0018      0.012      0.152      0.879      -0.022       0.026\n",
      "creddebt            -0.0367      0.012     -3.087      0.002      -0.060      -0.013\n",
      "othdebt:creddebt     0.0093      0.001      6.653      0.000       0.007       0.012\n",
      "jobsat               0.0475      0.011      4.521      0.000       0.027       0.068\n",
      "jobsat:yrsed        -0.0047      0.002     -2.295      0.022      -0.009      -0.001\n",
      "==============================================================================\n",
      "Omnibus:                       16.327   Durbin-Watson:                   1.949\n",
      "Prob(Omnibus):                  0.000   Jarque-Bera (JB):               16.495\n",
      "Skew:                           0.172   Prob(JB):                     0.000262\n",
      "Kurtosis:                       3.128   Cond. No.                     2.43e+03\n",
      "==============================================================================\n",
      "\n",
      "Notes:\n",
      "[1] Standard Errors assume that the covariance matrix of the errors is correctly specified.\n",
      "[2] The condition number is large, 2.43e+03. This might indicate that there are\n",
      "strong multicollinearity or other numerical problems.\n"
     ]
    }
   ],
   "source": [
    "trainData.to_csv('train_data.csv',index=False)\n",
    "formula = 'income~yrsed+othdebt*creddebt+jobsat*yrsed'\n",
    "model_4  = smf.ols(formula,trainData).fit()\n",
    "print(model_4.summary())"
   ]
  },
  {
   "cell_type": "code",
   "execution_count": 22,
   "id": "439cee07",
   "metadata": {},
   "outputs": [
    {
     "name": "stdout",
     "output_type": "stream",
     "text": [
      "r2 score is  0.5010483340219328\n",
      "mean_sqrd_error is== 0.03430640858813932\n",
      "root_mean_squared error of is== 0.1852198925281497\n"
     ]
    }
   ],
   "source": [
    "prediction = model_4.predict(X_test)\n",
    "score=r2_score(Y_test,prediction)\n",
    "print(\"r2 score is \",score)\n",
    "print(\"mean_sqrd_error is==\",mean_squared_error(Y_test,prediction))\n",
    "print(\"root_mean_squared error of is==\",np.sqrt(mean_squared_error(Y_test,prediction)))"
   ]
  },
  {
   "cell_type": "markdown",
   "id": "211a8639",
   "metadata": {},
   "source": [
    "##### Model 4 is too weak to predict income"
   ]
  },
  {
   "cell_type": "markdown",
   "id": "c051fcf3",
   "metadata": {},
   "source": [
    "## Model 5  - with 2.a features  formula - 'yrsed'*'creddebt'*'othdebt'*'jobsat' \n"
   ]
  },
  {
   "cell_type": "code",
   "execution_count": 23,
   "id": "858ff868",
   "metadata": {},
   "outputs": [
    {
     "name": "stdout",
     "output_type": "stream",
     "text": [
      "                            OLS Regression Results                            \n",
      "==============================================================================\n",
      "Dep. Variable:                 income   R-squared:                       0.507\n",
      "Model:                            OLS   Adj. R-squared:                  0.506\n",
      "Method:                 Least Squares   F-statistic:                     599.7\n",
      "Date:                Thu, 03 Mar 2022   Prob (F-statistic):               0.00\n",
      "Time:                        14:49:01   Log-Likelihood:                 981.61\n",
      "No. Observations:                2924   AIC:                            -1951.\n",
      "Df Residuals:                    2918   BIC:                            -1915.\n",
      "Df Model:                           5                                         \n",
      "Covariance Type:            nonrobust                                         \n",
      "====================================================================================\n",
      "                       coef    std err          t      P>|t|      [0.025      0.975]\n",
      "------------------------------------------------------------------------------------\n",
      "Intercept           -0.0883      0.043     -2.059      0.040      -0.172      -0.004\n",
      "yrsed                0.0388      0.007      5.798      0.000       0.026       0.052\n",
      "jobsat               0.0475      0.010      4.525      0.000       0.027       0.068\n",
      "yrsed:jobsat        -0.0047      0.002     -2.302      0.021      -0.009      -0.001\n",
      "creddebt            -0.0384      0.005     -7.311      0.000      -0.049      -0.028\n",
      "creddebt:othdebt     0.0096      0.000     27.715      0.000       0.009       0.010\n",
      "==============================================================================\n",
      "Omnibus:                       16.260   Durbin-Watson:                   1.949\n",
      "Prob(Omnibus):                  0.000   Jarque-Bera (JB):               16.423\n",
      "Skew:                           0.172   Prob(JB):                     0.000272\n",
      "Kurtosis:                       3.127   Cond. No.                     1.03e+03\n",
      "==============================================================================\n",
      "\n",
      "Notes:\n",
      "[1] Standard Errors assume that the covariance matrix of the errors is correctly specified.\n",
      "[2] The condition number is large, 1.03e+03. This might indicate that there are\n",
      "strong multicollinearity or other numerical problems.\n"
     ]
    }
   ],
   "source": [
    "formula = 'income~(yrsed*jobsat)+(creddebt/othdebt)-carvalue'\n",
    "model_5  = smf.ols(formula,trainData).fit()\n",
    "print(model_5.summary())\n"
   ]
  },
  {
   "cell_type": "code",
   "execution_count": 24,
   "id": "4bb86577",
   "metadata": {},
   "outputs": [
    {
     "name": "stdout",
     "output_type": "stream",
     "text": [
      "r2 score is  0.5007742516320248\n",
      "mean_sqrd_error is== 0.03432525366491958\n",
      "root_mean_squared error of is== 0.18527075771669846\n"
     ]
    }
   ],
   "source": [
    "prediction = model_5.predict(X_test)\n",
    "score=r2_score(Y_test,prediction)\n",
    "print(\"r2 score is \",score)\n",
    "print(\"mean_sqrd_error is==\",mean_squared_error(Y_test,prediction))\n",
    "print(\"root_mean_squared error of is==\",np.sqrt(mean_squared_error(Y_test,prediction)))"
   ]
  },
  {
   "cell_type": "code",
   "execution_count": 25,
   "id": "99e82566",
   "metadata": {},
   "outputs": [
    {
     "data": {
      "text/plain": [
       "0       0.527950\n",
       "1       0.155240\n",
       "2       0.519177\n",
       "3       0.288238\n",
       "4       0.596585\n",
       "          ...   \n",
       "1199    0.531152\n",
       "1200    0.361482\n",
       "1201    0.282550\n",
       "1202    0.348653\n",
       "1203    0.544720\n",
       "Length: 1204, dtype: float64"
      ]
     },
     "execution_count": 25,
     "metadata": {},
     "output_type": "execute_result"
    }
   ],
   "source": [
    "prediction"
   ]
  },
  {
   "cell_type": "markdown",
   "id": "60b6bc39",
   "metadata": {},
   "source": [
    "## Model 6 - feature from 1.a formula :- yrsed+creddebt+othdebt+cars+default+jobsat+homeown"
   ]
  },
  {
   "cell_type": "code",
   "execution_count": 26,
   "id": "e902987f",
   "metadata": {},
   "outputs": [
    {
     "name": "stdout",
     "output_type": "stream",
     "text": [
      "                            OLS Regression Results                            \n",
      "==============================================================================\n",
      "Dep. Variable:                 income   R-squared:                       0.529\n",
      "Model:                            OLS   Adj. R-squared:                  0.528\n",
      "Method:                 Least Squares   F-statistic:                     467.4\n",
      "Date:                Thu, 03 Mar 2022   Prob (F-statistic):               0.00\n",
      "Time:                        14:49:01   Log-Likelihood:                 1048.2\n",
      "No. Observations:                2924   AIC:                            -2080.\n",
      "Df Residuals:                    2916   BIC:                            -2033.\n",
      "Df Model:                           7                                         \n",
      "Covariance Type:            nonrobust                                         \n",
      "==============================================================================\n",
      "                 coef    std err          t      P>|t|      [0.025      0.975]\n",
      "------------------------------------------------------------------------------\n",
      "Intercept     -0.7123      0.029    -24.292      0.000      -0.770      -0.655\n",
      "yrsed          0.0266      0.003      9.636      0.000       0.021       0.032\n",
      "creddebt       0.0457      0.003     15.144      0.000       0.040       0.052\n",
      "othdebt        0.0784      0.003     26.956      0.000       0.073       0.084\n",
      "cars           0.0140      0.015      0.935      0.350      -0.015       0.043\n",
      "default       -0.0888      0.008    -11.681      0.000      -0.104      -0.074\n",
      "jobsat         0.0186      0.002      7.655      0.000       0.014       0.023\n",
      "homeown        0.0417      0.007      6.400      0.000       0.029       0.055\n",
      "==============================================================================\n",
      "Omnibus:                       16.235   Durbin-Watson:                   1.946\n",
      "Prob(Omnibus):                  0.000   Jarque-Bera (JB):               18.746\n",
      "Skew:                           0.117   Prob(JB):                     8.50e-05\n",
      "Kurtosis:                       3.315   Cond. No.                         131.\n",
      "==============================================================================\n",
      "\n",
      "Notes:\n",
      "[1] Standard Errors assume that the covariance matrix of the errors is correctly specified.\n"
     ]
    }
   ],
   "source": [
    "trainData_2 = pd.concat([X_train_No_Drop,Y_train],axis=1)\n",
    "formula = 'income~yrsed+creddebt+othdebt+cars+default+jobsat+homeown'\n",
    "model_6  = smf.ols(formula,trainData_2).fit()\n",
    "print(model_6.summary())"
   ]
  },
  {
   "cell_type": "code",
   "execution_count": 27,
   "id": "566f3798",
   "metadata": {},
   "outputs": [
    {
     "name": "stdout",
     "output_type": "stream",
     "text": [
      "r2 score is  0.5365997213422451\n",
      "mean_sqrd_error is== 0.031862002641733604\n",
      "root_mean_squared error of is== 0.1784993071183572\n"
     ]
    }
   ],
   "source": [
    "prediction = model_6.predict(X_test_No_Drop)\n",
    "score=r2_score(Y_test,prediction)\n",
    "print(\"r2 score is \",score)\n",
    "print(\"mean_sqrd_error is==\",mean_squared_error(Y_test,prediction))\n",
    "print(\"root_mean_squared error of is==\",np.sqrt(mean_squared_error(Y_test,prediction)))"
   ]
  },
  {
   "cell_type": "markdown",
   "id": "ab75efd2",
   "metadata": {},
   "source": [
    "##### Better than lasso feature selected models"
   ]
  },
  {
   "cell_type": "markdown",
   "id": "ac5ff302",
   "metadata": {},
   "source": [
    "## Model 7 - feature from 1.a formula :- yrsed+creddebt+othdebt+cars+default+jobsat+homeown\n",
    "    \n"
   ]
  },
  {
   "cell_type": "code",
   "execution_count": 51,
   "id": "de062a31",
   "metadata": {},
   "outputs": [
    {
     "name": "stdout",
     "output_type": "stream",
     "text": [
      "                            OLS Regression Results                            \n",
      "==============================================================================\n",
      "Dep. Variable:                 income   R-squared:                       0.532\n",
      "Model:                            OLS   Adj. R-squared:                  0.531\n",
      "Method:                 Least Squares   F-statistic:                     368.5\n",
      "Date:                Thu, 03 Mar 2022   Prob (F-statistic):               0.00\n",
      "Time:                        14:53:37   Log-Likelihood:                 1059.1\n",
      "No. Observations:                2924   AIC:                            -2098.\n",
      "Df Residuals:                    2914   BIC:                            -2038.\n",
      "Df Model:                           9                                         \n",
      "Covariance Type:            nonrobust                                         \n",
      "===================================================================================\n",
      "                      coef    std err          t      P>|t|      [0.025      0.975]\n",
      "-----------------------------------------------------------------------------------\n",
      "Intercept          -0.4897      0.052     -9.474      0.000      -0.591      -0.388\n",
      "yrsed               0.0224      0.003      7.032      0.000       0.016       0.029\n",
      "yrsed:edcat5        0.0051      0.002      2.594      0.010       0.001       0.009\n",
      "creddebt            0.0300      0.007      4.117      0.000       0.016       0.044\n",
      "othdebt             0.0714      0.007     10.241      0.000       0.058       0.085\n",
      "default            -0.0886      0.008    -11.679      0.000      -0.103      -0.074\n",
      "jobsat             -0.0428      0.015     -2.861      0.004      -0.072      -0.013\n",
      "jobsat:creddebt     0.0051      0.002      2.331      0.020       0.001       0.009\n",
      "jobsat:othdebt      0.0023      0.002      1.076      0.282      -0.002       0.006\n",
      "homeown             0.0424      0.007      6.518      0.000       0.030       0.055\n",
      "==============================================================================\n",
      "Omnibus:                       20.176   Durbin-Watson:                   1.939\n",
      "Prob(Omnibus):                  0.000   Jarque-Bera (JB):               22.891\n",
      "Skew:                           0.146   Prob(JB):                     1.07e-05\n",
      "Kurtosis:                       3.321   Cond. No.                         698.\n",
      "==============================================================================\n",
      "\n",
      "Notes:\n",
      "[1] Standard Errors assume that the covariance matrix of the errors is correctly specified.\n"
     ]
    }
   ],
   "source": [
    "formula = 'income~yrsed*edcat5+creddebt+othdebt+default+(jobsat*(creddebt+othdebt))+homeown-edcat5'\n",
    "model_7  = smf.ols(formula,trainData_2).fit()\n",
    "print(model_7.summary())"
   ]
  },
  {
   "cell_type": "code",
   "execution_count": 64,
   "id": "e08c6548",
   "metadata": {},
   "outputs": [
    {
     "name": "stdout",
     "output_type": "stream",
     "text": [
      "r2 score is  0.5347592855511177\n",
      "mean_sqrd_error is== 0.03198854544444553\n",
      "root_mean_squared error of is== 0.17885341887826894\n",
      "0    0.595537\n",
      "1    0.230190\n",
      "2    0.590055\n",
      "3    0.286132\n",
      "4    0.496522\n",
      "dtype: float64\n",
      "0.5955371379438859\n",
      "0.2301899384900532\n",
      "0.5900547299323377\n",
      "0.2861321252265056\n",
      "0.4965218406816155\n",
      "0.6340151639461944\n",
      "0.9475322455997619\n",
      "0.24234277400980858\n",
      "0.5557683341259102\n",
      "0.6969027761403598\n",
      "0.08846602075001408\n"
     ]
    }
   ],
   "source": [
    "prediction = model_7.predict(X_test_No_Drop)\n",
    "score=r2_score(Y_test,prediction)\n",
    "print(\"r2 score is \",score)\n",
    "print(\"mean_sqrd_error is==\",mean_squared_error(Y_test,prediction))\n",
    "print(\"root_mean_squared error of is==\",np.sqrt(mean_squared_error(Y_test,prediction)))\n",
    "print(prediction.head())\n",
    "for i in range (0,11):\n",
    "    print(prediction.get(i))"
   ]
  },
  {
   "cell_type": "code",
   "execution_count": 31,
   "id": "65a6abb9",
   "metadata": {},
   "outputs": [
    {
     "data": {
      "image/png": "[encoded data removed]",
      "text/plain": [
       "<Figure size 432x288 with 1 Axes>"
      ]
     },
     "metadata": {
      "needs_background": "light"
     },
     "output_type": "display_data"
    },
    {
     "data": {
      "image/png": "[encoded data removed]",
      "text/plain": [
       "<Figure size 432x288 with 1 Axes>"
      ]
     },
     "metadata": {
      "needs_background": "light"
     },
     "output_type": "display_data"
    },
    {
     "data": {
      "image/png": "[encoded data removed]",
      "text/plain": [
       "<Figure size 432x288 with 1 Axes>"
      ]
     },
     "metadata": {
      "needs_background": "light"
     },
     "output_type": "display_data"
    },
    {
     "data": {
      "image/png": "[encoded data removed]",
      "text/plain": [
       "<Figure size 432x288 with 1 Axes>"
      ]
     },
     "metadata": {
      "needs_background": "light"
     },
     "output_type": "display_data"
    },
    {
     "data": {
      "image/png": "[encoded data removed]",
      "text/plain": [
       "<Figure size 432x288 with 1 Axes>"
      ]
     },
     "metadata": {
      "needs_background": "light"
     },
     "output_type": "display_data"
    },
    {
     "data": {
      "image/png": "[encoded data removed]",
      "text/plain": [
       "<Figure size 432x288 with 1 Axes>"
      ]
     },
     "metadata": {
      "needs_background": "light"
     },
     "output_type": "display_data"
    },
    {
     "data": {
      "image/png": "[encoded data removed]",
      "text/plain": [
       "<Figure size 432x288 with 1 Axes>"
      ]
     },
     "metadata": {
      "needs_background": "light"
     },
     "output_type": "display_data"
    },
    {
     "data": {
      "image/png": "[encoded data removed]",
      "text/plain": [
       "<Figure size 432x288 with 1 Axes>"
      ]
     },
     "metadata": {
      "needs_background": "light"
     },
     "output_type": "display_data"
    }
   ],
   "source": [
    " plt.scatter(trainData_2['yrsed'],trainData_2['income'])\n",
    "plt.xlabel('yrsed')\n",
    "plt.ylabel('income')\n",
    "       # plt.title(feature)\n",
    "plt.show()\n",
    "\n",
    "\n",
    " plt.scatter(trainData_2['creddebt'],trainData_2['income'])\n",
    "plt.xlabel('creddebt')\n",
    "plt.ylabel('income')\n",
    "       # plt.title(feature)\n",
    "plt.show()\n",
    "\n",
    "\n",
    "\n",
    " plt.scatter(trainData_2['othdebt'],trainData_2['income'])\n",
    "plt.xlabel('othdebt')\n",
    "plt.ylabel('income')\n",
    "       # plt.title(feature)\n",
    "plt.show()\n",
    "\n",
    "\n",
    "trainData_2.groupby('cars')['income'].median().plot.bar()\n",
    "plt.xlabel('cars')\n",
    "plt.ylabel('income')\n",
    "       # plt.title(feature)\n",
    "plt.show()\n",
    "\n",
    "\n",
    "trainData_2.groupby('jobsat')['income'].median().plot.bar()\n",
    "plt.xlabel('default')\n",
    "plt.ylabel('income')\n",
    "       # plt.title(feature)\n",
    "plt.show()\n",
    "\n",
    "\n",
    "\n",
    "\n",
    "trainData_2.groupby('jobsat')['income'].median().plot.bar()\n",
    "plt.xlabel('jobsat')\n",
    "plt.ylabel('income')\n",
    "       # plt.title(feature)\n",
    "plt.show()\n",
    "\n",
    "\n",
    "\n",
    "trainData_2.groupby('homeown')['income'].median().plot.bar()\n",
    "plt.xlabel('homeown')\n",
    "plt.ylabel('income')\n",
    "       # plt.title(feature)\n",
    "plt.show()\n",
    "\n",
    "trainData_2.groupby('edcat5')['income'].median().plot.bar()\n",
    "plt.xlabel('edcat5')\n",
    "plt.ylabel('income')\n",
    "       # plt.title(feature)\n",
    "plt.show()"
   ]
  },
  {
   "cell_type": "code",
   "execution_count": null,
   "id": "b71918bb",
   "metadata": {},
   "outputs": [],
   "source": []
  }
 ],
 "metadata": {
  "kernelspec": {
   "display_name": "Python 3 (ipykernel)",
   "language": "python",
   "name": "python3"
  },
  "language_info": {
   "codemirror_mode": {
    "name": "ipython",
    "version": 3
   },
   "file_extension": ".py",
   "mimetype": "text/x-python",
   "name": "python",
   "nbconvert_exporter": "python",
   "pygments_lexer": "ipython3",
   "version": "3.9.7"
  }
 },
 "nbformat": 4,
 "nbformat_minor": 5
}
