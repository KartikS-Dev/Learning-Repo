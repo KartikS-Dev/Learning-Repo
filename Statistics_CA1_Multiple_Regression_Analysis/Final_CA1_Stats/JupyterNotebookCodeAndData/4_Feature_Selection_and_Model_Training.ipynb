{
 "cells": [
  {
   "cell_type": "markdown",
   "id": "371eaa5f",
   "metadata": {},
   "source": [
    "# <font size='10' color='#1ABC9C'> Feature Selection and Model Training </font>"
   ]
  },
  {
   "cell_type": "code",
   "execution_count": 1,
   "id": "29a4f2ba",
   "metadata": {},
   "outputs": [],
   "source": [
    "import pandas as pd\n",
    "import numpy as np\n",
    "import matplotlib.pyplot as plt\n",
    "%matplotlib inline \n",
    "## When using the 'inline' backend, \n",
    "## your matplotlib graphs will be included in your notebook, next to the code.\n",
    "import seaborn as sns\n",
    "from sklearn.model_selection import train_test_split\n",
    "from sklearn import linear_model\n",
    "from sklearn.metrics import r2_score\n",
    "from sklearn.metrics import mean_squared_error\n",
    "from sklearn.preprocessing import MinMaxScaler\n",
    "import statsmodels.formula.api as smf\n",
    "import statsmodels.api as sm\n",
    "import itertools\n",
    "import time\n",
    "\n",
    "pd.pandas.set_option('display.max_columns',None)"
   ]
  },
  {
   "cell_type": "code",
   "execution_count": 2,
   "id": "12ea0c59",
   "metadata": {},
   "outputs": [
    {
     "name": "stdout",
     "output_type": "stream",
     "text": [
      "(4506, 14)\n"
     ]
    }
   ],
   "source": [
    "dataset=pd.read_csv('dataset_cleaned_assumption_OK.csv')\n",
    "print(dataset.shape)"
   ]
  },
  {
   "cell_type": "code",
   "execution_count": 3,
   "id": "b8956780",
   "metadata": {},
   "outputs": [
    {
     "data": {
      "text/html": [
       "<div>\n",
       "<style scoped>\n",
       "    .dataframe tbody tr th:only-of-type {\n",
       "        vertical-align: middle;\n",
       "    }\n",
       "\n",
       "    .dataframe tbody tr th {\n",
       "        vertical-align: top;\n",
       "    }\n",
       "\n",
       "    .dataframe thead th {\n",
       "        text-align: right;\n",
       "    }\n",
       "</style>\n",
       "<table border=\"1\" class=\"dataframe\">\n",
       "  <thead>\n",
       "    <tr style=\"text-align: right;\">\n",
       "      <th></th>\n",
       "      <th>yrsempl</th>\n",
       "      <th>income</th>\n",
       "      <th>creddebt</th>\n",
       "      <th>othdebt</th>\n",
       "      <th>default</th>\n",
       "      <th>jobsat</th>\n",
       "      <th>homeown</th>\n",
       "      <th>address</th>\n",
       "      <th>cars</th>\n",
       "      <th>carvalue</th>\n",
       "      <th>2</th>\n",
       "      <th>3</th>\n",
       "      <th>4</th>\n",
       "      <th>5</th>\n",
       "    </tr>\n",
       "  </thead>\n",
       "  <tbody>\n",
       "    <tr>\n",
       "      <th>0</th>\n",
       "      <td>4.0</td>\n",
       "      <td>2.252303</td>\n",
       "      <td>0.387607</td>\n",
       "      <td>1.294482</td>\n",
       "      <td>0</td>\n",
       "      <td>4</td>\n",
       "      <td>1</td>\n",
       "      <td>22</td>\n",
       "      <td>1</td>\n",
       "      <td>11.3</td>\n",
       "      <td>0</td>\n",
       "      <td>0</td>\n",
       "      <td>0</td>\n",
       "      <td>0</td>\n",
       "    </tr>\n",
       "    <tr>\n",
       "      <th>1</th>\n",
       "      <td>15.0</td>\n",
       "      <td>2.029856</td>\n",
       "      <td>0.387607</td>\n",
       "      <td>0.982326</td>\n",
       "      <td>0</td>\n",
       "      <td>3</td>\n",
       "      <td>1</td>\n",
       "      <td>28</td>\n",
       "      <td>1</td>\n",
       "      <td>11.3</td>\n",
       "      <td>0</td>\n",
       "      <td>0</td>\n",
       "      <td>0</td>\n",
       "      <td>0</td>\n",
       "    </tr>\n",
       "    <tr>\n",
       "      <th>2</th>\n",
       "      <td>7.0</td>\n",
       "      <td>1.836011</td>\n",
       "      <td>0.387607</td>\n",
       "      <td>0.982326</td>\n",
       "      <td>0</td>\n",
       "      <td>5</td>\n",
       "      <td>0</td>\n",
       "      <td>21</td>\n",
       "      <td>1</td>\n",
       "      <td>11.3</td>\n",
       "      <td>0</td>\n",
       "      <td>0</td>\n",
       "      <td>0</td>\n",
       "      <td>0</td>\n",
       "    </tr>\n",
       "    <tr>\n",
       "      <th>3</th>\n",
       "      <td>15.0</td>\n",
       "      <td>2.214519</td>\n",
       "      <td>0.387607</td>\n",
       "      <td>0.982326</td>\n",
       "      <td>0</td>\n",
       "      <td>4</td>\n",
       "      <td>0</td>\n",
       "      <td>11</td>\n",
       "      <td>1</td>\n",
       "      <td>11.3</td>\n",
       "      <td>0</td>\n",
       "      <td>0</td>\n",
       "      <td>0</td>\n",
       "      <td>0</td>\n",
       "    </tr>\n",
       "    <tr>\n",
       "      <th>4</th>\n",
       "      <td>8.0</td>\n",
       "      <td>2.704247</td>\n",
       "      <td>0.387607</td>\n",
       "      <td>0.982326</td>\n",
       "      <td>0</td>\n",
       "      <td>3</td>\n",
       "      <td>0</td>\n",
       "      <td>11</td>\n",
       "      <td>1</td>\n",
       "      <td>22.1</td>\n",
       "      <td>0</td>\n",
       "      <td>0</td>\n",
       "      <td>0</td>\n",
       "      <td>0</td>\n",
       "    </tr>\n",
       "  </tbody>\n",
       "</table>\n",
       "</div>"
      ],
      "text/plain": [
       "   yrsempl    income  creddebt   othdebt  default  jobsat  homeown  address  \\\n",
       "0      4.0  2.252303  0.387607  1.294482        0       4        1       22   \n",
       "1     15.0  2.029856  0.387607  0.982326        0       3        1       28   \n",
       "2      7.0  1.836011  0.387607  0.982326        0       5        0       21   \n",
       "3     15.0  2.214519  0.387607  0.982326        0       4        0       11   \n",
       "4      8.0  2.704247  0.387607  0.982326        0       3        0       11   \n",
       "\n",
       "   cars  carvalue  2  3  4  5  \n",
       "0     1      11.3  0  0  0  0  \n",
       "1     1      11.3  0  0  0  0  \n",
       "2     1      11.3  0  0  0  0  \n",
       "3     1      11.3  0  0  0  0  \n",
       "4     1      22.1  0  0  0  0  "
      ]
     },
     "execution_count": 3,
     "metadata": {},
     "output_type": "execute_result"
    }
   ],
   "source": [
    "dataset.head()"
   ]
  },
  {
   "cell_type": "code",
   "execution_count": 4,
   "id": "1ebf706a",
   "metadata": {},
   "outputs": [],
   "source": [
    "y = dataset['income'].copy()\n",
    "X = dataset.drop(['income'],axis=1).copy()"
   ]
  },
  {
   "cell_type": "code",
   "execution_count": 5,
   "id": "56870a42",
   "metadata": {},
   "outputs": [],
   "source": [
    " X_train, X_test, y_train, y_test = train_test_split(X, y, test_size=0.33, random_state=42)"
   ]
  },
  {
   "cell_type": "markdown",
   "id": "59524d1e",
   "metadata": {},
   "source": [
    "## Selecting the best Subset for model training \n",
    "Algorithm 1 \n",
    "\n",
    "#### Reference = https://xavierbourretsicotte.github.io/subset_selection.html"
   ]
  },
  {
   "cell_type": "code",
   "execution_count": 6,
   "id": "4949a0d7",
   "metadata": {},
   "outputs": [
    {
     "name": "stderr",
     "output_type": "stream",
     "text": [
      "C:\\Users\\offic\\AppData\\Local\\Temp/ipykernel_13108/2088706678.py:23: TqdmDeprecationWarning: Please use `tqdm.notebook.trange` instead of `tqdm.tnrange`\n",
      "  for k in tnrange(1,len(X.columns) + 1, desc = 'Loop...'):\n"
     ]
    },
    {
     "data": {
      "application/vnd.jupyter.widget-view+json": {
       "model_id": "de7282732a4e483d8e32ccc384e570b1",
       "version_major": 2,
       "version_minor": 0
      },
      "text/plain": [
       "Loop...:   0%|          | 0/13 [00:00<?, ?it/s]"
      ]
     },
     "metadata": {},
     "output_type": "display_data"
    }
   ],
   "source": [
    "def fit_linear_reg(X,Y,X_test):\n",
    "    #Fit linear regression model and return RSS and R squared values\n",
    "    model_k = linear_model.LinearRegression(fit_intercept = True)\n",
    "    model_k.fit(X,Y)\n",
    "    list_of_features = [feature for feature in X.columns]\n",
    "    X_test = X_test[list_of_features].copy()\n",
    "        \n",
    "  # print(Y.shape,Y_test.Shape)\n",
    "    RSS = mean_squared_error(y_test,model_k.predict(X_test)) * len(y_test)\n",
    "    R_squared = model_k.score(X_test,y_test)\n",
    "    return RSS, R_squared\n",
    "\n",
    "from tqdm import tnrange, tqdm_notebook\n",
    "\n",
    "#Initialization variables\n",
    "Y = y_train.copy()\n",
    "X = X_train.copy()\n",
    "k = 11\n",
    "RSS_list, R_squared_list, feature_list = [],[], []\n",
    "numb_features = []\n",
    "\n",
    "#Looping over k = 1 to k = 11 features in X\n",
    "for k in tnrange(1,len(X.columns) + 1, desc = 'Loop...'):\n",
    "\n",
    "    #Looping over all possible combinations: from 11 choose k\n",
    "    for combo in itertools.combinations(X.columns,k):\n",
    "        tempX = X_test.copy()\n",
    "        tmp_result = fit_linear_reg(X[list(combo)],Y,tempX)   #Store temp result \n",
    "        RSS_list.append(tmp_result[0])                  #Append lists\n",
    "        R_squared_list.append(tmp_result[1])\n",
    "        feature_list.append(combo)\n",
    "        numb_features.append(len(combo))   \n",
    "\n",
    "#Store in DataFrame\n",
    "df = pd.DataFrame({'numb_features': numb_features,'RSS': RSS_list, 'R_squared':R_squared_list,'features':feature_list})\n"
   ]
  },
  {
   "cell_type": "code",
   "execution_count": 24,
   "id": "6ec5ab2a",
   "metadata": {},
   "outputs": [
    {
     "name": "stdout",
     "output_type": "stream",
     "text": [
      "8064  >>>  0.8195893918055237  -  ('creddebt', 'othdebt', 'default', 'homeown', 'address', 'cars', 'carvalue', '3', '4', '5')\n",
      "8130  >>>  0.8195877913798761  -  ('yrsempl', 'creddebt', 'othdebt', 'default', 'homeown', 'address', 'cars', 'carvalue', '3', '4', '5')\n"
     ]
    }
   ],
   "source": [
    "df['min_RSS'] = df.groupby('numb_features')['RSS'].transform(min)\n",
    "df['max_R_squared'] = df.groupby('numb_features')['R_squared'].transform(max)\n",
    "for i in range (0,len(df)):\n",
    "    if df['R_squared'][i]> 0.81958:\n",
    "        print(i , \" >>> \" ,df['R_squared'][i],\" - \",df['features'][i]) "
   ]
  },
  {
   "cell_type": "markdown",
   "id": "85a2d72e",
   "metadata": {},
   "source": [
    "we can see in scatter plot for yrsempl Vs income, it doesn't show sig. pattern, person with 2 yrs of empl can have same income that of 8 yrs of empl.\n",
    "\n",
    "hence we will use only 'creddebt', 'othdebt', 'default', 'homeown', 'address', 'cars', 'carvalue', '3', '4', '5' in our model\n",
    "### With above features in subset , we tend to get a model that can have accuracy more than 81 %"
   ]
  },
  {
   "cell_type": "markdown",
   "id": "dafac871",
   "metadata": {},
   "source": [
    "# We'll will proceed to model testing, before finalizing our Final model "
   ]
  },
  {
   "cell_type": "code",
   "execution_count": 25,
   "id": "5431d52f",
   "metadata": {},
   "outputs": [],
   "source": [
    "X_train.to_csv('X_train.csv',index=False) \n",
    "X_test.to_csv('X_test.csv',index=False)\n",
    "y_train.to_csv('y_train.csv',index=False)\n",
    "y_test.to_csv('y_test.csv',index=False)"
   ]
  },
  {
   "cell_type": "code",
   "execution_count": null,
   "id": "e5b7ebca",
   "metadata": {},
   "outputs": [],
   "source": []
  }
 ],
 "metadata": {
  "kernelspec": {
   "display_name": "Python 3 (ipykernel)",
   "language": "python",
   "name": "python3"
  },
  "language_info": {
   "codemirror_mode": {
    "name": "ipython",
    "version": 3
   },
   "file_extension": ".py",
   "mimetype": "text/x-python",
   "name": "python",
   "nbconvert_exporter": "python",
   "pygments_lexer": "ipython3",
   "version": "3.9.7"
  }
 },
 "nbformat": 4,
 "nbformat_minor": 5
}
