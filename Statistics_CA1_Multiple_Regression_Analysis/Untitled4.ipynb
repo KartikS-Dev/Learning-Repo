{
 "cells": [
  {
   "cell_type": "markdown",
   "id": "2dd32bb7",
   "metadata": {},
   "source": [
    "# <font size='10' color='#1ABC9C'>Assumptions For Multiple Regression Model</font>"
   ]
  },
  {
   "cell_type": "markdown",
   "id": "0bffbe53",
   "metadata": {},
   "source": [
    "## Gauss-Markov Theorem and Assumption\n",
    "According to the Gauss–Markov theorem, in a linear regression model the ordinary least squares (OLS) estimator gives the best linear unbiased estimator (BLUE) of the coefficients, provided that:\n",
    "the expectation of errors (residuals) is 0\n",
    "the errors are uncorrelated\n",
    "the errors have equal variance — homoscedasticity of errors\n",
    "Also, ‘best’ in BLUE means resulting in the lowest variance of the estimate, in comparison to other unbiased, linear estimators.\n",
    "For the estimator to be BLUE, the residuals do not need to follow normal (Gaussian) distribution, nor do they need to be independent and identically distributed.\n"
   ]
  },
  {
   "cell_type": "markdown",
   "id": "03fb7c6a",
   "metadata": {},
   "source": [
    "###### Reference :- https://corporatefinanceinstitute.com/resources/knowledge/other/multiple-linear-regression/"
   ]
  },
  {
   "cell_type": "code",
   "execution_count": null,
   "id": "ba12c2cc",
   "metadata": {},
   "outputs": [],
   "source": []
  }
 ],
 "metadata": {
  "kernelspec": {
   "display_name": "Python 3 (ipykernel)",
   "language": "python",
   "name": "python3"
  },
  "language_info": {
   "codemirror_mode": {
    "name": "ipython",
    "version": 3
   },
   "file_extension": ".py",
   "mimetype": "text/x-python",
   "name": "python",
   "nbconvert_exporter": "python",
   "pygments_lexer": "ipython3",
   "version": "3.9.7"
  }
 },
 "nbformat": 4,
 "nbformat_minor": 5
}
