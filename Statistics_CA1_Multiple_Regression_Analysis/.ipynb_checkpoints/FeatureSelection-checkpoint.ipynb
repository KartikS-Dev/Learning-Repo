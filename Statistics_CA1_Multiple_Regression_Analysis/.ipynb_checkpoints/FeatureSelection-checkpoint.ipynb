{
 "cells": [
  {
   "cell_type": "markdown",
   "id": "371eaa5f",
   "metadata": {},
   "source": [
    "# <font size='10' color='#1ABC9C'> Feature Selection </font>"
   ]
  },
  {
   "cell_type": "code",
   "execution_count": 1,
   "id": "29a4f2ba",
   "metadata": {},
   "outputs": [],
   "source": [
    "import pandas as pd\n",
    "import numpy as np\n",
    "import matplotlib.pyplot as plt\n",
    "%matplotlib inline \n",
    "## When using the 'inline' backend, \n",
    "## your matplotlib graphs will be included in your notebook, next to the code.\n",
    "import seaborn as sns\n",
    "\n",
    "pd.pandas.set_option('display.max_columns',None)"
   ]
  },
  {
   "cell_type": "code",
   "execution_count": 2,
   "id": "12ea0c59",
   "metadata": {},
   "outputs": [
    {
     "name": "stdout",
     "output_type": "stream",
     "text": [
      "(2924, 17)\n"
     ]
    }
   ],
   "source": [
    "dataset=pd.read_csv('X_train.csv')\n",
    "\n",
    "##What's the shape of data set\n",
    "print(dataset.shape)"
   ]
  },
  {
   "cell_type": "code",
   "execution_count": 3,
   "id": "b8956780",
   "metadata": {},
   "outputs": [
    {
     "data": {
      "text/html": [
       "<div>\n",
       "<style scoped>\n",
       "    .dataframe tbody tr th:only-of-type {\n",
       "        vertical-align: middle;\n",
       "    }\n",
       "\n",
       "    .dataframe tbody tr th {\n",
       "        vertical-align: top;\n",
       "    }\n",
       "\n",
       "    .dataframe thead th {\n",
       "        text-align: right;\n",
       "    }\n",
       "</style>\n",
       "<table border=\"1\" class=\"dataframe\">\n",
       "  <thead>\n",
       "    <tr style=\"text-align: right;\">\n",
       "      <th></th>\n",
       "      <th>income</th>\n",
       "      <th>age</th>\n",
       "      <th>yrsed</th>\n",
       "      <th>yrsempl</th>\n",
       "      <th>creddebt</th>\n",
       "      <th>othdebt</th>\n",
       "      <th>address</th>\n",
       "      <th>cars</th>\n",
       "      <th>carvalue</th>\n",
       "      <th>edcat</th>\n",
       "      <th>default</th>\n",
       "      <th>jobsat</th>\n",
       "      <th>homeown</th>\n",
       "      <th>edcat2</th>\n",
       "      <th>edcat3</th>\n",
       "      <th>edcat4</th>\n",
       "      <th>edcat5</th>\n",
       "    </tr>\n",
       "  </thead>\n",
       "  <tbody>\n",
       "    <tr>\n",
       "      <th>0</th>\n",
       "      <td>3.583519</td>\n",
       "      <td>0.114754</td>\n",
       "      <td>0.705882</td>\n",
       "      <td>0.000000</td>\n",
       "      <td>0.717623</td>\n",
       "      <td>0.532861</td>\n",
       "      <td>0.070175</td>\n",
       "      <td>0.000000</td>\n",
       "      <td>0.620105</td>\n",
       "      <td>4</td>\n",
       "      <td>1</td>\n",
       "      <td>2</td>\n",
       "      <td>1</td>\n",
       "      <td>0</td>\n",
       "      <td>0</td>\n",
       "      <td>1</td>\n",
       "      <td>0</td>\n",
       "    </tr>\n",
       "    <tr>\n",
       "      <th>1</th>\n",
       "      <td>4.127134</td>\n",
       "      <td>0.262295</td>\n",
       "      <td>0.764706</td>\n",
       "      <td>0.057692</td>\n",
       "      <td>0.632413</td>\n",
       "      <td>0.617074</td>\n",
       "      <td>0.140351</td>\n",
       "      <td>0.000000</td>\n",
       "      <td>0.594209</td>\n",
       "      <td>4</td>\n",
       "      <td>1</td>\n",
       "      <td>2</td>\n",
       "      <td>1</td>\n",
       "      <td>0</td>\n",
       "      <td>0</td>\n",
       "      <td>1</td>\n",
       "      <td>0</td>\n",
       "    </tr>\n",
       "    <tr>\n",
       "      <th>2</th>\n",
       "      <td>3.044522</td>\n",
       "      <td>0.770492</td>\n",
       "      <td>0.647059</td>\n",
       "      <td>0.442308</td>\n",
       "      <td>0.566571</td>\n",
       "      <td>0.457758</td>\n",
       "      <td>0.210526</td>\n",
       "      <td>0.166667</td>\n",
       "      <td>0.391828</td>\n",
       "      <td>4</td>\n",
       "      <td>0</td>\n",
       "      <td>4</td>\n",
       "      <td>0</td>\n",
       "      <td>0</td>\n",
       "      <td>0</td>\n",
       "      <td>1</td>\n",
       "      <td>0</td>\n",
       "    </tr>\n",
       "    <tr>\n",
       "      <th>3</th>\n",
       "      <td>2.564949</td>\n",
       "      <td>0.180328</td>\n",
       "      <td>0.647059</td>\n",
       "      <td>0.057692</td>\n",
       "      <td>0.436658</td>\n",
       "      <td>0.384711</td>\n",
       "      <td>0.105263</td>\n",
       "      <td>0.000000</td>\n",
       "      <td>0.220521</td>\n",
       "      <td>4</td>\n",
       "      <td>0</td>\n",
       "      <td>3</td>\n",
       "      <td>1</td>\n",
       "      <td>0</td>\n",
       "      <td>0</td>\n",
       "      <td>1</td>\n",
       "      <td>0</td>\n",
       "    </tr>\n",
       "    <tr>\n",
       "      <th>4</th>\n",
       "      <td>3.465736</td>\n",
       "      <td>0.295082</td>\n",
       "      <td>0.529412</td>\n",
       "      <td>0.038462</td>\n",
       "      <td>0.583321</td>\n",
       "      <td>0.594880</td>\n",
       "      <td>0.263158</td>\n",
       "      <td>0.333333</td>\n",
       "      <td>0.525272</td>\n",
       "      <td>3</td>\n",
       "      <td>1</td>\n",
       "      <td>2</td>\n",
       "      <td>1</td>\n",
       "      <td>0</td>\n",
       "      <td>1</td>\n",
       "      <td>0</td>\n",
       "      <td>0</td>\n",
       "    </tr>\n",
       "  </tbody>\n",
       "</table>\n",
       "</div>"
      ],
      "text/plain": [
       "     income       age     yrsed   yrsempl  creddebt   othdebt   address  \\\n",
       "0  3.583519  0.114754  0.705882  0.000000  0.717623  0.532861  0.070175   \n",
       "1  4.127134  0.262295  0.764706  0.057692  0.632413  0.617074  0.140351   \n",
       "2  3.044522  0.770492  0.647059  0.442308  0.566571  0.457758  0.210526   \n",
       "3  2.564949  0.180328  0.647059  0.057692  0.436658  0.384711  0.105263   \n",
       "4  3.465736  0.295082  0.529412  0.038462  0.583321  0.594880  0.263158   \n",
       "\n",
       "       cars  carvalue  edcat  default  jobsat  homeown  edcat2  edcat3  \\\n",
       "0  0.000000  0.620105      4        1       2        1       0       0   \n",
       "1  0.000000  0.594209      4        1       2        1       0       0   \n",
       "2  0.166667  0.391828      4        0       4        0       0       0   \n",
       "3  0.000000  0.220521      4        0       3        1       0       0   \n",
       "4  0.333333  0.525272      3        1       2        1       0       1   \n",
       "\n",
       "   edcat4  edcat5  \n",
       "0       1       0  \n",
       "1       1       0  \n",
       "2       1       0  \n",
       "3       1       0  \n",
       "4       0       0  "
      ]
     },
     "execution_count": 3,
     "metadata": {},
     "output_type": "execute_result"
    }
   ],
   "source": [
    "dataset.head()"
   ]
  },
  {
   "cell_type": "code",
   "execution_count": 4,
   "id": "8bc1f762",
   "metadata": {},
   "outputs": [],
   "source": [
    "## We will use Lasso Regression for feature selection as it provides more significat features in less time\n",
    "  ## else using Linear regression we need to adjust and test number of features again and again\n",
    "from sklearn.linear_model import Lasso\n",
    "#from sklearn.linear_model import LinearRegression\n",
    "#from sklearn.feature_selection import RFE #RFE (Recursive Feature Elimination)\n",
    "from sklearn.feature_selection import SelectFromModel"
   ]
  },
  {
   "cell_type": "code",
   "execution_count": 5,
   "id": "f040e9a6",
   "metadata": {},
   "outputs": [],
   "source": [
    "## capturing the dependent feature\n",
    "y_train = dataset['income'].copy()"
   ]
  },
  {
   "cell_type": "code",
   "execution_count": 6,
   "id": "e3ee9327",
   "metadata": {},
   "outputs": [
    {
     "name": "stdout",
     "output_type": "stream",
     "text": [
      "0       3.583519\n",
      "1       4.127134\n",
      "2       3.044522\n",
      "3       2.564949\n",
      "4       3.465736\n",
      "          ...   \n",
      "2919    4.330733\n",
      "2920    4.499810\n",
      "2921    3.044522\n",
      "2922    2.944439\n",
      "2923    3.737670\n",
      "Name: income, Length: 2924, dtype: float64\n"
     ]
    }
   ],
   "source": [
    "print(y_train)"
   ]
  },
  {
   "cell_type": "code",
   "execution_count": 7,
   "id": "4bb876bf",
   "metadata": {},
   "outputs": [],
   "source": [
    "##Droping Dependent variable from the dataset\n",
    "x_train=dataset.drop(['income'],axis=1)\n",
    "x_train = x_train.drop(['edcat'],axis=1)"
   ]
  },
  {
   "cell_type": "code",
   "execution_count": 8,
   "id": "b59ed8e1",
   "metadata": {
    "scrolled": true
   },
   "outputs": [
    {
     "name": "stdout",
     "output_type": "stream",
     "text": [
      "           age     yrsed   yrsempl  creddebt   othdebt   address      cars  \\\n",
      "0     0.114754  0.705882  0.000000  0.717623  0.532861  0.070175  0.000000   \n",
      "1     0.262295  0.764706  0.057692  0.632413  0.617074  0.140351  0.000000   \n",
      "2     0.770492  0.647059  0.442308  0.566571  0.457758  0.210526  0.166667   \n",
      "3     0.180328  0.647059  0.057692  0.436658  0.384711  0.105263  0.000000   \n",
      "4     0.295082  0.529412  0.038462  0.583321  0.594880  0.263158  0.333333   \n",
      "...        ...       ...       ...       ...       ...       ...       ...   \n",
      "2919  0.721311  0.117647  0.346154  0.536394  0.484889  0.438596  0.000000   \n",
      "2920  0.475410  0.647059  0.076923  0.492312  0.648344  0.315789  0.000000   \n",
      "2921  0.737705  0.764706  0.346154  0.458285  0.414584  0.315789  0.333333   \n",
      "2922  0.114754  0.352941  0.076923  0.435174  0.390313  0.052632  0.333333   \n",
      "2923  0.655738  0.529412  0.076923  0.592692  0.408487  0.368421  0.166667   \n",
      "\n",
      "      carvalue  default  jobsat  homeown  edcat2  edcat3  edcat4  edcat5  \n",
      "0     0.620105        1       2        1       0       0       1       0  \n",
      "1     0.594209        1       2        1       0       0       1       0  \n",
      "2     0.391828        0       4        0       0       0       1       0  \n",
      "3     0.220521        0       3        1       0       0       1       0  \n",
      "4     0.525272        1       2        1       0       1       0       0  \n",
      "...        ...      ...     ...      ...     ...     ...     ...     ...  \n",
      "2919  0.668112        0       3        1       0       0       0       0  \n",
      "2920  0.881941        0       3        1       0       0       1       0  \n",
      "2921  0.275944        0       3        0       0       0       1       0  \n",
      "2922  0.422125        1       4        0       1       0       0       0  \n",
      "2923  0.573627        0       1        0       0       1       0       0  \n",
      "\n",
      "[2924 rows x 15 columns]\n"
     ]
    }
   ],
   "source": [
    "print(x_train)"
   ]
  },
  {
   "cell_type": "markdown",
   "id": "7c179dfd",
   "metadata": {},
   "source": [
    "used Liner Regression for finding the good features, seems not efficient way."
   ]
  },
  {
   "cell_type": "code",
   "execution_count": 9,
   "id": "f7b386b1",
   "metadata": {},
   "outputs": [],
   "source": [
    "# RFE_regressor = LinearRegression()\n",
    "# rfe = RFE(RFE_regressor ,3)\n",
    "#Transforming data using RFE\n",
    "# x_train_rfe_1 = rfe.fit_transform(x_train,y_train)  \n",
    "#Fitting the data to model\n",
    "# RFE_regressor.fit(x_train,y_train) \n",
    "# print(rfe.support_)\n",
    "# print(rfe.ranking_)\n"
   ]
  },
  {
   "cell_type": "code",
   "execution_count": 10,
   "id": "4df90052",
   "metadata": {},
   "outputs": [],
   "source": [
    "# selected_features = x_train.columns[rfe.support_]\n",
    "\n",
    "# print('total number of features : {}'.format(x_train.shape[1]))\n",
    "# print('total number of selected features : {}'.format(len(selected_features)))"
   ]
  },
  {
   "cell_type": "markdown",
   "id": "af413300",
   "metadata": {},
   "source": [
    "Now using Lasso for feature selection"
   ]
  },
  {
   "cell_type": "code",
   "execution_count": 11,
   "id": "dbb14bbc",
   "metadata": {},
   "outputs": [
    {
     "data": {
      "text/plain": [
       "SelectFromModel(estimator=Lasso(alpha=0.005, random_state=7))"
      ]
     },
     "execution_count": 11,
     "metadata": {},
     "output_type": "execute_result"
    }
   ],
   "source": [
    "#Alpha = 0.005 , random_sate =7\n",
    "feature_sel_model1 = SelectFromModel(Lasso(alpha=0.005,random_state=7))\n",
    "feature_sel_model1.fit(x_train,y_train)"
   ]
  },
  {
   "cell_type": "code",
   "execution_count": 12,
   "id": "409964e9",
   "metadata": {},
   "outputs": [
    {
     "data": {
      "text/plain": [
       "array([False, False, False,  True,  True, False, False,  True, False,\n",
       "        True,  True,  True, False, False, False])"
      ]
     },
     "execution_count": 12,
     "metadata": {},
     "output_type": "execute_result"
    }
   ],
   "source": [
    "feature_sel_model1.get_support()"
   ]
  },
  {
   "cell_type": "code",
   "execution_count": 13,
   "id": "fcabc828",
   "metadata": {},
   "outputs": [
    {
     "name": "stdout",
     "output_type": "stream",
     "text": [
      "total number of features : 15\n",
      "total number of selected features : 6\n"
     ]
    }
   ],
   "source": [
    " selected_features = x_train.columns[feature_sel_model1.get_support()]\n",
    "\n",
    "print('total number of features : {}'.format(x_train.shape[1]))\n",
    "print('total number of selected features : {}'.format(len(selected_features)))"
   ]
  },
  {
   "cell_type": "code",
   "execution_count": null,
   "id": "ea785642",
   "metadata": {},
   "outputs": [],
   "source": []
  },
  {
   "cell_type": "code",
   "execution_count": 14,
   "id": "99c626a5",
   "metadata": {},
   "outputs": [
    {
     "data": {
      "text/html": [
       "<div>\n",
       "<style scoped>\n",
       "    .dataframe tbody tr th:only-of-type {\n",
       "        vertical-align: middle;\n",
       "    }\n",
       "\n",
       "    .dataframe tbody tr th {\n",
       "        vertical-align: top;\n",
       "    }\n",
       "\n",
       "    .dataframe thead th {\n",
       "        text-align: right;\n",
       "    }\n",
       "</style>\n",
       "<table border=\"1\" class=\"dataframe\">\n",
       "  <thead>\n",
       "    <tr style=\"text-align: right;\">\n",
       "      <th></th>\n",
       "      <th>creddebt</th>\n",
       "      <th>othdebt</th>\n",
       "      <th>carvalue</th>\n",
       "      <th>jobsat</th>\n",
       "      <th>homeown</th>\n",
       "      <th>edcat2</th>\n",
       "    </tr>\n",
       "  </thead>\n",
       "  <tbody>\n",
       "    <tr>\n",
       "      <th>0</th>\n",
       "      <td>0.717623</td>\n",
       "      <td>0.532861</td>\n",
       "      <td>0.620105</td>\n",
       "      <td>2</td>\n",
       "      <td>1</td>\n",
       "      <td>0</td>\n",
       "    </tr>\n",
       "    <tr>\n",
       "      <th>1</th>\n",
       "      <td>0.632413</td>\n",
       "      <td>0.617074</td>\n",
       "      <td>0.594209</td>\n",
       "      <td>2</td>\n",
       "      <td>1</td>\n",
       "      <td>0</td>\n",
       "    </tr>\n",
       "    <tr>\n",
       "      <th>2</th>\n",
       "      <td>0.566571</td>\n",
       "      <td>0.457758</td>\n",
       "      <td>0.391828</td>\n",
       "      <td>4</td>\n",
       "      <td>0</td>\n",
       "      <td>0</td>\n",
       "    </tr>\n",
       "    <tr>\n",
       "      <th>3</th>\n",
       "      <td>0.436658</td>\n",
       "      <td>0.384711</td>\n",
       "      <td>0.220521</td>\n",
       "      <td>3</td>\n",
       "      <td>1</td>\n",
       "      <td>0</td>\n",
       "    </tr>\n",
       "    <tr>\n",
       "      <th>4</th>\n",
       "      <td>0.583321</td>\n",
       "      <td>0.594880</td>\n",
       "      <td>0.525272</td>\n",
       "      <td>2</td>\n",
       "      <td>1</td>\n",
       "      <td>0</td>\n",
       "    </tr>\n",
       "  </tbody>\n",
       "</table>\n",
       "</div>"
      ],
      "text/plain": [
       "   creddebt   othdebt  carvalue  jobsat  homeown  edcat2\n",
       "0  0.717623  0.532861  0.620105       2        1       0\n",
       "1  0.632413  0.617074  0.594209       2        1       0\n",
       "2  0.566571  0.457758  0.391828       4        0       0\n",
       "3  0.436658  0.384711  0.220521       3        1       0\n",
       "4  0.583321  0.594880  0.525272       2        1       0"
      ]
     },
     "execution_count": 14,
     "metadata": {},
     "output_type": "execute_result"
    }
   ],
   "source": [
    "x_train_1=x_train[selected_features].head()\n",
    "x_train_1"
   ]
  },
  {
   "cell_type": "markdown",
   "id": "99c5f281",
   "metadata": {},
   "source": [
    "### Final Selected features for the Model are \n",
    "    1. creddebt\n",
    "    2. othdebt\n",
    "    3. carvalue\n",
    "    4. jobsat\n",
    "    5. homeown\n",
    "    6. edcat2"
   ]
  },
  {
   "cell_type": "code",
   "execution_count": 15,
   "id": "b2edd105",
   "metadata": {},
   "outputs": [
    {
     "data": {
      "text/plain": [
       "Index(['age', 'yrsed', 'yrsempl', 'creddebt', 'othdebt', 'address', 'cars',\n",
       "       'carvalue', 'default', 'jobsat', 'homeown', 'edcat2', 'edcat3',\n",
       "       'edcat4', 'edcat5'],\n",
       "      dtype='object')"
      ]
     },
     "execution_count": 15,
     "metadata": {},
     "output_type": "execute_result"
    }
   ],
   "source": [
    "x_train.columns"
   ]
  },
  {
   "cell_type": "code",
   "execution_count": 16,
   "id": "c736cc12",
   "metadata": {},
   "outputs": [
    {
     "data": {
      "image/png": "[encoded data removed]",
      "text/plain": [
       "<Figure size 432x288 with 1 Axes>"
      ]
     },
     "metadata": {
      "needs_background": "light"
     },
     "output_type": "display_data"
    }
   ],
   "source": [
    "x_train.boxplot(column='creddebt')\n",
    "plt.ylabel('creddebt')\n",
    "plt.title('creddebt')\n",
    "plt.show()\n",
    "        "
   ]
  },
  {
   "cell_type": "code",
   "execution_count": 17,
   "id": "19a51555",
   "metadata": {},
   "outputs": [
    {
     "data": {
      "text/html": [
       "<div>\n",
       "<style scoped>\n",
       "    .dataframe tbody tr th:only-of-type {\n",
       "        vertical-align: middle;\n",
       "    }\n",
       "\n",
       "    .dataframe tbody tr th {\n",
       "        vertical-align: top;\n",
       "    }\n",
       "\n",
       "    .dataframe thead th {\n",
       "        text-align: right;\n",
       "    }\n",
       "</style>\n",
       "<table border=\"1\" class=\"dataframe\">\n",
       "  <thead>\n",
       "    <tr style=\"text-align: right;\">\n",
       "      <th></th>\n",
       "      <th>age</th>\n",
       "      <th>yrsed</th>\n",
       "      <th>yrsempl</th>\n",
       "      <th>creddebt</th>\n",
       "      <th>othdebt</th>\n",
       "      <th>address</th>\n",
       "      <th>cars</th>\n",
       "      <th>carvalue</th>\n",
       "      <th>default</th>\n",
       "      <th>jobsat</th>\n",
       "      <th>homeown</th>\n",
       "      <th>edcat2</th>\n",
       "      <th>edcat3</th>\n",
       "      <th>edcat4</th>\n",
       "      <th>edcat5</th>\n",
       "    </tr>\n",
       "  </thead>\n",
       "  <tbody>\n",
       "    <tr>\n",
       "      <th>0</th>\n",
       "      <td>0.114754</td>\n",
       "      <td>0.705882</td>\n",
       "      <td>0.000000</td>\n",
       "      <td>0.717623</td>\n",
       "      <td>0.532861</td>\n",
       "      <td>0.070175</td>\n",
       "      <td>0.000000</td>\n",
       "      <td>0.620105</td>\n",
       "      <td>1</td>\n",
       "      <td>2</td>\n",
       "      <td>1</td>\n",
       "      <td>0</td>\n",
       "      <td>0</td>\n",
       "      <td>1</td>\n",
       "      <td>0</td>\n",
       "    </tr>\n",
       "    <tr>\n",
       "      <th>1</th>\n",
       "      <td>0.262295</td>\n",
       "      <td>0.764706</td>\n",
       "      <td>0.057692</td>\n",
       "      <td>0.632413</td>\n",
       "      <td>0.617074</td>\n",
       "      <td>0.140351</td>\n",
       "      <td>0.000000</td>\n",
       "      <td>0.594209</td>\n",
       "      <td>1</td>\n",
       "      <td>2</td>\n",
       "      <td>1</td>\n",
       "      <td>0</td>\n",
       "      <td>0</td>\n",
       "      <td>1</td>\n",
       "      <td>0</td>\n",
       "    </tr>\n",
       "    <tr>\n",
       "      <th>2</th>\n",
       "      <td>0.770492</td>\n",
       "      <td>0.647059</td>\n",
       "      <td>0.442308</td>\n",
       "      <td>0.566571</td>\n",
       "      <td>0.457758</td>\n",
       "      <td>0.210526</td>\n",
       "      <td>0.166667</td>\n",
       "      <td>0.391828</td>\n",
       "      <td>0</td>\n",
       "      <td>4</td>\n",
       "      <td>0</td>\n",
       "      <td>0</td>\n",
       "      <td>0</td>\n",
       "      <td>1</td>\n",
       "      <td>0</td>\n",
       "    </tr>\n",
       "    <tr>\n",
       "      <th>3</th>\n",
       "      <td>0.180328</td>\n",
       "      <td>0.647059</td>\n",
       "      <td>0.057692</td>\n",
       "      <td>0.436658</td>\n",
       "      <td>0.384711</td>\n",
       "      <td>0.105263</td>\n",
       "      <td>0.000000</td>\n",
       "      <td>0.220521</td>\n",
       "      <td>0</td>\n",
       "      <td>3</td>\n",
       "      <td>1</td>\n",
       "      <td>0</td>\n",
       "      <td>0</td>\n",
       "      <td>1</td>\n",
       "      <td>0</td>\n",
       "    </tr>\n",
       "    <tr>\n",
       "      <th>4</th>\n",
       "      <td>0.295082</td>\n",
       "      <td>0.529412</td>\n",
       "      <td>0.038462</td>\n",
       "      <td>0.583321</td>\n",
       "      <td>0.594880</td>\n",
       "      <td>0.263158</td>\n",
       "      <td>0.333333</td>\n",
       "      <td>0.525272</td>\n",
       "      <td>1</td>\n",
       "      <td>2</td>\n",
       "      <td>1</td>\n",
       "      <td>0</td>\n",
       "      <td>1</td>\n",
       "      <td>0</td>\n",
       "      <td>0</td>\n",
       "    </tr>\n",
       "    <tr>\n",
       "      <th>...</th>\n",
       "      <td>...</td>\n",
       "      <td>...</td>\n",
       "      <td>...</td>\n",
       "      <td>...</td>\n",
       "      <td>...</td>\n",
       "      <td>...</td>\n",
       "      <td>...</td>\n",
       "      <td>...</td>\n",
       "      <td>...</td>\n",
       "      <td>...</td>\n",
       "      <td>...</td>\n",
       "      <td>...</td>\n",
       "      <td>...</td>\n",
       "      <td>...</td>\n",
       "      <td>...</td>\n",
       "    </tr>\n",
       "    <tr>\n",
       "      <th>2919</th>\n",
       "      <td>0.721311</td>\n",
       "      <td>0.117647</td>\n",
       "      <td>0.346154</td>\n",
       "      <td>0.536394</td>\n",
       "      <td>0.484889</td>\n",
       "      <td>0.438596</td>\n",
       "      <td>0.000000</td>\n",
       "      <td>0.668112</td>\n",
       "      <td>0</td>\n",
       "      <td>3</td>\n",
       "      <td>1</td>\n",
       "      <td>0</td>\n",
       "      <td>0</td>\n",
       "      <td>0</td>\n",
       "      <td>0</td>\n",
       "    </tr>\n",
       "    <tr>\n",
       "      <th>2920</th>\n",
       "      <td>0.475410</td>\n",
       "      <td>0.647059</td>\n",
       "      <td>0.076923</td>\n",
       "      <td>0.492312</td>\n",
       "      <td>0.648344</td>\n",
       "      <td>0.315789</td>\n",
       "      <td>0.000000</td>\n",
       "      <td>0.881941</td>\n",
       "      <td>0</td>\n",
       "      <td>3</td>\n",
       "      <td>1</td>\n",
       "      <td>0</td>\n",
       "      <td>0</td>\n",
       "      <td>1</td>\n",
       "      <td>0</td>\n",
       "    </tr>\n",
       "    <tr>\n",
       "      <th>2921</th>\n",
       "      <td>0.737705</td>\n",
       "      <td>0.764706</td>\n",
       "      <td>0.346154</td>\n",
       "      <td>0.458285</td>\n",
       "      <td>0.414584</td>\n",
       "      <td>0.315789</td>\n",
       "      <td>0.333333</td>\n",
       "      <td>0.275944</td>\n",
       "      <td>0</td>\n",
       "      <td>3</td>\n",
       "      <td>0</td>\n",
       "      <td>0</td>\n",
       "      <td>0</td>\n",
       "      <td>1</td>\n",
       "      <td>0</td>\n",
       "    </tr>\n",
       "    <tr>\n",
       "      <th>2922</th>\n",
       "      <td>0.114754</td>\n",
       "      <td>0.352941</td>\n",
       "      <td>0.076923</td>\n",
       "      <td>0.435174</td>\n",
       "      <td>0.390313</td>\n",
       "      <td>0.052632</td>\n",
       "      <td>0.333333</td>\n",
       "      <td>0.422125</td>\n",
       "      <td>1</td>\n",
       "      <td>4</td>\n",
       "      <td>0</td>\n",
       "      <td>1</td>\n",
       "      <td>0</td>\n",
       "      <td>0</td>\n",
       "      <td>0</td>\n",
       "    </tr>\n",
       "    <tr>\n",
       "      <th>2923</th>\n",
       "      <td>0.655738</td>\n",
       "      <td>0.529412</td>\n",
       "      <td>0.076923</td>\n",
       "      <td>0.592692</td>\n",
       "      <td>0.408487</td>\n",
       "      <td>0.368421</td>\n",
       "      <td>0.166667</td>\n",
       "      <td>0.573627</td>\n",
       "      <td>0</td>\n",
       "      <td>1</td>\n",
       "      <td>0</td>\n",
       "      <td>0</td>\n",
       "      <td>1</td>\n",
       "      <td>0</td>\n",
       "      <td>0</td>\n",
       "    </tr>\n",
       "  </tbody>\n",
       "</table>\n",
       "<p>2924 rows × 15 columns</p>\n",
       "</div>"
      ],
      "text/plain": [
       "           age     yrsed   yrsempl  creddebt   othdebt   address      cars  \\\n",
       "0     0.114754  0.705882  0.000000  0.717623  0.532861  0.070175  0.000000   \n",
       "1     0.262295  0.764706  0.057692  0.632413  0.617074  0.140351  0.000000   \n",
       "2     0.770492  0.647059  0.442308  0.566571  0.457758  0.210526  0.166667   \n",
       "3     0.180328  0.647059  0.057692  0.436658  0.384711  0.105263  0.000000   \n",
       "4     0.295082  0.529412  0.038462  0.583321  0.594880  0.263158  0.333333   \n",
       "...        ...       ...       ...       ...       ...       ...       ...   \n",
       "2919  0.721311  0.117647  0.346154  0.536394  0.484889  0.438596  0.000000   \n",
       "2920  0.475410  0.647059  0.076923  0.492312  0.648344  0.315789  0.000000   \n",
       "2921  0.737705  0.764706  0.346154  0.458285  0.414584  0.315789  0.333333   \n",
       "2922  0.114754  0.352941  0.076923  0.435174  0.390313  0.052632  0.333333   \n",
       "2923  0.655738  0.529412  0.076923  0.592692  0.408487  0.368421  0.166667   \n",
       "\n",
       "      carvalue  default  jobsat  homeown  edcat2  edcat3  edcat4  edcat5  \n",
       "0     0.620105        1       2        1       0       0       1       0  \n",
       "1     0.594209        1       2        1       0       0       1       0  \n",
       "2     0.391828        0       4        0       0       0       1       0  \n",
       "3     0.220521        0       3        1       0       0       1       0  \n",
       "4     0.525272        1       2        1       0       1       0       0  \n",
       "...        ...      ...     ...      ...     ...     ...     ...     ...  \n",
       "2919  0.668112        0       3        1       0       0       0       0  \n",
       "2920  0.881941        0       3        1       0       0       1       0  \n",
       "2921  0.275944        0       3        0       0       0       1       0  \n",
       "2922  0.422125        1       4        0       1       0       0       0  \n",
       "2923  0.573627        0       1        0       0       1       0       0  \n",
       "\n",
       "[2924 rows x 15 columns]"
      ]
     },
     "execution_count": 17,
     "metadata": {},
     "output_type": "execute_result"
    }
   ],
   "source": [
    "x_train"
   ]
  },
  {
   "cell_type": "code",
   "execution_count": 18,
   "id": "8843b950",
   "metadata": {},
   "outputs": [
    {
     "data": {
      "image/png": "[encoded data removed]",
      "text/plain": [
       "<Figure size 432x288 with 1 Axes>"
      ]
     },
     "metadata": {
      "needs_background": "light"
     },
     "output_type": "display_data"
    }
   ],
   "source": [
    "x_train['carvalue'].hist(bins=25)\n",
    "plt.xlabel('carvalue')\n",
    "plt.ylabel('count')\n",
    "plt.title('carvalue')\n",
    "plt.show()"
   ]
  },
  {
   "cell_type": "code",
   "execution_count": 19,
   "id": "6657b880",
   "metadata": {},
   "outputs": [
    {
     "data": {
      "image/png": "[encoded data removed]",
      "text/plain": [
       "<Figure size 432x288 with 1 Axes>"
      ]
     },
     "metadata": {
      "needs_background": "light"
     },
     "output_type": "display_data"
    }
   ],
   "source": [
    "x_train['creddebt'].hist(bins=25)\n",
    "plt.xlabel('oher debt')\n",
    "plt.ylabel('count')\n",
    "plt.title('creddebt')\n",
    "plt.show()"
   ]
  },
  {
   "cell_type": "code",
   "execution_count": null,
   "id": "41873658",
   "metadata": {},
   "outputs": [],
   "source": []
  },
  {
   "cell_type": "code",
   "execution_count": null,
   "id": "62b5edd0",
   "metadata": {},
   "outputs": [],
   "source": []
  },
  {
   "cell_type": "code",
   "execution_count": null,
   "id": "8f20088f",
   "metadata": {},
   "outputs": [],
   "source": []
  },
  {
   "cell_type": "code",
   "execution_count": null,
   "id": "c2799e38",
   "metadata": {},
   "outputs": [],
   "source": []
  },
  {
   "cell_type": "code",
   "execution_count": null,
   "id": "ca280279",
   "metadata": {},
   "outputs": [],
   "source": []
  },
  {
   "cell_type": "code",
   "execution_count": null,
   "id": "fc2360f5",
   "metadata": {},
   "outputs": [],
   "source": [
    "\n"
   ]
  },
  {
   "cell_type": "code",
   "execution_count": null,
   "id": "79da3640",
   "metadata": {},
   "outputs": [],
   "source": []
  },
  {
   "cell_type": "code",
   "execution_count": null,
   "id": "4949a0d7",
   "metadata": {},
   "outputs": [],
   "source": []
  },
  {
   "cell_type": "code",
   "execution_count": null,
   "id": "6ec5ab2a",
   "metadata": {},
   "outputs": [],
   "source": []
  },
  {
   "cell_type": "code",
   "execution_count": null,
   "id": "07c58728",
   "metadata": {},
   "outputs": [],
   "source": []
  },
  {
   "cell_type": "code",
   "execution_count": null,
   "id": "b8a19d98",
   "metadata": {},
   "outputs": [],
   "source": []
  }
 ],
 "metadata": {
  "kernelspec": {
   "display_name": "Python 3 (ipykernel)",
   "language": "python",
   "name": "python3"
  },
  "language_info": {
   "codemirror_mode": {
    "name": "ipython",
    "version": 3
   },
   "file_extension": ".py",
   "mimetype": "text/x-python",
   "name": "python",
   "nbconvert_exporter": "python",
   "pygments_lexer": "ipython3",
   "version": "3.9.7"
  }
 },
 "nbformat": 4,
 "nbformat_minor": 5
}
