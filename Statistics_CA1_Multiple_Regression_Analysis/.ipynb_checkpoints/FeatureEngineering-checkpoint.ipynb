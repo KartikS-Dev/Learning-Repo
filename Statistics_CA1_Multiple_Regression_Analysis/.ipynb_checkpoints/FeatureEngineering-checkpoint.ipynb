{
 "cells": [
  {
   "cell_type": "markdown",
   "id": "c615da96",
   "metadata": {},
   "source": [
    "# <font size='10' color='#1ABC9C'> Feature Engineering </font>"
   ]
  },
  {
   "cell_type": "markdown",
   "id": "691e9fa9",
   "metadata": {},
   "source": [
    "1. Handling Missing Values\n",
    "2. Categorical Variables : remove rare values\n",
    "3. Standardize the values of the variables to the same range     "
   ]
  },
  {
   "cell_type": "code",
   "execution_count": 1,
   "id": "44a5e019",
   "metadata": {},
   "outputs": [],
   "source": [
    "import pandas as pd\n",
    "import numpy as np\n",
    "import matplotlib.pyplot as plt\n",
    "%matplotlib inline \n",
    "## When using the 'inline' backend, \n",
    "## your matplotlib graphs will be included in your notebook, next to the code.\n",
    "import seaborn as sns\n",
    "\n",
    "pd.pandas.set_option('display.max_columns',None)"
   ]
  },
  {
   "cell_type": "code",
   "execution_count": 2,
   "id": "7da2cf1e",
   "metadata": {},
   "outputs": [
    {
     "name": "stdout",
     "output_type": "stream",
     "text": [
      "(4508, 13)\n"
     ]
    }
   ],
   "source": [
    "dataset=pd.read_csv('IncomeData.csv')\n",
    "\n",
    "##What's the shape of data set\n",
    "print(dataset.shape)"
   ]
  },
  {
   "cell_type": "code",
   "execution_count": 3,
   "id": "df72e4cd",
   "metadata": {
    "scrolled": true
   },
   "outputs": [
    {
     "data": {
      "text/html": [
       "<div>\n",
       "<style scoped>\n",
       "    .dataframe tbody tr th:only-of-type {\n",
       "        vertical-align: middle;\n",
       "    }\n",
       "\n",
       "    .dataframe tbody tr th {\n",
       "        vertical-align: top;\n",
       "    }\n",
       "\n",
       "    .dataframe thead th {\n",
       "        text-align: right;\n",
       "    }\n",
       "</style>\n",
       "<table border=\"1\" class=\"dataframe\">\n",
       "  <thead>\n",
       "    <tr style=\"text-align: right;\">\n",
       "      <th></th>\n",
       "      <th>age</th>\n",
       "      <th>yrsed</th>\n",
       "      <th>edcat</th>\n",
       "      <th>yrsempl</th>\n",
       "      <th>income</th>\n",
       "      <th>creddebt</th>\n",
       "      <th>othdebt</th>\n",
       "      <th>default</th>\n",
       "      <th>jobsat</th>\n",
       "      <th>homeown</th>\n",
       "      <th>address</th>\n",
       "      <th>cars</th>\n",
       "      <th>carvalue</th>\n",
       "    </tr>\n",
       "  </thead>\n",
       "  <tbody>\n",
       "    <tr>\n",
       "      <th>0</th>\n",
       "      <td>45</td>\n",
       "      <td>6</td>\n",
       "      <td>1</td>\n",
       "      <td>4</td>\n",
       "      <td>17</td>\n",
       "      <td>0.371518</td>\n",
       "      <td>1.294482</td>\n",
       "      <td>0</td>\n",
       "      <td>4</td>\n",
       "      <td>1</td>\n",
       "      <td>22</td>\n",
       "      <td>1</td>\n",
       "      <td>9.1</td>\n",
       "    </tr>\n",
       "    <tr>\n",
       "      <th>1</th>\n",
       "      <td>67</td>\n",
       "      <td>6</td>\n",
       "      <td>1</td>\n",
       "      <td>15</td>\n",
       "      <td>12</td>\n",
       "      <td>0.375552</td>\n",
       "      <td>0.392448</td>\n",
       "      <td>0</td>\n",
       "      <td>3</td>\n",
       "      <td>1</td>\n",
       "      <td>28</td>\n",
       "      <td>1</td>\n",
       "      <td>5.9</td>\n",
       "    </tr>\n",
       "    <tr>\n",
       "      <th>2</th>\n",
       "      <td>68</td>\n",
       "      <td>6</td>\n",
       "      <td>1</td>\n",
       "      <td>7</td>\n",
       "      <td>9</td>\n",
       "      <td>0.200970</td>\n",
       "      <td>0.789030</td>\n",
       "      <td>0</td>\n",
       "      <td>5</td>\n",
       "      <td>0</td>\n",
       "      <td>21</td>\n",
       "      <td>1</td>\n",
       "      <td>5.8</td>\n",
       "    </tr>\n",
       "    <tr>\n",
       "      <th>3</th>\n",
       "      <td>75</td>\n",
       "      <td>6</td>\n",
       "      <td>1</td>\n",
       "      <td>35</td>\n",
       "      <td>16</td>\n",
       "      <td>0.314096</td>\n",
       "      <td>0.757904</td>\n",
       "      <td>0</td>\n",
       "      <td>4</td>\n",
       "      <td>0</td>\n",
       "      <td>11</td>\n",
       "      <td>1</td>\n",
       "      <td>5.8</td>\n",
       "    </tr>\n",
       "    <tr>\n",
       "      <th>4</th>\n",
       "      <td>38</td>\n",
       "      <td>7</td>\n",
       "      <td>1</td>\n",
       "      <td>8</td>\n",
       "      <td>37</td>\n",
       "      <td>0.143190</td>\n",
       "      <td>0.411810</td>\n",
       "      <td>0</td>\n",
       "      <td>3</td>\n",
       "      <td>0</td>\n",
       "      <td>11</td>\n",
       "      <td>1</td>\n",
       "      <td>22.1</td>\n",
       "    </tr>\n",
       "  </tbody>\n",
       "</table>\n",
       "</div>"
      ],
      "text/plain": [
       "   age  yrsed  edcat  yrsempl  income  creddebt   othdebt  default  jobsat  \\\n",
       "0   45      6      1        4      17  0.371518  1.294482        0       4   \n",
       "1   67      6      1       15      12  0.375552  0.392448        0       3   \n",
       "2   68      6      1        7       9  0.200970  0.789030        0       5   \n",
       "3   75      6      1       35      16  0.314096  0.757904        0       4   \n",
       "4   38      7      1        8      37  0.143190  0.411810        0       3   \n",
       "\n",
       "   homeown  address  cars  carvalue  \n",
       "0        1       22     1       9.1  \n",
       "1        1       28     1       5.9  \n",
       "2        0       21     1       5.8  \n",
       "3        0       11     1       5.8  \n",
       "4        0       11     1      22.1  "
      ]
     },
     "execution_count": 3,
     "metadata": {},
     "output_type": "execute_result"
    }
   ],
   "source": [
    "## What are the Top 5 records\n",
    "dataset.head()"
   ]
  },
  {
   "cell_type": "markdown",
   "id": "cb7b78e2",
   "metadata": {},
   "source": [
    "## Spliting the Dataset into Training Data and Test Data"
   ]
  },
  {
   "cell_type": "code",
   "execution_count": 4,
   "id": "c784eb3f",
   "metadata": {},
   "outputs": [],
   "source": [
    "from sklearn.model_selection import train_test_split\n",
    "X_train, X_test, y_train, y_test = train_test_split(dataset,dataset['income'], test_size = 0.3,random_state=31) \n"
   ]
  },
  {
   "cell_type": "code",
   "execution_count": 5,
   "id": "b5c4c8f1",
   "metadata": {},
   "outputs": [
    {
     "data": {
      "text/plain": [
       "((3155, 13), (1353, 13))"
      ]
     },
     "execution_count": 5,
     "metadata": {},
     "output_type": "execute_result"
    }
   ],
   "source": [
    "X_train.shape ,  X_test.shape"
   ]
  },
  {
   "cell_type": "markdown",
   "id": "2c24979f",
   "metadata": {},
   "source": [
    "## Check for Missing Values - X_train"
   ]
  },
  {
   "cell_type": "code",
   "execution_count": 6,
   "id": "94f1d25a",
   "metadata": {},
   "outputs": [
    {
     "name": "stdout",
     "output_type": "stream",
     "text": [
      "[]\n"
     ]
    }
   ],
   "source": [
    "## What percentage of Missing Values are there in the each feature\n",
    "\n",
    "## Create a List of all features with missing values\n",
    "features_miss_val=[features for features in X_train.columns if X_train[features].isnull().sum()>1] \n",
    "print(features_miss_val)"
   ]
  },
  {
   "cell_type": "markdown",
   "id": "f59d9e5f",
   "metadata": {},
   "source": [
    "no missing values in the training data set."
   ]
  },
  {
   "cell_type": "markdown",
   "id": "e43f29a1",
   "metadata": {},
   "source": [
    "## <font size = 8  color='#F1C40F'>Transforming the Skewed Distributions - X_train</font>"
   ]
  },
  {
   "cell_type": "markdown",
   "id": "6f5b6c6c",
   "metadata": {},
   "source": [
    "### For continuous numerical features\n",
    "creddebt- Continuous and Numeric Data\n",
    "\n",
    "othdebt - Continuous and Numeric Data\n",
    "\n",
    "carvalue- Continuous and Numeric Data\n",
    "\n",
    "Income - Continuous and Dependent Variable"
   ]
  },
  {
   "cell_type": "code",
   "execution_count": 7,
   "id": "90c9c010",
   "metadata": {},
   "outputs": [
    {
     "data": {
      "text/html": [
       "<div>\n",
       "<style scoped>\n",
       "    .dataframe tbody tr th:only-of-type {\n",
       "        vertical-align: middle;\n",
       "    }\n",
       "\n",
       "    .dataframe tbody tr th {\n",
       "        vertical-align: top;\n",
       "    }\n",
       "\n",
       "    .dataframe thead th {\n",
       "        text-align: right;\n",
       "    }\n",
       "</style>\n",
       "<table border=\"1\" class=\"dataframe\">\n",
       "  <thead>\n",
       "    <tr style=\"text-align: right;\">\n",
       "      <th></th>\n",
       "      <th>age</th>\n",
       "      <th>yrsed</th>\n",
       "      <th>edcat</th>\n",
       "      <th>yrsempl</th>\n",
       "      <th>income</th>\n",
       "      <th>creddebt</th>\n",
       "      <th>othdebt</th>\n",
       "      <th>default</th>\n",
       "      <th>jobsat</th>\n",
       "      <th>homeown</th>\n",
       "      <th>address</th>\n",
       "      <th>cars</th>\n",
       "      <th>carvalue</th>\n",
       "    </tr>\n",
       "  </thead>\n",
       "  <tbody>\n",
       "    <tr>\n",
       "      <th>1727</th>\n",
       "      <td>79</td>\n",
       "      <td>13</td>\n",
       "      <td>2</td>\n",
       "      <td>34</td>\n",
       "      <td>16</td>\n",
       "      <td>0.376672</td>\n",
       "      <td>0.887328</td>\n",
       "      <td>0</td>\n",
       "      <td>4</td>\n",
       "      <td>0</td>\n",
       "      <td>44</td>\n",
       "      <td>2</td>\n",
       "      <td>8.5</td>\n",
       "    </tr>\n",
       "    <tr>\n",
       "      <th>880</th>\n",
       "      <td>25</td>\n",
       "      <td>18</td>\n",
       "      <td>4</td>\n",
       "      <td>0</td>\n",
       "      <td>36</td>\n",
       "      <td>4.130604</td>\n",
       "      <td>2.313396</td>\n",
       "      <td>1</td>\n",
       "      <td>2</td>\n",
       "      <td>1</td>\n",
       "      <td>4</td>\n",
       "      <td>1</td>\n",
       "      <td>23.4</td>\n",
       "    </tr>\n",
       "    <tr>\n",
       "      <th>983</th>\n",
       "      <td>34</td>\n",
       "      <td>19</td>\n",
       "      <td>4</td>\n",
       "      <td>3</td>\n",
       "      <td>62</td>\n",
       "      <td>1.777912</td>\n",
       "      <td>4.856088</td>\n",
       "      <td>1</td>\n",
       "      <td>2</td>\n",
       "      <td>1</td>\n",
       "      <td>8</td>\n",
       "      <td>1</td>\n",
       "      <td>21.2</td>\n",
       "    </tr>\n",
       "    <tr>\n",
       "      <th>2380</th>\n",
       "      <td>65</td>\n",
       "      <td>17</td>\n",
       "      <td>4</td>\n",
       "      <td>23</td>\n",
       "      <td>21</td>\n",
       "      <td>0.926877</td>\n",
       "      <td>1.194123</td>\n",
       "      <td>0</td>\n",
       "      <td>4</td>\n",
       "      <td>0</td>\n",
       "      <td>12</td>\n",
       "      <td>2</td>\n",
       "      <td>9.8</td>\n",
       "    </tr>\n",
       "    <tr>\n",
       "      <th>788</th>\n",
       "      <td>29</td>\n",
       "      <td>17</td>\n",
       "      <td>4</td>\n",
       "      <td>3</td>\n",
       "      <td>13</td>\n",
       "      <td>0.256360</td>\n",
       "      <td>0.627640</td>\n",
       "      <td>0</td>\n",
       "      <td>3</td>\n",
       "      <td>1</td>\n",
       "      <td>6</td>\n",
       "      <td>1</td>\n",
       "      <td>5.1</td>\n",
       "    </tr>\n",
       "  </tbody>\n",
       "</table>\n",
       "</div>"
      ],
      "text/plain": [
       "      age  yrsed  edcat  yrsempl  income  creddebt   othdebt  default  jobsat  \\\n",
       "1727   79     13      2       34      16  0.376672  0.887328        0       4   \n",
       "880    25     18      4        0      36  4.130604  2.313396        1       2   \n",
       "983    34     19      4        3      62  1.777912  4.856088        1       2   \n",
       "2380   65     17      4       23      21  0.926877  1.194123        0       4   \n",
       "788    29     17      4        3      13  0.256360  0.627640        0       3   \n",
       "\n",
       "      homeown  address  cars  carvalue  \n",
       "1727        0       44     2       8.5  \n",
       "880         1        4     1      23.4  \n",
       "983         1        8     1      21.2  \n",
       "2380        0       12     2       9.8  \n",
       "788         1        6     1       5.1  "
      ]
     },
     "execution_count": 7,
     "metadata": {},
     "output_type": "execute_result"
    }
   ],
   "source": [
    "X_train.head()"
   ]
  },
  {
   "cell_type": "code",
   "execution_count": 8,
   "id": "5ba40b0b",
   "metadata": {},
   "outputs": [
    {
     "name": "stderr",
     "output_type": "stream",
     "text": [
      "C:\\Users\\offic\\AppData\\Local\\Temp/ipykernel_7300/1857831683.py:4: SettingWithCopyWarning: \n",
      "A value is trying to be set on a copy of a slice from a DataFrame.\n",
      "Try using .loc[row_indexer,col_indexer] = value instead\n",
      "\n",
      "See the caveats in the documentation: https://pandas.pydata.org/pandas-docs/stable/user_guide/indexing.html#returning-a-view-versus-a-copy\n",
      "  X_train[feature] = np.log(X_train[feature])\n"
     ]
    },
    {
     "data": {
      "text/html": [
       "<div>\n",
       "<style scoped>\n",
       "    .dataframe tbody tr th:only-of-type {\n",
       "        vertical-align: middle;\n",
       "    }\n",
       "\n",
       "    .dataframe tbody tr th {\n",
       "        vertical-align: top;\n",
       "    }\n",
       "\n",
       "    .dataframe thead th {\n",
       "        text-align: right;\n",
       "    }\n",
       "</style>\n",
       "<table border=\"1\" class=\"dataframe\">\n",
       "  <thead>\n",
       "    <tr style=\"text-align: right;\">\n",
       "      <th></th>\n",
       "      <th>age</th>\n",
       "      <th>yrsed</th>\n",
       "      <th>edcat</th>\n",
       "      <th>yrsempl</th>\n",
       "      <th>income</th>\n",
       "      <th>creddebt</th>\n",
       "      <th>othdebt</th>\n",
       "      <th>default</th>\n",
       "      <th>jobsat</th>\n",
       "      <th>homeown</th>\n",
       "      <th>address</th>\n",
       "      <th>cars</th>\n",
       "      <th>carvalue</th>\n",
       "    </tr>\n",
       "  </thead>\n",
       "  <tbody>\n",
       "    <tr>\n",
       "      <th>1727</th>\n",
       "      <td>79</td>\n",
       "      <td>13</td>\n",
       "      <td>2</td>\n",
       "      <td>34</td>\n",
       "      <td>2.772589</td>\n",
       "      <td>-0.976380</td>\n",
       "      <td>-0.119541</td>\n",
       "      <td>0</td>\n",
       "      <td>4</td>\n",
       "      <td>0</td>\n",
       "      <td>44</td>\n",
       "      <td>2</td>\n",
       "      <td>2.140066</td>\n",
       "    </tr>\n",
       "    <tr>\n",
       "      <th>880</th>\n",
       "      <td>25</td>\n",
       "      <td>18</td>\n",
       "      <td>4</td>\n",
       "      <td>0</td>\n",
       "      <td>3.583519</td>\n",
       "      <td>1.418424</td>\n",
       "      <td>0.838717</td>\n",
       "      <td>1</td>\n",
       "      <td>2</td>\n",
       "      <td>1</td>\n",
       "      <td>4</td>\n",
       "      <td>1</td>\n",
       "      <td>3.152736</td>\n",
       "    </tr>\n",
       "    <tr>\n",
       "      <th>983</th>\n",
       "      <td>34</td>\n",
       "      <td>19</td>\n",
       "      <td>4</td>\n",
       "      <td>3</td>\n",
       "      <td>4.127134</td>\n",
       "      <td>0.575440</td>\n",
       "      <td>1.580233</td>\n",
       "      <td>1</td>\n",
       "      <td>2</td>\n",
       "      <td>1</td>\n",
       "      <td>8</td>\n",
       "      <td>1</td>\n",
       "      <td>3.054001</td>\n",
       "    </tr>\n",
       "    <tr>\n",
       "      <th>2380</th>\n",
       "      <td>65</td>\n",
       "      <td>17</td>\n",
       "      <td>4</td>\n",
       "      <td>23</td>\n",
       "      <td>3.044522</td>\n",
       "      <td>-0.075934</td>\n",
       "      <td>0.177412</td>\n",
       "      <td>0</td>\n",
       "      <td>4</td>\n",
       "      <td>0</td>\n",
       "      <td>12</td>\n",
       "      <td>2</td>\n",
       "      <td>2.282382</td>\n",
       "    </tr>\n",
       "    <tr>\n",
       "      <th>788</th>\n",
       "      <td>29</td>\n",
       "      <td>17</td>\n",
       "      <td>4</td>\n",
       "      <td>3</td>\n",
       "      <td>2.564949</td>\n",
       "      <td>-1.361173</td>\n",
       "      <td>-0.465789</td>\n",
       "      <td>0</td>\n",
       "      <td>3</td>\n",
       "      <td>1</td>\n",
       "      <td>6</td>\n",
       "      <td>1</td>\n",
       "      <td>1.629241</td>\n",
       "    </tr>\n",
       "  </tbody>\n",
       "</table>\n",
       "</div>"
      ],
      "text/plain": [
       "      age  yrsed  edcat  yrsempl    income  creddebt   othdebt  default  \\\n",
       "1727   79     13      2       34  2.772589 -0.976380 -0.119541        0   \n",
       "880    25     18      4        0  3.583519  1.418424  0.838717        1   \n",
       "983    34     19      4        3  4.127134  0.575440  1.580233        1   \n",
       "2380   65     17      4       23  3.044522 -0.075934  0.177412        0   \n",
       "788    29     17      4        3  2.564949 -1.361173 -0.465789        0   \n",
       "\n",
       "      jobsat  homeown  address  cars  carvalue  \n",
       "1727       4        0       44     2  2.140066  \n",
       "880        2        1        4     1  3.152736  \n",
       "983        2        1        8     1  3.054001  \n",
       "2380       4        0       12     2  2.282382  \n",
       "788        3        1        6     1  1.629241  "
      ]
     },
     "execution_count": 8,
     "metadata": {},
     "output_type": "execute_result"
    }
   ],
   "source": [
    "num_features = ['creddebt','othdebt','carvalue','income']\n",
    "\n",
    "for feature in num_features:\n",
    "    X_train[feature] = np.log(X_train[feature])\n",
    "X_train.head()"
   ]
  },
  {
   "cell_type": "markdown",
   "id": "ff08261c",
   "metadata": {},
   "source": [
    "output after transformation"
   ]
  },
  {
   "cell_type": "markdown",
   "id": "968b889a",
   "metadata": {},
   "source": [
    "### Handling Rare Categorical Features - X_train\n",
    "we need to remove those categorical variables that tend to occur less than 1% of the observation\n",
    "\n",
    "edcat - Categorical Data\n",
    "\n",
    "default - Categorical Data\n",
    "\n",
    "jobsat - Categorical Data\n",
    "\n",
    "homeown - Categorical Data"
   ]
  },
  {
   "cell_type": "code",
   "execution_count": 9,
   "id": "b8d705fa",
   "metadata": {},
   "outputs": [
    {
     "name": "stdout",
     "output_type": "stream",
     "text": [
      "['edcat', 'default', 'jobsat', 'homeown']\n"
     ]
    }
   ],
   "source": [
    "categ_features = [feature for feature in X_train.columns if 'edcat' in feature or 'default' in feature or 'jobsat' in feature or 'homeown' in feature]\n",
    "print(categ_features)"
   ]
  },
  {
   "cell_type": "code",
   "execution_count": 10,
   "id": "765c8f6f",
   "metadata": {},
   "outputs": [
    {
     "name": "stdout",
     "output_type": "stream",
     "text": [
      "[]\n",
      "[]\n",
      "[]\n",
      "[]\n"
     ]
    },
    {
     "name": "stderr",
     "output_type": "stream",
     "text": [
      "C:\\Users\\offic\\AppData\\Local\\Temp/ipykernel_7300/3810733446.py:6: SettingWithCopyWarning: \n",
      "A value is trying to be set on a copy of a slice from a DataFrame.\n",
      "Try using .loc[row_indexer,col_indexer] = value instead\n",
      "\n",
      "See the caveats in the documentation: https://pandas.pydata.org/pandas-docs/stable/user_guide/indexing.html#returning-a-view-versus-a-copy\n",
      "  X_train[feature]= np.where(X_train[feature].isin(temp_df),X_train[feature],'Rare_Var')\n"
     ]
    }
   ],
   "source": [
    "# finding the rarity of variable in categorcal feature\n",
    "\n",
    "for feature in categ_features:\n",
    "    percent_rarity=X_train.groupby(feature)['income'].count()/len(X_train)\n",
    "    temp_df=percent_rarity[percent_rarity>0.01].index\n",
    "    X_train[feature]= np.where(X_train[feature].isin(temp_df),X_train[feature],'Rare_Var')\n",
    "\n",
    "X_train.head(300)\n",
    "\n",
    "rare_value_edcat = [value for value in X_train['edcat'].values if 'Rare_Var' in value]\n",
    "print(rare_value_edcat)\n",
    "\n",
    "\n",
    "rare_value_default = [value for value in X_train['default'].values if 'Rare_Var' in value]\n",
    "print(rare_value_default)\n",
    "\n",
    "\n",
    "rare_value_jobsat = [value for value in X_train['jobsat'].values if 'Rare_Var' in value]\n",
    "print(rare_value_jobsat)\n",
    "\n",
    "\n",
    "rare_value_homeown = [value for value in X_train['homeown'].values if 'Rare_Var' in value]\n",
    "print(rare_value_homeown)\n"
   ]
  },
  {
   "cell_type": "markdown",
   "id": "ffb0430a",
   "metadata": {},
   "source": [
    "It seems we don't have any rare value in the training dataset"
   ]
  },
  {
   "cell_type": "markdown",
   "id": "a3803ec1",
   "metadata": {},
   "source": [
    "### Feature Scaling - X-Train\n",
    "We need to do feature scaling because we have different feature measured with different units \n",
    "hence its good to do scaling before proceeding to apply machine learnign Algorithm.\n",
    "#### Helps in applying M.L. Algo in a better way\n",
    "###### Remember scaling is not applied on the Dependent Variable (income) and categorical Variables"
   ]
  },
  {
   "cell_type": "code",
   "execution_count": 11,
   "id": "17e549cf",
   "metadata": {},
   "outputs": [
    {
     "name": "stdout",
     "output_type": "stream",
     "text": [
      "['age', 'yrsed', 'yrsempl', 'creddebt', 'othdebt', 'address', 'cars', 'carvalue']\n"
     ]
    },
    {
     "data": {
      "text/plain": [
       "MinMaxScaler()"
      ]
     },
     "execution_count": 11,
     "metadata": {},
     "output_type": "execute_result"
    }
   ],
   "source": [
    "X_train_copy = X_train.copy()\n",
    "scale_feature = [feature for feature in X_train.columns if feature not in ['income'] and feature not in categ_features]\n",
    "print(scale_feature)\n",
    "from sklearn.preprocessing import MinMaxScaler\n",
    "scaler=MinMaxScaler()\n",
    "scaler.fit(X_train[scale_feature])"
   ]
  },
  {
   "cell_type": "code",
   "execution_count": 12,
   "id": "28f4b4e7",
   "metadata": {},
   "outputs": [
    {
     "data": {
      "text/html": [
       "<div>\n",
       "<style scoped>\n",
       "    .dataframe tbody tr th:only-of-type {\n",
       "        vertical-align: middle;\n",
       "    }\n",
       "\n",
       "    .dataframe tbody tr th {\n",
       "        vertical-align: top;\n",
       "    }\n",
       "\n",
       "    .dataframe thead th {\n",
       "        text-align: right;\n",
       "    }\n",
       "</style>\n",
       "<table border=\"1\" class=\"dataframe\">\n",
       "  <thead>\n",
       "    <tr style=\"text-align: right;\">\n",
       "      <th></th>\n",
       "      <th>age</th>\n",
       "      <th>yrsed</th>\n",
       "      <th>edcat</th>\n",
       "      <th>yrsempl</th>\n",
       "      <th>income</th>\n",
       "      <th>creddebt</th>\n",
       "      <th>othdebt</th>\n",
       "      <th>default</th>\n",
       "      <th>jobsat</th>\n",
       "      <th>homeown</th>\n",
       "      <th>address</th>\n",
       "      <th>cars</th>\n",
       "      <th>carvalue</th>\n",
       "    </tr>\n",
       "  </thead>\n",
       "  <tbody>\n",
       "    <tr>\n",
       "      <th>1727</th>\n",
       "      <td>79</td>\n",
       "      <td>13</td>\n",
       "      <td>2</td>\n",
       "      <td>34</td>\n",
       "      <td>2.772589</td>\n",
       "      <td>-0.976380</td>\n",
       "      <td>-0.119541</td>\n",
       "      <td>0</td>\n",
       "      <td>4</td>\n",
       "      <td>0</td>\n",
       "      <td>44</td>\n",
       "      <td>2</td>\n",
       "      <td>2.140066</td>\n",
       "    </tr>\n",
       "    <tr>\n",
       "      <th>880</th>\n",
       "      <td>25</td>\n",
       "      <td>18</td>\n",
       "      <td>4</td>\n",
       "      <td>0</td>\n",
       "      <td>3.583519</td>\n",
       "      <td>1.418424</td>\n",
       "      <td>0.838717</td>\n",
       "      <td>1</td>\n",
       "      <td>2</td>\n",
       "      <td>1</td>\n",
       "      <td>4</td>\n",
       "      <td>1</td>\n",
       "      <td>3.152736</td>\n",
       "    </tr>\n",
       "    <tr>\n",
       "      <th>983</th>\n",
       "      <td>34</td>\n",
       "      <td>19</td>\n",
       "      <td>4</td>\n",
       "      <td>3</td>\n",
       "      <td>4.127134</td>\n",
       "      <td>0.575440</td>\n",
       "      <td>1.580233</td>\n",
       "      <td>1</td>\n",
       "      <td>2</td>\n",
       "      <td>1</td>\n",
       "      <td>8</td>\n",
       "      <td>1</td>\n",
       "      <td>3.054001</td>\n",
       "    </tr>\n",
       "    <tr>\n",
       "      <th>2380</th>\n",
       "      <td>65</td>\n",
       "      <td>17</td>\n",
       "      <td>4</td>\n",
       "      <td>23</td>\n",
       "      <td>3.044522</td>\n",
       "      <td>-0.075934</td>\n",
       "      <td>0.177412</td>\n",
       "      <td>0</td>\n",
       "      <td>4</td>\n",
       "      <td>0</td>\n",
       "      <td>12</td>\n",
       "      <td>2</td>\n",
       "      <td>2.282382</td>\n",
       "    </tr>\n",
       "    <tr>\n",
       "      <th>788</th>\n",
       "      <td>29</td>\n",
       "      <td>17</td>\n",
       "      <td>4</td>\n",
       "      <td>3</td>\n",
       "      <td>2.564949</td>\n",
       "      <td>-1.361173</td>\n",
       "      <td>-0.465789</td>\n",
       "      <td>0</td>\n",
       "      <td>3</td>\n",
       "      <td>1</td>\n",
       "      <td>6</td>\n",
       "      <td>1</td>\n",
       "      <td>1.629241</td>\n",
       "    </tr>\n",
       "  </tbody>\n",
       "</table>\n",
       "</div>"
      ],
      "text/plain": [
       "      age  yrsed edcat  yrsempl    income  creddebt   othdebt default jobsat  \\\n",
       "1727   79     13     2       34  2.772589 -0.976380 -0.119541       0      4   \n",
       "880    25     18     4        0  3.583519  1.418424  0.838717       1      2   \n",
       "983    34     19     4        3  4.127134  0.575440  1.580233       1      2   \n",
       "2380   65     17     4       23  3.044522 -0.075934  0.177412       0      4   \n",
       "788    29     17     4        3  2.564949 -1.361173 -0.465789       0      3   \n",
       "\n",
       "     homeown  address  cars  carvalue  \n",
       "1727       0       44     2  2.140066  \n",
       "880        1        4     1  3.152736  \n",
       "983        1        8     1  3.054001  \n",
       "2380       0       12     2  2.282382  \n",
       "788        1        6     1  1.629241  "
      ]
     },
     "execution_count": 12,
     "metadata": {},
     "output_type": "execute_result"
    }
   ],
   "source": [
    "X_train_copy.head()"
   ]
  },
  {
   "cell_type": "code",
   "execution_count": 13,
   "id": "d6e0348f",
   "metadata": {},
   "outputs": [],
   "source": [
    "##  we again put all columns together after performing the scaling on Descrete Numeric Variables we get a  datset of income and all scaled descrete numerical variables. \n",
    "X_train = pd.concat([X_train['income'].reset_index(drop=True),pd.DataFrame(scaler.transform(X_train[scale_feature]),columns=scale_feature)],axis=1)"
   ]
  },
  {
   "cell_type": "code",
   "execution_count": 14,
   "id": "6cbf2e4a",
   "metadata": {},
   "outputs": [
    {
     "data": {
      "text/html": [
       "<div>\n",
       "<style scoped>\n",
       "    .dataframe tbody tr th:only-of-type {\n",
       "        vertical-align: middle;\n",
       "    }\n",
       "\n",
       "    .dataframe tbody tr th {\n",
       "        vertical-align: top;\n",
       "    }\n",
       "\n",
       "    .dataframe thead th {\n",
       "        text-align: right;\n",
       "    }\n",
       "</style>\n",
       "<table border=\"1\" class=\"dataframe\">\n",
       "  <thead>\n",
       "    <tr style=\"text-align: right;\">\n",
       "      <th></th>\n",
       "      <th>income</th>\n",
       "      <th>age</th>\n",
       "      <th>yrsed</th>\n",
       "      <th>yrsempl</th>\n",
       "      <th>creddebt</th>\n",
       "      <th>othdebt</th>\n",
       "      <th>address</th>\n",
       "      <th>cars</th>\n",
       "      <th>carvalue</th>\n",
       "    </tr>\n",
       "  </thead>\n",
       "  <tbody>\n",
       "    <tr>\n",
       "      <th>0</th>\n",
       "      <td>2.772589</td>\n",
       "      <td>1.000000</td>\n",
       "      <td>0.411765</td>\n",
       "      <td>0.653846</td>\n",
       "      <td>0.475553</td>\n",
       "      <td>0.424034</td>\n",
       "      <td>0.771930</td>\n",
       "      <td>0.166667</td>\n",
       "      <td>0.354501</td>\n",
       "    </tr>\n",
       "    <tr>\n",
       "      <th>1</th>\n",
       "      <td>3.583519</td>\n",
       "      <td>0.114754</td>\n",
       "      <td>0.705882</td>\n",
       "      <td>0.000000</td>\n",
       "      <td>0.717623</td>\n",
       "      <td>0.532861</td>\n",
       "      <td>0.070175</td>\n",
       "      <td>0.000000</td>\n",
       "      <td>0.620105</td>\n",
       "    </tr>\n",
       "    <tr>\n",
       "      <th>2</th>\n",
       "      <td>4.127134</td>\n",
       "      <td>0.262295</td>\n",
       "      <td>0.764706</td>\n",
       "      <td>0.057692</td>\n",
       "      <td>0.632413</td>\n",
       "      <td>0.617074</td>\n",
       "      <td>0.140351</td>\n",
       "      <td>0.000000</td>\n",
       "      <td>0.594209</td>\n",
       "    </tr>\n",
       "    <tr>\n",
       "      <th>3</th>\n",
       "      <td>3.044522</td>\n",
       "      <td>0.770492</td>\n",
       "      <td>0.647059</td>\n",
       "      <td>0.442308</td>\n",
       "      <td>0.566571</td>\n",
       "      <td>0.457758</td>\n",
       "      <td>0.210526</td>\n",
       "      <td>0.166667</td>\n",
       "      <td>0.391828</td>\n",
       "    </tr>\n",
       "    <tr>\n",
       "      <th>4</th>\n",
       "      <td>2.564949</td>\n",
       "      <td>0.180328</td>\n",
       "      <td>0.647059</td>\n",
       "      <td>0.057692</td>\n",
       "      <td>0.436658</td>\n",
       "      <td>0.384711</td>\n",
       "      <td>0.105263</td>\n",
       "      <td>0.000000</td>\n",
       "      <td>0.220521</td>\n",
       "    </tr>\n",
       "  </tbody>\n",
       "</table>\n",
       "</div>"
      ],
      "text/plain": [
       "     income       age     yrsed   yrsempl  creddebt   othdebt   address  \\\n",
       "0  2.772589  1.000000  0.411765  0.653846  0.475553  0.424034  0.771930   \n",
       "1  3.583519  0.114754  0.705882  0.000000  0.717623  0.532861  0.070175   \n",
       "2  4.127134  0.262295  0.764706  0.057692  0.632413  0.617074  0.140351   \n",
       "3  3.044522  0.770492  0.647059  0.442308  0.566571  0.457758  0.210526   \n",
       "4  2.564949  0.180328  0.647059  0.057692  0.436658  0.384711  0.105263   \n",
       "\n",
       "       cars  carvalue  \n",
       "0  0.166667  0.354501  \n",
       "1  0.000000  0.620105  \n",
       "2  0.000000  0.594209  \n",
       "3  0.166667  0.391828  \n",
       "4  0.000000  0.220521  "
      ]
     },
     "execution_count": 14,
     "metadata": {},
     "output_type": "execute_result"
    }
   ],
   "source": [
    "X_train.head()\n",
    "\n"
   ]
  },
  {
   "cell_type": "code",
   "execution_count": 15,
   "id": "43477f41",
   "metadata": {},
   "outputs": [
    {
     "data": {
      "text/html": [
       "<div>\n",
       "<style scoped>\n",
       "    .dataframe tbody tr th:only-of-type {\n",
       "        vertical-align: middle;\n",
       "    }\n",
       "\n",
       "    .dataframe tbody tr th {\n",
       "        vertical-align: top;\n",
       "    }\n",
       "\n",
       "    .dataframe thead th {\n",
       "        text-align: right;\n",
       "    }\n",
       "</style>\n",
       "<table border=\"1\" class=\"dataframe\">\n",
       "  <thead>\n",
       "    <tr style=\"text-align: right;\">\n",
       "      <th></th>\n",
       "      <th>age</th>\n",
       "      <th>yrsed</th>\n",
       "      <th>edcat</th>\n",
       "      <th>yrsempl</th>\n",
       "      <th>income</th>\n",
       "      <th>creddebt</th>\n",
       "      <th>othdebt</th>\n",
       "      <th>default</th>\n",
       "      <th>jobsat</th>\n",
       "      <th>homeown</th>\n",
       "      <th>address</th>\n",
       "      <th>cars</th>\n",
       "      <th>carvalue</th>\n",
       "    </tr>\n",
       "  </thead>\n",
       "  <tbody>\n",
       "    <tr>\n",
       "      <th>1727</th>\n",
       "      <td>79</td>\n",
       "      <td>13</td>\n",
       "      <td>2</td>\n",
       "      <td>34</td>\n",
       "      <td>2.772589</td>\n",
       "      <td>-0.976380</td>\n",
       "      <td>-0.119541</td>\n",
       "      <td>0</td>\n",
       "      <td>4</td>\n",
       "      <td>0</td>\n",
       "      <td>44</td>\n",
       "      <td>2</td>\n",
       "      <td>2.140066</td>\n",
       "    </tr>\n",
       "    <tr>\n",
       "      <th>880</th>\n",
       "      <td>25</td>\n",
       "      <td>18</td>\n",
       "      <td>4</td>\n",
       "      <td>0</td>\n",
       "      <td>3.583519</td>\n",
       "      <td>1.418424</td>\n",
       "      <td>0.838717</td>\n",
       "      <td>1</td>\n",
       "      <td>2</td>\n",
       "      <td>1</td>\n",
       "      <td>4</td>\n",
       "      <td>1</td>\n",
       "      <td>3.152736</td>\n",
       "    </tr>\n",
       "    <tr>\n",
       "      <th>983</th>\n",
       "      <td>34</td>\n",
       "      <td>19</td>\n",
       "      <td>4</td>\n",
       "      <td>3</td>\n",
       "      <td>4.127134</td>\n",
       "      <td>0.575440</td>\n",
       "      <td>1.580233</td>\n",
       "      <td>1</td>\n",
       "      <td>2</td>\n",
       "      <td>1</td>\n",
       "      <td>8</td>\n",
       "      <td>1</td>\n",
       "      <td>3.054001</td>\n",
       "    </tr>\n",
       "    <tr>\n",
       "      <th>2380</th>\n",
       "      <td>65</td>\n",
       "      <td>17</td>\n",
       "      <td>4</td>\n",
       "      <td>23</td>\n",
       "      <td>3.044522</td>\n",
       "      <td>-0.075934</td>\n",
       "      <td>0.177412</td>\n",
       "      <td>0</td>\n",
       "      <td>4</td>\n",
       "      <td>0</td>\n",
       "      <td>12</td>\n",
       "      <td>2</td>\n",
       "      <td>2.282382</td>\n",
       "    </tr>\n",
       "    <tr>\n",
       "      <th>788</th>\n",
       "      <td>29</td>\n",
       "      <td>17</td>\n",
       "      <td>4</td>\n",
       "      <td>3</td>\n",
       "      <td>2.564949</td>\n",
       "      <td>-1.361173</td>\n",
       "      <td>-0.465789</td>\n",
       "      <td>0</td>\n",
       "      <td>3</td>\n",
       "      <td>1</td>\n",
       "      <td>6</td>\n",
       "      <td>1</td>\n",
       "      <td>1.629241</td>\n",
       "    </tr>\n",
       "  </tbody>\n",
       "</table>\n",
       "</div>"
      ],
      "text/plain": [
       "      age  yrsed edcat  yrsempl    income  creddebt   othdebt default jobsat  \\\n",
       "1727   79     13     2       34  2.772589 -0.976380 -0.119541       0      4   \n",
       "880    25     18     4        0  3.583519  1.418424  0.838717       1      2   \n",
       "983    34     19     4        3  4.127134  0.575440  1.580233       1      2   \n",
       "2380   65     17     4       23  3.044522 -0.075934  0.177412       0      4   \n",
       "788    29     17     4        3  2.564949 -1.361173 -0.465789       0      3   \n",
       "\n",
       "     homeown  address  cars  carvalue  \n",
       "1727       0       44     2  2.140066  \n",
       "880        1        4     1  3.152736  \n",
       "983        1        8     1  3.054001  \n",
       "2380       0       12     2  2.282382  \n",
       "788        1        6     1  1.629241  "
      ]
     },
     "execution_count": 15,
     "metadata": {},
     "output_type": "execute_result"
    }
   ],
   "source": [
    "X_train_copy.head()"
   ]
  },
  {
   "cell_type": "markdown",
   "id": "4c86f52d",
   "metadata": {},
   "source": [
    "###### we again put all columns together after performing the scaling on Descrete Numeric Variables we get a  datset variables."
   ]
  },
  {
   "cell_type": "code",
   "execution_count": 16,
   "id": "8fcf1e6b",
   "metadata": {},
   "outputs": [],
   "source": [
    "X_train.reset_index(drop=True, inplace=True)\n",
    "X_train_copy.reset_index(drop=True, inplace=True)"
   ]
  },
  {
   "cell_type": "code",
   "execution_count": 17,
   "id": "c8588e6e",
   "metadata": {},
   "outputs": [
    {
     "data": {
      "text/html": [
       "<div>\n",
       "<style scoped>\n",
       "    .dataframe tbody tr th:only-of-type {\n",
       "        vertical-align: middle;\n",
       "    }\n",
       "\n",
       "    .dataframe tbody tr th {\n",
       "        vertical-align: top;\n",
       "    }\n",
       "\n",
       "    .dataframe thead th {\n",
       "        text-align: right;\n",
       "    }\n",
       "</style>\n",
       "<table border=\"1\" class=\"dataframe\">\n",
       "  <thead>\n",
       "    <tr style=\"text-align: right;\">\n",
       "      <th></th>\n",
       "      <th>income</th>\n",
       "      <th>age</th>\n",
       "      <th>yrsed</th>\n",
       "      <th>yrsempl</th>\n",
       "      <th>creddebt</th>\n",
       "      <th>othdebt</th>\n",
       "      <th>address</th>\n",
       "      <th>cars</th>\n",
       "      <th>carvalue</th>\n",
       "      <th>edcat</th>\n",
       "      <th>default</th>\n",
       "      <th>jobsat</th>\n",
       "      <th>homeown</th>\n",
       "    </tr>\n",
       "  </thead>\n",
       "  <tbody>\n",
       "    <tr>\n",
       "      <th>0</th>\n",
       "      <td>2.772589</td>\n",
       "      <td>1.000000</td>\n",
       "      <td>0.411765</td>\n",
       "      <td>0.653846</td>\n",
       "      <td>0.475553</td>\n",
       "      <td>0.424034</td>\n",
       "      <td>0.771930</td>\n",
       "      <td>0.166667</td>\n",
       "      <td>0.354501</td>\n",
       "      <td>2</td>\n",
       "      <td>0</td>\n",
       "      <td>4</td>\n",
       "      <td>0</td>\n",
       "    </tr>\n",
       "    <tr>\n",
       "      <th>1</th>\n",
       "      <td>3.583519</td>\n",
       "      <td>0.114754</td>\n",
       "      <td>0.705882</td>\n",
       "      <td>0.000000</td>\n",
       "      <td>0.717623</td>\n",
       "      <td>0.532861</td>\n",
       "      <td>0.070175</td>\n",
       "      <td>0.000000</td>\n",
       "      <td>0.620105</td>\n",
       "      <td>4</td>\n",
       "      <td>1</td>\n",
       "      <td>2</td>\n",
       "      <td>1</td>\n",
       "    </tr>\n",
       "    <tr>\n",
       "      <th>2</th>\n",
       "      <td>4.127134</td>\n",
       "      <td>0.262295</td>\n",
       "      <td>0.764706</td>\n",
       "      <td>0.057692</td>\n",
       "      <td>0.632413</td>\n",
       "      <td>0.617074</td>\n",
       "      <td>0.140351</td>\n",
       "      <td>0.000000</td>\n",
       "      <td>0.594209</td>\n",
       "      <td>4</td>\n",
       "      <td>1</td>\n",
       "      <td>2</td>\n",
       "      <td>1</td>\n",
       "    </tr>\n",
       "    <tr>\n",
       "      <th>3</th>\n",
       "      <td>3.044522</td>\n",
       "      <td>0.770492</td>\n",
       "      <td>0.647059</td>\n",
       "      <td>0.442308</td>\n",
       "      <td>0.566571</td>\n",
       "      <td>0.457758</td>\n",
       "      <td>0.210526</td>\n",
       "      <td>0.166667</td>\n",
       "      <td>0.391828</td>\n",
       "      <td>4</td>\n",
       "      <td>0</td>\n",
       "      <td>4</td>\n",
       "      <td>0</td>\n",
       "    </tr>\n",
       "    <tr>\n",
       "      <th>4</th>\n",
       "      <td>2.564949</td>\n",
       "      <td>0.180328</td>\n",
       "      <td>0.647059</td>\n",
       "      <td>0.057692</td>\n",
       "      <td>0.436658</td>\n",
       "      <td>0.384711</td>\n",
       "      <td>0.105263</td>\n",
       "      <td>0.000000</td>\n",
       "      <td>0.220521</td>\n",
       "      <td>4</td>\n",
       "      <td>0</td>\n",
       "      <td>3</td>\n",
       "      <td>1</td>\n",
       "    </tr>\n",
       "  </tbody>\n",
       "</table>\n",
       "</div>"
      ],
      "text/plain": [
       "     income       age     yrsed   yrsempl  creddebt   othdebt   address  \\\n",
       "0  2.772589  1.000000  0.411765  0.653846  0.475553  0.424034  0.771930   \n",
       "1  3.583519  0.114754  0.705882  0.000000  0.717623  0.532861  0.070175   \n",
       "2  4.127134  0.262295  0.764706  0.057692  0.632413  0.617074  0.140351   \n",
       "3  3.044522  0.770492  0.647059  0.442308  0.566571  0.457758  0.210526   \n",
       "4  2.564949  0.180328  0.647059  0.057692  0.436658  0.384711  0.105263   \n",
       "\n",
       "       cars  carvalue edcat default jobsat homeown  \n",
       "0  0.166667  0.354501     2       0      4       0  \n",
       "1  0.000000  0.620105     4       1      2       1  \n",
       "2  0.000000  0.594209     4       1      2       1  \n",
       "3  0.166667  0.391828     4       0      4       0  \n",
       "4  0.000000  0.220521     4       0      3       1  "
      ]
     },
     "execution_count": 17,
     "metadata": {},
     "output_type": "execute_result"
    }
   ],
   "source": [
    "X_train = pd.concat([X_train,X_train_copy[categ_features]],axis=1)\n",
    "#Final X_train after scaling the Descrete Numeric Varialbe ,except Dependent and Categorical Variables.\n",
    "X_train.head()"
   ]
  },
  {
   "cell_type": "code",
   "execution_count": 18,
   "id": "b6a54624",
   "metadata": {},
   "outputs": [
    {
     "data": {
      "text/plain": [
       "income      float64\n",
       "age         float64\n",
       "yrsed       float64\n",
       "yrsempl     float64\n",
       "creddebt    float64\n",
       "othdebt     float64\n",
       "address     float64\n",
       "cars        float64\n",
       "carvalue    float64\n",
       "edcat        object\n",
       "default      object\n",
       "jobsat       object\n",
       "homeown      object\n",
       "dtype: object"
      ]
     },
     "execution_count": 18,
     "metadata": {},
     "output_type": "execute_result"
    }
   ],
   "source": [
    "X_train.dtypes"
   ]
  },
  {
   "cell_type": "markdown",
   "id": "4ef388c4",
   "metadata": {},
   "source": [
    "##### Now we need to Handle Categorical Independent Variables "
   ]
  },
  {
   "cell_type": "code",
   "execution_count": 19,
   "id": "60ee2a65",
   "metadata": {},
   "outputs": [],
   "source": [
    "# Home Own  - Have Binary Value, hence no encoding is required\n",
    "\n"
   ]
  },
  {
   "cell_type": "code",
   "execution_count": 20,
   "id": "9438b80d",
   "metadata": {},
   "outputs": [],
   "source": [
    "# Jobsat - Have Ordinal Values , hence Ordinal encoding is to be used \n",
    "## Already Encoded .\n"
   ]
  },
  {
   "cell_type": "code",
   "execution_count": 21,
   "id": "6bf7e715",
   "metadata": {},
   "outputs": [],
   "source": [
    "# default -  Have Binary Value, hence no encoding is required"
   ]
  },
  {
   "cell_type": "code",
   "execution_count": 22,
   "id": "31614cdc",
   "metadata": {},
   "outputs": [
    {
     "data": {
      "text/html": [
       "<div>\n",
       "<style scoped>\n",
       "    .dataframe tbody tr th:only-of-type {\n",
       "        vertical-align: middle;\n",
       "    }\n",
       "\n",
       "    .dataframe tbody tr th {\n",
       "        vertical-align: top;\n",
       "    }\n",
       "\n",
       "    .dataframe thead th {\n",
       "        text-align: right;\n",
       "    }\n",
       "</style>\n",
       "<table border=\"1\" class=\"dataframe\">\n",
       "  <thead>\n",
       "    <tr style=\"text-align: right;\">\n",
       "      <th></th>\n",
       "      <th>income</th>\n",
       "      <th>age</th>\n",
       "      <th>yrsed</th>\n",
       "      <th>yrsempl</th>\n",
       "      <th>creddebt</th>\n",
       "      <th>othdebt</th>\n",
       "      <th>address</th>\n",
       "      <th>cars</th>\n",
       "      <th>carvalue</th>\n",
       "      <th>edcat</th>\n",
       "      <th>default</th>\n",
       "      <th>jobsat</th>\n",
       "      <th>homeown</th>\n",
       "      <th>edcat2</th>\n",
       "      <th>edcat3</th>\n",
       "      <th>edcat4</th>\n",
       "      <th>edcat5</th>\n",
       "    </tr>\n",
       "  </thead>\n",
       "  <tbody>\n",
       "    <tr>\n",
       "      <th>0</th>\n",
       "      <td>2.772589</td>\n",
       "      <td>1.000000</td>\n",
       "      <td>0.411765</td>\n",
       "      <td>0.653846</td>\n",
       "      <td>0.475553</td>\n",
       "      <td>0.424034</td>\n",
       "      <td>0.771930</td>\n",
       "      <td>0.166667</td>\n",
       "      <td>0.354501</td>\n",
       "      <td>2</td>\n",
       "      <td>0</td>\n",
       "      <td>4</td>\n",
       "      <td>0</td>\n",
       "      <td>1</td>\n",
       "      <td>0</td>\n",
       "      <td>0</td>\n",
       "      <td>0</td>\n",
       "    </tr>\n",
       "    <tr>\n",
       "      <th>1</th>\n",
       "      <td>3.583519</td>\n",
       "      <td>0.114754</td>\n",
       "      <td>0.705882</td>\n",
       "      <td>0.000000</td>\n",
       "      <td>0.717623</td>\n",
       "      <td>0.532861</td>\n",
       "      <td>0.070175</td>\n",
       "      <td>0.000000</td>\n",
       "      <td>0.620105</td>\n",
       "      <td>4</td>\n",
       "      <td>1</td>\n",
       "      <td>2</td>\n",
       "      <td>1</td>\n",
       "      <td>0</td>\n",
       "      <td>0</td>\n",
       "      <td>1</td>\n",
       "      <td>0</td>\n",
       "    </tr>\n",
       "    <tr>\n",
       "      <th>2</th>\n",
       "      <td>4.127134</td>\n",
       "      <td>0.262295</td>\n",
       "      <td>0.764706</td>\n",
       "      <td>0.057692</td>\n",
       "      <td>0.632413</td>\n",
       "      <td>0.617074</td>\n",
       "      <td>0.140351</td>\n",
       "      <td>0.000000</td>\n",
       "      <td>0.594209</td>\n",
       "      <td>4</td>\n",
       "      <td>1</td>\n",
       "      <td>2</td>\n",
       "      <td>1</td>\n",
       "      <td>0</td>\n",
       "      <td>0</td>\n",
       "      <td>1</td>\n",
       "      <td>0</td>\n",
       "    </tr>\n",
       "    <tr>\n",
       "      <th>3</th>\n",
       "      <td>3.044522</td>\n",
       "      <td>0.770492</td>\n",
       "      <td>0.647059</td>\n",
       "      <td>0.442308</td>\n",
       "      <td>0.566571</td>\n",
       "      <td>0.457758</td>\n",
       "      <td>0.210526</td>\n",
       "      <td>0.166667</td>\n",
       "      <td>0.391828</td>\n",
       "      <td>4</td>\n",
       "      <td>0</td>\n",
       "      <td>4</td>\n",
       "      <td>0</td>\n",
       "      <td>0</td>\n",
       "      <td>0</td>\n",
       "      <td>1</td>\n",
       "      <td>0</td>\n",
       "    </tr>\n",
       "    <tr>\n",
       "      <th>4</th>\n",
       "      <td>2.564949</td>\n",
       "      <td>0.180328</td>\n",
       "      <td>0.647059</td>\n",
       "      <td>0.057692</td>\n",
       "      <td>0.436658</td>\n",
       "      <td>0.384711</td>\n",
       "      <td>0.105263</td>\n",
       "      <td>0.000000</td>\n",
       "      <td>0.220521</td>\n",
       "      <td>4</td>\n",
       "      <td>0</td>\n",
       "      <td>3</td>\n",
       "      <td>1</td>\n",
       "      <td>0</td>\n",
       "      <td>0</td>\n",
       "      <td>1</td>\n",
       "      <td>0</td>\n",
       "    </tr>\n",
       "  </tbody>\n",
       "</table>\n",
       "</div>"
      ],
      "text/plain": [
       "     income       age     yrsed   yrsempl  creddebt   othdebt   address  \\\n",
       "0  2.772589  1.000000  0.411765  0.653846  0.475553  0.424034  0.771930   \n",
       "1  3.583519  0.114754  0.705882  0.000000  0.717623  0.532861  0.070175   \n",
       "2  4.127134  0.262295  0.764706  0.057692  0.632413  0.617074  0.140351   \n",
       "3  3.044522  0.770492  0.647059  0.442308  0.566571  0.457758  0.210526   \n",
       "4  2.564949  0.180328  0.647059  0.057692  0.436658  0.384711  0.105263   \n",
       "\n",
       "       cars  carvalue edcat default jobsat homeown  edcat2  edcat3  edcat4  \\\n",
       "0  0.166667  0.354501     2       0      4       0       1       0       0   \n",
       "1  0.000000  0.620105     4       1      2       1       0       0       1   \n",
       "2  0.000000  0.594209     4       1      2       1       0       0       1   \n",
       "3  0.166667  0.391828     4       0      4       0       0       0       1   \n",
       "4  0.000000  0.220521     4       0      3       1       0       0       1   \n",
       "\n",
       "   edcat5  \n",
       "0       0  \n",
       "1       0  \n",
       "2       0  \n",
       "3       0  \n",
       "4       0  "
      ]
     },
     "execution_count": 22,
     "metadata": {},
     "output_type": "execute_result"
    }
   ],
   "source": [
    "#edcat - Have simple categorical data , hence one-hot encoding is used\n",
    "\n",
    "temp = pd.get_dummies(X_train['edcat'],drop_first=True)\n",
    "X_train = pd.concat([X_train , temp],axis=1)\n",
    "X_train.rename(columns = {'2':'edcat2'}, inplace = True)\n",
    "X_train.rename(columns = {'3':'edcat3'}, inplace = True)\n",
    "X_train.rename(columns = {'4':'edcat4'}, inplace = True)\n",
    "X_train.rename(columns = {'5':'edcat5'}, inplace = True)\n",
    "\n",
    "X_train.head()"
   ]
  },
  {
   "cell_type": "code",
   "execution_count": 23,
   "id": "5f123802",
   "metadata": {},
   "outputs": [],
   "source": [
    "# Finally saving the final Feature engineered X_train dataset.\n",
    "X_train.to_csv('X_train.csv',index=False)\n"
   ]
  },
  {
   "cell_type": "code",
   "execution_count": null,
   "id": "270a4aa3",
   "metadata": {},
   "outputs": [],
   "source": []
  },
  {
   "cell_type": "markdown",
   "id": "12c5e3ce",
   "metadata": {},
   "source": [
    "### <font color = \"Red\">We need to do same steps for test data also</font>"
   ]
  },
  {
   "cell_type": "markdown",
   "id": "a14c8a6c",
   "metadata": {},
   "source": [
    "## Check for Missing Values - X_test"
   ]
  },
  {
   "cell_type": "code",
   "execution_count": 24,
   "id": "1818391c",
   "metadata": {},
   "outputs": [
    {
     "name": "stdout",
     "output_type": "stream",
     "text": [
      "[]\n"
     ]
    }
   ],
   "source": [
    "## What percentage of Missing Values are there in the each feature\n",
    "\n",
    "## Create a List of all features with missing values\n",
    "features_miss_val=[features for features in X_test.columns if X_test[features].isnull().sum()>1] \n",
    "print(features_miss_val)"
   ]
  },
  {
   "cell_type": "markdown",
   "id": "858c9a05",
   "metadata": {},
   "source": [
    "## <font size = 8  color='#F1C40F'>Transforming the Skewed Distributions - X_test</font>"
   ]
  },
  {
   "cell_type": "markdown",
   "id": "7bc1db82",
   "metadata": {},
   "source": [
    "### For continuous numerical features\n",
    "creddebt- Continuous and Numeric Data\n",
    "\n",
    "othdebt - Continuous and Numeric Data\n",
    "\n",
    "carvalue- Continuous and Numeric Data\n",
    "\n",
    "Income - Continuous and Dependent Variable"
   ]
  },
  {
   "cell_type": "code",
   "execution_count": 25,
   "id": "c51df276",
   "metadata": {},
   "outputs": [
    {
     "data": {
      "text/html": [
       "<div>\n",
       "<style scoped>\n",
       "    .dataframe tbody tr th:only-of-type {\n",
       "        vertical-align: middle;\n",
       "    }\n",
       "\n",
       "    .dataframe tbody tr th {\n",
       "        vertical-align: top;\n",
       "    }\n",
       "\n",
       "    .dataframe thead th {\n",
       "        text-align: right;\n",
       "    }\n",
       "</style>\n",
       "<table border=\"1\" class=\"dataframe\">\n",
       "  <thead>\n",
       "    <tr style=\"text-align: right;\">\n",
       "      <th></th>\n",
       "      <th>age</th>\n",
       "      <th>yrsed</th>\n",
       "      <th>edcat</th>\n",
       "      <th>yrsempl</th>\n",
       "      <th>income</th>\n",
       "      <th>creddebt</th>\n",
       "      <th>othdebt</th>\n",
       "      <th>default</th>\n",
       "      <th>jobsat</th>\n",
       "      <th>homeown</th>\n",
       "      <th>address</th>\n",
       "      <th>cars</th>\n",
       "      <th>carvalue</th>\n",
       "    </tr>\n",
       "  </thead>\n",
       "  <tbody>\n",
       "    <tr>\n",
       "      <th>2022</th>\n",
       "      <td>46</td>\n",
       "      <td>15</td>\n",
       "      <td>3</td>\n",
       "      <td>11</td>\n",
       "      <td>88</td>\n",
       "      <td>0.662200</td>\n",
       "      <td>2.417800</td>\n",
       "      <td>0</td>\n",
       "      <td>4</td>\n",
       "      <td>1</td>\n",
       "      <td>18</td>\n",
       "      <td>2</td>\n",
       "      <td>46.1</td>\n",
       "    </tr>\n",
       "    <tr>\n",
       "      <th>1139</th>\n",
       "      <td>53</td>\n",
       "      <td>8</td>\n",
       "      <td>1</td>\n",
       "      <td>14</td>\n",
       "      <td>40</td>\n",
       "      <td>0.211680</td>\n",
       "      <td>0.268320</td>\n",
       "      <td>0</td>\n",
       "      <td>2</td>\n",
       "      <td>1</td>\n",
       "      <td>18</td>\n",
       "      <td>2</td>\n",
       "      <td>15.5</td>\n",
       "    </tr>\n",
       "    <tr>\n",
       "      <th>595</th>\n",
       "      <td>33</td>\n",
       "      <td>15</td>\n",
       "      <td>3</td>\n",
       "      <td>6</td>\n",
       "      <td>49</td>\n",
       "      <td>1.207360</td>\n",
       "      <td>2.565640</td>\n",
       "      <td>0</td>\n",
       "      <td>2</td>\n",
       "      <td>1</td>\n",
       "      <td>11</td>\n",
       "      <td>1</td>\n",
       "      <td>25.7</td>\n",
       "    </tr>\n",
       "    <tr>\n",
       "      <th>1420</th>\n",
       "      <td>20</td>\n",
       "      <td>12</td>\n",
       "      <td>2</td>\n",
       "      <td>1</td>\n",
       "      <td>18</td>\n",
       "      <td>1.245888</td>\n",
       "      <td>0.608112</td>\n",
       "      <td>1</td>\n",
       "      <td>1</td>\n",
       "      <td>0</td>\n",
       "      <td>0</td>\n",
       "      <td>2</td>\n",
       "      <td>7.5</td>\n",
       "    </tr>\n",
       "    <tr>\n",
       "      <th>2486</th>\n",
       "      <td>67</td>\n",
       "      <td>18</td>\n",
       "      <td>4</td>\n",
       "      <td>5</td>\n",
       "      <td>52</td>\n",
       "      <td>0.989976</td>\n",
       "      <td>4.938024</td>\n",
       "      <td>1</td>\n",
       "      <td>1</td>\n",
       "      <td>0</td>\n",
       "      <td>26</td>\n",
       "      <td>2</td>\n",
       "      <td>23.1</td>\n",
       "    </tr>\n",
       "  </tbody>\n",
       "</table>\n",
       "</div>"
      ],
      "text/plain": [
       "      age  yrsed  edcat  yrsempl  income  creddebt   othdebt  default  jobsat  \\\n",
       "2022   46     15      3       11      88  0.662200  2.417800        0       4   \n",
       "1139   53      8      1       14      40  0.211680  0.268320        0       2   \n",
       "595    33     15      3        6      49  1.207360  2.565640        0       2   \n",
       "1420   20     12      2        1      18  1.245888  0.608112        1       1   \n",
       "2486   67     18      4        5      52  0.989976  4.938024        1       1   \n",
       "\n",
       "      homeown  address  cars  carvalue  \n",
       "2022        1       18     2      46.1  \n",
       "1139        1       18     2      15.5  \n",
       "595         1       11     1      25.7  \n",
       "1420        0        0     2       7.5  \n",
       "2486        0       26     2      23.1  "
      ]
     },
     "execution_count": 25,
     "metadata": {},
     "output_type": "execute_result"
    }
   ],
   "source": [
    "X_test.head()"
   ]
  },
  {
   "cell_type": "code",
   "execution_count": 26,
   "id": "484423c2",
   "metadata": {},
   "outputs": [
    {
     "name": "stderr",
     "output_type": "stream",
     "text": [
      "C:\\Users\\offic\\anaconda3\\lib\\site-packages\\pandas\\core\\arraylike.py:364: RuntimeWarning: divide by zero encountered in log\n",
      "  result = getattr(ufunc, method)(*inputs, **kwargs)\n",
      "C:\\Users\\offic\\AppData\\Local\\Temp/ipykernel_7300/1302567761.py:4: SettingWithCopyWarning: \n",
      "A value is trying to be set on a copy of a slice from a DataFrame.\n",
      "Try using .loc[row_indexer,col_indexer] = value instead\n",
      "\n",
      "See the caveats in the documentation: https://pandas.pydata.org/pandas-docs/stable/user_guide/indexing.html#returning-a-view-versus-a-copy\n",
      "  X_test[feature] = np.log(X_test[feature])\n"
     ]
    },
    {
     "data": {
      "text/html": [
       "<div>\n",
       "<style scoped>\n",
       "    .dataframe tbody tr th:only-of-type {\n",
       "        vertical-align: middle;\n",
       "    }\n",
       "\n",
       "    .dataframe tbody tr th {\n",
       "        vertical-align: top;\n",
       "    }\n",
       "\n",
       "    .dataframe thead th {\n",
       "        text-align: right;\n",
       "    }\n",
       "</style>\n",
       "<table border=\"1\" class=\"dataframe\">\n",
       "  <thead>\n",
       "    <tr style=\"text-align: right;\">\n",
       "      <th></th>\n",
       "      <th>age</th>\n",
       "      <th>yrsed</th>\n",
       "      <th>edcat</th>\n",
       "      <th>yrsempl</th>\n",
       "      <th>income</th>\n",
       "      <th>creddebt</th>\n",
       "      <th>othdebt</th>\n",
       "      <th>default</th>\n",
       "      <th>jobsat</th>\n",
       "      <th>homeown</th>\n",
       "      <th>address</th>\n",
       "      <th>cars</th>\n",
       "      <th>carvalue</th>\n",
       "    </tr>\n",
       "  </thead>\n",
       "  <tbody>\n",
       "    <tr>\n",
       "      <th>2022</th>\n",
       "      <td>46</td>\n",
       "      <td>15</td>\n",
       "      <td>3</td>\n",
       "      <td>11</td>\n",
       "      <td>4.477337</td>\n",
       "      <td>-0.412188</td>\n",
       "      <td>0.882858</td>\n",
       "      <td>0</td>\n",
       "      <td>4</td>\n",
       "      <td>1</td>\n",
       "      <td>18</td>\n",
       "      <td>2</td>\n",
       "      <td>3.830813</td>\n",
       "    </tr>\n",
       "    <tr>\n",
       "      <th>1139</th>\n",
       "      <td>53</td>\n",
       "      <td>8</td>\n",
       "      <td>1</td>\n",
       "      <td>14</td>\n",
       "      <td>3.688879</td>\n",
       "      <td>-1.552680</td>\n",
       "      <td>-1.315575</td>\n",
       "      <td>0</td>\n",
       "      <td>2</td>\n",
       "      <td>1</td>\n",
       "      <td>18</td>\n",
       "      <td>2</td>\n",
       "      <td>2.740840</td>\n",
       "    </tr>\n",
       "    <tr>\n",
       "      <th>595</th>\n",
       "      <td>33</td>\n",
       "      <td>15</td>\n",
       "      <td>3</td>\n",
       "      <td>6</td>\n",
       "      <td>3.891820</td>\n",
       "      <td>0.188436</td>\n",
       "      <td>0.942208</td>\n",
       "      <td>0</td>\n",
       "      <td>2</td>\n",
       "      <td>1</td>\n",
       "      <td>11</td>\n",
       "      <td>1</td>\n",
       "      <td>3.246491</td>\n",
       "    </tr>\n",
       "    <tr>\n",
       "      <th>1420</th>\n",
       "      <td>20</td>\n",
       "      <td>12</td>\n",
       "      <td>2</td>\n",
       "      <td>1</td>\n",
       "      <td>2.890372</td>\n",
       "      <td>0.219849</td>\n",
       "      <td>-0.497396</td>\n",
       "      <td>1</td>\n",
       "      <td>1</td>\n",
       "      <td>0</td>\n",
       "      <td>0</td>\n",
       "      <td>2</td>\n",
       "      <td>2.014903</td>\n",
       "    </tr>\n",
       "    <tr>\n",
       "      <th>2486</th>\n",
       "      <td>67</td>\n",
       "      <td>18</td>\n",
       "      <td>4</td>\n",
       "      <td>5</td>\n",
       "      <td>3.951244</td>\n",
       "      <td>-0.010075</td>\n",
       "      <td>1.596965</td>\n",
       "      <td>1</td>\n",
       "      <td>1</td>\n",
       "      <td>0</td>\n",
       "      <td>26</td>\n",
       "      <td>2</td>\n",
       "      <td>3.139833</td>\n",
       "    </tr>\n",
       "  </tbody>\n",
       "</table>\n",
       "</div>"
      ],
      "text/plain": [
       "      age  yrsed  edcat  yrsempl    income  creddebt   othdebt  default  \\\n",
       "2022   46     15      3       11  4.477337 -0.412188  0.882858        0   \n",
       "1139   53      8      1       14  3.688879 -1.552680 -1.315575        0   \n",
       "595    33     15      3        6  3.891820  0.188436  0.942208        0   \n",
       "1420   20     12      2        1  2.890372  0.219849 -0.497396        1   \n",
       "2486   67     18      4        5  3.951244 -0.010075  1.596965        1   \n",
       "\n",
       "      jobsat  homeown  address  cars  carvalue  \n",
       "2022       4        1       18     2  3.830813  \n",
       "1139       2        1       18     2  2.740840  \n",
       "595        2        1       11     1  3.246491  \n",
       "1420       1        0        0     2  2.014903  \n",
       "2486       1        0       26     2  3.139833  "
      ]
     },
     "execution_count": 26,
     "metadata": {},
     "output_type": "execute_result"
    }
   ],
   "source": [
    "num_features = ['creddebt','othdebt','carvalue','income']\n",
    "\n",
    "for feature in num_features:\n",
    "    X_test[feature] = np.log(X_test[feature])\n",
    "X_test.head()"
   ]
  },
  {
   "cell_type": "markdown",
   "id": "2316be34",
   "metadata": {},
   "source": [
    "output after transformation"
   ]
  },
  {
   "cell_type": "markdown",
   "id": "1d3f5190",
   "metadata": {},
   "source": [
    "### Handling Rare Categorical Features - X_test\n",
    "we need to remove those categorical variables that tend to occur less than 1% of the observation\n",
    "\n",
    "edcat - Categorical Data\n",
    "\n",
    "default - Categorical Data\n",
    "\n",
    "jobsat - Categorical Data\n",
    "\n",
    "homeown - Categorical Data"
   ]
  },
  {
   "cell_type": "code",
   "execution_count": 27,
   "id": "75ef9368",
   "metadata": {},
   "outputs": [
    {
     "name": "stdout",
     "output_type": "stream",
     "text": [
      "['edcat', 'default', 'jobsat', 'homeown']\n"
     ]
    }
   ],
   "source": [
    "categ_features = [feature for feature in X_test.columns if 'edcat' in feature or 'default' in feature or 'jobsat' in feature or 'homeown' in feature]\n",
    "print(categ_features)"
   ]
  },
  {
   "cell_type": "code",
   "execution_count": 28,
   "id": "c3047f29",
   "metadata": {},
   "outputs": [
    {
     "name": "stdout",
     "output_type": "stream",
     "text": [
      "[]\n",
      "[]\n",
      "[]\n",
      "[]\n"
     ]
    },
    {
     "name": "stderr",
     "output_type": "stream",
     "text": [
      "C:\\Users\\offic\\AppData\\Local\\Temp/ipykernel_7300/226651975.py:6: SettingWithCopyWarning: \n",
      "A value is trying to be set on a copy of a slice from a DataFrame.\n",
      "Try using .loc[row_indexer,col_indexer] = value instead\n",
      "\n",
      "See the caveats in the documentation: https://pandas.pydata.org/pandas-docs/stable/user_guide/indexing.html#returning-a-view-versus-a-copy\n",
      "  X_test[feature]= np.where(X_test[feature].isin(temp_df),X_test[feature],'Rare_Var')\n"
     ]
    }
   ],
   "source": [
    "# finding the rarity of variable in categorcal feature\n",
    "\n",
    "for feature in categ_features:\n",
    "    percent_rarity=X_test.groupby(feature)['income'].count()/len(X_test)\n",
    "    temp_df=percent_rarity[percent_rarity>0.01].index\n",
    "    X_test[feature]= np.where(X_test[feature].isin(temp_df),X_test[feature],'Rare_Var')\n",
    "\n",
    "rare_value_edcat = [value for value in X_test['edcat'].values if 'Rare_Var' in value]\n",
    "print(rare_value_edcat)\n",
    "\n",
    "\n",
    "rare_value_default = [value for value in X_test['default'].values if 'Rare_Var' in value]\n",
    "print(rare_value_default)\n",
    "\n",
    "\n",
    "rare_value_jobsat = [value for value in X_test['jobsat'].values if 'Rare_Var' in value]\n",
    "print(rare_value_jobsat)\n",
    "\n",
    "\n",
    "rare_value_homeown = [value for value in X_test['homeown'].values if 'Rare_Var' in value]\n",
    "print(rare_value_homeown)\n"
   ]
  },
  {
   "cell_type": "markdown",
   "id": "1663be31",
   "metadata": {},
   "source": [
    "### Feature Scaling - X-Test\n",
    "We need to do feature scaling because we have different feature measured with different units \n",
    "hence its good to do scaling before proceeding to apply machine learnign Algorithm.\n",
    "#### Helps in applying M.L. Algo in a better way\n",
    "###### Remember scaling is not applied on the Dependent Variable (income)"
   ]
  },
  {
   "cell_type": "code",
   "execution_count": 29,
   "id": "fecf7a01",
   "metadata": {},
   "outputs": [
    {
     "name": "stdout",
     "output_type": "stream",
     "text": [
      "        age  yrsed  edcat  yrsempl  income  creddebt  othdebt  default  \\\n",
      "2022  False  False  False    False   False     False    False    False   \n",
      "1139  False  False  False    False   False     False    False    False   \n",
      "595   False  False  False    False   False     False    False    False   \n",
      "1420  False  False  False    False   False     False    False    False   \n",
      "2486  False  False  False    False   False     False    False    False   \n",
      "...     ...    ...    ...      ...     ...       ...      ...      ...   \n",
      "483   False  False  False    False   False     False    False    False   \n",
      "1600  False  False  False    False   False     False    False    False   \n",
      "3505  False  False  False    False   False     False    False    False   \n",
      "2350  False  False  False    False   False     False    False    False   \n",
      "4417  False  False  False    False   False     False    False    False   \n",
      "\n",
      "      jobsat  homeown  address   cars  carvalue  \n",
      "2022   False    False    False  False     False  \n",
      "1139   False    False    False  False     False  \n",
      "595    False    False    False  False     False  \n",
      "1420   False    False    False  False     False  \n",
      "2486   False    False    False  False     False  \n",
      "...      ...      ...      ...    ...       ...  \n",
      "483    False    False    False  False     False  \n",
      "1600   False    False    False  False     False  \n",
      "3505   False    False    False  False     False  \n",
      "2350   False    False    False  False     False  \n",
      "4417   False    False    False  False     False  \n",
      "\n",
      "[1353 rows x 13 columns]\n",
      "It contains 0 infinite values\n",
      "It contains 0 nan values\n"
     ]
    },
    {
     "data": {
      "text/plain": [
       "age           int64\n",
       "yrsed         int64\n",
       "edcat        object\n",
       "yrsempl       int64\n",
       "income      float64\n",
       "creddebt    float64\n",
       "othdebt     float64\n",
       "default      object\n",
       "jobsat       object\n",
       "homeown      object\n",
       "address       int64\n",
       "cars          int64\n",
       "carvalue    float64\n",
       "dtype: object"
      ]
     },
     "execution_count": 29,
     "metadata": {},
     "output_type": "execute_result"
    }
   ],
   "source": [
    "##### checking for infinity\n",
    "  \n",
    "temp = X_test.isin([np.inf, -np.inf])\n",
    "print(temp)\n",
    "\n",
    "#### printing the count of infinity values\")\n",
    "  \n",
    "count = np.isinf(temp).values.sum()\n",
    "print(\"It contains \" + str(count) + \" infinite values\")\n",
    "\n",
    "count = np.isnan(temp).values.sum()\n",
    "print(\"It contains \" + str(count) + \" nan values\")\n",
    "\n",
    "X_test.dtypes"
   ]
  },
  {
   "cell_type": "code",
   "execution_count": 30,
   "id": "5b424b6f",
   "metadata": {},
   "outputs": [
    {
     "name": "stdout",
     "output_type": "stream",
     "text": [
      "['age', 'yrsed', 'yrsempl', 'creddebt', 'othdebt', 'address', 'cars', 'carvalue']\n"
     ]
    },
    {
     "data": {
      "text/plain": [
       "MinMaxScaler()"
      ]
     },
     "execution_count": 30,
     "metadata": {},
     "output_type": "execute_result"
    }
   ],
   "source": [
    "X_test_copy = X_test.copy()\n",
    "scale_feature = [feature for feature in X_test.columns if feature not in ['income'] and feature not in categ_features]\n",
    "print(scale_feature)\n",
    "from sklearn.preprocessing import MinMaxScaler\n",
    "scaler2=MinMaxScaler()\n",
    "\n",
    "#this line helps to solve the Value error of infinte and large for float 62\n",
    "X_test = X_test.replace((np.inf, -np.inf, np.nan), 0).reset_index(drop=True)\n",
    "scaler2.fit(X_test[scale_feature])\n",
    "\n"
   ]
  },
  {
   "cell_type": "code",
   "execution_count": 31,
   "id": "64733e3e",
   "metadata": {},
   "outputs": [
    {
     "data": {
      "text/html": [
       "<div>\n",
       "<style scoped>\n",
       "    .dataframe tbody tr th:only-of-type {\n",
       "        vertical-align: middle;\n",
       "    }\n",
       "\n",
       "    .dataframe tbody tr th {\n",
       "        vertical-align: top;\n",
       "    }\n",
       "\n",
       "    .dataframe thead th {\n",
       "        text-align: right;\n",
       "    }\n",
       "</style>\n",
       "<table border=\"1\" class=\"dataframe\">\n",
       "  <thead>\n",
       "    <tr style=\"text-align: right;\">\n",
       "      <th></th>\n",
       "      <th>age</th>\n",
       "      <th>yrsed</th>\n",
       "      <th>edcat</th>\n",
       "      <th>yrsempl</th>\n",
       "      <th>income</th>\n",
       "      <th>creddebt</th>\n",
       "      <th>othdebt</th>\n",
       "      <th>default</th>\n",
       "      <th>jobsat</th>\n",
       "      <th>homeown</th>\n",
       "      <th>address</th>\n",
       "      <th>cars</th>\n",
       "      <th>carvalue</th>\n",
       "    </tr>\n",
       "  </thead>\n",
       "  <tbody>\n",
       "    <tr>\n",
       "      <th>2022</th>\n",
       "      <td>46</td>\n",
       "      <td>15</td>\n",
       "      <td>3</td>\n",
       "      <td>11</td>\n",
       "      <td>4.477337</td>\n",
       "      <td>-0.412188</td>\n",
       "      <td>0.882858</td>\n",
       "      <td>0</td>\n",
       "      <td>4</td>\n",
       "      <td>1</td>\n",
       "      <td>18</td>\n",
       "      <td>2</td>\n",
       "      <td>3.830813</td>\n",
       "    </tr>\n",
       "    <tr>\n",
       "      <th>1139</th>\n",
       "      <td>53</td>\n",
       "      <td>8</td>\n",
       "      <td>1</td>\n",
       "      <td>14</td>\n",
       "      <td>3.688879</td>\n",
       "      <td>-1.552680</td>\n",
       "      <td>-1.315575</td>\n",
       "      <td>0</td>\n",
       "      <td>2</td>\n",
       "      <td>1</td>\n",
       "      <td>18</td>\n",
       "      <td>2</td>\n",
       "      <td>2.740840</td>\n",
       "    </tr>\n",
       "    <tr>\n",
       "      <th>595</th>\n",
       "      <td>33</td>\n",
       "      <td>15</td>\n",
       "      <td>3</td>\n",
       "      <td>6</td>\n",
       "      <td>3.891820</td>\n",
       "      <td>0.188436</td>\n",
       "      <td>0.942208</td>\n",
       "      <td>0</td>\n",
       "      <td>2</td>\n",
       "      <td>1</td>\n",
       "      <td>11</td>\n",
       "      <td>1</td>\n",
       "      <td>3.246491</td>\n",
       "    </tr>\n",
       "    <tr>\n",
       "      <th>1420</th>\n",
       "      <td>20</td>\n",
       "      <td>12</td>\n",
       "      <td>2</td>\n",
       "      <td>1</td>\n",
       "      <td>2.890372</td>\n",
       "      <td>0.219849</td>\n",
       "      <td>-0.497396</td>\n",
       "      <td>1</td>\n",
       "      <td>1</td>\n",
       "      <td>0</td>\n",
       "      <td>0</td>\n",
       "      <td>2</td>\n",
       "      <td>2.014903</td>\n",
       "    </tr>\n",
       "    <tr>\n",
       "      <th>2486</th>\n",
       "      <td>67</td>\n",
       "      <td>18</td>\n",
       "      <td>4</td>\n",
       "      <td>5</td>\n",
       "      <td>3.951244</td>\n",
       "      <td>-0.010075</td>\n",
       "      <td>1.596965</td>\n",
       "      <td>1</td>\n",
       "      <td>1</td>\n",
       "      <td>0</td>\n",
       "      <td>26</td>\n",
       "      <td>2</td>\n",
       "      <td>3.139833</td>\n",
       "    </tr>\n",
       "  </tbody>\n",
       "</table>\n",
       "</div>"
      ],
      "text/plain": [
       "      age  yrsed edcat  yrsempl    income  creddebt   othdebt default jobsat  \\\n",
       "2022   46     15     3       11  4.477337 -0.412188  0.882858       0      4   \n",
       "1139   53      8     1       14  3.688879 -1.552680 -1.315575       0      2   \n",
       "595    33     15     3        6  3.891820  0.188436  0.942208       0      2   \n",
       "1420   20     12     2        1  2.890372  0.219849 -0.497396       1      1   \n",
       "2486   67     18     4        5  3.951244 -0.010075  1.596965       1      1   \n",
       "\n",
       "     homeown  address  cars  carvalue  \n",
       "2022       1       18     2  3.830813  \n",
       "1139       1       18     2  2.740840  \n",
       "595        1       11     1  3.246491  \n",
       "1420       0        0     2  2.014903  \n",
       "2486       0       26     2  3.139833  "
      ]
     },
     "execution_count": 31,
     "metadata": {},
     "output_type": "execute_result"
    }
   ],
   "source": [
    "X_test_copy.head()"
   ]
  },
  {
   "cell_type": "code",
   "execution_count": 32,
   "id": "60c9c622",
   "metadata": {},
   "outputs": [],
   "source": [
    "X_test = pd.concat([X_test['income'].reset_index(drop=True),pd.DataFrame(scaler.transform(X_test[scale_feature]),columns=scale_feature)],axis=1)\n",
    "\n",
    "X_test.reset_index(drop=True, inplace=True)\n",
    "X_test_copy.reset_index(drop=True, inplace=True)\n",
    "\n",
    "X_test = pd.concat([X_test , X_test_copy[categ_features]],axis=1)"
   ]
  },
  {
   "cell_type": "code",
   "execution_count": 33,
   "id": "a7a8ff91",
   "metadata": {},
   "outputs": [
    {
     "data": {
      "text/html": [
       "<div>\n",
       "<style scoped>\n",
       "    .dataframe tbody tr th:only-of-type {\n",
       "        vertical-align: middle;\n",
       "    }\n",
       "\n",
       "    .dataframe tbody tr th {\n",
       "        vertical-align: top;\n",
       "    }\n",
       "\n",
       "    .dataframe thead th {\n",
       "        text-align: right;\n",
       "    }\n",
       "</style>\n",
       "<table border=\"1\" class=\"dataframe\">\n",
       "  <thead>\n",
       "    <tr style=\"text-align: right;\">\n",
       "      <th></th>\n",
       "      <th>income</th>\n",
       "      <th>age</th>\n",
       "      <th>yrsed</th>\n",
       "      <th>yrsempl</th>\n",
       "      <th>creddebt</th>\n",
       "      <th>othdebt</th>\n",
       "      <th>address</th>\n",
       "      <th>cars</th>\n",
       "      <th>carvalue</th>\n",
       "      <th>edcat</th>\n",
       "      <th>default</th>\n",
       "      <th>jobsat</th>\n",
       "      <th>homeown</th>\n",
       "    </tr>\n",
       "  </thead>\n",
       "  <tbody>\n",
       "    <tr>\n",
       "      <th>0</th>\n",
       "      <td>4.477337</td>\n",
       "      <td>0.459016</td>\n",
       "      <td>0.529412</td>\n",
       "      <td>0.211538</td>\n",
       "      <td>0.532582</td>\n",
       "      <td>0.537874</td>\n",
       "      <td>0.315789</td>\n",
       "      <td>0.166667</td>\n",
       "      <td>0.797952</td>\n",
       "      <td>3</td>\n",
       "      <td>0</td>\n",
       "      <td>4</td>\n",
       "      <td>1</td>\n",
       "    </tr>\n",
       "    <tr>\n",
       "      <th>1</th>\n",
       "      <td>3.688879</td>\n",
       "      <td>0.573770</td>\n",
       "      <td>0.117647</td>\n",
       "      <td>0.269231</td>\n",
       "      <td>0.417300</td>\n",
       "      <td>0.288202</td>\n",
       "      <td>0.315789</td>\n",
       "      <td>0.166667</td>\n",
       "      <td>0.512073</td>\n",
       "      <td>1</td>\n",
       "      <td>0</td>\n",
       "      <td>2</td>\n",
       "      <td>1</td>\n",
       "    </tr>\n",
       "    <tr>\n",
       "      <th>2</th>\n",
       "      <td>3.891820</td>\n",
       "      <td>0.245902</td>\n",
       "      <td>0.529412</td>\n",
       "      <td>0.115385</td>\n",
       "      <td>0.593294</td>\n",
       "      <td>0.544614</td>\n",
       "      <td>0.192982</td>\n",
       "      <td>0.000000</td>\n",
       "      <td>0.644696</td>\n",
       "      <td>3</td>\n",
       "      <td>0</td>\n",
       "      <td>2</td>\n",
       "      <td>1</td>\n",
       "    </tr>\n",
       "    <tr>\n",
       "      <th>3</th>\n",
       "      <td>2.890372</td>\n",
       "      <td>0.032787</td>\n",
       "      <td>0.352941</td>\n",
       "      <td>0.019231</td>\n",
       "      <td>0.596469</td>\n",
       "      <td>0.381121</td>\n",
       "      <td>0.000000</td>\n",
       "      <td>0.166667</td>\n",
       "      <td>0.321673</td>\n",
       "      <td>2</td>\n",
       "      <td>1</td>\n",
       "      <td>1</td>\n",
       "      <td>0</td>\n",
       "    </tr>\n",
       "    <tr>\n",
       "      <th>4</th>\n",
       "      <td>3.951244</td>\n",
       "      <td>0.803279</td>\n",
       "      <td>0.705882</td>\n",
       "      <td>0.096154</td>\n",
       "      <td>0.573228</td>\n",
       "      <td>0.618974</td>\n",
       "      <td>0.456140</td>\n",
       "      <td>0.166667</td>\n",
       "      <td>0.616721</td>\n",
       "      <td>4</td>\n",
       "      <td>1</td>\n",
       "      <td>1</td>\n",
       "      <td>0</td>\n",
       "    </tr>\n",
       "  </tbody>\n",
       "</table>\n",
       "</div>"
      ],
      "text/plain": [
       "     income       age     yrsed   yrsempl  creddebt   othdebt   address  \\\n",
       "0  4.477337  0.459016  0.529412  0.211538  0.532582  0.537874  0.315789   \n",
       "1  3.688879  0.573770  0.117647  0.269231  0.417300  0.288202  0.315789   \n",
       "2  3.891820  0.245902  0.529412  0.115385  0.593294  0.544614  0.192982   \n",
       "3  2.890372  0.032787  0.352941  0.019231  0.596469  0.381121  0.000000   \n",
       "4  3.951244  0.803279  0.705882  0.096154  0.573228  0.618974  0.456140   \n",
       "\n",
       "       cars  carvalue edcat default jobsat homeown  \n",
       "0  0.166667  0.797952     3       0      4       1  \n",
       "1  0.166667  0.512073     1       0      2       1  \n",
       "2  0.000000  0.644696     3       0      2       1  \n",
       "3  0.166667  0.321673     2       1      1       0  \n",
       "4  0.166667  0.616721     4       1      1       0  "
      ]
     },
     "execution_count": 33,
     "metadata": {},
     "output_type": "execute_result"
    }
   ],
   "source": [
    "X_test.head()"
   ]
  },
  {
   "cell_type": "code",
   "execution_count": 34,
   "id": "26e806ea",
   "metadata": {},
   "outputs": [
    {
     "data": {
      "text/html": [
       "<div>\n",
       "<style scoped>\n",
       "    .dataframe tbody tr th:only-of-type {\n",
       "        vertical-align: middle;\n",
       "    }\n",
       "\n",
       "    .dataframe tbody tr th {\n",
       "        vertical-align: top;\n",
       "    }\n",
       "\n",
       "    .dataframe thead th {\n",
       "        text-align: right;\n",
       "    }\n",
       "</style>\n",
       "<table border=\"1\" class=\"dataframe\">\n",
       "  <thead>\n",
       "    <tr style=\"text-align: right;\">\n",
       "      <th></th>\n",
       "      <th>income</th>\n",
       "      <th>age</th>\n",
       "      <th>yrsed</th>\n",
       "      <th>yrsempl</th>\n",
       "      <th>creddebt</th>\n",
       "      <th>othdebt</th>\n",
       "      <th>address</th>\n",
       "      <th>cars</th>\n",
       "      <th>carvalue</th>\n",
       "      <th>edcat</th>\n",
       "      <th>default</th>\n",
       "      <th>jobsat</th>\n",
       "      <th>homeown</th>\n",
       "      <th>edcat2</th>\n",
       "      <th>edcat3</th>\n",
       "      <th>edcat4</th>\n",
       "      <th>edcat5</th>\n",
       "    </tr>\n",
       "  </thead>\n",
       "  <tbody>\n",
       "    <tr>\n",
       "      <th>0</th>\n",
       "      <td>4.477337</td>\n",
       "      <td>0.459016</td>\n",
       "      <td>0.529412</td>\n",
       "      <td>0.211538</td>\n",
       "      <td>0.532582</td>\n",
       "      <td>0.537874</td>\n",
       "      <td>0.315789</td>\n",
       "      <td>0.166667</td>\n",
       "      <td>0.797952</td>\n",
       "      <td>3</td>\n",
       "      <td>0</td>\n",
       "      <td>4</td>\n",
       "      <td>1</td>\n",
       "      <td>0</td>\n",
       "      <td>1</td>\n",
       "      <td>0</td>\n",
       "      <td>0</td>\n",
       "    </tr>\n",
       "    <tr>\n",
       "      <th>1</th>\n",
       "      <td>3.688879</td>\n",
       "      <td>0.573770</td>\n",
       "      <td>0.117647</td>\n",
       "      <td>0.269231</td>\n",
       "      <td>0.417300</td>\n",
       "      <td>0.288202</td>\n",
       "      <td>0.315789</td>\n",
       "      <td>0.166667</td>\n",
       "      <td>0.512073</td>\n",
       "      <td>1</td>\n",
       "      <td>0</td>\n",
       "      <td>2</td>\n",
       "      <td>1</td>\n",
       "      <td>0</td>\n",
       "      <td>0</td>\n",
       "      <td>0</td>\n",
       "      <td>0</td>\n",
       "    </tr>\n",
       "    <tr>\n",
       "      <th>2</th>\n",
       "      <td>3.891820</td>\n",
       "      <td>0.245902</td>\n",
       "      <td>0.529412</td>\n",
       "      <td>0.115385</td>\n",
       "      <td>0.593294</td>\n",
       "      <td>0.544614</td>\n",
       "      <td>0.192982</td>\n",
       "      <td>0.000000</td>\n",
       "      <td>0.644696</td>\n",
       "      <td>3</td>\n",
       "      <td>0</td>\n",
       "      <td>2</td>\n",
       "      <td>1</td>\n",
       "      <td>0</td>\n",
       "      <td>1</td>\n",
       "      <td>0</td>\n",
       "      <td>0</td>\n",
       "    </tr>\n",
       "    <tr>\n",
       "      <th>3</th>\n",
       "      <td>2.890372</td>\n",
       "      <td>0.032787</td>\n",
       "      <td>0.352941</td>\n",
       "      <td>0.019231</td>\n",
       "      <td>0.596469</td>\n",
       "      <td>0.381121</td>\n",
       "      <td>0.000000</td>\n",
       "      <td>0.166667</td>\n",
       "      <td>0.321673</td>\n",
       "      <td>2</td>\n",
       "      <td>1</td>\n",
       "      <td>1</td>\n",
       "      <td>0</td>\n",
       "      <td>1</td>\n",
       "      <td>0</td>\n",
       "      <td>0</td>\n",
       "      <td>0</td>\n",
       "    </tr>\n",
       "    <tr>\n",
       "      <th>4</th>\n",
       "      <td>3.951244</td>\n",
       "      <td>0.803279</td>\n",
       "      <td>0.705882</td>\n",
       "      <td>0.096154</td>\n",
       "      <td>0.573228</td>\n",
       "      <td>0.618974</td>\n",
       "      <td>0.456140</td>\n",
       "      <td>0.166667</td>\n",
       "      <td>0.616721</td>\n",
       "      <td>4</td>\n",
       "      <td>1</td>\n",
       "      <td>1</td>\n",
       "      <td>0</td>\n",
       "      <td>0</td>\n",
       "      <td>0</td>\n",
       "      <td>1</td>\n",
       "      <td>0</td>\n",
       "    </tr>\n",
       "  </tbody>\n",
       "</table>\n",
       "</div>"
      ],
      "text/plain": [
       "     income       age     yrsed   yrsempl  creddebt   othdebt   address  \\\n",
       "0  4.477337  0.459016  0.529412  0.211538  0.532582  0.537874  0.315789   \n",
       "1  3.688879  0.573770  0.117647  0.269231  0.417300  0.288202  0.315789   \n",
       "2  3.891820  0.245902  0.529412  0.115385  0.593294  0.544614  0.192982   \n",
       "3  2.890372  0.032787  0.352941  0.019231  0.596469  0.381121  0.000000   \n",
       "4  3.951244  0.803279  0.705882  0.096154  0.573228  0.618974  0.456140   \n",
       "\n",
       "       cars  carvalue edcat default jobsat homeown  edcat2  edcat3  edcat4  \\\n",
       "0  0.166667  0.797952     3       0      4       1       0       1       0   \n",
       "1  0.166667  0.512073     1       0      2       1       0       0       0   \n",
       "2  0.000000  0.644696     3       0      2       1       0       1       0   \n",
       "3  0.166667  0.321673     2       1      1       0       1       0       0   \n",
       "4  0.166667  0.616721     4       1      1       0       0       0       1   \n",
       "\n",
       "   edcat5  \n",
       "0       0  \n",
       "1       0  \n",
       "2       0  \n",
       "3       0  \n",
       "4       0  "
      ]
     },
     "execution_count": 34,
     "metadata": {},
     "output_type": "execute_result"
    }
   ],
   "source": [
    "#edcat - Have simple categorical data , hence one-hot encoding is used\n",
    "\n",
    "temp = pd.get_dummies(X_test['edcat'],drop_first=True)\n",
    "X_test = pd.concat([X_test , temp],axis=1)\n",
    "X_test.rename(columns = {'2':'edcat2'}, inplace = True)\n",
    "X_test.rename(columns = {'3':'edcat3'}, inplace = True)\n",
    "X_test.rename(columns = {'4':'edcat4'}, inplace = True)\n",
    "X_test.rename(columns = {'5':'edcat5'}, inplace = True)\n",
    "\n",
    "X_test.head()"
   ]
  },
  {
   "cell_type": "code",
   "execution_count": 35,
   "id": "335e8a7e",
   "metadata": {},
   "outputs": [],
   "source": [
    "X_test.to_csv('X_test.csv',index=False)"
   ]
  },
  {
   "cell_type": "markdown",
   "id": "7f464579",
   "metadata": {},
   "source": [
    "###  Time to remove the outliers , as after transformation we still have outliers , then I'll remove them if there count is less than 5% of the total rows"
   ]
  },
  {
   "cell_type": "code",
   "execution_count": 36,
   "id": "19797cc0",
   "metadata": {},
   "outputs": [
    {
     "data": {
      "text/plain": [
       "(3155, 17)"
      ]
     },
     "execution_count": 36,
     "metadata": {},
     "output_type": "execute_result"
    }
   ],
   "source": [
    "X_train_data = pd.read_csv('X_train.csv')\n",
    "X_train = X_train_data.copy()\n",
    "X_train.shape"
   ]
  },
  {
   "cell_type": "markdown",
   "id": "39ad1629",
   "metadata": {},
   "source": [
    "Removing outliers Continuous variables (after scaling descrete features also became continuous)\n",
    "\n",
    "1. income\n",
    "2. creddebt\n",
    "3. othdebt\n",
    "4. carvalue\n",
    "5. age\n",
    "6. yrsed\n",
    "7. yrsempl\n",
    "8. address\n",
    "9. cars\n"
   ]
  },
  {
   "cell_type": "code",
   "execution_count": 37,
   "id": "3d7f62cf",
   "metadata": {},
   "outputs": [
    {
     "data": {
      "image/png": "[encoded data removed]",
      "text/plain": [
       "<Figure size 432x288 with 1 Axes>"
      ]
     },
     "metadata": {
      "needs_background": "light"
     },
     "output_type": "display_data"
    },
    {
     "data": {
      "image/png": "[encoded data removed]",
      "text/plain": [
       "<Figure size 432x288 with 1 Axes>"
      ]
     },
     "metadata": {
      "needs_background": "light"
     },
     "output_type": "display_data"
    },
    {
     "data": {
      "image/png": "[encoded data removed]",
      "text/plain": [
       "<Figure size 432x288 with 1 Axes>"
      ]
     },
     "metadata": {
      "needs_background": "light"
     },
     "output_type": "display_data"
    },
    {
     "data": {
      "image/png": "[encoded data removed]",
      "text/plain": [
       "<Figure size 432x288 with 1 Axes>"
      ]
     },
     "metadata": {
      "needs_background": "light"
     },
     "output_type": "display_data"
    },
    {
     "data": {
      "image/png": "[encoded data removed]",
      "text/plain": [
       "<Figure size 432x288 with 1 Axes>"
      ]
     },
     "metadata": {
      "needs_background": "light"
     },
     "output_type": "display_data"
    },
    {
     "data": {
      "image/png": "[encoded data removed]",
      "text/plain": [
       "<Figure size 432x288 with 1 Axes>"
      ]
     },
     "metadata": {
      "needs_background": "light"
     },
     "output_type": "display_data"
    },
    {
     "data": {
      "image/png": "[encoded data removed]",
      "text/plain": [
       "<Figure size 432x288 with 1 Axes>"
      ]
     },
     "metadata": {
      "needs_background": "light"
     },
     "output_type": "display_data"
    },
    {
     "data": {
      "image/png": "[encoded data removed]",
      "text/plain": [
       "<Figure size 432x288 with 1 Axes>"
      ]
     },
     "metadata": {
      "needs_background": "light"
     },
     "output_type": "display_data"
    },
    {
     "data": {
      "image/png": "[encoded data removed]",
      "text/plain": [
       "<Figure size 432x288 with 1 Axes>"
      ]
     },
     "metadata": {
      "needs_background": "light"
     },
     "output_type": "display_data"
    }
   ],
   "source": [
    "#ploting boxplots to visualize outliers\n",
    "conti_features = (feature for feature in X_train \n",
    "                  if 'income' in feature \n",
    "                  or 'creddebt' in feature \n",
    "                  or'othdebt' in feature\n",
    "                  or 'carvalue' in feature\n",
    "                  or 'age' in feature\n",
    "                  or 'yrsed' in feature\n",
    "                  or 'yrsempl' in feature\n",
    "                  or 'address' in feature\n",
    "                  or 'car' in feature\n",
    "                 )\n",
    "\n",
    "for feature in conti_features:\n",
    "    X_train.boxplot(column=feature)\n",
    "    plt.ylabel(feature)\n",
    "    plt.title(feature)\n",
    "    plt.show()\n"
   ]
  },
  {
   "cell_type": "markdown",
   "id": "aa28f89b",
   "metadata": {},
   "source": [
    "## outcome  : -\n",
    "        1. Income :- outliers above 3rd Quartile\n",
    "        2. age :- No outliers ### \n",
    "        3. yrsed :-  No outliers ### \n",
    "        4. yrsempl :- outliers above 3rd Quartile\n",
    "        5. creddebt :- outliers above 3rd Quartile and below 1st Quartile\n",
    "        4. othdebt :- outliers above 3rd Quartile and below 1st Quartile\n",
    "        5. address :-   outliers above 3rd Quartile\n",
    "        6. cars :- outliers above 3rd Quartile\n",
    "        7. carvalue :- No outliers ### \n",
    "        "
   ]
  },
  {
   "cell_type": "markdown",
   "id": "d24e2361",
   "metadata": {},
   "source": [
    "### Removing Outliers from income \n",
    "\n"
   ]
  },
  {
   "cell_type": "code",
   "execution_count": 38,
   "id": "9b3c6315",
   "metadata": {},
   "outputs": [],
   "source": [
    "Q1 = X_train['income'].quantile(0.25)\n",
    "  \n",
    "# Third quartile (Q3)\n",
    "Q3 =X_train['income'].quantile(0.75)\n",
    "  \n",
    "# Interquaritle range (IQR)\n",
    "IQR = Q3 - Q1\n"
   ]
  },
  {
   "cell_type": "code",
   "execution_count": 39,
   "id": "fe6327be",
   "metadata": {},
   "outputs": [
    {
     "data": {
      "text/plain": [
       "17"
      ]
     },
     "execution_count": 39,
     "metadata": {},
     "output_type": "execute_result"
    }
   ],
   "source": [
    "outliers=((X_train['income'] < (Q1 - 1.5 * IQR)) | (X_train['income'] > (Q3 + 1.5 * IQR)))\n",
    "outliers.sum()"
   ]
  },
  {
   "cell_type": "code",
   "execution_count": 40,
   "id": "bb80c42d",
   "metadata": {},
   "outputs": [
    {
     "name": "stderr",
     "output_type": "stream",
     "text": [
      "C:\\Users\\offic\\AppData\\Local\\Temp/ipykernel_7300/707814323.py:2: SettingWithCopyWarning: \n",
      "A value is trying to be set on a copy of a slice from a DataFrame\n",
      "\n",
      "See the caveats in the documentation: https://pandas.pydata.org/pandas-docs/stable/user_guide/indexing.html#returning-a-view-versus-a-copy\n",
      "  X_train['income'][outliers]  = np.nan\n"
     ]
    }
   ],
   "source": [
    "### changing the outliers to nan ,then removing the nan(s)\n",
    "X_train['income'][outliers]  = np.nan\n",
    "X_train = X_train.dropna()"
   ]
  },
  {
   "cell_type": "code",
   "execution_count": null,
   "id": "f565d284",
   "metadata": {},
   "outputs": [],
   "source": []
  },
  {
   "cell_type": "code",
   "execution_count": 41,
   "id": "cbf624d3",
   "metadata": {},
   "outputs": [
    {
     "data": {
      "image/png": "[encoded data removed]",
      "text/plain": [
       "<Figure size 432x288 with 1 Axes>"
      ]
     },
     "metadata": {
      "needs_background": "light"
     },
     "output_type": "display_data"
    },
    {
     "data": {
      "image/png": "[encoded data removed]",
      "text/plain": [
       "<Figure size 432x288 with 1 Axes>"
      ]
     },
     "metadata": {
      "needs_background": "light"
     },
     "output_type": "display_data"
    },
    {
     "data": {
      "image/png": "[encoded data removed]",
      "text/plain": [
       "<Figure size 432x288 with 1 Axes>"
      ]
     },
     "metadata": {
      "needs_background": "light"
     },
     "output_type": "display_data"
    },
    {
     "data": {
      "image/png": "[encoded data removed]",
      "text/plain": [
       "<Figure size 432x288 with 1 Axes>"
      ]
     },
     "metadata": {
      "needs_background": "light"
     },
     "output_type": "display_data"
    },
    {
     "data": {
      "image/png": "[encoded data removed]",
      "text/plain": [
       "<Figure size 432x288 with 1 Axes>"
      ]
     },
     "metadata": {
      "needs_background": "light"
     },
     "output_type": "display_data"
    },
    {
     "data": {
      "image/png": "[encoded data removed]",
      "text/plain": [
       "<Figure size 432x288 with 1 Axes>"
      ]
     },
     "metadata": {
      "needs_background": "light"
     },
     "output_type": "display_data"
    },
    {
     "data": {
      "image/png": "[encoded data removed]",
      "text/plain": [
       "<Figure size 432x288 with 1 Axes>"
      ]
     },
     "metadata": {
      "needs_background": "light"
     },
     "output_type": "display_data"
    },
    {
     "data": {
      "image/png": "[encoded data removed]",
      "text/plain": [
       "<Figure size 432x288 with 1 Axes>"
      ]
     },
     "metadata": {
      "needs_background": "light"
     },
     "output_type": "display_data"
    },
    {
     "data": {
      "image/png": "[encoded data removed]",
      "text/plain": [
       "<Figure size 432x288 with 1 Axes>"
      ]
     },
     "metadata": {
      "needs_background": "light"
     },
     "output_type": "display_data"
    }
   ],
   "source": [
    "### checking the result on drop on other variables.\n",
    "conti_features = (feature for feature in X_train \n",
    "                  if 'income' in feature \n",
    "                  or 'creddebt' in feature \n",
    "                  or'othdebt' in feature\n",
    "                  or 'carvalue' in feature\n",
    "                  or 'age' in feature\n",
    "                  or 'yrsed' in feature\n",
    "                  or 'yrsempl' in feature\n",
    "                  or 'address' in feature\n",
    "                  or 'car' in feature\n",
    "                 )\n",
    "\n",
    "for feature in conti_features:\n",
    "    X_train.boxplot(column=feature)\n",
    "    plt.ylabel(feature)\n",
    "    plt.title(feature)\n",
    "    plt.show()"
   ]
  },
  {
   "cell_type": "markdown",
   "id": "b7c330b6",
   "metadata": {},
   "source": [
    "### Removing outliers from yrsempl"
   ]
  },
  {
   "cell_type": "code",
   "execution_count": 42,
   "id": "d2899eaf",
   "metadata": {},
   "outputs": [],
   "source": [
    "\n",
    "Q1 = X_train['yrsempl'].quantile(0.25)\n",
    "  \n",
    "# Third quartile (Q3)\n",
    "Q3 =X_train['yrsempl'].quantile(0.75)\n",
    "  \n",
    "# Interquaritle range (IQR)\n",
    "IQR = Q3 - Q1\n",
    "\n"
   ]
  },
  {
   "cell_type": "code",
   "execution_count": 43,
   "id": "f33b6b24",
   "metadata": {},
   "outputs": [
    {
     "data": {
      "text/plain": [
       "105"
      ]
     },
     "execution_count": 43,
     "metadata": {},
     "output_type": "execute_result"
    }
   ],
   "source": [
    "outliers=((X_train['yrsempl'] < (Q1 - 1.5 * IQR)) | (X_train['yrsempl'] > (Q3 + 1.5 * IQR)))\n",
    "outliers.sum()"
   ]
  },
  {
   "cell_type": "code",
   "execution_count": 44,
   "id": "757ea116",
   "metadata": {},
   "outputs": [],
   "source": [
    "### changing the outliers to nan ,then removing the nan(s)\n",
    "X_train['yrsempl'][outliers]  = np.nan\n",
    "X_train = X_train.dropna()"
   ]
  },
  {
   "cell_type": "code",
   "execution_count": 45,
   "id": "abca892c",
   "metadata": {},
   "outputs": [
    {
     "data": {
      "image/png": "[encoded data removed]",
      "text/plain": [
       "<Figure size 432x288 with 1 Axes>"
      ]
     },
     "metadata": {
      "needs_background": "light"
     },
     "output_type": "display_data"
    },
    {
     "data": {
      "image/png": "[encoded data removed]",
      "text/plain": [
       "<Figure size 432x288 with 1 Axes>"
      ]
     },
     "metadata": {
      "needs_background": "light"
     },
     "output_type": "display_data"
    },
    {
     "data": {
      "image/png": "[encoded data removed]",
      "text/plain": [
       "<Figure size 432x288 with 1 Axes>"
      ]
     },
     "metadata": {
      "needs_background": "light"
     },
     "output_type": "display_data"
    },
    {
     "data": {
      "image/png": "[encoded data removed]",
      "text/plain": [
       "<Figure size 432x288 with 1 Axes>"
      ]
     },
     "metadata": {
      "needs_background": "light"
     },
     "output_type": "display_data"
    },
    {
     "data": {
      "image/png": "[encoded data removed]",
      "text/plain": [
       "<Figure size 432x288 with 1 Axes>"
      ]
     },
     "metadata": {
      "needs_background": "light"
     },
     "output_type": "display_data"
    },
    {
     "data": {
      "image/png": "[encoded data removed]",
      "text/plain": [
       "<Figure size 432x288 with 1 Axes>"
      ]
     },
     "metadata": {
      "needs_background": "light"
     },
     "output_type": "display_data"
    },
    {
     "data": {
      "image/png": "[encoded data removed]",
      "text/plain": [
       "<Figure size 432x288 with 1 Axes>"
      ]
     },
     "metadata": {
      "needs_background": "light"
     },
     "output_type": "display_data"
    },
    {
     "data": {
      "image/png": "[encoded data removed]",
      "text/plain": [
       "<Figure size 432x288 with 1 Axes>"
      ]
     },
     "metadata": {
      "needs_background": "light"
     },
     "output_type": "display_data"
    },
    {
     "data": {
      "image/png": "[encoded data removed]",
      "text/plain": [
       "<Figure size 432x288 with 1 Axes>"
      ]
     },
     "metadata": {
      "needs_background": "light"
     },
     "output_type": "display_data"
    }
   ],
   "source": [
    "### checking the result on drop on other variables.\n",
    "conti_features = (feature for feature in X_train \n",
    "                  if 'income' in feature \n",
    "                  or 'creddebt' in feature \n",
    "                  or'othdebt' in feature\n",
    "                  or 'carvalue' in feature\n",
    "                  or 'age' in feature\n",
    "                  or 'yrsed' in feature\n",
    "                  or 'yrsempl' in feature\n",
    "                  or 'address' in feature\n",
    "                  or 'car' in feature\n",
    "                 )\n",
    "\n",
    "for feature in conti_features:\n",
    "    X_train.boxplot(column=feature)\n",
    "    plt.ylabel(feature)\n",
    "    plt.title(feature)\n",
    "    plt.show()"
   ]
  },
  {
   "cell_type": "markdown",
   "id": "f9aa64ac",
   "metadata": {},
   "source": [
    "### Removing outliers from creddebt"
   ]
  },
  {
   "cell_type": "code",
   "execution_count": 46,
   "id": "862f7f6e",
   "metadata": {},
   "outputs": [],
   "source": [
    "\n",
    "Q1 = X_train['creddebt'].quantile(0.25)\n",
    "  \n",
    "# Third quartile (Q3)\n",
    "Q3 =X_train['creddebt'].quantile(0.75)\n",
    "  \n",
    "# Interquaritle range (IQR)\n",
    "IQR = Q3 - Q1"
   ]
  },
  {
   "cell_type": "code",
   "execution_count": 47,
   "id": "c5a5b667",
   "metadata": {},
   "outputs": [
    {
     "data": {
      "text/plain": [
       "38"
      ]
     },
     "execution_count": 47,
     "metadata": {},
     "output_type": "execute_result"
    }
   ],
   "source": [
    "outliers=((X_train['creddebt'] < (Q1 - 1.5 * IQR)) | (X_train['creddebt'] > (Q3 + 1.5 * IQR)))\n",
    "outliers.sum()"
   ]
  },
  {
   "cell_type": "code",
   "execution_count": 48,
   "id": "435dcdd3",
   "metadata": {},
   "outputs": [],
   "source": [
    "### changing the outliers to nan ,then removing the nan(s)\n",
    "X_train['creddebt'][outliers]  = np.nan\n",
    "X_train =X_train.dropna()"
   ]
  },
  {
   "cell_type": "code",
   "execution_count": 49,
   "id": "f5e05663",
   "metadata": {},
   "outputs": [
    {
     "data": {
      "image/png": "[encoded data removed]",
      "text/plain": [
       "<Figure size 432x288 with 1 Axes>"
      ]
     },
     "metadata": {
      "needs_background": "light"
     },
     "output_type": "display_data"
    },
    {
     "data": {
      "image/png": "[encoded data removed]",
      "text/plain": [
       "<Figure size 432x288 with 1 Axes>"
      ]
     },
     "metadata": {
      "needs_background": "light"
     },
     "output_type": "display_data"
    },
    {
     "data": {
      "image/png": "[encoded data removed]",
      "text/plain": [
       "<Figure size 432x288 with 1 Axes>"
      ]
     },
     "metadata": {
      "needs_background": "light"
     },
     "output_type": "display_data"
    },
    {
     "data": {
      "image/png": "[encoded data removed]",
      "text/plain": [
       "<Figure size 432x288 with 1 Axes>"
      ]
     },
     "metadata": {
      "needs_background": "light"
     },
     "output_type": "display_data"
    },
    {
     "data": {
      "image/png": "[encoded data removed]",
      "text/plain": [
       "<Figure size 432x288 with 1 Axes>"
      ]
     },
     "metadata": {
      "needs_background": "light"
     },
     "output_type": "display_data"
    },
    {
     "data": {
      "image/png": "[encoded data removed]",
      "text/plain": [
       "<Figure size 432x288 with 1 Axes>"
      ]
     },
     "metadata": {
      "needs_background": "light"
     },
     "output_type": "display_data"
    },
    {
     "data": {
      "image/png": "[encoded data removed]",
      "text/plain": [
       "<Figure size 432x288 with 1 Axes>"
      ]
     },
     "metadata": {
      "needs_background": "light"
     },
     "output_type": "display_data"
    },
    {
     "data": {
      "image/png": "[encoded data removed]",
      "text/plain": [
       "<Figure size 432x288 with 1 Axes>"
      ]
     },
     "metadata": {
      "needs_background": "light"
     },
     "output_type": "display_data"
    },
    {
     "data": {
      "image/png": "[encoded data removed]",
      "text/plain": [
       "<Figure size 432x288 with 1 Axes>"
      ]
     },
     "metadata": {
      "needs_background": "light"
     },
     "output_type": "display_data"
    }
   ],
   "source": [
    "### checking the result on drop on other variables.\n",
    "conti_features = (feature for feature in X_train \n",
    "                  if 'income' in feature \n",
    "                  or 'creddebt' in feature \n",
    "                  or'othdebt' in feature\n",
    "                  or 'carvalue' in feature\n",
    "                  or 'age' in feature\n",
    "                  or 'yrsed' in feature\n",
    "                  or 'yrsempl' in feature\n",
    "                  or 'address' in feature\n",
    "                  or 'car' in feature\n",
    "                 )\n",
    "\n",
    "for feature in conti_features:\n",
    "    X_train.boxplot(column=feature)\n",
    "    plt.ylabel(feature)\n",
    "    plt.title(feature)\n",
    "    plt.show()"
   ]
  },
  {
   "cell_type": "markdown",
   "id": "6d75cbe3",
   "metadata": {},
   "source": [
    "### Removing outliers from othdebt"
   ]
  },
  {
   "cell_type": "code",
   "execution_count": 50,
   "id": "454b8c87",
   "metadata": {},
   "outputs": [],
   "source": [
    "Q1 = X_train['othdebt'].quantile(0.25)\n",
    "  \n",
    "# Third quartile (Q3)\n",
    "Q3 =X_train['othdebt'].quantile(0.75)\n",
    "  \n",
    "# Interquaritle range (IQR)\n",
    "IQR = Q3 - Q1"
   ]
  },
  {
   "cell_type": "code",
   "execution_count": 51,
   "id": "9c5e8227",
   "metadata": {},
   "outputs": [
    {
     "data": {
      "text/plain": [
       "22"
      ]
     },
     "execution_count": 51,
     "metadata": {},
     "output_type": "execute_result"
    }
   ],
   "source": [
    "outliers=((X_train['othdebt'] < (Q1 - 1.5 * IQR)) | (X_train['othdebt'] > (Q3 + 1.5 * IQR)))\n",
    "outliers.sum()"
   ]
  },
  {
   "cell_type": "code",
   "execution_count": 52,
   "id": "9bb1d808",
   "metadata": {},
   "outputs": [],
   "source": [
    "### changing the outliers to nan ,then removing the nan(s)\n",
    "X_train['othdebt'][outliers]  = np.nan\n",
    "X_train = X_train.dropna()"
   ]
  },
  {
   "cell_type": "code",
   "execution_count": 53,
   "id": "db86eba0",
   "metadata": {},
   "outputs": [
    {
     "data": {
      "image/png": "[encoded data removed]",
      "text/plain": [
       "<Figure size 432x288 with 1 Axes>"
      ]
     },
     "metadata": {
      "needs_background": "light"
     },
     "output_type": "display_data"
    },
    {
     "data": {
      "image/png": "[encoded data removed]",
      "text/plain": [
       "<Figure size 432x288 with 1 Axes>"
      ]
     },
     "metadata": {
      "needs_background": "light"
     },
     "output_type": "display_data"
    },
    {
     "data": {
      "image/png": "[encoded data removed]",
      "text/plain": [
       "<Figure size 432x288 with 1 Axes>"
      ]
     },
     "metadata": {
      "needs_background": "light"
     },
     "output_type": "display_data"
    },
    {
     "data": {
      "image/png": "[encoded data removed]",
      "text/plain": [
       "<Figure size 432x288 with 1 Axes>"
      ]
     },
     "metadata": {
      "needs_background": "light"
     },
     "output_type": "display_data"
    },
    {
     "data": {
      "image/png": "[encoded data removed]",
      "text/plain": [
       "<Figure size 432x288 with 1 Axes>"
      ]
     },
     "metadata": {
      "needs_background": "light"
     },
     "output_type": "display_data"
    },
    {
     "data": {
      "image/png": "[encoded data removed]",
      "text/plain": [
       "<Figure size 432x288 with 1 Axes>"
      ]
     },
     "metadata": {
      "needs_background": "light"
     },
     "output_type": "display_data"
    },
    {
     "data": {
      "image/png": "[encoded data removed]",
      "text/plain": [
       "<Figure size 432x288 with 1 Axes>"
      ]
     },
     "metadata": {
      "needs_background": "light"
     },
     "output_type": "display_data"
    },
    {
     "data": {
      "image/png": "[encoded data removed]",
      "text/plain": [
       "<Figure size 432x288 with 1 Axes>"
      ]
     },
     "metadata": {
      "needs_background": "light"
     },
     "output_type": "display_data"
    },
    {
     "data": {
      "image/png": "[encoded data removed]",
      "text/plain": [
       "<Figure size 432x288 with 1 Axes>"
      ]
     },
     "metadata": {
      "needs_background": "light"
     },
     "output_type": "display_data"
    }
   ],
   "source": [
    "conti_features = (feature for feature in X_train \n",
    "                  if 'income' in feature \n",
    "                  or 'creddebt' in feature \n",
    "                  or'othdebt' in feature\n",
    "                  or 'carvalue' in feature\n",
    "                  or 'age' in feature\n",
    "                  or 'yrsed' in feature\n",
    "                  or 'yrsempl' in feature\n",
    "                  or 'address' in feature\n",
    "                  or 'car' in feature\n",
    "                 )\n",
    "\n",
    "for feature in conti_features:\n",
    "    X_train.boxplot(column=feature)\n",
    "    plt.ylabel(feature)\n",
    "    plt.title(feature)\n",
    "    plt.show()"
   ]
  },
  {
   "cell_type": "markdown",
   "id": "dd5963f5",
   "metadata": {},
   "source": [
    "### Removing Outliers from address"
   ]
  },
  {
   "cell_type": "code",
   "execution_count": 54,
   "id": "1a55ad15",
   "metadata": {},
   "outputs": [],
   "source": [
    "Q1 = X_train['address'].quantile(0.25)\n",
    "  \n",
    "# Third quartile (Q3)\n",
    "Q3 =X_train['address'].quantile(0.75)\n",
    "  \n",
    "# Interquaritle range (IQR)\n",
    "IQR = Q3 - Q1"
   ]
  },
  {
   "cell_type": "code",
   "execution_count": 55,
   "id": "0ce53dbf",
   "metadata": {},
   "outputs": [
    {
     "data": {
      "text/plain": [
       "7"
      ]
     },
     "execution_count": 55,
     "metadata": {},
     "output_type": "execute_result"
    }
   ],
   "source": [
    "outliers=((X_train['address'] < (Q1 - 1.5 * IQR)) | (X_train['address'] > (Q3 + 1.5 * IQR)))\n",
    "outliers.sum()"
   ]
  },
  {
   "cell_type": "code",
   "execution_count": 56,
   "id": "6ce46af1",
   "metadata": {},
   "outputs": [],
   "source": [
    "### changing the outliers to nan ,then removing the nan(s)\n",
    "X_train['address'][outliers]  = np.nan\n",
    "X_train =X_train.dropna()\n"
   ]
  },
  {
   "cell_type": "code",
   "execution_count": 57,
   "id": "b9ba3760",
   "metadata": {},
   "outputs": [
    {
     "data": {
      "image/png": "[encoded data removed]",
      "text/plain": [
       "<Figure size 432x288 with 1 Axes>"
      ]
     },
     "metadata": {
      "needs_background": "light"
     },
     "output_type": "display_data"
    },
    {
     "data": {
      "image/png": "[encoded data removed]",
      "text/plain": [
       "<Figure size 432x288 with 1 Axes>"
      ]
     },
     "metadata": {
      "needs_background": "light"
     },
     "output_type": "display_data"
    },
    {
     "data": {
      "image/png": "[encoded data removed]",
      "text/plain": [
       "<Figure size 432x288 with 1 Axes>"
      ]
     },
     "metadata": {
      "needs_background": "light"
     },
     "output_type": "display_data"
    },
    {
     "data": {
      "image/png": "[encoded data removed]",
      "text/plain": [
       "<Figure size 432x288 with 1 Axes>"
      ]
     },
     "metadata": {
      "needs_background": "light"
     },
     "output_type": "display_data"
    },
    {
     "data": {
      "image/png": "[encoded data removed]",
      "text/plain": [
       "<Figure size 432x288 with 1 Axes>"
      ]
     },
     "metadata": {
      "needs_background": "light"
     },
     "output_type": "display_data"
    },
    {
     "data": {
      "image/png": "[encoded data removed]",
      "text/plain": [
       "<Figure size 432x288 with 1 Axes>"
      ]
     },
     "metadata": {
      "needs_background": "light"
     },
     "output_type": "display_data"
    },
    {
     "data": {
      "image/png": "[encoded data removed]",
      "text/plain": [
       "<Figure size 432x288 with 1 Axes>"
      ]
     },
     "metadata": {
      "needs_background": "light"
     },
     "output_type": "display_data"
    },
    {
     "data": {
      "image/png": "[encoded data removed]",
      "text/plain": [
       "<Figure size 432x288 with 1 Axes>"
      ]
     },
     "metadata": {
      "needs_background": "light"
     },
     "output_type": "display_data"
    },
    {
     "data": {
      "image/png": "[encoded data removed]",
      "text/plain": [
       "<Figure size 432x288 with 1 Axes>"
      ]
     },
     "metadata": {
      "needs_background": "light"
     },
     "output_type": "display_data"
    }
   ],
   "source": [
    "conti_features = (feature for feature in X_train \n",
    "                  if 'income' in feature \n",
    "                  or 'creddebt' in feature \n",
    "                  or'othdebt' in feature\n",
    "                  or 'carvalue' in feature\n",
    "                  or 'age' in feature\n",
    "                  or 'yrsed' in feature\n",
    "                  or 'yrsempl' in feature\n",
    "                  or 'address' in feature\n",
    "                  or 'car' in feature\n",
    "                 )\n",
    "\n",
    "for feature in conti_features:\n",
    "    X_train.boxplot(column=feature)\n",
    "    plt.ylabel(feature)\n",
    "    plt.title(feature)\n",
    "    plt.show()"
   ]
  },
  {
   "cell_type": "markdown",
   "id": "c28d8e09",
   "metadata": {},
   "source": [
    "### Removing outliers from cars"
   ]
  },
  {
   "cell_type": "code",
   "execution_count": 58,
   "id": "601fce72",
   "metadata": {},
   "outputs": [],
   "source": [
    "Q1 = X_train['cars'].quantile(0.25)\n",
    "  \n",
    "# Third quartile (Q3)\n",
    "Q3 =X_train['cars'].quantile(0.75)\n",
    "  \n",
    "# Interquaritle range (IQR)\n",
    "IQR = Q3 - Q1"
   ]
  },
  {
   "cell_type": "code",
   "execution_count": 59,
   "id": "26cafe29",
   "metadata": {},
   "outputs": [
    {
     "data": {
      "text/plain": [
       "42"
      ]
     },
     "execution_count": 59,
     "metadata": {},
     "output_type": "execute_result"
    }
   ],
   "source": [
    "outliers=((X_train['cars'] < (Q1 - 1.5 * IQR)) | (X_train['cars'] > (Q3 + 1.5 * IQR)))\n",
    "outliers.sum()"
   ]
  },
  {
   "cell_type": "code",
   "execution_count": 60,
   "id": "89800e4f",
   "metadata": {},
   "outputs": [],
   "source": [
    "### changing the outliers to nan ,then removing the nan(s)\n",
    "X_train['cars'][outliers]  = np.nan\n",
    "X_train = X_train.dropna()"
   ]
  },
  {
   "cell_type": "code",
   "execution_count": 61,
   "id": "2f714d59",
   "metadata": {},
   "outputs": [
    {
     "data": {
      "image/png": "[encoded data removed]",
      "text/plain": [
       "<Figure size 432x288 with 1 Axes>"
      ]
     },
     "metadata": {
      "needs_background": "light"
     },
     "output_type": "display_data"
    },
    {
     "data": {
      "image/png": "[encoded data removed]",
      "text/plain": [
       "<Figure size 432x288 with 1 Axes>"
      ]
     },
     "metadata": {
      "needs_background": "light"
     },
     "output_type": "display_data"
    },
    {
     "data": {
      "image/png": "[encoded data removed]",
      "text/plain": [
       "<Figure size 432x288 with 1 Axes>"
      ]
     },
     "metadata": {
      "needs_background": "light"
     },
     "output_type": "display_data"
    },
    {
     "data": {
      "image/png": "[encoded data removed]",
      "text/plain": [
       "<Figure size 432x288 with 1 Axes>"
      ]
     },
     "metadata": {
      "needs_background": "light"
     },
     "output_type": "display_data"
    },
    {
     "data": {
      "image/png": "[encoded data removed]",
      "text/plain": [
       "<Figure size 432x288 with 1 Axes>"
      ]
     },
     "metadata": {
      "needs_background": "light"
     },
     "output_type": "display_data"
    },
    {
     "data": {
      "image/png": "[encoded data removed]",
      "text/plain": [
       "<Figure size 432x288 with 1 Axes>"
      ]
     },
     "metadata": {
      "needs_background": "light"
     },
     "output_type": "display_data"
    },
    {
     "data": {
      "image/png": "[encoded data removed]",
      "text/plain": [
       "<Figure size 432x288 with 1 Axes>"
      ]
     },
     "metadata": {
      "needs_background": "light"
     },
     "output_type": "display_data"
    },
    {
     "data": {
      "image/png": "[encoded data removed]",
      "text/plain": [
       "<Figure size 432x288 with 1 Axes>"
      ]
     },
     "metadata": {
      "needs_background": "light"
     },
     "output_type": "display_data"
    },
    {
     "data": {
      "image/png": "[encoded data removed]",
      "text/plain": [
       "<Figure size 432x288 with 1 Axes>"
      ]
     },
     "metadata": {
      "needs_background": "light"
     },
     "output_type": "display_data"
    }
   ],
   "source": [
    "conti_features = (feature for feature in X_train \n",
    "                  if 'income' in feature \n",
    "                  or 'creddebt' in feature \n",
    "                  or'othdebt' in feature\n",
    "                  or 'carvalue' in feature\n",
    "                  or 'age' in feature\n",
    "                  or 'yrsed' in feature\n",
    "                  or 'yrsempl' in feature\n",
    "                  or 'address' in feature\n",
    "                  or 'car' in feature\n",
    "                 )\n",
    "\n",
    "for feature in conti_features:\n",
    "    X_train.boxplot(column=feature)\n",
    "    plt.ylabel(feature)\n",
    "    plt.title(feature)\n",
    "    plt.show()"
   ]
  },
  {
   "cell_type": "code",
   "execution_count": 62,
   "id": "84f64e01",
   "metadata": {},
   "outputs": [
    {
     "data": {
      "text/plain": [
       "(2924, 17)"
      ]
     },
     "execution_count": 62,
     "metadata": {},
     "output_type": "execute_result"
    }
   ],
   "source": [
    "\n",
    "X_train.to_csv('X_train.csv',index=False)\n",
    "X_train.shape"
   ]
  },
  {
   "cell_type": "markdown",
   "id": "7857bc0d",
   "metadata": {},
   "source": [
    "## Handling Outliers for X_test"
   ]
  },
  {
   "cell_type": "code",
   "execution_count": 63,
   "id": "3ad4749e",
   "metadata": {},
   "outputs": [
    {
     "data": {
      "text/plain": [
       "(1353, 17)"
      ]
     },
     "execution_count": 63,
     "metadata": {},
     "output_type": "execute_result"
    }
   ],
   "source": [
    "X_test_data = pd.read_csv('X_test.csv')\n",
    "X_test = X_test_data.copy()\n",
    "X_test.shape"
   ]
  },
  {
   "cell_type": "raw",
   "id": "39da1b70",
   "metadata": {},
   "source": [
    "conti_features = (feature for feature in X_test \n",
    "                  if 'income' in feature \n",
    "                  or 'creddebt' in feature \n",
    "                  or'othdebt' in feature\n",
    "                  or 'carvalue' in feature\n",
    "                  or 'age' in feature\n",
    "                  or 'yrsed' in feature\n",
    "                  or 'yrsempl' in feature\n",
    "                  or 'address' in feature\n",
    "                  or 'car' in feature\n",
    "                 )\n",
    "\n",
    "for feature in conti_features:\n",
    "    X_test.boxplot(column=feature)\n",
    "    plt.ylabel(feature)\n",
    "    plt.title(feature)\n",
    "    plt.show()"
   ]
  },
  {
   "cell_type": "code",
   "execution_count": 64,
   "id": "16e128c9",
   "metadata": {},
   "outputs": [
    {
     "data": {
      "text/plain": [
       "6"
      ]
     },
     "execution_count": 64,
     "metadata": {},
     "output_type": "execute_result"
    }
   ],
   "source": [
    "Q1 = X_test['income'].quantile(0.25)\n",
    "  \n",
    "# Third quartile (Q3)\n",
    "Q3 =X_test['income'].quantile(0.75)\n",
    "  \n",
    "# Interquaritle range (IQR)\n",
    "IQR = Q3 - Q1\n",
    "\n",
    "outliers=((X_test['income'] < (Q1 - 1.5 * IQR)) | (X_test['income'] > (Q3 + 1.5 * IQR)))\n",
    "outliers.sum()"
   ]
  },
  {
   "cell_type": "code",
   "execution_count": 65,
   "id": "138b3eb1",
   "metadata": {},
   "outputs": [
    {
     "name": "stderr",
     "output_type": "stream",
     "text": [
      "C:\\Users\\offic\\AppData\\Local\\Temp/ipykernel_7300/3942169469.py:2: SettingWithCopyWarning: \n",
      "A value is trying to be set on a copy of a slice from a DataFrame\n",
      "\n",
      "See the caveats in the documentation: https://pandas.pydata.org/pandas-docs/stable/user_guide/indexing.html#returning-a-view-versus-a-copy\n",
      "  X_test['income'][outliers]  = np.nan\n"
     ]
    }
   ],
   "source": [
    "### changing the outliers to nan ,then removing the nan(s)\n",
    "X_test['income'][outliers]  = np.nan\n",
    "X_test = X_test.dropna()"
   ]
  },
  {
   "cell_type": "code",
   "execution_count": 66,
   "id": "a917ec4e",
   "metadata": {},
   "outputs": [
    {
     "data": {
      "text/plain": [
       "37"
      ]
     },
     "execution_count": 66,
     "metadata": {},
     "output_type": "execute_result"
    }
   ],
   "source": [
    "Q1 = X_test['yrsempl'].quantile(0.25)\n",
    "  \n",
    "# Third quartile (Q3)\n",
    "Q3 =X_test['yrsempl'].quantile(0.75)\n",
    "  \n",
    "# Interquaritle range (IQR)\n",
    "IQR = Q3 - Q1\n",
    "\n",
    "outliers=((X_test['yrsempl'] < (Q1 - 1.5 * IQR)) | (X_test['yrsempl'] > (Q3 + 1.5 * IQR)))\n",
    "outliers.sum()\n",
    "\n"
   ]
  },
  {
   "cell_type": "code",
   "execution_count": 67,
   "id": "099feea8",
   "metadata": {},
   "outputs": [],
   "source": [
    "### changing the outliers to nan ,then removing the nan(s)\n",
    "X_test['yrsempl'][outliers]  = np.nan\n",
    "X_test = X_test.dropna()"
   ]
  },
  {
   "cell_type": "code",
   "execution_count": 68,
   "id": "2f92ba60",
   "metadata": {},
   "outputs": [
    {
     "data": {
      "text/plain": [
       "13"
      ]
     },
     "execution_count": 68,
     "metadata": {},
     "output_type": "execute_result"
    }
   ],
   "source": [
    "Q1 = X_test['creddebt'].quantile(0.25)\n",
    "  \n",
    "# Third quartile (Q3)\n",
    "Q3 =X_test['creddebt'].quantile(0.75)\n",
    "  \n",
    "# Interquaritle range (IQR)\n",
    "IQR = Q3 - Q1\n",
    "\n",
    "outliers=((X_test['creddebt'] < (Q1 - 1.5 * IQR)) | (X_test['creddebt'] > (Q3 + 1.5 * IQR)))\n",
    "outliers.sum()\n"
   ]
  },
  {
   "cell_type": "code",
   "execution_count": 69,
   "id": "e5418480",
   "metadata": {},
   "outputs": [],
   "source": [
    "### changing the outliers to nan ,then removing the nan(s)\n",
    "X_test['creddebt'][outliers]  = np.nan\n",
    "X_test = X_test.dropna()"
   ]
  },
  {
   "cell_type": "code",
   "execution_count": 70,
   "id": "3de8fa04",
   "metadata": {},
   "outputs": [
    {
     "data": {
      "text/plain": [
       "10"
      ]
     },
     "execution_count": 70,
     "metadata": {},
     "output_type": "execute_result"
    }
   ],
   "source": [
    "Q1 = X_test['othdebt'].quantile(0.25)\n",
    "  \n",
    "# Third quartile (Q3)\n",
    "Q3 =X_test['othdebt'].quantile(0.75)\n",
    "  \n",
    "# Interquaritle range (IQR)\n",
    "IQR = Q3 - Q1\n",
    "\n",
    "outliers=((X_test['othdebt'] < (Q1 - 1.5 * IQR)) | (X_test['othdebt'] > (Q3 + 1.5 * IQR)))\n",
    "outliers.sum()\n"
   ]
  },
  {
   "cell_type": "code",
   "execution_count": 71,
   "id": "a8afeab1",
   "metadata": {},
   "outputs": [],
   "source": [
    "### changing the outliers to nan ,then removing the nan(s)\n",
    "X_test['othdebt'][outliers]  = np.nan\n",
    "X_test = X_test.dropna()"
   ]
  },
  {
   "cell_type": "code",
   "execution_count": 72,
   "id": "309a96cb",
   "metadata": {},
   "outputs": [
    {
     "data": {
      "text/plain": [
       "15"
      ]
     },
     "execution_count": 72,
     "metadata": {},
     "output_type": "execute_result"
    }
   ],
   "source": [
    "Q1 = X_test['address'].quantile(0.25)\n",
    "  \n",
    "# Third quartile (Q3)\n",
    "Q3 =X_test['address'].quantile(0.75)\n",
    "  \n",
    "# Interquaritle range (IQR)\n",
    "IQR = Q3 - Q1\n",
    "\n",
    "outliers=((X_test['address'] < (Q1 - 1.5 * IQR)) | (X_test['address'] > (Q3 + 1.5 * IQR)))\n",
    "outliers.sum()\n"
   ]
  },
  {
   "cell_type": "code",
   "execution_count": 73,
   "id": "fddd4c6e",
   "metadata": {},
   "outputs": [],
   "source": [
    "### changing the outliers to nan ,then removing the nan(s)\n",
    "X_test['address'][outliers]  = np.nan\n",
    "X_test = X_test.dropna()"
   ]
  },
  {
   "cell_type": "code",
   "execution_count": 80,
   "id": "483a5a12",
   "metadata": {},
   "outputs": [
    {
     "data": {
      "image/png": "[encoded data removed]",
      "text/plain": [
       "<Figure size 432x288 with 1 Axes>"
      ]
     },
     "metadata": {
      "needs_background": "light"
     },
     "output_type": "display_data"
    },
    {
     "data": {
      "image/png": "[encoded data removed]",
      "text/plain": [
       "<Figure size 432x288 with 1 Axes>"
      ]
     },
     "metadata": {
      "needs_background": "light"
     },
     "output_type": "display_data"
    },
    {
     "data": {
      "image/png": "[encoded data removed]",
      "text/plain": [
       "<Figure size 432x288 with 1 Axes>"
      ]
     },
     "metadata": {
      "needs_background": "light"
     },
     "output_type": "display_data"
    },
    {
     "data": {
      "image/png": "[encoded data removed]",
      "text/plain": [
       "<Figure size 432x288 with 1 Axes>"
      ]
     },
     "metadata": {
      "needs_background": "light"
     },
     "output_type": "display_data"
    },
    {
     "data": {
      "image/png": "[encoded data removed]",
      "text/plain": [
       "<Figure size 432x288 with 1 Axes>"
      ]
     },
     "metadata": {
      "needs_background": "light"
     },
     "output_type": "display_data"
    },
    {
     "data": {
      "image/png": "[encoded data removed]",
      "text/plain": [
       "<Figure size 432x288 with 1 Axes>"
      ]
     },
     "metadata": {
      "needs_background": "light"
     },
     "output_type": "display_data"
    },
    {
     "data": {
      "image/png": "[encoded data removed]",
      "text/plain": [
       "<Figure size 432x288 with 1 Axes>"
      ]
     },
     "metadata": {
      "needs_background": "light"
     },
     "output_type": "display_data"
    },
    {
     "data": {
      "image/png": "[encoded data removed]",
      "text/plain": [
       "<Figure size 432x288 with 1 Axes>"
      ]
     },
     "metadata": {
      "needs_background": "light"
     },
     "output_type": "display_data"
    },
    {
     "data": {
      "image/png": "[encoded data removed]",
      "text/plain": [
       "<Figure size 432x288 with 1 Axes>"
      ]
     },
     "metadata": {
      "needs_background": "light"
     },
     "output_type": "display_data"
    }
   ],
   "source": [
    "conti_features = (feature for feature in X_test \n",
    "                  if 'income' in feature \n",
    "                  or 'creddebt' in feature \n",
    "                  or'othdebt' in feature\n",
    "                  or 'carvalue' in feature\n",
    "                  or 'age' in feature\n",
    "                  or 'yrsed' in feature\n",
    "                  or 'yrsempl' in feature\n",
    "                  or 'address' in feature\n",
    "                  or 'car' in feature\n",
    "                 )\n",
    "\n",
    "for feature in conti_features:\n",
    "    X_test.boxplot(column=feature)\n",
    "    plt.ylabel(feature)\n",
    "    plt.title(feature)\n",
    "    plt.show()"
   ]
  },
  {
   "cell_type": "code",
   "execution_count": 75,
   "id": "778b3640",
   "metadata": {},
   "outputs": [
    {
     "data": {
      "text/plain": [
       "67"
      ]
     },
     "execution_count": 75,
     "metadata": {},
     "output_type": "execute_result"
    }
   ],
   "source": [
    "Q1 = X_test['cars'].quantile(0.25)\n",
    "  \n",
    "# Third quartile (Q3)\n",
    "Q3 =X_test['cars'].quantile(0.75)\n",
    "  \n",
    "# Interquaritle range (IQR)\n",
    "IQR = Q3 - Q1\n",
    "\n",
    "outliers=((X_test['cars'] < (Q1 - 1.5 * IQR)) | (X_test['cars'] > (Q3 + 1.5 * IQR)))\n",
    "outliers.sum()\n"
   ]
  },
  {
   "cell_type": "code",
   "execution_count": 76,
   "id": "d7a57be0",
   "metadata": {},
   "outputs": [],
   "source": [
    "### changing the outliers to nan ,then removing the nan(s)\n",
    "X_test['cars'][outliers]  = np.nan\n",
    "X_test = X_test.dropna()"
   ]
  },
  {
   "cell_type": "code",
   "execution_count": 77,
   "id": "cffaad4d",
   "metadata": {},
   "outputs": [
    {
     "data": {
      "text/plain": [
       "1"
      ]
     },
     "execution_count": 77,
     "metadata": {},
     "output_type": "execute_result"
    }
   ],
   "source": [
    "Q1 = X_test['carvalue'].quantile(0.25)\n",
    "  \n",
    "# Third quartile (Q3)\n",
    "Q3 =X_test['carvalue'].quantile(0.75)\n",
    "  \n",
    "# Interquaritle range (IQR)\n",
    "IQR = Q3 - Q1\n",
    "\n",
    "outliers=((X_test['carvalue'] < (Q1 - 1.5 * IQR)) | (X_test['carvalue'] > (Q3 + 1.5 * IQR)))\n",
    "outliers.sum()\n"
   ]
  },
  {
   "cell_type": "code",
   "execution_count": 78,
   "id": "28ef4388",
   "metadata": {},
   "outputs": [],
   "source": [
    "### changing the outliers to nan ,then removing the nan(s)\n",
    "X_test['carvalue'][outliers]  = np.nan\n",
    "X_test = X_test.dropna()"
   ]
  },
  {
   "cell_type": "code",
   "execution_count": 79,
   "id": "c20e77bb",
   "metadata": {},
   "outputs": [
    {
     "data": {
      "text/plain": [
       "(1204, 17)"
      ]
     },
     "execution_count": 79,
     "metadata": {},
     "output_type": "execute_result"
    }
   ],
   "source": [
    "\n",
    "X_test.to_csv('X_test.csv',index=False)\n",
    "X_test.shape"
   ]
  },
  {
   "cell_type": "markdown",
   "id": "b8546630",
   "metadata": {},
   "source": [
    "# Now We Are Ready For Feature Selection "
   ]
  },
  {
   "cell_type": "code",
   "execution_count": null,
   "id": "b53c838e",
   "metadata": {},
   "outputs": [],
   "source": []
  }
 ],
 "metadata": {
  "kernelspec": {
   "display_name": "Python 3 (ipykernel)",
   "language": "python",
   "name": "python3"
  },
  "language_info": {
   "codemirror_mode": {
    "name": "ipython",
    "version": 3
   },
   "file_extension": ".py",
   "mimetype": "text/x-python",
   "name": "python",
   "nbconvert_exporter": "python",
   "pygments_lexer": "ipython3",
   "version": "3.9.7"
  }
 },
 "nbformat": 4,
 "nbformat_minor": 5
}
