{
 "cells": [
  {
   "cell_type": "markdown",
   "id": "c135fa64",
   "metadata": {},
   "source": [
    "# <font size='10' color='#1ABC9C'> Model Creation </font>"
   ]
  },
  {
   "cell_type": "code",
   "execution_count": 1,
   "id": "d2bc8d5d",
   "metadata": {},
   "outputs": [],
   "source": [
    "import pandas as pd\n",
    "import numpy as np\n",
    "import matplotlib.pyplot as plt\n",
    "%matplotlib inline \n",
    "## When using the 'inline' backend, \n",
    "## your matplotlib graphs will be included in your notebook, next to the code.\n",
    "import seaborn as sns\n",
    "from sklearn import linear_model\n",
    "from sklearn.metrics import r2_score\n",
    "from sklearn.metrics import mean_squared_error\n",
    "from sklearn.preprocessing import MinMaxScaler\n",
    "import statsmodels.formula.api as smf\n",
    "import statsmodels.api as sm\n",
    "import itertools\n",
    "import time\n",
    "pd.pandas.set_option('display.max_columns',None)"
   ]
  },
  {
   "cell_type": "code",
   "execution_count": 2,
   "id": "3dade2fb",
   "metadata": {},
   "outputs": [
    {
     "name": "stdout",
     "output_type": "stream",
     "text": [
      "(2924, 5) (1204, 5)\n"
     ]
    },
    {
     "data": {
      "text/html": [
       "<div>\n",
       "<style scoped>\n",
       "    .dataframe tbody tr th:only-of-type {\n",
       "        vertical-align: middle;\n",
       "    }\n",
       "\n",
       "    .dataframe tbody tr th {\n",
       "        vertical-align: top;\n",
       "    }\n",
       "\n",
       "    .dataframe thead th {\n",
       "        text-align: right;\n",
       "    }\n",
       "</style>\n",
       "<table border=\"1\" class=\"dataframe\">\n",
       "  <thead>\n",
       "    <tr style=\"text-align: right;\">\n",
       "      <th></th>\n",
       "      <th>income</th>\n",
       "    </tr>\n",
       "  </thead>\n",
       "  <tbody>\n",
       "    <tr>\n",
       "      <th>0</th>\n",
       "      <td>0.493023</td>\n",
       "    </tr>\n",
       "    <tr>\n",
       "      <th>1</th>\n",
       "      <td>0.673929</td>\n",
       "    </tr>\n",
       "    <tr>\n",
       "      <th>2</th>\n",
       "      <td>0.298995</td>\n",
       "    </tr>\n",
       "    <tr>\n",
       "      <th>3</th>\n",
       "      <td>0.110763</td>\n",
       "    </tr>\n",
       "    <tr>\n",
       "      <th>4</th>\n",
       "      <td>0.451989</td>\n",
       "    </tr>\n",
       "  </tbody>\n",
       "</table>\n",
       "</div>"
      ],
      "text/plain": [
       "     income\n",
       "0  0.493023\n",
       "1  0.673929\n",
       "2  0.298995\n",
       "3  0.110763\n",
       "4  0.451989"
      ]
     },
     "execution_count": 2,
     "metadata": {},
     "output_type": "execute_result"
    }
   ],
   "source": [
    "X_train=pd.read_csv('X_train.csv')\n",
    "X_test= pd.read_csv('X_test.csv')\n",
    "X_test_No_Drop=pd.read_csv('X_test_no_drop.csv')\n",
    "X_train_No_Drop = pd.read_csv('X_train_no_drop.csv')\n",
    "\n",
    "Y_train=pd.read_csv('Y_train.csv')\n",
    "Y_test= pd.read_csv('Y_test.csv')\n",
    "\n",
    "##What's the shape of data set\n",
    "print(X_train.shape , X_test.shape)\n",
    "Y_train.head()\n"
   ]
  },
  {
   "cell_type": "code",
   "execution_count": 3,
   "id": "1d1b3456",
   "metadata": {},
   "outputs": [
    {
     "name": "stdout",
     "output_type": "stream",
     "text": [
      "<bound method NDFrame.head of         income\n",
      "0     0.493023\n",
      "1     0.673929\n",
      "2     0.298995\n",
      "3     0.110763\n",
      "4     0.451989\n",
      "...        ...\n",
      "2919  0.738478\n",
      "2920  0.790897\n",
      "2921  0.298995\n",
      "2922  0.261057\n",
      "2923  0.545686\n",
      "\n",
      "[2924 rows x 1 columns]> <bound method NDFrame.head of         income\n",
      "0     0.840627\n",
      "1     0.555475\n",
      "2     0.630596\n",
      "3     0.245850\n",
      "4     0.652353\n",
      "...        ...\n",
      "1199  0.888739\n",
      "1200  0.652353\n",
      "1201  0.245850\n",
      "1202  0.599231\n",
      "1203  0.505323\n",
      "\n",
      "[1204 rows x 1 columns]>\n"
     ]
    }
   ],
   "source": [
    "print(Y_train.head , Y_test.head)"
   ]
  },
  {
   "cell_type": "code",
   "execution_count": 4,
   "id": "c1c3e575",
   "metadata": {},
   "outputs": [
    {
     "data": {
      "text/plain": [
       "Index(['yrsed', 'creddebt', 'othdebt', 'carvalue', 'jobsat'], dtype='object')"
      ]
     },
     "execution_count": 4,
     "metadata": {},
     "output_type": "execute_result"
    }
   ],
   "source": [
    "X_train.columns"
   ]
  },
  {
   "cell_type": "markdown",
   "id": "a79e5ea6",
   "metadata": {},
   "source": [
    "## Some pre checks on the selected features"
   ]
  },
  {
   "cell_type": "markdown",
   "id": "63e6b52d",
   "metadata": {},
   "source": [
    "#### Normality of Selected Continuous Features"
   ]
  },
  {
   "cell_type": "code",
   "execution_count": 5,
   "id": "6b694f89",
   "metadata": {},
   "outputs": [
    {
     "data": {
      "image/png": "[encoded data removed]",
      "text/plain": [
       "<Figure size 432x288 with 1 Axes>"
      ]
     },
     "metadata": {
      "needs_background": "light"
     },
     "output_type": "display_data"
    },
    {
     "data": {
      "image/png": "[encoded data removed]",
      "text/plain": [
       "<Figure size 432x288 with 1 Axes>"
      ]
     },
     "metadata": {
      "needs_background": "light"
     },
     "output_type": "display_data"
    },
    {
     "data": {
      "image/png": "[encoded data removed]",
      "text/plain": [
       "<Figure size 432x288 with 1 Axes>"
      ]
     },
     "metadata": {
      "needs_background": "light"
     },
     "output_type": "display_data"
    },
    {
     "data": {
      "image/png": "[encoded data removed]",
      "text/plain": [
       "<Figure size 432x288 with 1 Axes>"
      ]
     },
     "metadata": {
      "needs_background": "light"
     },
     "output_type": "display_data"
    }
   ],
   "source": [
    "list_conti_features = [feature for feature in X_train.columns if 'jobsat' not in feature]\n",
    "\n",
    "for feature in list_conti_features:\n",
    "    X_train[feature].hist(bins=30)\n",
    "    plt.xlabel(feature)\n",
    "    plt.ylabel('count')\n",
    "    plt.title(feature)\n",
    "    plt.show()## dont use it to have all in one plot, it looks colorful\n",
    "    "
   ]
  },
  {
   "cell_type": "markdown",
   "id": "d7c1a5cc",
   "metadata": {},
   "source": [
    "#### correlation betweem income and selected feature "
   ]
  },
  {
   "cell_type": "code",
   "execution_count": 6,
   "id": "f61141ae",
   "metadata": {},
   "outputs": [
    {
     "name": "stdout",
     "output_type": "stream",
     "text": [
      "income  &  yrsed  =  0.2060996728787874\n",
      "income  &  creddebt  =  0.5719262291248887\n",
      "income  &  othdebt  =  0.6597597406748216\n",
      "income  &  carvalue  =  0.9582546203782575\n",
      "income  &  jobsat  =  0.25550374169413564\n"
     ]
    }
   ],
   "source": [
    "list_of_all_features = X_train.columns\n",
    "\n",
    "for feature in list_of_all_features:\n",
    "    correlation  = X_train[feature].corr(Y_train['income'])\n",
    "    print( 'income',' & ', feature , \" = \" , correlation)\n",
    "        \n"
   ]
  },
  {
   "cell_type": "markdown",
   "id": "99eddeea",
   "metadata": {},
   "source": [
    "#### correlation between selected features \n"
   ]
  },
  {
   "cell_type": "code",
   "execution_count": 7,
   "id": "18f06c6f",
   "metadata": {},
   "outputs": [
    {
     "name": "stdout",
     "output_type": "stream",
     "text": [
      "creddebt  &  othdebt  =  0.6553549382826677\n",
      "creddebt  &  carvalue  =  0.5427275572814454\n",
      "othdebt  &  carvalue  =  0.6278832080324844\n"
     ]
    }
   ],
   "source": [
    "for i in range (0,len(list_of_all_features)):\n",
    "    for j in range (i+1 , len(list_of_all_features)):\n",
    "        correlation  = X_train[list_of_all_features[i]].corr(X_train[list_of_all_features[j]])\n",
    "        if (correlation>=0.5):\n",
    "            print( list_of_all_features[i],' & ', list_of_all_features[j] , \" = \" , correlation)\n",
    "        \n"
   ]
  },
  {
   "cell_type": "markdown",
   "id": "c813d8f2",
   "metadata": {},
   "source": [
    "#### multicollinearity in Independent features"
   ]
  },
  {
   "cell_type": "code",
   "execution_count": 8,
   "id": "df7aff86",
   "metadata": {},
   "outputs": [
    {
     "name": "stdout",
     "output_type": "stream",
     "text": [
      "    feature        VIF\n",
      "0     yrsed  16.449844\n",
      "1  creddebt  59.976301\n",
      "2   othdebt  67.399633\n",
      "3  carvalue  48.462950\n",
      "4    jobsat   5.915424\n"
     ]
    }
   ],
   "source": [
    "from statsmodels.stats.outliers_influence import variance_inflation_factor\n",
    "vif_data = pd.DataFrame() \n",
    "vif_data[\"feature\"] =X_train[list_of_all_features].columns\n",
    "  \n",
    "  \n",
    "# calculating VIF for each feature\n",
    "vif_data[\"VIF\"] = [variance_inflation_factor(X_train[list_of_all_features].values, i)\n",
    "                          for i in range(len(X_train[list_of_all_features].columns))]\n",
    "  \n",
    "print(vif_data)"
   ]
  },
  {
   "cell_type": "markdown",
   "id": "c502e823",
   "metadata": {},
   "source": [
    "### Observations from above pre-modeling tests.\n",
    "we can assume to drop yrsed as it has highest multi-collinearity and is least significant for predicting \n",
    "the income.\n",
    "\n",
    "Also we can also think of droping creddebt as its also least significant in predicting the income.\n",
    "\n"
   ]
  },
  {
   "cell_type": "markdown",
   "id": "d844dc93",
   "metadata": {},
   "source": [
    "# Finally Creating the Models\n",
    "1. SKlearn model is used to model accuracy on the test data\n",
    "\n",
    "2. Statsmodel is used get the summary of the model produced.\n",
    "\n",
    "*Both the models are same "
   ]
  },
  {
   "cell_type": "markdown",
   "id": "a7ca826a",
   "metadata": {},
   "source": [
    "##  Model 1  - All selected features considered\n",
    "\n"
   ]
  },
  {
   "cell_type": "code",
   "execution_count": 9,
   "id": "44173cd0",
   "metadata": {},
   "outputs": [
    {
     "data": {
      "text/plain": [
       "LinearRegression()"
      ]
     },
     "execution_count": 9,
     "metadata": {},
     "output_type": "execute_result"
    }
   ],
   "source": [
    "model_1 = linear_model.LinearRegression()\n",
    "model_1.fit(X_train,Y_train)\n",
    "\n"
   ]
  },
  {
   "cell_type": "markdown",
   "id": "07f853df",
   "metadata": {},
   "source": [
    "Doing the prediction"
   ]
  },
  {
   "cell_type": "code",
   "execution_count": 10,
   "id": "1d0bb00b",
   "metadata": {},
   "outputs": [
    {
     "name": "stdout",
     "output_type": "stream",
     "text": [
      "r2 score is  -0.19308091240738823\n",
      "mean_sqrd_error is== 0.08203263772959749\n",
      "root_mean_squared error of is== 0.286413403543894\n"
     ]
    }
   ],
   "source": [
    "Y_prediction = model_1.predict(X_test)\n",
    "Y_prediction\n",
    "\n",
    "# predicting the accuracy score\n",
    "score=r2_score(Y_test,Y_prediction)\n",
    "print(\"r2 score is \",score)\n",
    "print(\"mean_sqrd_error is==\",mean_squared_error(Y_test,Y_prediction))\n",
    "print(\"root_mean_squared error of is==\",np.sqrt(mean_squared_error(Y_test,Y_prediction)))"
   ]
  },
  {
   "cell_type": "markdown",
   "id": "ea11528a",
   "metadata": {},
   "source": [
    "#### Moldel 1 Rejected as R2 is negative\n"
   ]
  },
  {
   "cell_type": "markdown",
   "id": "c6b4dcf4",
   "metadata": {},
   "source": [
    "## Model 2 - Removing least co-related feature with income i.e. yrsed\n",
    "\n"
   ]
  },
  {
   "cell_type": "code",
   "execution_count": 11,
   "id": "78e261a2",
   "metadata": {},
   "outputs": [
    {
     "name": "stdout",
     "output_type": "stream",
     "text": [
      "                            OLS Regression Results                            \n",
      "==============================================================================\n",
      "Dep. Variable:                 income   R-squared:                       0.925\n",
      "Model:                            OLS   Adj. R-squared:                  0.925\n",
      "Method:                 Least Squares   F-statistic:                     8972.\n",
      "Date:                Thu, 03 Mar 2022   Prob (F-statistic):               0.00\n",
      "Time:                        13:22:03   Log-Likelihood:                 3730.9\n",
      "No. Observations:                2924   AIC:                            -7452.\n",
      "Df Residuals:                    2919   BIC:                            -7422.\n",
      "Df Model:                           4                                         \n",
      "Covariance Type:            nonrobust                                         \n",
      "==============================================================================\n",
      "                 coef    std err          t      P>|t|      [0.025      0.975]\n",
      "------------------------------------------------------------------------------\n",
      "Intercept     -0.7617      0.008    -91.583      0.000      -0.778      -0.745\n",
      "creddebt       0.0070      0.001      5.736      0.000       0.005       0.009\n",
      "othdebt        0.0128      0.001     10.074      0.000       0.010       0.015\n",
      "carvalue       0.2441      0.002    130.662      0.000       0.240       0.248\n",
      "jobsat         0.0018      0.001      1.887      0.059   -7.04e-05       0.004\n",
      "==============================================================================\n",
      "Omnibus:                      185.076   Durbin-Watson:                   1.978\n",
      "Prob(Omnibus):                  0.000   Jarque-Bera (JB):              311.201\n",
      "Skew:                           0.489   Prob(JB):                     2.65e-68\n",
      "Kurtosis:                       4.264   Cond. No.                         87.0\n",
      "==============================================================================\n",
      "\n",
      "Notes:\n",
      "[1] Standard Errors assume that the covariance matrix of the errors is correctly specified.\n"
     ]
    }
   ],
   "source": [
    "# 'creddebt', 'othdebt', 'carvalue', 'jobsat'\n",
    "trainData = pd.concat([Y_train,X_train],axis=1)\n",
    "formula = 'income~creddebt+othdebt+carvalue+jobsat'\n",
    "model_2  = smf.ols(formula,trainData).fit()\n",
    "print(model_2.summary())"
   ]
  },
  {
   "cell_type": "code",
   "execution_count": 12,
   "id": "8f3737b2",
   "metadata": {},
   "outputs": [
    {
     "name": "stdout",
     "output_type": "stream",
     "text": [
      "r2 score is  -0.21057511240772886\n",
      "mean_sqrd_error is== 0.08323548604950008\n",
      "root_mean_squared error of is== 0.28850560835016725\n"
     ]
    }
   ],
   "source": [
    "prediction = model_2.predict(X_test)\n",
    "score=r2_score(Y_test,prediction)\n",
    "print(\"r2 score is \",score)\n",
    "print(\"mean_sqrd_error is==\",mean_squared_error(Y_test,prediction))\n",
    "print(\"root_mean_squared error of is==\",np.sqrt(mean_squared_error(Y_test,prediction)))"
   ]
  },
  {
   "cell_type": "markdown",
   "id": "19bf8813",
   "metadata": {},
   "source": [
    "#### Moldel 2 Rejected as R2 is negative"
   ]
  },
  {
   "cell_type": "markdown",
   "id": "7c6d0735",
   "metadata": {},
   "source": [
    "## Model 3 - Removing 2nd least co-related feature with income i.e. creddebt"
   ]
  },
  {
   "cell_type": "code",
   "execution_count": 13,
   "id": "2e8f163f",
   "metadata": {},
   "outputs": [
    {
     "name": "stdout",
     "output_type": "stream",
     "text": [
      "                            OLS Regression Results                            \n",
      "==============================================================================\n",
      "Dep. Variable:                 income   R-squared:                       0.924\n",
      "Model:                            OLS   Adj. R-squared:                  0.924\n",
      "Method:                 Least Squares   F-statistic:                 1.182e+04\n",
      "Date:                Thu, 03 Mar 2022   Prob (F-statistic):               0.00\n",
      "Time:                        13:22:03   Log-Likelihood:                 3714.5\n",
      "No. Observations:                2924   AIC:                            -7421.\n",
      "Df Residuals:                    2920   BIC:                            -7397.\n",
      "Df Model:                           3                                         \n",
      "Covariance Type:            nonrobust                                         \n",
      "==============================================================================\n",
      "                 coef    std err          t      P>|t|      [0.025      0.975]\n",
      "------------------------------------------------------------------------------\n",
      "Intercept     -0.7423      0.008    -97.161      0.000      -0.757      -0.727\n",
      "othdebt        0.0163      0.001     14.552      0.000       0.014       0.019\n",
      "carvalue       0.2464      0.002    134.290      0.000       0.243       0.250\n",
      "jobsat         0.0020      0.001      2.070      0.039       0.000       0.004\n",
      "==============================================================================\n",
      "Omnibus:                      190.247   Durbin-Watson:                   1.985\n",
      "Prob(Omnibus):                  0.000   Jarque-Bera (JB):              326.576\n",
      "Skew:                           0.494   Prob(JB):                     1.22e-71\n",
      "Kurtosis:                       4.306   Cond. No.                         60.4\n",
      "==============================================================================\n",
      "\n",
      "Notes:\n",
      "[1] Standard Errors assume that the covariance matrix of the errors is correctly specified.\n"
     ]
    }
   ],
   "source": [
    "trainData = pd.concat([Y_train,X_train],axis=1)\n",
    "formula = 'income~othdebt+carvalue+jobsat'\n",
    "model_3  = smf.ols(formula,trainData).fit()\n",
    "print(model_3.summary())"
   ]
  },
  {
   "cell_type": "code",
   "execution_count": 14,
   "id": "dd189197",
   "metadata": {},
   "outputs": [
    {
     "name": "stdout",
     "output_type": "stream",
     "text": [
      "r2 score is  -0.09493877294564146\n",
      "mean_sqrd_error is== 0.07528468083183089\n",
      "root_mean_squared error of is== 0.2743805401843048\n"
     ]
    }
   ],
   "source": [
    "prediction = model_3.predict(X_test)\n",
    "score=r2_score(Y_test,prediction)\n",
    "print(\"r2 score is \",score)\n",
    "print(\"mean_sqrd_error is==\",mean_squared_error(Y_test,prediction))\n",
    "print(\"root_mean_squared error of is==\",np.sqrt(mean_squared_error(Y_test,prediction)))"
   ]
  },
  {
   "cell_type": "markdown",
   "id": "ff0650ac",
   "metadata": {},
   "source": [
    "#### Moldel 3 Rejected as R2 is negative"
   ]
  },
  {
   "cell_type": "markdown",
   "id": "23fa2672",
   "metadata": {},
   "source": [
    "## since three models are already rejected , we'll apply Algorithms to find best model "
   ]
  },
  {
   "cell_type": "markdown",
   "id": "cb389496",
   "metadata": {},
   "source": [
    "## Algorithm 1 - Best Subset Model"
   ]
  },
  {
   "cell_type": "code",
   "execution_count": 15,
   "id": "68119939",
   "metadata": {},
   "outputs": [],
   "source": [
    "def fit_linear_reg(X,Y,x_test):\n",
    "    #Fit linear regression model and return RSS and R squared values\n",
    "    model_k = linear_model.LinearRegression(fit_intercept = True)\n",
    "    model_k.fit(X,Y)\n",
    "    list_of_features = [feature for feature in X.columns]\n",
    "    x_test = x_test[list_of_features].copy()\n",
    "        \n",
    "  # print(Y.shape,Y_test.Shape)\n",
    "    RSS = mean_squared_error(Y_test,model_k.predict(x_test)) * len(Y_test)\n",
    "    R_squared = model_k.score(x_test,Y_test)\n",
    "    return RSS, R_squared"
   ]
  },
  {
   "cell_type": "code",
   "execution_count": 16,
   "id": "4279b081",
   "metadata": {},
   "outputs": [
    {
     "name": "stderr",
     "output_type": "stream",
     "text": [
      "C:\\Users\\offic\\AppData\\Local\\Temp/ipykernel_20712/3439191930.py:12: TqdmDeprecationWarning: Please use `tqdm.notebook.trange` instead of `tqdm.tnrange`\n",
      "  for k in tnrange(1,len(X.columns) + 1, desc = 'Loop...'):\n"
     ]
    },
    {
     "data": {
      "application/vnd.jupyter.widget-view+json": {
       "model_id": "e374ee4acf4b4e4ea075f0824e49e1d4",
       "version_major": 2,
       "version_minor": 0
      },
      "text/plain": [
       "Loop...:   0%|          | 0/5 [00:00<?, ?it/s]"
      ]
     },
     "metadata": {},
     "output_type": "display_data"
    }
   ],
   "source": [
    "#Importing tqdm for the progress bar\n",
    "from tqdm import tnrange, tqdm_notebook\n",
    "\n",
    "#Initialization variables\n",
    "Y = Y_train.copy()\n",
    "X = X_train.copy()\n",
    "k = 11\n",
    "RSS_list, R_squared_list, feature_list = [],[], []\n",
    "numb_features = []\n",
    "\n",
    "#Looping over k = 1 to k = 11 features in X\n",
    "for k in tnrange(1,len(X.columns) + 1, desc = 'Loop...'):\n",
    "\n",
    "    #Looping over all possible combinations: from 11 choose k\n",
    "    for combo in itertools.combinations(X.columns,k):\n",
    "        tempX = X_test.copy()\n",
    "        tmp_result = fit_linear_reg(X[list(combo)],Y,tempX)   #Store temp result \n",
    "        RSS_list.append(tmp_result[0])                  #Append lists\n",
    "        R_squared_list.append(tmp_result[1])\n",
    "        feature_list.append(combo)\n",
    "        numb_features.append(len(combo))   \n",
    "\n",
    "#Store in DataFrame\n",
    "df = pd.DataFrame({'numb_features': numb_features,'RSS': RSS_list, 'R_squared':R_squared_list,'features':feature_list})\n"
   ]
  },
  {
   "cell_type": "code",
   "execution_count": 17,
   "id": "f7c0db2d",
   "metadata": {},
   "outputs": [
    {
     "data": {
      "text/html": [
       "<div>\n",
       "<style scoped>\n",
       "    .dataframe tbody tr th:only-of-type {\n",
       "        vertical-align: middle;\n",
       "    }\n",
       "\n",
       "    .dataframe tbody tr th {\n",
       "        vertical-align: top;\n",
       "    }\n",
       "\n",
       "    .dataframe thead th {\n",
       "        text-align: right;\n",
       "    }\n",
       "</style>\n",
       "<table border=\"1\" class=\"dataframe\">\n",
       "  <thead>\n",
       "    <tr style=\"text-align: right;\">\n",
       "      <th></th>\n",
       "      <th>numb_features</th>\n",
       "      <th>RSS</th>\n",
       "      <th>R_squared</th>\n",
       "      <th>features</th>\n",
       "    </tr>\n",
       "  </thead>\n",
       "  <tbody>\n",
       "    <tr>\n",
       "      <th>2</th>\n",
       "      <td>1</td>\n",
       "      <td>69.488695</td>\n",
       "      <td>0.160596</td>\n",
       "      <td>(othdebt,)</td>\n",
       "    </tr>\n",
       "    <tr>\n",
       "      <th>9</th>\n",
       "      <td>2</td>\n",
       "      <td>42.715138</td>\n",
       "      <td>0.484013</td>\n",
       "      <td>(creddebt, othdebt)</td>\n",
       "    </tr>\n",
       "    <tr>\n",
       "      <th>22</th>\n",
       "      <td>3</td>\n",
       "      <td>41.714691</td>\n",
       "      <td>0.496098</td>\n",
       "      <td>(creddebt, othdebt, jobsat)</td>\n",
       "    </tr>\n",
       "  </tbody>\n",
       "</table>\n",
       "</div>"
      ],
      "text/plain": [
       "    numb_features        RSS  R_squared                     features\n",
       "2               1  69.488695   0.160596                   (othdebt,)\n",
       "9               2  42.715138   0.484013          (creddebt, othdebt)\n",
       "22              3  41.714691   0.496098  (creddebt, othdebt, jobsat)"
      ]
     },
     "metadata": {},
     "output_type": "display_data"
    },
    {
     "data": {
      "text/html": [
       "<div>\n",
       "<style scoped>\n",
       "    .dataframe tbody tr th:only-of-type {\n",
       "        vertical-align: middle;\n",
       "    }\n",
       "\n",
       "    .dataframe tbody tr th {\n",
       "        vertical-align: top;\n",
       "    }\n",
       "\n",
       "    .dataframe thead th {\n",
       "        text-align: right;\n",
       "    }\n",
       "</style>\n",
       "<table border=\"1\" class=\"dataframe\">\n",
       "  <thead>\n",
       "    <tr style=\"text-align: right;\">\n",
       "      <th></th>\n",
       "      <th>numb_features</th>\n",
       "      <th>RSS</th>\n",
       "      <th>R_squared</th>\n",
       "      <th>features</th>\n",
       "    </tr>\n",
       "  </thead>\n",
       "  <tbody>\n",
       "    <tr>\n",
       "      <th>2</th>\n",
       "      <td>1</td>\n",
       "      <td>69.488695</td>\n",
       "      <td>0.160596</td>\n",
       "      <td>(othdebt,)</td>\n",
       "    </tr>\n",
       "    <tr>\n",
       "      <th>9</th>\n",
       "      <td>2</td>\n",
       "      <td>42.715138</td>\n",
       "      <td>0.484013</td>\n",
       "      <td>(creddebt, othdebt)</td>\n",
       "    </tr>\n",
       "    <tr>\n",
       "      <th>22</th>\n",
       "      <td>3</td>\n",
       "      <td>41.714691</td>\n",
       "      <td>0.496098</td>\n",
       "      <td>(creddebt, othdebt, jobsat)</td>\n",
       "    </tr>\n",
       "  </tbody>\n",
       "</table>\n",
       "</div>"
      ],
      "text/plain": [
       "    numb_features        RSS  R_squared                     features\n",
       "2               1  69.488695   0.160596                   (othdebt,)\n",
       "9               2  42.715138   0.484013          (creddebt, othdebt)\n",
       "22              3  41.714691   0.496098  (creddebt, othdebt, jobsat)"
      ]
     },
     "metadata": {},
     "output_type": "display_data"
    }
   ],
   "source": [
    "df_min = df[df.groupby('numb_features')['RSS'].transform(min) == df['RSS']]\n",
    "df_max = df[df.groupby('numb_features')['R_squared'].transform(max) == df['R_squared']]\n",
    "display(df_min.head(3))\n",
    "display(df_max.head(3))"
   ]
  },
  {
   "cell_type": "code",
   "execution_count": null,
   "id": "6c1290de",
   "metadata": {},
   "outputs": [],
   "source": []
  },
  {
   "cell_type": "code",
   "execution_count": 18,
   "id": "d7ecabc1",
   "metadata": {},
   "outputs": [
    {
     "name": "stdout",
     "output_type": "stream",
     "text": [
      "9  >>>  0.4840132558888085  -  ('creddebt', 'othdebt')\n",
      "15  >>>  0.4905965289360269  -  ('yrsed', 'creddebt', 'othdebt')\n",
      "22  >>>  0.4960983693545291  -  ('creddebt', 'othdebt', 'jobsat')\n",
      "26  >>>  0.5050741451515242  -  ('yrsed', 'creddebt', 'othdebt', 'jobsat')\n"
     ]
    }
   ],
   "source": [
    "df['min_RSS'] = df.groupby('numb_features')['RSS'].transform(min)\n",
    "df['max_R_squared'] = df.groupby('numb_features')['R_squared'].transform(max)\n",
    "for i in range (0,len(df)):\n",
    "    if df['R_squared'][i]> 0.4:\n",
    "        print(i , \" >>> \" ,df['R_squared'][i],\" - \",df['features'][i]) \n"
   ]
  },
  {
   "cell_type": "markdown",
   "id": "748ad46c",
   "metadata": {},
   "source": [
    "### creating model with No_Drops"
   ]
  },
  {
   "cell_type": "code",
   "execution_count": 19,
   "id": "7accedcd",
   "metadata": {},
   "outputs": [
    {
     "name": "stderr",
     "output_type": "stream",
     "text": [
      "C:\\Users\\offic\\AppData\\Local\\Temp/ipykernel_20712/4218103327.py:22: TqdmDeprecationWarning: Please use `tqdm.notebook.trange` instead of `tqdm.tnrange`\n",
      "  for k in tnrange(1,len(X.columns) + 1, desc = 'Loop...'):\n"
     ]
    },
    {
     "data": {
      "application/vnd.jupyter.widget-view+json": {
       "model_id": "07aa914317834a5d9821d3056a09788b",
       "version_major": 2,
       "version_minor": 0
      },
      "text/plain": [
       "Loop...:   0%|          | 0/10 [00:00<?, ?it/s]"
      ]
     },
     "metadata": {},
     "output_type": "display_data"
    },
    {
     "data": {
      "text/html": [
       "<div>\n",
       "<style scoped>\n",
       "    .dataframe tbody tr th:only-of-type {\n",
       "        vertical-align: middle;\n",
       "    }\n",
       "\n",
       "    .dataframe tbody tr th {\n",
       "        vertical-align: top;\n",
       "    }\n",
       "\n",
       "    .dataframe thead th {\n",
       "        text-align: right;\n",
       "    }\n",
       "</style>\n",
       "<table border=\"1\" class=\"dataframe\">\n",
       "  <thead>\n",
       "    <tr style=\"text-align: right;\">\n",
       "      <th></th>\n",
       "      <th>numb_features</th>\n",
       "      <th>RSS</th>\n",
       "      <th>R_squared</th>\n",
       "      <th>features</th>\n",
       "    </tr>\n",
       "  </thead>\n",
       "  <tbody>\n",
       "    <tr>\n",
       "      <th>3</th>\n",
       "      <td>1</td>\n",
       "      <td>69.488695</td>\n",
       "      <td>0.160596</td>\n",
       "      <td>(othdebt,)</td>\n",
       "    </tr>\n",
       "    <tr>\n",
       "      <th>27</th>\n",
       "      <td>2</td>\n",
       "      <td>42.715138</td>\n",
       "      <td>0.484013</td>\n",
       "      <td>(creddebt, othdebt)</td>\n",
       "    </tr>\n",
       "    <tr>\n",
       "      <th>121</th>\n",
       "      <td>3</td>\n",
       "      <td>40.266025</td>\n",
       "      <td>0.513598</td>\n",
       "      <td>(creddebt, othdebt, default)</td>\n",
       "    </tr>\n",
       "  </tbody>\n",
       "</table>\n",
       "</div>"
      ],
      "text/plain": [
       "     numb_features        RSS  R_squared                      features\n",
       "3                1  69.488695   0.160596                    (othdebt,)\n",
       "27               2  42.715138   0.484013           (creddebt, othdebt)\n",
       "121              3  40.266025   0.513598  (creddebt, othdebt, default)"
      ]
     },
     "metadata": {},
     "output_type": "display_data"
    },
    {
     "data": {
      "text/html": [
       "<div>\n",
       "<style scoped>\n",
       "    .dataframe tbody tr th:only-of-type {\n",
       "        vertical-align: middle;\n",
       "    }\n",
       "\n",
       "    .dataframe tbody tr th {\n",
       "        vertical-align: top;\n",
       "    }\n",
       "\n",
       "    .dataframe thead th {\n",
       "        text-align: right;\n",
       "    }\n",
       "</style>\n",
       "<table border=\"1\" class=\"dataframe\">\n",
       "  <thead>\n",
       "    <tr style=\"text-align: right;\">\n",
       "      <th></th>\n",
       "      <th>numb_features</th>\n",
       "      <th>RSS</th>\n",
       "      <th>R_squared</th>\n",
       "      <th>features</th>\n",
       "    </tr>\n",
       "  </thead>\n",
       "  <tbody>\n",
       "    <tr>\n",
       "      <th>3</th>\n",
       "      <td>1</td>\n",
       "      <td>69.488695</td>\n",
       "      <td>0.160596</td>\n",
       "      <td>(othdebt,)</td>\n",
       "    </tr>\n",
       "    <tr>\n",
       "      <th>27</th>\n",
       "      <td>2</td>\n",
       "      <td>42.715138</td>\n",
       "      <td>0.484013</td>\n",
       "      <td>(creddebt, othdebt)</td>\n",
       "    </tr>\n",
       "    <tr>\n",
       "      <th>121</th>\n",
       "      <td>3</td>\n",
       "      <td>40.266025</td>\n",
       "      <td>0.513598</td>\n",
       "      <td>(creddebt, othdebt, default)</td>\n",
       "    </tr>\n",
       "  </tbody>\n",
       "</table>\n",
       "</div>"
      ],
      "text/plain": [
       "     numb_features        RSS  R_squared                      features\n",
       "3                1  69.488695   0.160596                    (othdebt,)\n",
       "27               2  42.715138   0.484013           (creddebt, othdebt)\n",
       "121              3  40.266025   0.513598  (creddebt, othdebt, default)"
      ]
     },
     "metadata": {},
     "output_type": "display_data"
    }
   ],
   "source": [
    "def fit_linear_reg(X,Y,x_test):\n",
    "    #Fit linear regression model and return RSS and R squared values\n",
    "    model_k = linear_model.LinearRegression(fit_intercept = True)\n",
    "    model_k.fit(X,Y)\n",
    "    list_of_features = [feature for feature in X.columns]\n",
    "    x_test = x_test[list_of_features].copy()\n",
    "        \n",
    "  # print(Y.shape,Y_test.Shape)\n",
    "    RSS = mean_squared_error(Y_test,model_k.predict(x_test)) * len(Y_test)\n",
    "    R_squared = model_k.score(x_test,Y_test)\n",
    "    return RSS, R_squared\n",
    "\n",
    "\n",
    "#Initialization variables\n",
    "Y = Y_train.copy()\n",
    "X = X_train_No_Drop.copy()\n",
    "k = 11\n",
    "RSS_list, R_squared_list, feature_list = [],[], []\n",
    "numb_features = []\n",
    "\n",
    "#Looping over k = 1 to k = 11 features in X\n",
    "for k in tnrange(1,len(X.columns) + 1, desc = 'Loop...'):\n",
    "\n",
    "    #Looping over all possible combinations: from 11 choose k\n",
    "    for combo in itertools.combinations(X.columns,k):\n",
    "        tempX = X_test_No_Drop.copy()\n",
    "        tmp_result = fit_linear_reg(X[list(combo)],Y,tempX)   #Store temp result \n",
    "        RSS_list.append(tmp_result[0])                  #Append lists\n",
    "        R_squared_list.append(tmp_result[1])\n",
    "        feature_list.append(combo)\n",
    "        numb_features.append(len(combo))   \n",
    "\n",
    "#Store in DataFrame\n",
    "df = pd.DataFrame({'numb_features': numb_features,'RSS': RSS_list, 'R_squared':R_squared_list,'features':feature_list})\n",
    "\n",
    "df_min = df[df.groupby('numb_features')['RSS'].transform(min) == df['RSS']]\n",
    "df_max = df[df.groupby('numb_features')['R_squared'].transform(max) == df['R_squared']]\n",
    "display(df_min.head(3))\n",
    "display(df_max.head(3))"
   ]
  },
  {
   "cell_type": "code",
   "execution_count": 33,
   "id": "35c40940",
   "metadata": {},
   "outputs": [
    {
     "name": "stdout",
     "output_type": "stream",
     "text": [
      "937  >>>  0.5365997213422451  -  ('yrsed', 'creddebt', 'othdebt', 'cars', 'default', 'jobsat', 'homeown')\n",
      "1007  >>>  0.5369390315435778  -  ('yrsed', 'creddebt', 'othdebt', 'cars', 'default', 'jobsat', 'homeown', 'edcat5')\n",
      "1016  >>>  0.5360930511195203  -  ('age', 'yrsed', 'creddebt', 'othdebt', 'cars', 'default', 'jobsat', 'homeown', 'edcat5')\n"
     ]
    }
   ],
   "source": [
    "df['min_RSS'] = df.groupby('numb_features')['RSS'].transform(min)\n",
    "df['max_R_squared'] = df.groupby('numb_features')['R_squared'].transform(max)\n",
    "for i in range (0,len(df)):\n",
    "    if df['R_squared'][i]> 0.536:\n",
    "        print(i , \" >>> \" ,df['R_squared'][i],\" - \",df['features'][i]) "
   ]
  },
  {
   "cell_type": "code",
   "execution_count": null,
   "id": "4fc7ea53",
   "metadata": {},
   "outputs": [],
   "source": [
    "### 3 possible best Subsets are \n",
    "\n",
    "1. without using the lasso algo to find best subsets\n",
    "    a. 'yrsed', 'creddebt', 'othdebt', 'cars', 'default', 'jobsat', 'homeown' - 0.5365997213422451\n",
    "    b. 'yrsed', 'creddebt', 'othdebt', 'cars', 'default', 'jobsat', 'homeown', 'edcat5' - 0.5369390315435778\n",
    "2. using lasso reg to find best subsets \n",
    "    a. 'yrsed', 'creddebt', 'othdebt', 'jobsat' - 0.5050741451515242"
   ]
  }
 ],
 "metadata": {
  "kernelspec": {
   "display_name": "Python 3 (ipykernel)",
   "language": "python",
   "name": "python3"
  },
  "language_info": {
   "codemirror_mode": {
    "name": "ipython",
    "version": 3
   },
   "file_extension": ".py",
   "mimetype": "text/x-python",
   "name": "python",
   "nbconvert_exporter": "python",
   "pygments_lexer": "ipython3",
   "version": "3.9.7"
  }
 },
 "nbformat": 4,
 "nbformat_minor": 5
}
