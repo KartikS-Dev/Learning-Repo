{
 "cells": [
  {
   "cell_type": "markdown",
   "id": "371eaa5f",
   "metadata": {},
   "source": [
    "# <font size='10' color='#1ABC9C'> Feature Selection </font>"
   ]
  },
  {
   "cell_type": "code",
   "execution_count": 1,
   "id": "29a4f2ba",
   "metadata": {},
   "outputs": [],
   "source": [
    "import pandas as pd\n",
    "import numpy as np\n",
    "import matplotlib.pyplot as plt\n",
    "%matplotlib inline \n",
    "## When using the 'inline' backend, \n",
    "## your matplotlib graphs will be included in your notebook, next to the code.\n",
    "import seaborn as sns\n",
    "\n",
    "pd.pandas.set_option('display.max_columns',None)"
   ]
  },
  {
   "cell_type": "code",
   "execution_count": 3,
   "id": "12ea0c59",
   "metadata": {},
   "outputs": [
    {
     "name": "stdout",
     "output_type": "stream",
     "text": [
      "(2924, 11) (1204, 11)\n"
     ]
    }
   ],
   "source": [
    "dataset=pd.read_csv('X_train.csv')\n",
    "dataset_X_test= pd.read_csv('X_test.csv')\n",
    "##What's the shape of data set\n",
    "print(dataset.shape , dataset_X_test.shape)"
   ]
  },
  {
   "cell_type": "code",
   "execution_count": 4,
   "id": "b8956780",
   "metadata": {},
   "outputs": [
    {
     "data": {
      "text/html": [
       "<div>\n",
       "<style scoped>\n",
       "    .dataframe tbody tr th:only-of-type {\n",
       "        vertical-align: middle;\n",
       "    }\n",
       "\n",
       "    .dataframe tbody tr th {\n",
       "        vertical-align: top;\n",
       "    }\n",
       "\n",
       "    .dataframe thead th {\n",
       "        text-align: right;\n",
       "    }\n",
       "</style>\n",
       "<table border=\"1\" class=\"dataframe\">\n",
       "  <thead>\n",
       "    <tr style=\"text-align: right;\">\n",
       "      <th></th>\n",
       "      <th>income</th>\n",
       "      <th>age</th>\n",
       "      <th>yrsed</th>\n",
       "      <th>creddebt</th>\n",
       "      <th>othdebt</th>\n",
       "      <th>cars</th>\n",
       "      <th>carvalue</th>\n",
       "      <th>default</th>\n",
       "      <th>jobsat</th>\n",
       "      <th>homeown</th>\n",
       "      <th>edcat5</th>\n",
       "    </tr>\n",
       "  </thead>\n",
       "  <tbody>\n",
       "    <tr>\n",
       "      <th>0</th>\n",
       "      <td>0.493023</td>\n",
       "      <td>1.926400</td>\n",
       "      <td>6.185219</td>\n",
       "      <td>10.237995</td>\n",
       "      <td>8.208367</td>\n",
       "      <td>0.998525</td>\n",
       "      <td>4.796342</td>\n",
       "      <td>1</td>\n",
       "      <td>2</td>\n",
       "      <td>1</td>\n",
       "      <td>0</td>\n",
       "    </tr>\n",
       "    <tr>\n",
       "      <th>1</th>\n",
       "      <td>0.673929</td>\n",
       "      <td>2.437668</td>\n",
       "      <td>6.529808</td>\n",
       "      <td>9.210532</td>\n",
       "      <td>9.229978</td>\n",
       "      <td>0.998525</td>\n",
       "      <td>4.678775</td>\n",
       "      <td>1</td>\n",
       "      <td>2</td>\n",
       "      <td>1</td>\n",
       "      <td>0</td>\n",
       "    </tr>\n",
       "    <tr>\n",
       "      <th>2</th>\n",
       "      <td>0.298995</td>\n",
       "      <td>3.882171</td>\n",
       "      <td>5.839109</td>\n",
       "      <td>8.431431</td>\n",
       "      <td>7.318274</td>\n",
       "      <td>1.261345</td>\n",
       "      <td>3.735732</td>\n",
       "      <td>0</td>\n",
       "      <td>4</td>\n",
       "      <td>0</td>\n",
       "      <td>0</td>\n",
       "    </tr>\n",
       "    <tr>\n",
       "      <th>3</th>\n",
       "      <td>0.110763</td>\n",
       "      <td>2.160968</td>\n",
       "      <td>5.839109</td>\n",
       "      <td>6.934734</td>\n",
       "      <td>6.472727</td>\n",
       "      <td>0.998525</td>\n",
       "      <td>2.896900</td>\n",
       "      <td>0</td>\n",
       "      <td>3</td>\n",
       "      <td>1</td>\n",
       "      <td>0</td>\n",
       "    </tr>\n",
       "    <tr>\n",
       "      <th>4</th>\n",
       "      <td>0.451989</td>\n",
       "      <td>2.543884</td>\n",
       "      <td>5.141952</td>\n",
       "      <td>8.628361</td>\n",
       "      <td>8.958405</td>\n",
       "      <td>1.449042</td>\n",
       "      <td>4.362570</td>\n",
       "      <td>1</td>\n",
       "      <td>2</td>\n",
       "      <td>1</td>\n",
       "      <td>0</td>\n",
       "    </tr>\n",
       "  </tbody>\n",
       "</table>\n",
       "</div>"
      ],
      "text/plain": [
       "     income       age     yrsed   creddebt   othdebt      cars  carvalue  \\\n",
       "0  0.493023  1.926400  6.185219  10.237995  8.208367  0.998525  4.796342   \n",
       "1  0.673929  2.437668  6.529808   9.210532  9.229978  0.998525  4.678775   \n",
       "2  0.298995  3.882171  5.839109   8.431431  7.318274  1.261345  3.735732   \n",
       "3  0.110763  2.160968  5.839109   6.934734  6.472727  0.998525  2.896900   \n",
       "4  0.451989  2.543884  5.141952   8.628361  8.958405  1.449042  4.362570   \n",
       "\n",
       "   default  jobsat  homeown  edcat5  \n",
       "0        1       2        1       0  \n",
       "1        1       2        1       0  \n",
       "2        0       4        0       0  \n",
       "3        0       3        1       0  \n",
       "4        1       2        1       0  "
      ]
     },
     "execution_count": 4,
     "metadata": {},
     "output_type": "execute_result"
    }
   ],
   "source": [
    "dataset.head()"
   ]
  },
  {
   "cell_type": "code",
   "execution_count": 5,
   "id": "8bc1f762",
   "metadata": {},
   "outputs": [],
   "source": [
    "## We will use Lasso Regression for feature selection as it provides more significat features in less time\n",
    "  ## else using Linear regression we need to adjust and test number of features again and again\n",
    "from sklearn.linear_model import Lasso\n",
    "#from sklearn.linear_model import LinearRegression\n",
    "#from sklearn.feature_selection import RFE #RFE (Recursive Feature Elimination)\n",
    "from sklearn.feature_selection import SelectFromModel"
   ]
  },
  {
   "cell_type": "code",
   "execution_count": 6,
   "id": "f040e9a6",
   "metadata": {},
   "outputs": [],
   "source": [
    "## capturing the dependent feature\n",
    "y_train = dataset['income'].copy()\n",
    "y_test = dataset_X_test['income'].copy()"
   ]
  },
  {
   "cell_type": "code",
   "execution_count": 7,
   "id": "e3ee9327",
   "metadata": {},
   "outputs": [
    {
     "name": "stdout",
     "output_type": "stream",
     "text": [
      "0       0.493023\n",
      "1       0.673929\n",
      "2       0.298995\n",
      "3       0.110763\n",
      "4       0.451989\n",
      "          ...   \n",
      "2919    0.738478\n",
      "2920    0.790897\n",
      "2921    0.298995\n",
      "2922    0.261057\n",
      "2923    0.545686\n",
      "Name: income, Length: 2924, dtype: float64\n"
     ]
    }
   ],
   "source": [
    "print(y_train)"
   ]
  },
  {
   "cell_type": "code",
   "execution_count": 8,
   "id": "4bb876bf",
   "metadata": {},
   "outputs": [],
   "source": [
    "##Droping Dependent variable from the dataset\n",
    "x_train=dataset.drop(['income'],axis=1)\n",
    "x_test = dataset_X_test.drop(['income'],axis=1)"
   ]
  },
  {
   "cell_type": "code",
   "execution_count": 9,
   "id": "b59ed8e1",
   "metadata": {
    "scrolled": true
   },
   "outputs": [
    {
     "name": "stdout",
     "output_type": "stream",
     "text": [
      "           age     yrsed   creddebt   othdebt      cars  carvalue  default  \\\n",
      "0     1.926400  6.185219  10.237995  8.208367  0.998525  4.796342        1   \n",
      "1     2.437668  6.529808   9.210532  9.229978  0.998525  4.678775        1   \n",
      "2     3.882171  5.839109   8.431431  7.318274  1.261345  3.735732        0   \n",
      "3     2.160968  5.839109   6.934734  6.472727  0.998525  2.896900        0   \n",
      "4     2.543884  5.141952   8.628361  8.958405  1.449042  4.362570        1   \n",
      "...        ...       ...        ...       ...       ...       ...      ...   \n",
      "2919  3.757383  2.635795   8.078851  7.637457  0.998525  5.012626        0   \n",
      "2920  3.090653  5.839109   7.569085  9.615385  0.998525  5.952365        0   \n",
      "2921  3.799260  6.529808   7.179989  6.816028  1.449042  3.173055        0   \n",
      "2922  1.926400  4.082139   6.917965  6.536839  1.449042  3.879889        1   \n",
      "2923  3.586927  5.141952   8.738928  6.745687  1.261345  4.584872        0   \n",
      "\n",
      "      jobsat  homeown  edcat5  \n",
      "0          2        1       0  \n",
      "1          2        1       0  \n",
      "2          4        0       0  \n",
      "3          3        1       0  \n",
      "4          2        1       0  \n",
      "...      ...      ...     ...  \n",
      "2919       3        1       0  \n",
      "2920       3        1       0  \n",
      "2921       3        0       0  \n",
      "2922       4        0       0  \n",
      "2923       1        0       0  \n",
      "\n",
      "[2924 rows x 10 columns]\n"
     ]
    }
   ],
   "source": [
    "print(x_train)"
   ]
  },
  {
   "cell_type": "markdown",
   "id": "7c179dfd",
   "metadata": {},
   "source": [
    "used Liner Regression for finding the good features, seems not efficient way."
   ]
  },
  {
   "cell_type": "code",
   "execution_count": 10,
   "id": "f7b386b1",
   "metadata": {},
   "outputs": [],
   "source": [
    "# RFE_regressor = LinearRegression()\n",
    "# rfe = RFE(RFE_regressor ,3)\n",
    "#Transforming data using RFE\n",
    "# x_train_rfe_1 = rfe.fit_transform(x_train,y_train)  \n",
    "#Fitting the data to model\n",
    "# RFE_regressor.fit(x_train,y_train) \n",
    "# print(rfe.support_)\n",
    "# print(rfe.ranking_)\n"
   ]
  },
  {
   "cell_type": "code",
   "execution_count": 11,
   "id": "4df90052",
   "metadata": {},
   "outputs": [],
   "source": [
    "# selected_features = x_train.columns[rfe.support_]\n",
    "\n",
    "# print('total number of features : {}'.format(x_train.shape[1]))\n",
    "# print('total number of selected features : {}'.format(len(selected_features)))"
   ]
  },
  {
   "cell_type": "markdown",
   "id": "af413300",
   "metadata": {},
   "source": [
    "Now using Lasso for feature selection"
   ]
  },
  {
   "cell_type": "code",
   "execution_count": 12,
   "id": "dbb14bbc",
   "metadata": {},
   "outputs": [
    {
     "data": {
      "text/plain": [
       "SelectFromModel(estimator=Lasso(alpha=0.005, random_state=3))"
      ]
     },
     "execution_count": 12,
     "metadata": {},
     "output_type": "execute_result"
    }
   ],
   "source": [
    "#Alpha = 0.005 , random_sate =3\n",
    "feature_sel_model1 = SelectFromModel(Lasso(alpha=0.005,random_state=3))\n",
    "feature_sel_model1.fit(x_train,y_train)"
   ]
  },
  {
   "cell_type": "code",
   "execution_count": 14,
   "id": "409964e9",
   "metadata": {},
   "outputs": [
    {
     "data": {
      "text/plain": [
       "array([False,  True,  True,  True, False,  True, False,  True, False,\n",
       "       False])"
      ]
     },
     "execution_count": 14,
     "metadata": {},
     "output_type": "execute_result"
    }
   ],
   "source": [
    "feature_sel_model1.get_support()"
   ]
  },
  {
   "cell_type": "code",
   "execution_count": 15,
   "id": "fcabc828",
   "metadata": {},
   "outputs": [
    {
     "name": "stdout",
     "output_type": "stream",
     "text": [
      "total number of features : 10\n",
      "total number of selected features : 5\n"
     ]
    }
   ],
   "source": [
    " selected_features = x_train.columns[feature_sel_model1.get_support()]\n",
    "\n",
    "print('total number of features : {}'.format(x_train.shape[1]))\n",
    "print('total number of selected features : {}'.format(len(selected_features)))"
   ]
  },
  {
   "cell_type": "code",
   "execution_count": null,
   "id": "ea785642",
   "metadata": {},
   "outputs": [],
   "source": []
  },
  {
   "cell_type": "code",
   "execution_count": 16,
   "id": "99c626a5",
   "metadata": {},
   "outputs": [
    {
     "data": {
      "text/html": [
       "<div>\n",
       "<style scoped>\n",
       "    .dataframe tbody tr th:only-of-type {\n",
       "        vertical-align: middle;\n",
       "    }\n",
       "\n",
       "    .dataframe tbody tr th {\n",
       "        vertical-align: top;\n",
       "    }\n",
       "\n",
       "    .dataframe thead th {\n",
       "        text-align: right;\n",
       "    }\n",
       "</style>\n",
       "<table border=\"1\" class=\"dataframe\">\n",
       "  <thead>\n",
       "    <tr style=\"text-align: right;\">\n",
       "      <th></th>\n",
       "      <th>yrsed</th>\n",
       "      <th>creddebt</th>\n",
       "      <th>othdebt</th>\n",
       "      <th>carvalue</th>\n",
       "      <th>jobsat</th>\n",
       "    </tr>\n",
       "  </thead>\n",
       "  <tbody>\n",
       "    <tr>\n",
       "      <th>0</th>\n",
       "      <td>6.185219</td>\n",
       "      <td>10.237995</td>\n",
       "      <td>8.208367</td>\n",
       "      <td>4.796342</td>\n",
       "      <td>2</td>\n",
       "    </tr>\n",
       "    <tr>\n",
       "      <th>1</th>\n",
       "      <td>6.529808</td>\n",
       "      <td>9.210532</td>\n",
       "      <td>9.229978</td>\n",
       "      <td>4.678775</td>\n",
       "      <td>2</td>\n",
       "    </tr>\n",
       "    <tr>\n",
       "      <th>2</th>\n",
       "      <td>5.839109</td>\n",
       "      <td>8.431431</td>\n",
       "      <td>7.318274</td>\n",
       "      <td>3.735732</td>\n",
       "      <td>4</td>\n",
       "    </tr>\n",
       "    <tr>\n",
       "      <th>3</th>\n",
       "      <td>5.839109</td>\n",
       "      <td>6.934734</td>\n",
       "      <td>6.472727</td>\n",
       "      <td>2.896900</td>\n",
       "      <td>3</td>\n",
       "    </tr>\n",
       "    <tr>\n",
       "      <th>4</th>\n",
       "      <td>5.141952</td>\n",
       "      <td>8.628361</td>\n",
       "      <td>8.958405</td>\n",
       "      <td>4.362570</td>\n",
       "      <td>2</td>\n",
       "    </tr>\n",
       "  </tbody>\n",
       "</table>\n",
       "</div>"
      ],
      "text/plain": [
       "      yrsed   creddebt   othdebt  carvalue  jobsat\n",
       "0  6.185219  10.237995  8.208367  4.796342       2\n",
       "1  6.529808   9.210532  9.229978  4.678775       2\n",
       "2  5.839109   8.431431  7.318274  3.735732       4\n",
       "3  5.839109   6.934734  6.472727  2.896900       3\n",
       "4  5.141952   8.628361  8.958405  4.362570       2"
      ]
     },
     "execution_count": 16,
     "metadata": {},
     "output_type": "execute_result"
    }
   ],
   "source": [
    "x_train=x_train[selected_features]\n",
    "x_train.head()"
   ]
  },
  {
   "cell_type": "markdown",
   "id": "99c5f281",
   "metadata": {},
   "source": [
    "### Final Selected features for the Model are \n",
    "    1. creddebt\n",
    "    2. othdebt\n",
    "    3. carvalue\n",
    "    4. jobsat\n",
    "    5. yrsed\n",
    "   "
   ]
  },
  {
   "cell_type": "code",
   "execution_count": 17,
   "id": "b2edd105",
   "metadata": {},
   "outputs": [
    {
     "data": {
      "text/plain": [
       "Index(['yrsed', 'creddebt', 'othdebt', 'carvalue', 'jobsat'], dtype='object')"
      ]
     },
     "execution_count": 17,
     "metadata": {},
     "output_type": "execute_result"
    }
   ],
   "source": [
    "x_train.columns"
   ]
  },
  {
   "cell_type": "code",
   "execution_count": 18,
   "id": "19a51555",
   "metadata": {},
   "outputs": [
    {
     "data": {
      "text/html": [
       "<div>\n",
       "<style scoped>\n",
       "    .dataframe tbody tr th:only-of-type {\n",
       "        vertical-align: middle;\n",
       "    }\n",
       "\n",
       "    .dataframe tbody tr th {\n",
       "        vertical-align: top;\n",
       "    }\n",
       "\n",
       "    .dataframe thead th {\n",
       "        text-align: right;\n",
       "    }\n",
       "</style>\n",
       "<table border=\"1\" class=\"dataframe\">\n",
       "  <thead>\n",
       "    <tr style=\"text-align: right;\">\n",
       "      <th></th>\n",
       "      <th>yrsed</th>\n",
       "      <th>creddebt</th>\n",
       "      <th>othdebt</th>\n",
       "      <th>carvalue</th>\n",
       "      <th>jobsat</th>\n",
       "    </tr>\n",
       "  </thead>\n",
       "  <tbody>\n",
       "    <tr>\n",
       "      <th>0</th>\n",
       "      <td>6.185219</td>\n",
       "      <td>10.237995</td>\n",
       "      <td>8.208367</td>\n",
       "      <td>4.796342</td>\n",
       "      <td>2</td>\n",
       "    </tr>\n",
       "    <tr>\n",
       "      <th>1</th>\n",
       "      <td>6.529808</td>\n",
       "      <td>9.210532</td>\n",
       "      <td>9.229978</td>\n",
       "      <td>4.678775</td>\n",
       "      <td>2</td>\n",
       "    </tr>\n",
       "    <tr>\n",
       "      <th>2</th>\n",
       "      <td>5.839109</td>\n",
       "      <td>8.431431</td>\n",
       "      <td>7.318274</td>\n",
       "      <td>3.735732</td>\n",
       "      <td>4</td>\n",
       "    </tr>\n",
       "    <tr>\n",
       "      <th>3</th>\n",
       "      <td>5.839109</td>\n",
       "      <td>6.934734</td>\n",
       "      <td>6.472727</td>\n",
       "      <td>2.896900</td>\n",
       "      <td>3</td>\n",
       "    </tr>\n",
       "    <tr>\n",
       "      <th>4</th>\n",
       "      <td>5.141952</td>\n",
       "      <td>8.628361</td>\n",
       "      <td>8.958405</td>\n",
       "      <td>4.362570</td>\n",
       "      <td>2</td>\n",
       "    </tr>\n",
       "    <tr>\n",
       "      <th>...</th>\n",
       "      <td>...</td>\n",
       "      <td>...</td>\n",
       "      <td>...</td>\n",
       "      <td>...</td>\n",
       "      <td>...</td>\n",
       "    </tr>\n",
       "    <tr>\n",
       "      <th>2919</th>\n",
       "      <td>2.635795</td>\n",
       "      <td>8.078851</td>\n",
       "      <td>7.637457</td>\n",
       "      <td>5.012626</td>\n",
       "      <td>3</td>\n",
       "    </tr>\n",
       "    <tr>\n",
       "      <th>2920</th>\n",
       "      <td>5.839109</td>\n",
       "      <td>7.569085</td>\n",
       "      <td>9.615385</td>\n",
       "      <td>5.952365</td>\n",
       "      <td>3</td>\n",
       "    </tr>\n",
       "    <tr>\n",
       "      <th>2921</th>\n",
       "      <td>6.529808</td>\n",
       "      <td>7.179989</td>\n",
       "      <td>6.816028</td>\n",
       "      <td>3.173055</td>\n",
       "      <td>3</td>\n",
       "    </tr>\n",
       "    <tr>\n",
       "      <th>2922</th>\n",
       "      <td>4.082139</td>\n",
       "      <td>6.917965</td>\n",
       "      <td>6.536839</td>\n",
       "      <td>3.879889</td>\n",
       "      <td>4</td>\n",
       "    </tr>\n",
       "    <tr>\n",
       "      <th>2923</th>\n",
       "      <td>5.141952</td>\n",
       "      <td>8.738928</td>\n",
       "      <td>6.745687</td>\n",
       "      <td>4.584872</td>\n",
       "      <td>1</td>\n",
       "    </tr>\n",
       "  </tbody>\n",
       "</table>\n",
       "<p>2924 rows × 5 columns</p>\n",
       "</div>"
      ],
      "text/plain": [
       "         yrsed   creddebt   othdebt  carvalue  jobsat\n",
       "0     6.185219  10.237995  8.208367  4.796342       2\n",
       "1     6.529808   9.210532  9.229978  4.678775       2\n",
       "2     5.839109   8.431431  7.318274  3.735732       4\n",
       "3     5.839109   6.934734  6.472727  2.896900       3\n",
       "4     5.141952   8.628361  8.958405  4.362570       2\n",
       "...        ...        ...       ...       ...     ...\n",
       "2919  2.635795   8.078851  7.637457  5.012626       3\n",
       "2920  5.839109   7.569085  9.615385  5.952365       3\n",
       "2921  6.529808   7.179989  6.816028  3.173055       3\n",
       "2922  4.082139   6.917965  6.536839  3.879889       4\n",
       "2923  5.141952   8.738928  6.745687  4.584872       1\n",
       "\n",
       "[2924 rows x 5 columns]"
      ]
     },
     "execution_count": 18,
     "metadata": {},
     "output_type": "execute_result"
    }
   ],
   "source": [
    "x_train"
   ]
  },
  {
   "cell_type": "code",
   "execution_count": 19,
   "id": "41873658",
   "metadata": {},
   "outputs": [
    {
     "data": {
      "text/html": [
       "<div>\n",
       "<style scoped>\n",
       "    .dataframe tbody tr th:only-of-type {\n",
       "        vertical-align: middle;\n",
       "    }\n",
       "\n",
       "    .dataframe tbody tr th {\n",
       "        vertical-align: top;\n",
       "    }\n",
       "\n",
       "    .dataframe thead th {\n",
       "        text-align: right;\n",
       "    }\n",
       "</style>\n",
       "<table border=\"1\" class=\"dataframe\">\n",
       "  <thead>\n",
       "    <tr style=\"text-align: right;\">\n",
       "      <th></th>\n",
       "      <th>yrsed</th>\n",
       "      <th>creddebt</th>\n",
       "      <th>othdebt</th>\n",
       "      <th>carvalue</th>\n",
       "      <th>jobsat</th>\n",
       "    </tr>\n",
       "  </thead>\n",
       "  <tbody>\n",
       "    <tr>\n",
       "      <th>0</th>\n",
       "      <td>4.997266</td>\n",
       "      <td>9.995950</td>\n",
       "      <td>7.436486</td>\n",
       "      <td>7.233021</td>\n",
       "      <td>4</td>\n",
       "    </tr>\n",
       "    <tr>\n",
       "      <th>1</th>\n",
       "      <td>2.586415</td>\n",
       "      <td>8.208726</td>\n",
       "      <td>4.943148</td>\n",
       "      <td>5.362351</td>\n",
       "      <td>2</td>\n",
       "    </tr>\n",
       "    <tr>\n",
       "      <th>2</th>\n",
       "      <td>4.997266</td>\n",
       "      <td>10.975775</td>\n",
       "      <td>7.505781</td>\n",
       "      <td>6.232234</td>\n",
       "      <td>2</td>\n",
       "    </tr>\n",
       "    <tr>\n",
       "      <th>3</th>\n",
       "      <td>3.981558</td>\n",
       "      <td>11.027726</td>\n",
       "      <td>5.853502</td>\n",
       "      <td>4.106146</td>\n",
       "      <td>1</td>\n",
       "    </tr>\n",
       "    <tr>\n",
       "      <th>4</th>\n",
       "      <td>5.992761</td>\n",
       "      <td>10.649078</td>\n",
       "      <td>8.276538</td>\n",
       "      <td>6.049061</td>\n",
       "      <td>1</td>\n",
       "    </tr>\n",
       "  </tbody>\n",
       "</table>\n",
       "</div>"
      ],
      "text/plain": [
       "      yrsed   creddebt   othdebt  carvalue  jobsat\n",
       "0  4.997266   9.995950  7.436486  7.233021       4\n",
       "1  2.586415   8.208726  4.943148  5.362351       2\n",
       "2  4.997266  10.975775  7.505781  6.232234       2\n",
       "3  3.981558  11.027726  5.853502  4.106146       1\n",
       "4  5.992761  10.649078  8.276538  6.049061       1"
      ]
     },
     "execution_count": 19,
     "metadata": {},
     "output_type": "execute_result"
    }
   ],
   "source": [
    "\n",
    "x_test=x_test[selected_features]\n",
    "x_test.head()"
   ]
  },
  {
   "cell_type": "code",
   "execution_count": 20,
   "id": "62b5edd0",
   "metadata": {},
   "outputs": [
    {
     "data": {
      "text/plain": [
       "(1204, 5)"
      ]
     },
     "execution_count": 20,
     "metadata": {},
     "output_type": "execute_result"
    }
   ],
   "source": [
    "x_test.shape"
   ]
  },
  {
   "cell_type": "code",
   "execution_count": 21,
   "id": "22301ccd",
   "metadata": {},
   "outputs": [
    {
     "name": "stdout",
     "output_type": "stream",
     "text": [
      "(2924, 5) (2924,)\n"
     ]
    }
   ],
   "source": [
    "x_train.to_csv('X_train.csv',index=False)\n",
    "y_train.to_csv('Y_train.csv',index=False)\n",
    "print (x_train.shape , y_train.shape)"
   ]
  },
  {
   "cell_type": "code",
   "execution_count": 22,
   "id": "e787a7c9",
   "metadata": {},
   "outputs": [
    {
     "name": "stdout",
     "output_type": "stream",
     "text": [
      "(1204, 5) (1204,)\n"
     ]
    }
   ],
   "source": [
    "x_test.to_csv('X_test.csv',index=False)\n",
    "y_test.to_csv('Y_test.csv',index=False)\n",
    "print(x_test.shape,y_test.shape)"
   ]
  },
  {
   "cell_type": "markdown",
   "id": "01b755dc",
   "metadata": {},
   "source": [
    "### We have selected our Features , now Proceeding to model building."
   ]
  },
  {
   "cell_type": "code",
   "execution_count": null,
   "id": "c2799e38",
   "metadata": {},
   "outputs": [],
   "source": []
  },
  {
   "cell_type": "code",
   "execution_count": null,
   "id": "ca280279",
   "metadata": {},
   "outputs": [],
   "source": []
  },
  {
   "cell_type": "code",
   "execution_count": null,
   "id": "fc2360f5",
   "metadata": {},
   "outputs": [],
   "source": [
    "\n"
   ]
  },
  {
   "cell_type": "code",
   "execution_count": null,
   "id": "79da3640",
   "metadata": {},
   "outputs": [],
   "source": []
  },
  {
   "cell_type": "code",
   "execution_count": null,
   "id": "4949a0d7",
   "metadata": {},
   "outputs": [],
   "source": []
  },
  {
   "cell_type": "code",
   "execution_count": null,
   "id": "6ec5ab2a",
   "metadata": {},
   "outputs": [],
   "source": []
  },
  {
   "cell_type": "code",
   "execution_count": null,
   "id": "07c58728",
   "metadata": {},
   "outputs": [],
   "source": []
  },
  {
   "cell_type": "code",
   "execution_count": null,
   "id": "b8a19d98",
   "metadata": {},
   "outputs": [],
   "source": []
  }
 ],
 "metadata": {
  "kernelspec": {
   "display_name": "Python 3 (ipykernel)",
   "language": "python",
   "name": "python3"
  },
  "language_info": {
   "codemirror_mode": {
    "name": "ipython",
    "version": 3
   },
   "file_extension": ".py",
   "mimetype": "text/x-python",
   "name": "python",
   "nbconvert_exporter": "python",
   "pygments_lexer": "ipython3",
   "version": "3.9.7"
  }
 },
 "nbformat": 4,
 "nbformat_minor": 5
}
