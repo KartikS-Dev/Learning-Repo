{
 "cells": [
  {
   "cell_type": "code",
   "execution_count": 5,
   "id": "a9d523f8",
   "metadata": {},
   "outputs": [
    {
     "name": "stdout",
     "output_type": "stream",
     "text": [
      "[['A', 'B'], ['C', 'D']]\n",
      "['A', 'B', 'C', 'D']\n"
     ]
    }
   ],
   "source": [
    "#Tutorial 3\n",
    "\n",
    "#Task 1 - List comprehensions\n",
    "\n",
    "list_to_flatten=[[\"A\",\"B\"],[\"C\",\"D\"]]\n",
    "\n",
    "\n",
    "def list_flatter(list_to_flatten):\n",
    "    temp_List=[]\n",
    "    for i in range(0,len(list_to_flatten)):\n",
    "        for j in range (0,len(list_to_flatten[i])):\n",
    "            temp_List.append(list_to_flatten[i][j])\n",
    "    return temp_List        \n",
    "\n",
    "\n",
    "\n",
    "print(list_1)\n",
    "\n",
    "\n",
    "print(list_flatter(list_to_flatten))"
   ]
  },
  {
   "cell_type": "code",
   "execution_count": 23,
   "id": "72670417",
   "metadata": {},
   "outputs": [
    {
     "name": "stdout",
     "output_type": "stream",
     "text": [
      "0.75\n"
     ]
    }
   ],
   "source": [
    "#Task 2 - Lambda Expressions\n",
    " #Using a lambda expression, create a div_by_num() function. \n",
    "    #This function should take a numeric argument and return a one argument function \n",
    "        #that divides any value passed to it by the original number. \n",
    "            #Its body must be one line long.\n",
    "# this is a classic example of functional programming where a function is returned rather than a value, \n",
    "    # here we have function inside a function (ie. function returning a function{lambda function})\n",
    "        #resultant is variable , being treated as a function because div_by_num(num) returned a function , \n",
    "            #hence x aquires the value passed to the resultant. \n",
    "\n",
    "def div_by_num(num):\n",
    "# Your code goes here\n",
    "    return lambda x:x/num\n",
    "\n",
    "\n",
    "resultant=div_by_num(4)\n",
    "print(resultant(3))\n",
    "\n"
   ]
  },
  {
   "cell_type": "code",
   "execution_count": 50,
   "id": "7bc5ad66",
   "metadata": {},
   "outputs": [
    {
     "name": "stdout",
     "output_type": "stream",
     "text": [
      "[0, 1, 1, 2, 3, 5, 8, 13, 21, 34, 55, 89, 144]\n",
      "[0, 1, 1, 2, 3, 5, 8, 13, 21, 34, 55, 89, 144]\n"
     ]
    }
   ],
   "source": [
    "#Task 3 - Lambda Expressions\n",
    "#Fibonacci numbers are numbers in the following integer sequence:\n",
    "    #[0, 1, 1, 2, 3, 5, 8, 13, 21, 34, 55, 89, 144, ...]\n",
    "        #In mathematical terms, the sequence Fn of Fibonacci numbers is defined by a recurrence relation:\n",
    "            #Fn=Fn−1+Fn−2 with seed values F0=0 and F1=1.\n",
    "                #Produce the series of Fibonacci numbers using a lambda function.\n",
    "                \n",
    "fib_nums=[]\n",
    "\n",
    "#inserting in two ways\n",
    "fib_nums.append(0) # always insert to the end\n",
    "fib_nums.insert(1,1) # inserts at the index and list get rearranged\n",
    " \n",
    "    #Fibonacci using forloop\n",
    "def Fibonacci_forloop(fib_nums):\n",
    "    for j in range(1,12): \n",
    "        temp=fib_nums[j]\n",
    "        temp=temp+fib_nums[j-1]\n",
    "        fib_nums.append(temp)\n",
    "    return fib_nums\n",
    "print(Fibonacci_forloop(fib_nums))\n",
    "\n",
    "    #Fibonacci using lambda\n",
    "fib_num = lambda x:x if x <= 1 else fib_num(x-1) + fib_num(x-2)\n",
    "fib_num_list=[]\n",
    "for i in range (0,13):\n",
    "    fib_num_list.append(fibonacci(i))\n",
    "print(fib_num_list)\n",
    "\n",
    "\n",
    "\n",
    "\n"
   ]
  },
  {
   "cell_type": "code",
   "execution_count": 59,
   "id": "f641b89f",
   "metadata": {},
   "outputs": [
    {
     "name": "stdout",
     "output_type": "stream",
     "text": [
      "Calling Correct URL\n",
      "Success \n",
      "\n",
      "Calling wrong URL\n",
      "exception - URLError\n"
     ]
    }
   ],
   "source": [
    "#Task 4 - Web Access\n",
    "#Create a script that checks if a particular URL is present on a server, or returns an error. \n",
    "    #Use the library urllib mentioned in the lecture slides.\n",
    "import urllib.request\n",
    "import urllib.error\n",
    "\n",
    "from socket import gaierror\n",
    "\n",
    "\n",
    "def wrong_url(): \n",
    "\n",
    "    try:\n",
    "        response = urllib.request.urlopen('http://pythonnn.org/')\n",
    "        try:\n",
    "            html = response.read()\n",
    "            html = str(html)\n",
    "            print(\"Success \\n\")\n",
    "        except gaierror: #What is Gaierror?It means that your given host name ' ' is invalid (gai stands for getaddrinfo() ).\n",
    "            print(\"exception - gaierror\")\n",
    "    \n",
    "    except urllib.error.URLError:\n",
    "        print(\"exception - URLError\")\n",
    "        \n",
    "        \n",
    "def correct_url(): \n",
    "\n",
    "    try:\n",
    "        response = urllib.request.urlopen('http://python.org/')\n",
    "        try:\n",
    "            html = response.read()\n",
    "            html = str(html)\n",
    "            print(\"Success \\n\")\n",
    "        except gaierror: #What is Gaierror?It means that your given host name ' ' is invalid (gai stands for getaddrinfo() ).\n",
    "            print(\"exception - gaierror\")\n",
    "    \n",
    "    except urllib.error.URLError:\n",
    "        print(\"exception - URLError\")\n",
    "        \n",
    "\n",
    "\n",
    "\n",
    "#Calling Correct URL\n",
    "print(\"Calling Correct URL\")\n",
    "correct_url() \n",
    "\n",
    "\n",
    "#Calling wrong URL\n",
    "print(\"Calling wrong URL\")\n",
    "wrong_url()   \n",
    "\n",
    "\n",
    "    "
   ]
  },
  {
   "cell_type": "code",
   "execution_count": null,
   "id": "726c8280",
   "metadata": {},
   "outputs": [],
   "source": [
    "#Task 5 - Fetching from an API\n",
    "#Write a program to get the current weather of a city given as input to the program. You should use the OpenWeatherMap API. \n",
    "    #Note you will need to sign up to obtain an API key.\n",
    "\n",
    "#The GET request you send should have the following string appended at the end of the query for authentication: APPID=\n",
    "\n",
    "#You should retrieve temperature, wind speed, description and weather for the city. \n",
    "    #The output of your program should be similar to:\n",
    "'''\n",
    "Temperature: 12.32°C\n",
    "Wind speed: 8.7 m/s\n",
    "Description: moderate rain\n",
    "Weather: Rain\n",
    "'''\n"
   ]
  }
 ],
 "metadata": {
  "kernelspec": {
   "display_name": "Python 3 (ipykernel)",
   "language": "python",
   "name": "python3"
  },
  "language_info": {
   "codemirror_mode": {
    "name": "ipython",
    "version": 3
   },
   "file_extension": ".py",
   "mimetype": "text/x-python",
   "name": "python",
   "nbconvert_exporter": "python",
   "pygments_lexer": "ipython3",
   "version": "3.9.7"
  }
 },
 "nbformat": 4,
 "nbformat_minor": 5
}
