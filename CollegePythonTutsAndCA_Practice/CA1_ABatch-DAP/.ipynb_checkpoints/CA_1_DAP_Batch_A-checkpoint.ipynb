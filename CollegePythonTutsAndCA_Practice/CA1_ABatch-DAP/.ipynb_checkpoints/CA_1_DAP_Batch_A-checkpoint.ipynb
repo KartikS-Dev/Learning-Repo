{
 "cells": [
  {
   "cell_type": "markdown",
   "id": "b8cf2e30",
   "metadata": {},
   "source": [
    "Q1 . Function to import json file. The function should return distionary representation.Include Exception Handling . Don't use pandas."
   ]
  },
  {
   "cell_type": "code",
   "execution_count": 1,
   "id": "3959389e",
   "metadata": {
    "scrolled": true
   },
   "outputs": [
    {
     "name": "stdout",
     "output_type": "stream",
     "text": [
      "{'id': '0002', 'type': 'donut', 'name': 'Raised', 'ppu': 0.55, 'batters': {'batter': [{'id': '1001', 'type': 'Regular'}]}, 'topping': [{'id': '5001', 'type': 'None'}, {'id': '5002', 'type': 'Glazed'}, {'id': '5005', 'type': 'Sugar'}, {'id': '5003', 'type': 'Chocolate'}, {'id': '5004', 'type': 'Maple'}]}\n"
     ]
    }
   ],
   "source": [
    "import json\n",
    "\n",
    "def getJsonDict(filePath):\n",
    "    try:\n",
    "    #open the json file\n",
    "        jsonFile = open(filePath)\n",
    "    \n",
    "    #return Json object as a dictionary\n",
    "        jsonDict = json.load(jsonFile)\n",
    "    \n",
    "        jsonFile.close()\n",
    "    \n",
    "        return jsonDict\n",
    "    except FileNotFoundError : \n",
    "        return ('Please check the file path/name')\n",
    "jsonDict = getJsonDict('food.json')\n",
    "    \n",
    "print(jsonDict[1])"
   ]
  },
  {
   "cell_type": "markdown",
   "id": "edc8f352",
   "metadata": {},
   "source": [
    "Q2. Use appropriate print function to display type = donut , name = Old Fashioned , batter = chocolate\n",
    "and topping is maple"
   ]
  },
  {
   "cell_type": "code",
   "execution_count": 2,
   "id": "aed397d3",
   "metadata": {},
   "outputs": [
    {
     "name": "stdout",
     "output_type": "stream",
     "text": [
      "('donut', 'Old Fashioned', 'Chocolate', 'Maple')\n"
     ]
    }
   ],
   "source": [
    "def getDetails(jsonDict):\n",
    "    for i in range (0,len(jsonDict)):\n",
    "        if 'donut'==jsonDict[i].get('type'):\n",
    "            if 'Old Fashioned'==jsonDict[i].get('name'):\n",
    "                for j in range (0,len(jsonDict[i].get('batters').get('batter'))):\n",
    "                    if 'Chocolate'==jsonDict[i].get('batters').get('batter')[j].get('type'):\n",
    "                        for k in range (0,len(jsonDict[i].get('topping'))):\n",
    "                            if 'Maple' == jsonDict[i].get('topping')[k].get('type'):\n",
    "                                return (jsonDict[i].get('type'),jsonDict[i].get('name'),jsonDict[i].get('batters').get('batter')[j].get('type'),jsonDict[i].get('topping')[k].get('type'))\n",
    "\n",
    "print(getDetails(jsonDict))"
   ]
  },
  {
   "cell_type": "markdown",
   "id": "f43e543c",
   "metadata": {},
   "source": [
    "Q3. Find total number of Toppings available for donuts"
   ]
  },
  {
   "cell_type": "code",
   "execution_count": 3,
   "id": "015fc643",
   "metadata": {},
   "outputs": [
    {
     "name": "stdout",
     "output_type": "stream",
     "text": [
      "{'Chocolate', 'Maple', 'Chocolate with Sprinkles', 'Glazed', 'Powdered Sugar', 'Sugar'}\n",
      "6\n"
     ]
    }
   ],
   "source": [
    "def getTotalToppings(jsonDist):\n",
    "    list_toppings_types=[]\n",
    "    for i in range (0,len(jsonDict)):\n",
    "        if 'donut' == jsonDict[i].get('type'):\n",
    "            for j in range (0,len(jsonDict[i].get('topping'))):\n",
    "                   list_toppings_types.append(jsonDict[i].get('topping')[j].get('type'))\n",
    "    return list_toppings_types\n",
    "\n",
    "mySet = set()\n",
    "for i in range (0,len(getTotalToppings(jsonDict))):\n",
    "        if 'None' != getTotalToppings(jsonDict)[i]:\n",
    "            mySet.add(getTotalToppings(jsonDict)[i])\n",
    "print(mySet)\n",
    "print(len(mySet))"
   ]
  },
  {
   "cell_type": "markdown",
   "id": "34452069",
   "metadata": {},
   "source": [
    "Q4. Write to csv file for each donut name and number of toppings.\n"
   ]
  },
  {
   "cell_type": "code",
   "execution_count": 4,
   "id": "1adf3cac",
   "metadata": {},
   "outputs": [
    {
     "name": "stdout",
     "output_type": "stream",
     "text": [
      "file successfully created\n"
     ]
    }
   ],
   "source": [
    "import csv\n",
    "def writingToCsv(jsonDict):\n",
    "    row_1 = ['Name','Topping Count']\n",
    "    file_name =  'toppings.csv'\n",
    "    try:\n",
    "        csvfile = open(file_name,'w+') ## w+ is used to ope file in write and update model, prevents redundancy\n",
    "         ## writer object \n",
    "        csvWrite = csv.writer(csvfile)\n",
    "\n",
    "        ##writing the fields\n",
    "        csvWrite.writerow(row_1)\n",
    "\n",
    "\n",
    "        for  i in range (0, len(jsonDict)):\n",
    "            donut_name = jsonDict[i].get('name')\n",
    "            topping_count = len(jsonDict[i].get('topping'))\n",
    "            data = [[donut_name,topping_count]]\n",
    "            ## writing the data to rows\n",
    "            csvWrite.writerows(data)\n",
    "        print('file successfully created')\n",
    "    except PermissionError:\n",
    "        print('File is already running,try again after closing it')\n",
    "\n",
    "writingToCsv(jsonDict)"
   ]
  },
  {
   "cell_type": "markdown",
   "id": "a1cac050",
   "metadata": {},
   "source": [
    "## Arryas "
   ]
  },
  {
   "cell_type": "code",
   "execution_count": 5,
   "id": "bb878f4d",
   "metadata": {},
   "outputs": [],
   "source": [
    "import numpy as np"
   ]
  },
  {
   "cell_type": "markdown",
   "id": "4b848855",
   "metadata": {},
   "source": [
    "Q1. \n",
    "    a. Create 2-D array of 800 numbers(1 to 800), shape of array  (40r X 20c)"
   ]
  },
  {
   "cell_type": "code",
   "execution_count": 6,
   "id": "8c1c7d65",
   "metadata": {},
   "outputs": [
    {
     "data": {
      "text/plain": [
       "array([[  1,   2,   3,   4,   5,   6,   7,   8,   9,  10,  11,  12,  13,\n",
       "         14,  15,  16,  17,  18,  19,  20],\n",
       "       [ 21,  22,  23,  24,  25,  26,  27,  28,  29,  30,  31,  32,  33,\n",
       "         34,  35,  36,  37,  38,  39,  40],\n",
       "       [ 41,  42,  43,  44,  45,  46,  47,  48,  49,  50,  51,  52,  53,\n",
       "         54,  55,  56,  57,  58,  59,  60],\n",
       "       [ 61,  62,  63,  64,  65,  66,  67,  68,  69,  70,  71,  72,  73,\n",
       "         74,  75,  76,  77,  78,  79,  80],\n",
       "       [ 81,  82,  83,  84,  85,  86,  87,  88,  89,  90,  91,  92,  93,\n",
       "         94,  95,  96,  97,  98,  99, 100],\n",
       "       [101, 102, 103, 104, 105, 106, 107, 108, 109, 110, 111, 112, 113,\n",
       "        114, 115, 116, 117, 118, 119, 120],\n",
       "       [121, 122, 123, 124, 125, 126, 127, 128, 129, 130, 131, 132, 133,\n",
       "        134, 135, 136, 137, 138, 139, 140],\n",
       "       [141, 142, 143, 144, 145, 146, 147, 148, 149, 150, 151, 152, 153,\n",
       "        154, 155, 156, 157, 158, 159, 160],\n",
       "       [161, 162, 163, 164, 165, 166, 167, 168, 169, 170, 171, 172, 173,\n",
       "        174, 175, 176, 177, 178, 179, 180],\n",
       "       [181, 182, 183, 184, 185, 186, 187, 188, 189, 190, 191, 192, 193,\n",
       "        194, 195, 196, 197, 198, 199, 200],\n",
       "       [201, 202, 203, 204, 205, 206, 207, 208, 209, 210, 211, 212, 213,\n",
       "        214, 215, 216, 217, 218, 219, 220],\n",
       "       [221, 222, 223, 224, 225, 226, 227, 228, 229, 230, 231, 232, 233,\n",
       "        234, 235, 236, 237, 238, 239, 240],\n",
       "       [241, 242, 243, 244, 245, 246, 247, 248, 249, 250, 251, 252, 253,\n",
       "        254, 255, 256, 257, 258, 259, 260],\n",
       "       [261, 262, 263, 264, 265, 266, 267, 268, 269, 270, 271, 272, 273,\n",
       "        274, 275, 276, 277, 278, 279, 280],\n",
       "       [281, 282, 283, 284, 285, 286, 287, 288, 289, 290, 291, 292, 293,\n",
       "        294, 295, 296, 297, 298, 299, 300],\n",
       "       [301, 302, 303, 304, 305, 306, 307, 308, 309, 310, 311, 312, 313,\n",
       "        314, 315, 316, 317, 318, 319, 320],\n",
       "       [321, 322, 323, 324, 325, 326, 327, 328, 329, 330, 331, 332, 333,\n",
       "        334, 335, 336, 337, 338, 339, 340],\n",
       "       [341, 342, 343, 344, 345, 346, 347, 348, 349, 350, 351, 352, 353,\n",
       "        354, 355, 356, 357, 358, 359, 360],\n",
       "       [361, 362, 363, 364, 365, 366, 367, 368, 369, 370, 371, 372, 373,\n",
       "        374, 375, 376, 377, 378, 379, 380],\n",
       "       [381, 382, 383, 384, 385, 386, 387, 388, 389, 390, 391, 392, 393,\n",
       "        394, 395, 396, 397, 398, 399, 400],\n",
       "       [401, 402, 403, 404, 405, 406, 407, 408, 409, 410, 411, 412, 413,\n",
       "        414, 415, 416, 417, 418, 419, 420],\n",
       "       [421, 422, 423, 424, 425, 426, 427, 428, 429, 430, 431, 432, 433,\n",
       "        434, 435, 436, 437, 438, 439, 440],\n",
       "       [441, 442, 443, 444, 445, 446, 447, 448, 449, 450, 451, 452, 453,\n",
       "        454, 455, 456, 457, 458, 459, 460],\n",
       "       [461, 462, 463, 464, 465, 466, 467, 468, 469, 470, 471, 472, 473,\n",
       "        474, 475, 476, 477, 478, 479, 480],\n",
       "       [481, 482, 483, 484, 485, 486, 487, 488, 489, 490, 491, 492, 493,\n",
       "        494, 495, 496, 497, 498, 499, 500],\n",
       "       [501, 502, 503, 504, 505, 506, 507, 508, 509, 510, 511, 512, 513,\n",
       "        514, 515, 516, 517, 518, 519, 520],\n",
       "       [521, 522, 523, 524, 525, 526, 527, 528, 529, 530, 531, 532, 533,\n",
       "        534, 535, 536, 537, 538, 539, 540],\n",
       "       [541, 542, 543, 544, 545, 546, 547, 548, 549, 550, 551, 552, 553,\n",
       "        554, 555, 556, 557, 558, 559, 560],\n",
       "       [561, 562, 563, 564, 565, 566, 567, 568, 569, 570, 571, 572, 573,\n",
       "        574, 575, 576, 577, 578, 579, 580],\n",
       "       [581, 582, 583, 584, 585, 586, 587, 588, 589, 590, 591, 592, 593,\n",
       "        594, 595, 596, 597, 598, 599, 600],\n",
       "       [601, 602, 603, 604, 605, 606, 607, 608, 609, 610, 611, 612, 613,\n",
       "        614, 615, 616, 617, 618, 619, 620],\n",
       "       [621, 622, 623, 624, 625, 626, 627, 628, 629, 630, 631, 632, 633,\n",
       "        634, 635, 636, 637, 638, 639, 640],\n",
       "       [641, 642, 643, 644, 645, 646, 647, 648, 649, 650, 651, 652, 653,\n",
       "        654, 655, 656, 657, 658, 659, 660],\n",
       "       [661, 662, 663, 664, 665, 666, 667, 668, 669, 670, 671, 672, 673,\n",
       "        674, 675, 676, 677, 678, 679, 680],\n",
       "       [681, 682, 683, 684, 685, 686, 687, 688, 689, 690, 691, 692, 693,\n",
       "        694, 695, 696, 697, 698, 699, 700],\n",
       "       [701, 702, 703, 704, 705, 706, 707, 708, 709, 710, 711, 712, 713,\n",
       "        714, 715, 716, 717, 718, 719, 720],\n",
       "       [721, 722, 723, 724, 725, 726, 727, 728, 729, 730, 731, 732, 733,\n",
       "        734, 735, 736, 737, 738, 739, 740],\n",
       "       [741, 742, 743, 744, 745, 746, 747, 748, 749, 750, 751, 752, 753,\n",
       "        754, 755, 756, 757, 758, 759, 760],\n",
       "       [761, 762, 763, 764, 765, 766, 767, 768, 769, 770, 771, 772, 773,\n",
       "        774, 775, 776, 777, 778, 779, 780],\n",
       "       [781, 782, 783, 784, 785, 786, 787, 788, 789, 790, 791, 792, 793,\n",
       "        794, 795, 796, 797, 798, 799, 800]])"
      ]
     },
     "execution_count": 6,
     "metadata": {},
     "output_type": "execute_result"
    }
   ],
   "source": [
    "my_array = np.array([i for i in range (1,801)]).reshape(40,20)\n",
    "\n",
    "my_array"
   ]
  },
  {
   "cell_type": "markdown",
   "id": "8b0eaeb9",
   "metadata": {},
   "source": [
    "    b. sum of all the entries of last 2 columns"
   ]
  },
  {
   "cell_type": "code",
   "execution_count": 7,
   "id": "90cc6cac",
   "metadata": {},
   "outputs": [
    {
     "name": "stdout",
     "output_type": "stream",
     "text": [
      "0 + 19  +  20\n",
      "39 + 39  +  40\n",
      "118 + 59  +  60\n",
      "237 + 79  +  80\n",
      "396 + 99  +  100\n",
      "595 + 119  +  120\n",
      "834 + 139  +  140\n",
      "1113 + 159  +  160\n",
      "1432 + 179  +  180\n",
      "1791 + 199  +  200\n",
      "2190 + 219  +  220\n",
      "2629 + 239  +  240\n",
      "3108 + 259  +  260\n",
      "3627 + 279  +  280\n",
      "4186 + 299  +  300\n",
      "4785 + 319  +  320\n",
      "5424 + 339  +  340\n",
      "6103 + 359  +  360\n",
      "6822 + 379  +  380\n",
      "7581 + 399  +  400\n",
      "8380 + 419  +  420\n",
      "9219 + 439  +  440\n",
      "10098 + 459  +  460\n",
      "11017 + 479  +  480\n",
      "11976 + 499  +  500\n",
      "12975 + 519  +  520\n",
      "14014 + 539  +  540\n",
      "15093 + 559  +  560\n",
      "16212 + 579  +  580\n",
      "17371 + 599  +  600\n",
      "18570 + 619  +  620\n",
      "19809 + 639  +  640\n",
      "21088 + 659  +  660\n",
      "22407 + 679  +  680\n",
      "23766 + 699  +  700\n",
      "25165 + 719  +  720\n",
      "26604 + 739  +  740\n",
      "28083 + 759  +  760\n",
      "29602 + 779  +  780\n",
      "31161 + 799  +  800\n",
      "32760\n"
     ]
    }
   ],
   "source": [
    "sum =0\n",
    "for i in range (0,40):\n",
    "    print(sum , \"+\", my_array[i][18],\" + \",my_array[i][19])\n",
    "    sum = sum+ my_array[i][18]+my_array[i][19]\n",
    "    \n",
    "print(sum)"
   ]
  },
  {
   "cell_type": "code",
   "execution_count": 8,
   "id": "91385b6a",
   "metadata": {},
   "outputs": [
    {
     "name": "stdout",
     "output_type": "stream",
     "text": [
      "[101, 102, 103, 104, 105, 106, 107, 108, 109, 110, 111, 112, 113, 114, 115, 116, 117, 118, 119, 120, 121, 122, 123, 124, 125, 126, 127, 128, 129, 130, 131, 132, 133, 134, 135, 136, 137, 138, 139, 140, 141, 142, 143, 144, 145, 146, 147, 148, 149, 150, 151, 152, 153, 154, 155, 156, 157, 158, 159, 160, 161, 162, 163, 164, 165, 166, 167, 168, 169, 170, 171, 172, 173, 174, 175, 176, 177, 178, 179, 180, 181, 182, 183, 184, 185, 186, 187, 188, 189, 190, 191, 192, 193, 194, 195, 196, 197, 198, 199]\n"
     ]
    }
   ],
   "source": [
    "list_values=[]\n",
    "for i in range (0 ,40):\n",
    "    for j in range (0,20):\n",
    "        if 100< my_array[i][j] and 200> my_array[i][j]:\n",
    "            list_values.append(my_array[i][j])\n",
    "print(list_values)"
   ]
  },
  {
   "cell_type": "markdown",
   "id": "8c352500",
   "metadata": {},
   "source": [
    "Q2. Create a game of dice , where computer rolls the 2 dice (randomly), and where you have to guess the sum\n",
    ". if your guess was right , you earn 5 euro , if not you lose 1 euro. Repeat the process 5 times . At the end print a message that \n",
    "depending to if you have won or not , look like the one below :- \n",
    "\n",
    "    \"Thanos has won 2 times out of 5 and won 7 Euro\"\n",
    "\n",
    "    \"Thanos has won 0 times out of 5 and lost 5 Euro\"\n",
    "    "
   ]
  },
  {
   "cell_type": "code",
   "execution_count": 15,
   "id": "40fd7cfe",
   "metadata": {},
   "outputs": [
    {
     "name": "stdout",
     "output_type": "stream",
     "text": [
      "How should we call you : - J\n",
      "Guess the sum (number on dice 1 + number on Dice 2) :- 9\n",
      "your prediction is 9\n",
      "Rolling the dice.....\n",
      "Guess the sum (number on dice 1 + number on Dice 2) :- 6\n",
      "your prediction is 6\n",
      "Rolling the dice.....\n",
      "Guess the sum (number on dice 1 + number on Dice 2) :- 3\n",
      "your prediction is 3\n",
      "Rolling the dice.....\n",
      "Guess the sum (number on dice 1 + number on Dice 2) :- 6\n",
      "your prediction is 6\n",
      "Rolling the dice.....\n",
      "Guess the sum (number on dice 1 + number on Dice 2) :- 9\n",
      "your prediction is 9\n",
      "Rolling the dice.....\n",
      "\n",
      " J has won 0 times out of 5 and lost 5.0 Euro\n"
     ]
    }
   ],
   "source": [
    "import random as rnd\n",
    "import math as mt\n",
    "money = 0\n",
    "win_count=0\n",
    "class GameODice:\n",
    "    \n",
    "    def roll_the_dice(player_prediction):\n",
    "        global money\n",
    "        global win_count\n",
    "        dice_1 = np.array([i for i in range (1,7)])\n",
    "        dice_2 = np.array([i for i in range (1,7)])\n",
    "        temp_sum=dice_1[rnd.randint(0,5)]+dice_2[rnd.randint(0,5)]\n",
    "        if(player_prediction==temp_sum):\n",
    "            money = money+5\n",
    "            win_count=win_count+1\n",
    "        else:\n",
    "            money=money-1\n",
    "        \n",
    "    def initializeTheGame(self):\n",
    "        i=1\n",
    "        while i!=0:\n",
    "            player_name = input(\"How should we call you : - \")\n",
    "            if(player_name!=\"\"):\n",
    "                i=0\n",
    "                for x in range(0,5):\n",
    "                    j=1\n",
    "                    while j!=0:\n",
    "                        player_prediction = int(input('Guess the sum (number on dice 1 + number on Dice 2) :- '))\n",
    "                        print(\"your prediction is {}\".format(player_prediction))\n",
    "                        if player_prediction > 12:\n",
    "                                print('!!! please enter value <= 12')\n",
    "                                j=1\n",
    "                        else:\n",
    "                            j=0\n",
    "                            print('Rolling the dice.....')\n",
    "                            GameODice.roll_the_dice(player_prediction)\n",
    "                if(money>0):\n",
    "                    print(\"\\n {} has won {} times out of 5 and won {} Euro\".format(player_name,win_count,money))\n",
    "                else:\n",
    "                    print(\"\\n {} has won {} times out of 5 and lost {} Euro\".format(player_name,win_count,mt.sqrt(money*money)))\n",
    "\n",
    "            else :\n",
    "                i=1\n",
    "obj=GameODice()\n",
    "obj.initializeTheGame()"
   ]
  },
  {
   "cell_type": "markdown",
   "id": "e7189de9",
   "metadata": {},
   "source": [
    "## Regular Expressions\n"
   ]
  },
  {
   "cell_type": "markdown",
   "id": "d3b03ed7",
   "metadata": {},
   "source": [
    "Q1. Given the following string:\n",
    "\n",
    "Betty Botter bought a bit of butter\n",
    "\n",
    "But, she said, this butter’s bitter\n",
    "\n",
    "If I put it in my batter\n",
    "\n",
    "It will make my batter bitter\n",
    "\n",
    "But a bit of better butter\n",
    "\n",
    "Will make my batter better\n",
    "\n",
    "So ’twas better Betty Botter bought a bit of better butter\n",
    "\n",
    ".... Using a single regular expression, write a function to highlight the words “butter”, “batter”\n",
    "\n",
    "or “better” if they appear at the end of a line. Explain the regular expression. Your answer\n",
    "\n",
    "should look like this:\n",
    "\n",
    "Betty Botter bought a bit of {butter}\n",
    "\n",
    "But, she said, this butter’s bitter\n",
    "\n",
    "If I put it in my {batter}\n",
    "\n",
    "It will make my batter bitter\n",
    "\n",
    "But a bit of better {butter}\n",
    "\n",
    "Will make my batter {better}\n",
    "\n",
    "So ’twas better Betty Botter bought a bit of better {butter}"
   ]
  },
  {
   "cell_type": "code",
   "execution_count": 71,
   "id": "67417c20",
   "metadata": {},
   "outputs": [
    {
     "name": "stdout",
     "output_type": "stream",
     "text": [
      ">>>>>Final Solution\n",
      "Betty Botter bought a bit of butter\n",
      "But, she said, this butter’s bitter\n",
      "If I put it in my batter\n",
      "It will make my batter bitter\n",
      "But a bit of better butter\n",
      "Will make my batter better\n",
      "So ’twas better Betty Botter bought a bit of better butter\n",
      "\n",
      "Betty Botter bought a bit of {butter}\n",
      "But, she said, this butter’s bitter\n",
      "If I put it in my {batter}\n",
      "It will make my batter bitter\n",
      "But a bit of better {butter}\n",
      "Will make my batter {better}\n",
      "So ’twas better Betty Botter bought a bit of better {butter}\n",
      "\n"
     ]
    }
   ],
   "source": [
    "import re\n",
    "teststring_0 = \"the best butter butter and butter\"\n",
    "\n",
    "teststring = \"Betty Botter bought a bit of butter\\nBut, she said, this butter’s bitter\\nIf I put it in my batter\\nIt will make my batter bitter\\nBut a bit of better butter\\nWill make my batter better\\nSo ’twas better Betty Botter bought a bit of better butter\\n\"\n",
    "data_to_highlight = ['butter','batter','better']\n",
    "regex = '{}+\\n'\n",
    "\n",
    "def hilighter(string):\n",
    "    print(string)\n",
    "    for word in data_to_highlight:\n",
    "        highlighted_word = str('{'+word+'}')\n",
    "        string=re.sub(regex.format(word),highlighted_word+'\\n',string)\n",
    "    return string\n",
    "\n",
    "     \n",
    "print(\">>>>>Final Solution\")    \n",
    "print(hilighter(teststring))"
   ]
  },
  {
   "cell_type": "markdown",
   "id": "aeaa061b",
   "metadata": {},
   "source": [
    "Q2 . Given the following text (xml document)\n",
    "\n",
    "    <books>\n",
    "    \n",
    "\n",
    "    <book>\n",
    "\n",
    "    <name>A Song of Ice and Fire</name>\n",
    "\n",
    "    <author>George R. R. Martin</author>\n",
    "\n",
    "    <language>English</language>\n",
    "\n",
    "    <genre>Epic fantasy</genre>\n",
    "\n",
    "    </book>\n",
    "\n",
    "    <book>\n",
    "\n",
    "        <name id=232>Train Dreams</name>\n",
    "\n",
    "        <author>Denis Johnson</author>\n",
    "\n",
    "        <language>English</language>\n",
    "\n",
    "        <genre>Novel</genre>\n",
    "\n",
    "    </book>\n",
    "\n",
    "    </books>\n",
    "\n",
    "use a single regular expression to extract the names of the books from the <name>\n",
    "tag elements. Explain the regular expression. Your answer should look like this:\n",
    "\n",
    "    A Song of Ice and Fire\n",
    "\n",
    "    Train Dreams"
   ]
  },
  {
   "cell_type": "code",
   "execution_count": 194,
   "id": "56490f26",
   "metadata": {},
   "outputs": [
    {
     "name": "stdout",
     "output_type": "stream",
     "text": [
      "['A Song of Ice and Fire', 'Train Dreams']\n"
     ]
    }
   ],
   "source": [
    "testString = \"<books><book><name>A Song of Ice and Fire</name><author>George R. R. Martin</author><language>English</language><genre>Epic fantasy</genre></book><book><name id=232>Train Dreams</name><author>Denis Johnson</author><language>English</language><genre>Novel</genre></book></books>\"\n",
    "\n",
    "regex1=\"<name.*?>(.*?)</name>\" ## https://stackoverflow.com/questions/7167279/regex-select-all-text-between-tags\n",
    "\n",
    "#the regex used is searching for the given pattern based on lazy search using '?'\n",
    "#<name.*?> is written like this because one of the name tag contains id also , if anything comes between name and '>' it is considered\n",
    "# * is zero or more and + is one and more\n",
    "#  . represents any single character (usually excluding the newline character)\n",
    "list_finding = re.findall(regex1 , testString)\n",
    "\n",
    "\n",
    "print(list_finding)"
   ]
  },
  {
   "cell_type": "code",
   "execution_count": null,
   "id": "3e69998c",
   "metadata": {},
   "outputs": [],
   "source": []
  }
 ],
 "metadata": {
  "kernelspec": {
   "display_name": "Python 3 (ipykernel)",
   "language": "python",
   "name": "python3"
  },
  "language_info": {
   "codemirror_mode": {
    "name": "ipython",
    "version": 3
   },
   "file_extension": ".py",
   "mimetype": "text/x-python",
   "name": "python",
   "nbconvert_exporter": "python",
   "pygments_lexer": "ipython3",
   "version": "3.9.7"
  }
 },
 "nbformat": 4,
 "nbformat_minor": 5
}
