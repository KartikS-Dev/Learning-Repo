{
 "cells": [
  {
   "cell_type": "code",
   "execution_count": 1,
   "id": "e53e8fae",
   "metadata": {},
   "outputs": [
    {
     "name": "stdout",
     "output_type": "stream",
     "text": [
      "The number :-  1  !! does not !! contain a Decimal !\n",
      "The number :-  1000.0009  contains a Decimal !\n",
      "The number :-  5.2  contains a Decimal !\n",
      "The number :-  2.5  contains a Decimal !\n",
      "The number :-  -3  !! does not !! contain a Decimal !\n"
     ]
    }
   ],
   "source": [
    "# Regular Expressions\n",
    "\n",
    "#1.Write a Python function that uses regular expressions to check that a string contains a decimal number. \n",
    "    #Test your function with a variety of strings that contain and do not contain a decimal number.\n",
    " \n",
    "import re\n",
    "\n",
    "num_list=['1','1000.0009','5.2','2.5','-3']\n",
    "\n",
    "def isDecimal(x):\n",
    "   search_result=re.search(\"[0-9]+\\.[0-9]+\", x)\n",
    "   \n",
    "   \"\"\" \n",
    "   #Easy method without using REGEX\n",
    "    search_result=x.find(\".\") # return -ive for no result found\n",
    "    print(search_result)\n",
    "    if search_result > 0:\n",
    "        return True        \n",
    "    else: return False\n",
    "    \"\"\"\n",
    "    # None is keword returned in case of no desired result found \n",
    "   if search_result != None:\n",
    "        return True        \n",
    "   else: return False\n",
    "  \n",
    "\n",
    "\n",
    "for x in num_list:\n",
    "    if(isDecimal(x)):\n",
    "            print(\"The number :- \",x,\" contains a Decimal !\")\n",
    "    else :\n",
    "            print(\"The number :- \",x,\" !! does not !! contain a Decimal !\")\n"
   ]
  },
  {
   "cell_type": "code",
   "execution_count": 2,
   "id": "01445980",
   "metadata": {},
   "outputs": [
    {
     "name": "stdout",
     "output_type": "stream",
     "text": [
      "The name :-  kArtiK  contains lower case letter(s) !\n",
      "The name :-  AKBAR  !! does not !! contain lower case letter(s) !\n",
      "The name :-  raul  contains lower case letter(s) !\n",
      "The name :-  ARCHANA  !! does not !! contain lower case letter(s) !\n",
      "The name :-  POOja  contains lower case letter(s) !\n"
     ]
    }
   ],
   "source": [
    "#2.Write a Python function that takes a string and uses regular expressions to check if that string contains lowercase letters. \n",
    "    #Test your function with a selection of suitable strings.\n",
    "import re\n",
    "\n",
    "name_list=['kArtiK','AKBAR','raul','ARCHANA','POOja']\n",
    "\n",
    "def isLowerCase(x):\n",
    "    search_result=re.search(\"^.[A-Z]+$\", x)# this returns none if atleast one of the character is in lower case\n",
    "       # None is keword returned in case of no desired result found \n",
    "    if search_result == None:\n",
    "        return True        \n",
    "    else: return False\n",
    "  \n",
    "\n",
    "\n",
    "for x in name_list:\n",
    "    if(isLowerCase(x)):\n",
    "            print(\"The name :- \",x,\" contains lower case letter(s) !\")\n",
    "    else :\n",
    "            print(\"The name :- \",x,\" !! does not !! contain lower case letter(s) !\")\n",
    "    \n",
    "\n",
    "\n"
   ]
  },
  {
   "cell_type": "code",
   "execution_count": 3,
   "id": "4f6bf4ba",
   "metadata": {},
   "outputs": [
    {
     "name": "stdout",
     "output_type": "stream",
     "text": [
      "INPUT >>> \n",
      " ['kartiK is good boy', 'Akbar is honest', 'raul is clever', 'Archana is imaginative', 'pooja is strong hearted']\n",
      "\n",
      "\n",
      "\n",
      "OUTPUT >>> \n",
      " ['KartiK is good boy', 'Akbar is honest', 'Raul is clever', 'Archana is imaginative', 'Pooja is strong hearted']\n"
     ]
    }
   ],
   "source": [
    "#3.Write a Python function that uses regular expressions to convert a string to sentence case, \n",
    "    #where only the first letter of the first would should be capitalised. \n",
    "    #Do not worry about proper nouns in the string that should also be capitalised. \n",
    "    #Test your function with a variety of strings.\n",
    "import re\n",
    "\n",
    "sentence_list=['kartiK is good boy','Akbar is honest','raul is clever','Archana is imaginative','pooja is strong hearted']\n",
    "\n",
    "print(\"INPUT >>> \\n\",sentence_list)\n",
    "\n",
    "\n",
    "def toSentenceCase(convString):\n",
    "    regex = \"^[A-Z]\"\n",
    "    isFirstLetterCaps = re.search(regex, convString)\n",
    "    if isFirstLetterCaps != 'None':\n",
    "        temp_substr=convString[0:1]\n",
    "        convString=temp_substr.upper()+convString[1:]\n",
    "        return convString        \n",
    "    else: return convString\n",
    "  \n",
    "print(\"\\n\\n\")\n",
    "\n",
    "for x in sentence_list:\n",
    "    temp_index = sentence_list.index(x)\n",
    "    \n",
    "    sentence_list[temp_index]=toSentenceCase(sentence_list[temp_index])\n",
    "    \n",
    "print(\"OUTPUT >>> \\n\",sentence_list)\n",
    "            \n",
    "    \n",
    "    \n",
    "    "
   ]
  },
  {
   "cell_type": "code",
   "execution_count": 4,
   "id": "af8857f9",
   "metadata": {},
   "outputs": [
    {
     "name": "stdout",
     "output_type": "stream",
     "text": [
      "INPUT >>> \n",
      " ['kartiK is   good boy', 'Akbar is honest', 'raul is       clever', 'Archana is imaginative', 'pooja is       strong hearted']\n",
      "\n",
      "\n",
      "\n",
      "OUTPUT >>> \n",
      " ['KartiK is good boy', 'Akbar is honest', 'Raul is clever', 'Archana is imaginative', 'Pooja is strong hearted']\n"
     ]
    }
   ],
   "source": [
    "#4.Write a Python function that uses regular expressions to replace multiple spaces in a string with a single space. \n",
    "    #Test your function with multiple sample strings.\n",
    "\n",
    "import re\n",
    "\n",
    "sentence_list=['kartiK is   good boy','Akbar is honest','raul is       clever','Archana is imaginative','pooja is       strong hearted']\n",
    "\n",
    "print(\"INPUT >>> \\n\",sentence_list)\n",
    "\n",
    "\n",
    "\n",
    "\n",
    "def removeExtSpace(convString):\n",
    "    regex = \"\\s+\"\n",
    "    convString = re.sub(regex,\" \",convString)\n",
    "    return convString;\n",
    "\n",
    "\n",
    "def toSentenceCase(convString):\n",
    "    convString = removeExtSpace(convString)\n",
    "    regex = \"^[A-Z]\"\n",
    "    isFirstLetterCaps = re.search(regex, convString)\n",
    "    if isFirstLetterCaps != 'None':\n",
    "        temp_substr=convString[0:1]\n",
    "        convString=temp_substr.upper()+convString[1:]\n",
    "        return convString        \n",
    "    else: return convString\n",
    "  \n",
    "print(\"\\n\\n\")\n",
    "\n",
    "for x in sentence_list:\n",
    "    temp_index = sentence_list.index(x)\n",
    "    \n",
    "    sentence_list[temp_index]=toSentenceCase(sentence_list[temp_index])\n",
    "    \n",
    "print(\"OUTPUT >>> \\n\",sentence_list)\n",
    "            "
   ]
  },
  {
   "cell_type": "code",
   "execution_count": 5,
   "id": "907cc350",
   "metadata": {},
   "outputs": [
    {
     "name": "stdout",
     "output_type": "stream",
     "text": [
      "INPUT >>> \n",
      " ['kartiK31 is   good boy', '07 Akbar is honest', 'raul is   19    clever', 'Archana is97 imaginative', 'pooja is       strong hearted']\n",
      "\n",
      "\n",
      "\n",
      "OUTPUT >>> \n",
      " ['31', '07', '19', '97', '']\n"
     ]
    }
   ],
   "source": [
    "#5.Write a Python function that uses regular expressions to return a list of the numeric digits in a string. \n",
    "    #Test your function with multiple sample strings.\n",
    "import re\n",
    "\n",
    "sentence_list=['kartiK31 is   good boy','07 Akbar is honest','raul is   19    clever','Archana is97 imaginative','pooja is       strong hearted']\n",
    "\n",
    "print(\"INPUT >>> \\n\",sentence_list)\n",
    "\n",
    "num=[]\n",
    "\n",
    "def ExtractNum_list(convString):\n",
    "    num = []\n",
    "    regex=\"[0-9]+\"\n",
    "    finalNumber=\"\"\n",
    "    \n",
    "   \n",
    "    for x in range(0, len(convString)):\n",
    "        if re.search(regex, convString)!=None:\n",
    "            tempIndex=re.search(regex, convString).start()\n",
    "            num.append(convString[tempIndex])\n",
    "            convString=re.sub(convString[tempIndex], \"\", convString)\n",
    "              \n",
    "    for x in range (0,len(num)):\n",
    "        finalNumber=finalNumber+str(num[x])\n",
    "    \n",
    "    return finalNumber\n",
    "\n",
    "    \n",
    "\n",
    "print(\"\\n\\n\")\n",
    "\n",
    "for x in sentence_list:\n",
    "    temp_index = sentence_list.index(x)\n",
    "    \n",
    "    sentence_list[temp_index]=ExtractNum_list(sentence_list[temp_index])\n",
    "    \n",
    "print(\"OUTPUT >>> \\n\",sentence_list)\n",
    "            "
   ]
  },
  {
   "cell_type": "code",
   "execution_count": 6,
   "id": "7fa267c0",
   "metadata": {},
   "outputs": [
    {
     "name": "stdout",
     "output_type": "stream",
     "text": [
      "Enter a String :- Sharma\n",
      "Enter letter/Digit ot hide :- a\n",
      "Sh_rm_\n"
     ]
    }
   ],
   "source": [
    "#6.Write a Python program that prompts the user to first enter a string and then enter a single letter or digit. \n",
    "    #It should then use regular expressions to replace any occurrence of the single letter or digit found in the string \n",
    "    #with an underscore.\n",
    "\n",
    "import re\n",
    "\n",
    "testString=input(\"Enter a String :- \")\n",
    "letterToHide=input(\"Enter letter/Digit ot hide :- \")\n",
    "regex = '['+str(letterToHide)+']+'\n",
    "\n",
    "def letterFinder(testString):\n",
    "    tempIndex = re.search(str(regex),str(testString))\n",
    "    if tempIndex != None:\n",
    "        testString = re.sub(regex,\"_\", testString)\n",
    "    return testString    \n",
    "\n",
    "testString=letterFinder(testString)\n",
    "print(testString)      \n",
    "       "
   ]
  },
  {
   "cell_type": "code",
   "execution_count": null,
   "id": "5cc267a0",
   "metadata": {},
   "outputs": [],
   "source": []
  },
  {
   "cell_type": "code",
   "execution_count": null,
   "id": "6b0f50e9",
   "metadata": {},
   "outputs": [],
   "source": []
  },
  {
   "cell_type": "code",
   "execution_count": null,
   "id": "b55bcc3c",
   "metadata": {},
   "outputs": [],
   "source": []
  }
 ],
 "metadata": {
  "kernelspec": {
   "display_name": "Python 3 (ipykernel)",
   "language": "python",
   "name": "python3"
  },
  "language_info": {
   "codemirror_mode": {
    "name": "ipython",
    "version": 3
   },
   "file_extension": ".py",
   "mimetype": "text/x-python",
   "name": "python",
   "nbconvert_exporter": "python",
   "pygments_lexer": "ipython3",
   "version": "3.9.7"
  }
 },
 "nbformat": 4,
 "nbformat_minor": 5
}
