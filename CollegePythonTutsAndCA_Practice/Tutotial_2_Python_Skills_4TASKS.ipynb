{
 "cells": [
  {
   "cell_type": "code",
   "execution_count": 1,
   "id": "aa3cf8c2",
   "metadata": {},
   "outputs": [
    {
     "name": "stdout",
     "output_type": "stream",
     "text": [
      "[11, 12, 13, 14, 15, 16, 17, 18, 19, 20, 21, 22, 23, 24]\n"
     ]
    }
   ],
   "source": [
    "#TASK 1 LISTS\n",
    "\n",
    "\n",
    "#1 Create a list to store the range of values between 10 and 25, assign it to a variable called myList.\n",
    "myList=[]\n",
    "for i in range(11,25):  #between 10 to 25 ,doesn't includes 10 and 25\n",
    "    myList.append(i) \n",
    "    \n",
    "#2 Print the contents myList.\n",
    "print(myList)"
   ]
  },
  {
   "cell_type": "code",
   "execution_count": 2,
   "id": "40f331db",
   "metadata": {},
   "outputs": [
    {
     "name": "stdout",
     "output_type": "stream",
     "text": [
      "[24, 23, 22, 21, 20, 19, 18, 17, 16, 15, 14, 13, 12, 11]\n"
     ]
    }
   ],
   "source": [
    "#3 Print the contents of myList in reverse using index slicing.\n",
    "print(myList[::-1]) #back ward step without slicing"
   ]
  },
  {
   "cell_type": "code",
   "execution_count": null,
   "id": "a9b56f11",
   "metadata": {},
   "outputs": [],
   "source": []
  },
  {
   "cell_type": "code",
   "execution_count": 3,
   "id": "9d3d66f5",
   "metadata": {},
   "outputs": [
    {
     "name": "stdout",
     "output_type": "stream",
     "text": [
      "24\n",
      "23\n",
      "22\n",
      "21\n",
      "20\n",
      "19\n",
      "18\n",
      "17\n",
      "16\n",
      "15\n",
      "14\n",
      "13\n",
      "12\n",
      "11\n"
     ]
    }
   ],
   "source": [
    "#4 Print the contents of myList in reverse using a loop.\n",
    "for i in range(len(myList)-1,-1,-1):   #printing list backWARD\n",
    "    print(myList[i])"
   ]
  },
  {
   "cell_type": "code",
   "execution_count": 4,
   "id": "7890950f",
   "metadata": {},
   "outputs": [],
   "source": [
    "#5 Append 10 random integers to myList using a loop.\n",
    "import random\n",
    "for i in range(0,11):\n",
    "    myList.append(random.randint(0,100))"
   ]
  },
  {
   "cell_type": "code",
   "execution_count": 5,
   "id": "b5d2353e",
   "metadata": {},
   "outputs": [],
   "source": [
    "#6 Extend myList with the following list [200, 300]\n",
    "otherList=[200,300]\n",
    "myList.extend(otherList)"
   ]
  },
  {
   "cell_type": "code",
   "execution_count": 6,
   "id": "e5d24b21",
   "metadata": {},
   "outputs": [
    {
     "name": "stdout",
     "output_type": "stream",
     "text": [
      "300\n",
      "[11, 12, 13, 14, 15, 16, 17, 18, 19, 20, 21, 22, 23, 24, 40, 94, 90, 32, 36, 3, 78, 53, 53, 93, 12, 200]\n"
     ]
    }
   ],
   "source": [
    "#7 Store the last number in the list in a variable called lastVal and remove that value from myList.\n",
    "lastVal=myList[len(myList)-1]\n",
    "myList.remove(myList[len(myList)-1])\n",
    "print(lastVal)\n",
    "print(myList)"
   ]
  },
  {
   "cell_type": "code",
   "execution_count": 7,
   "id": "6ae0950f",
   "metadata": {},
   "outputs": [
    {
     "name": "stdout",
     "output_type": "stream",
     "text": [
      "Collecting package metadata (current_repodata.json): ...working... done\n",
      "Solving environment: ...working... done\n",
      "\n",
      "# All requested packages already installed.\n",
      "\n",
      "{'eleven': 11, 'twelve': 12, 'thirteen': 13, 'fourteen': 14, 'fifteen': 15, 'sixteen': 16, 'seventeen': 17, 'eighteen': 18, 'nineteen': 19, 'twenty': 20, 'twenty-one': 21, 'twenty-two': 22, 'twenty-three': 23, 'twenty-four': 24, 'forty': 40, 'ninety-four': 94, 'ninety': 90, 'thirty-two': 32, 'thirty-six': 36, 'three': 3, 'seventy-eight': 78, 'fifty-three': 53, 'ninety-three': 93, 'two hundred': 200}\n"
     ]
    }
   ],
   "source": [
    "#TASK 2 DISCTIONARIES\n",
    "!conda install -y inflect\n",
    "#1 Create an empty dictionary object called myDict\n",
    "\n",
    "myDict={}\n",
    "\n",
    "#2 Using a loop structure, add an entry to myDict for each value in myList. \n",
    "   #The key values for entries in myDict should be the English-language representation of integer values commencing at 10.\n",
    "import inflect\n",
    "infEngine=inflect.engine()\n",
    "#Please wait , it takes time ot print results\n",
    "#infEngine.number_to_words(i ,threshold=15) this will convert the numbers to words till (included) 15\n",
    "for i in range (0,len(myList)):\n",
    "    myDict.update({infEngine.number_to_words(myList[i],threshold=200):myList[i]})\n",
    "\n",
    "print (myDict)\n",
    "\n"
   ]
  },
  {
   "cell_type": "code",
   "execution_count": null,
   "id": "522ebf3c",
   "metadata": {},
   "outputs": [],
   "source": [
    "#TASK 3 LOOPS --- under Construction\n",
    "\n",
    "#1 PASCAL's TRIANGLE\n",
    "tempList=[0,1,0]\n",
    "newList=[]\n",
    "i=1\n",
    "print(\"\\t\"+str(i)+\"\\t\")\n",
    "\n",
    "def fxn(i):\n",
    "    for j in range (0,len(tempList)):\n",
    "        while j+1<len(tempList):\n",
    "            newlist= newList.append(tempList[j]+tempList[j+1])\n",
    "            print(newList)\n",
    "      \n",
    "           \n",
    "\n",
    "for i in range (2,9):\n",
    "    fxn(i)\n"
   ]
  },
  {
   "cell_type": "code",
   "execution_count": 10,
   "id": "e572f277",
   "metadata": {},
   "outputs": [
    {
     "name": "stdout",
     "output_type": "stream",
     "text": [
      "Enter the length of the password you require :- 4\n",
      "Your generated password is B/aa\n"
     ]
    }
   ],
   "source": [
    "#TASK 4 FUNCTIONS\n",
    "\n",
    "#1 Investigate chr() and randint\n",
    "\n",
    "#2 Create a function that takes one argument, the length of a password to generate.\n",
    "\n",
    "import random\n",
    "\n",
    "def passwordGenerator(lengthOfPassword):\n",
    "    generatedPassword=\"\"\n",
    "    for i in range (0,lengthOfPassword):\n",
    "        tempInt=random.randint(33,126)\n",
    "        generatedPassword+=str(chr(tempInt))\n",
    "    return generatedPassword\n",
    "        \n",
    "#3 Your function should generate and return a password of the required length, \n",
    "#  ensuring that you use only characters with decimal values between 33 and 126 in the ASCII table. \n",
    "#  Note that some characters in the table are non-printing!\n",
    "\n",
    "lengthOfPassword=int(input(\"Enter the length of the password you require :- \"))\n",
    "\n",
    "print(\"Your generated password is \"+passwordGenerator(lengthOfPassword))\n",
    "\n"
   ]
  },
  {
   "cell_type": "code",
   "execution_count": null,
   "id": "c18b772b",
   "metadata": {},
   "outputs": [],
   "source": []
  },
  {
   "cell_type": "code",
   "execution_count": null,
   "id": "8987a110",
   "metadata": {},
   "outputs": [],
   "source": []
  }
 ],
 "metadata": {
  "kernelspec": {
   "display_name": "Python 3 (ipykernel)",
   "language": "python",
   "name": "python3"
  },
  "language_info": {
   "codemirror_mode": {
    "name": "ipython",
    "version": 3
   },
   "file_extension": ".py",
   "mimetype": "text/x-python",
   "name": "python",
   "nbconvert_exporter": "python",
   "pygments_lexer": "ipython3",
   "version": "3.9.7"
  }
 },
 "nbformat": 4,
 "nbformat_minor": 5
}
