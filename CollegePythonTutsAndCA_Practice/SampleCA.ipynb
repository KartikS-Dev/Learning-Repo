{
 "cells": [
  {
   "cell_type": "markdown",
   "metadata": {
    "button": false,
    "new_sheet": false,
    "run_control": {
     "read_only": false
    }
   },
   "source": [
    "**Question 1**\n",
    "\n",
    "Theophylline is a drug used for the treatment of diseases such as chronic obstructive pulmonary disease\n",
    "and asthma. This medicine was administered to 20 subjects over a number of days. Each time the drug\n",
    "was administered to the subjects, the following measurements were recorded:\n",
    "\n",
    "| field | description |\n",
    "|-------|-------------|\n",
    "|id | a number (1, . . . , 20) identifying the subject on whom the observation was made |\n",
    "|weight|weight of the subject (kg)|\n",
    "|dose|dose of theophylline administered orally to the subject (mg/kg)|\n",
    "|time|time since drug administration when the sample was drawn (hr)|\n",
    "|conc|theophylline concentration in the sample (mg/L)|\n",
    "\n",
    "There are 1,000 records in total. You have been provided with an XML file containing this data.\n",
    "\n",
    "a) Create a function to import this XML file. Your function should include appropriate exception handling\n",
    "clauses and should return the XML data."
   ]
  },
  {
   "cell_type": "code",
   "execution_count": 13,
   "metadata": {},
   "outputs": [],
   "source": [
    "import xml.etree.ElementTree as ET\n",
    "\n",
    "def importXML(xmlfile):\n",
    "    try :\n",
    "        xmldata = open(xmlfile,'r')\n",
    "        xmltree = ET.fromstring(xmldata.read())\n",
    "        return xmltree\n",
    "    except FileNotFoundError:\n",
    "        print('Could not open the file {}'.format(xmlfile))\n",
    "    # other exception statments for other IO errors should go here\n",
    "    finally :\n",
    "        if 'xmldata' in locals():\n",
    "            xmldata.close()\n",
    "            \n",
    "theo_xml = importXML(\"theoDataset.xml\")"
   ]
  },
  {
   "cell_type": "markdown",
   "metadata": {
    "button": false,
    "editable": false,
    "new_sheet": false,
    "run_control": {
     "read_only": false
    }
   },
   "source": [
    "b) Use the print function to display the ‘id’, ‘weight’ and ‘conc’ of the second, fourth, sixth, eight and tenth records in the XML dataset. (Hint: you may use the range() function). "
   ]
  },
  {
   "cell_type": "code",
   "execution_count": 2,
   "metadata": {},
   "outputs": [
    {
     "name": "stdout",
     "output_type": "stream",
     "text": [
      "id:13\tweight:73.8\tconc:0.66\n",
      "id:5\tweight:88.3\tconc:9.47\n",
      "id:8\tweight:81.3\tconc:6.43\n",
      "id:10\tweight:75.1\tconc:11.25\n",
      "id:20\tweight:67.9\tconc:7.84\n"
     ]
    }
   ],
   "source": [
    "for i in range(1,10,2) :\n",
    "    id = theo_xml[i].find('id').text\n",
    "    weight = theo_xml[i].find('weight').text\n",
    "    conc = theo_xml[i].find('conc').text\n",
    "    print('id:{}\\tweight:{}\\tconc:{}'.format(id,weight,conc))"
   ]
  },
  {
   "cell_type": "markdown",
   "metadata": {
    "button": false,
    "editable": false,
    "new_sheet": false,
    "run_control": {
     "read_only": false
    }
   },
   "source": [
    "c) Extract all the XML data and write it to a CSV file. Your file should also contain the column names."
   ]
  },
  {
   "cell_type": "code",
   "execution_count": 3,
   "metadata": {},
   "outputs": [],
   "source": [
    "import csv\n",
    "\n",
    "csv_file = \"./theodata.csv\"\n",
    "\n",
    "try :\n",
    "    theo_csv = open(csv_file, 'w')\n",
    "    csvwriter = csv.writer(theo_csv)\n",
    "    head = []\n",
    "    rowcount = 0\n",
    "    for subject in theo_xml.findall('subject'):\n",
    "        row = []\n",
    "        if rowcount == 0:\n",
    "            for col in range(0,len(list(subject))) :\n",
    "                head.append(subject[col].tag)\n",
    "            csvwriter.writerow(head)\n",
    "            rowcount = rowcount + 1\n",
    "        for col in range(0,len(list(subject))) :\n",
    "            row.append(subject[col].text)\n",
    "        csvwriter.writerow(row)\n",
    "except FileNotFoundError:\n",
    "    print('Could not open the file:'.format(csv_file))\n",
    "except IOError:\n",
    "    print('Could not write to the file:'.format(csv_file))\n",
    "finally :\n",
    "    theo_csv.close()"
   ]
  },
  {
   "cell_type": "markdown",
   "metadata": {
    "button": false,
    "editable": false,
    "new_sheet": false,
    "run_control": {
     "read_only": false
    }
   },
   "source": [
    "**Question 2**\n",
    "\n",
    "a) Create a NumPy array filled with 3000 numbers starting with 1,000. Ensure that your array has 300 rows and 10\n",
    "columns. "
   ]
  },
  {
   "cell_type": "code",
   "execution_count": 4,
   "metadata": {},
   "outputs": [],
   "source": [
    "import numpy as np\n",
    "my_array = np.arange(1000,4000).reshape(300,10)"
   ]
  },
  {
   "cell_type": "markdown",
   "metadata": {
    "button": false,
    "editable": false,
    "new_sheet": false,
    "run_control": {
     "read_only": false
    }
   },
   "source": [
    "b) Using **slicing**, split this array into 5 separate arrays. The number of rows in each array should be\n",
    "equal, and there should still be 5 columns.\n"
   ]
  },
  {
   "cell_type": "code",
   "execution_count": 5,
   "metadata": {},
   "outputs": [],
   "source": [
    "my_array_one = my_array[0:60,:]\n",
    "my_array_two = my_array[60:120,:]\n",
    "my_array_three = my_array[120:180,:]\n",
    "my_array_four = my_array[180:240,:]\n",
    "my_array_five = my_array[240:300,:]"
   ]
  },
  {
   "cell_type": "markdown",
   "metadata": {
    "button": false,
    "editable": false,
    "new_sheet": false,
    "run_control": {
     "read_only": false
    }
   },
   "source": [
    "c) Reshape these 3 of these arrays into any dimensions of your choice. They should all have different\n",
    "dimensions."
   ]
  },
  {
   "cell_type": "code",
   "execution_count": 6,
   "metadata": {},
   "outputs": [],
   "source": [
    "reshaped_one = my_array_one.ravel()\n",
    "reshaped_two = my_array_two.reshape(150,4)\n",
    "reshaped_three = my_array_three.reshape(10,20,3)"
   ]
  },
  {
   "cell_type": "markdown",
   "metadata": {
    "button": false,
    "editable": false,
    "new_sheet": false,
    "run_control": {
     "read_only": false
    }
   },
   "source": [
    "d) Split 2 of these reshaped arrays column-wise."
   ]
  },
  {
   "cell_type": "code",
   "execution_count": 7,
   "metadata": {},
   "outputs": [
    {
     "data": {
      "text/plain": [
       "[array([[1600, 1601],\n",
       "        [1604, 1605],\n",
       "        [1608, 1609],\n",
       "        [1612, 1613],\n",
       "        [1616, 1617],\n",
       "        [1620, 1621],\n",
       "        [1624, 1625],\n",
       "        [1628, 1629],\n",
       "        [1632, 1633],\n",
       "        [1636, 1637],\n",
       "        [1640, 1641],\n",
       "        [1644, 1645],\n",
       "        [1648, 1649],\n",
       "        [1652, 1653],\n",
       "        [1656, 1657],\n",
       "        [1660, 1661],\n",
       "        [1664, 1665],\n",
       "        [1668, 1669],\n",
       "        [1672, 1673],\n",
       "        [1676, 1677],\n",
       "        [1680, 1681],\n",
       "        [1684, 1685],\n",
       "        [1688, 1689],\n",
       "        [1692, 1693],\n",
       "        [1696, 1697],\n",
       "        [1700, 1701],\n",
       "        [1704, 1705],\n",
       "        [1708, 1709],\n",
       "        [1712, 1713],\n",
       "        [1716, 1717],\n",
       "        [1720, 1721],\n",
       "        [1724, 1725],\n",
       "        [1728, 1729],\n",
       "        [1732, 1733],\n",
       "        [1736, 1737],\n",
       "        [1740, 1741],\n",
       "        [1744, 1745],\n",
       "        [1748, 1749],\n",
       "        [1752, 1753],\n",
       "        [1756, 1757],\n",
       "        [1760, 1761],\n",
       "        [1764, 1765],\n",
       "        [1768, 1769],\n",
       "        [1772, 1773],\n",
       "        [1776, 1777],\n",
       "        [1780, 1781],\n",
       "        [1784, 1785],\n",
       "        [1788, 1789],\n",
       "        [1792, 1793],\n",
       "        [1796, 1797],\n",
       "        [1800, 1801],\n",
       "        [1804, 1805],\n",
       "        [1808, 1809],\n",
       "        [1812, 1813],\n",
       "        [1816, 1817],\n",
       "        [1820, 1821],\n",
       "        [1824, 1825],\n",
       "        [1828, 1829],\n",
       "        [1832, 1833],\n",
       "        [1836, 1837],\n",
       "        [1840, 1841],\n",
       "        [1844, 1845],\n",
       "        [1848, 1849],\n",
       "        [1852, 1853],\n",
       "        [1856, 1857],\n",
       "        [1860, 1861],\n",
       "        [1864, 1865],\n",
       "        [1868, 1869],\n",
       "        [1872, 1873],\n",
       "        [1876, 1877],\n",
       "        [1880, 1881],\n",
       "        [1884, 1885],\n",
       "        [1888, 1889],\n",
       "        [1892, 1893],\n",
       "        [1896, 1897],\n",
       "        [1900, 1901],\n",
       "        [1904, 1905],\n",
       "        [1908, 1909],\n",
       "        [1912, 1913],\n",
       "        [1916, 1917],\n",
       "        [1920, 1921],\n",
       "        [1924, 1925],\n",
       "        [1928, 1929],\n",
       "        [1932, 1933],\n",
       "        [1936, 1937],\n",
       "        [1940, 1941],\n",
       "        [1944, 1945],\n",
       "        [1948, 1949],\n",
       "        [1952, 1953],\n",
       "        [1956, 1957],\n",
       "        [1960, 1961],\n",
       "        [1964, 1965],\n",
       "        [1968, 1969],\n",
       "        [1972, 1973],\n",
       "        [1976, 1977],\n",
       "        [1980, 1981],\n",
       "        [1984, 1985],\n",
       "        [1988, 1989],\n",
       "        [1992, 1993],\n",
       "        [1996, 1997],\n",
       "        [2000, 2001],\n",
       "        [2004, 2005],\n",
       "        [2008, 2009],\n",
       "        [2012, 2013],\n",
       "        [2016, 2017],\n",
       "        [2020, 2021],\n",
       "        [2024, 2025],\n",
       "        [2028, 2029],\n",
       "        [2032, 2033],\n",
       "        [2036, 2037],\n",
       "        [2040, 2041],\n",
       "        [2044, 2045],\n",
       "        [2048, 2049],\n",
       "        [2052, 2053],\n",
       "        [2056, 2057],\n",
       "        [2060, 2061],\n",
       "        [2064, 2065],\n",
       "        [2068, 2069],\n",
       "        [2072, 2073],\n",
       "        [2076, 2077],\n",
       "        [2080, 2081],\n",
       "        [2084, 2085],\n",
       "        [2088, 2089],\n",
       "        [2092, 2093],\n",
       "        [2096, 2097],\n",
       "        [2100, 2101],\n",
       "        [2104, 2105],\n",
       "        [2108, 2109],\n",
       "        [2112, 2113],\n",
       "        [2116, 2117],\n",
       "        [2120, 2121],\n",
       "        [2124, 2125],\n",
       "        [2128, 2129],\n",
       "        [2132, 2133],\n",
       "        [2136, 2137],\n",
       "        [2140, 2141],\n",
       "        [2144, 2145],\n",
       "        [2148, 2149],\n",
       "        [2152, 2153],\n",
       "        [2156, 2157],\n",
       "        [2160, 2161],\n",
       "        [2164, 2165],\n",
       "        [2168, 2169],\n",
       "        [2172, 2173],\n",
       "        [2176, 2177],\n",
       "        [2180, 2181],\n",
       "        [2184, 2185],\n",
       "        [2188, 2189],\n",
       "        [2192, 2193],\n",
       "        [2196, 2197]]), array([[1602, 1603],\n",
       "        [1606, 1607],\n",
       "        [1610, 1611],\n",
       "        [1614, 1615],\n",
       "        [1618, 1619],\n",
       "        [1622, 1623],\n",
       "        [1626, 1627],\n",
       "        [1630, 1631],\n",
       "        [1634, 1635],\n",
       "        [1638, 1639],\n",
       "        [1642, 1643],\n",
       "        [1646, 1647],\n",
       "        [1650, 1651],\n",
       "        [1654, 1655],\n",
       "        [1658, 1659],\n",
       "        [1662, 1663],\n",
       "        [1666, 1667],\n",
       "        [1670, 1671],\n",
       "        [1674, 1675],\n",
       "        [1678, 1679],\n",
       "        [1682, 1683],\n",
       "        [1686, 1687],\n",
       "        [1690, 1691],\n",
       "        [1694, 1695],\n",
       "        [1698, 1699],\n",
       "        [1702, 1703],\n",
       "        [1706, 1707],\n",
       "        [1710, 1711],\n",
       "        [1714, 1715],\n",
       "        [1718, 1719],\n",
       "        [1722, 1723],\n",
       "        [1726, 1727],\n",
       "        [1730, 1731],\n",
       "        [1734, 1735],\n",
       "        [1738, 1739],\n",
       "        [1742, 1743],\n",
       "        [1746, 1747],\n",
       "        [1750, 1751],\n",
       "        [1754, 1755],\n",
       "        [1758, 1759],\n",
       "        [1762, 1763],\n",
       "        [1766, 1767],\n",
       "        [1770, 1771],\n",
       "        [1774, 1775],\n",
       "        [1778, 1779],\n",
       "        [1782, 1783],\n",
       "        [1786, 1787],\n",
       "        [1790, 1791],\n",
       "        [1794, 1795],\n",
       "        [1798, 1799],\n",
       "        [1802, 1803],\n",
       "        [1806, 1807],\n",
       "        [1810, 1811],\n",
       "        [1814, 1815],\n",
       "        [1818, 1819],\n",
       "        [1822, 1823],\n",
       "        [1826, 1827],\n",
       "        [1830, 1831],\n",
       "        [1834, 1835],\n",
       "        [1838, 1839],\n",
       "        [1842, 1843],\n",
       "        [1846, 1847],\n",
       "        [1850, 1851],\n",
       "        [1854, 1855],\n",
       "        [1858, 1859],\n",
       "        [1862, 1863],\n",
       "        [1866, 1867],\n",
       "        [1870, 1871],\n",
       "        [1874, 1875],\n",
       "        [1878, 1879],\n",
       "        [1882, 1883],\n",
       "        [1886, 1887],\n",
       "        [1890, 1891],\n",
       "        [1894, 1895],\n",
       "        [1898, 1899],\n",
       "        [1902, 1903],\n",
       "        [1906, 1907],\n",
       "        [1910, 1911],\n",
       "        [1914, 1915],\n",
       "        [1918, 1919],\n",
       "        [1922, 1923],\n",
       "        [1926, 1927],\n",
       "        [1930, 1931],\n",
       "        [1934, 1935],\n",
       "        [1938, 1939],\n",
       "        [1942, 1943],\n",
       "        [1946, 1947],\n",
       "        [1950, 1951],\n",
       "        [1954, 1955],\n",
       "        [1958, 1959],\n",
       "        [1962, 1963],\n",
       "        [1966, 1967],\n",
       "        [1970, 1971],\n",
       "        [1974, 1975],\n",
       "        [1978, 1979],\n",
       "        [1982, 1983],\n",
       "        [1986, 1987],\n",
       "        [1990, 1991],\n",
       "        [1994, 1995],\n",
       "        [1998, 1999],\n",
       "        [2002, 2003],\n",
       "        [2006, 2007],\n",
       "        [2010, 2011],\n",
       "        [2014, 2015],\n",
       "        [2018, 2019],\n",
       "        [2022, 2023],\n",
       "        [2026, 2027],\n",
       "        [2030, 2031],\n",
       "        [2034, 2035],\n",
       "        [2038, 2039],\n",
       "        [2042, 2043],\n",
       "        [2046, 2047],\n",
       "        [2050, 2051],\n",
       "        [2054, 2055],\n",
       "        [2058, 2059],\n",
       "        [2062, 2063],\n",
       "        [2066, 2067],\n",
       "        [2070, 2071],\n",
       "        [2074, 2075],\n",
       "        [2078, 2079],\n",
       "        [2082, 2083],\n",
       "        [2086, 2087],\n",
       "        [2090, 2091],\n",
       "        [2094, 2095],\n",
       "        [2098, 2099],\n",
       "        [2102, 2103],\n",
       "        [2106, 2107],\n",
       "        [2110, 2111],\n",
       "        [2114, 2115],\n",
       "        [2118, 2119],\n",
       "        [2122, 2123],\n",
       "        [2126, 2127],\n",
       "        [2130, 2131],\n",
       "        [2134, 2135],\n",
       "        [2138, 2139],\n",
       "        [2142, 2143],\n",
       "        [2146, 2147],\n",
       "        [2150, 2151],\n",
       "        [2154, 2155],\n",
       "        [2158, 2159],\n",
       "        [2162, 2163],\n",
       "        [2166, 2167],\n",
       "        [2170, 2171],\n",
       "        [2174, 2175],\n",
       "        [2178, 2179],\n",
       "        [2182, 2183],\n",
       "        [2186, 2187],\n",
       "        [2190, 2191],\n",
       "        [2194, 2195],\n",
       "        [2198, 2199]])]"
      ]
     },
     "execution_count": 7,
     "metadata": {},
     "output_type": "execute_result"
    }
   ],
   "source": [
    "split_one = np.hsplit(reshaped_two,2)\n",
    "split_two = np.hsplit(reshaped_three,5)\n",
    "split_one"
   ]
  },
  {
   "cell_type": "markdown",
   "metadata": {
    "button": false,
    "editable": false,
    "new_sheet": false,
    "run_control": {
     "read_only": false
    }
   },
   "source": [
    "e) Create a new array whose shape is **broadcast compatible** with your original ndarray. It should contain values starting at 500. Multiply this new array by your original array."
   ]
  },
  {
   "cell_type": "code",
   "execution_count": 12,
   "metadata": {},
   "outputs": [
    {
     "data": {
      "text/plain": [
       "array([[ 500000,  501501,  503004, ...,  510549,  512064,  513581],\n",
       "       [ 505000,  506511,  508024, ...,  515619,  517144,  518671],\n",
       "       [ 510000,  511521,  513044, ...,  520689,  522224,  523761],\n",
       "       ...,\n",
       "       [1985000, 1989471, 1993944, ..., 2016339, 2020824, 2025311],\n",
       "       [1990000, 1994481, 1998964, ..., 2021409, 2025904, 2030401],\n",
       "       [1995000, 1999491, 2003984, ..., 2026479, 2030984, 2035491]])"
      ]
     },
     "execution_count": 12,
     "metadata": {},
     "output_type": "execute_result"
    }
   ],
   "source": [
    "my_new_array = np.arange(500,510).reshape(1,10)\n",
    "my_array * my_new_array"
   ]
  },
  {
   "cell_type": "markdown",
   "metadata": {
    "button": false,
    "new_sheet": false,
    "run_control": {
     "read_only": false
    }
   },
   "source": [
    "**Question 3**\n",
    "\n",
    "a) Given the following string:\n",
    "\n",
    "`\n",
    "All I want is a proper cup of coffee\n",
    "Made in a proper copper coffee pot\n",
    "I may be off my dot\n",
    "But I want a cup of coffee\n",
    "From a proper coffee pot\n",
    "Tin coffee pots and iron coffee pots\n",
    "They’re no use to me\n",
    "If I can’t have a proper cup of coffee\n",
    "In a proper copper coffee pot\n",
    "I’ll have a cup of tea`\n",
    "\n",
    "Write a single function that uses regular expressions to highlight the words “tea”,“dot” or “pot” if they appear at the end of a line.\n",
    "\n",
    "Your answer should look like this:\n",
    "\n",
    "`\n",
    "All I want is a proper cup of coffee\n",
    "Made in a proper copper coffee {pot}\n",
    "I may be off my {dot}\n",
    "But I want a cup of coffee\n",
    "From a proper coffee {pot}\n",
    "Tin coffee pots and iron coffee pots\n",
    "They’re no use to me\n",
    "If I can’t have a proper cup of coffee\n",
    "In a proper copper coffee {pot}\n",
    "I’ll have a cup of {tea}`"
   ]
  },
  {
   "cell_type": "code",
   "execution_count": null,
   "metadata": {},
   "outputs": [],
   "source": [
    "import re\n",
    "text = '''All I want is a proper cup of coffee\n",
    "Made in a proper copper coffee pot\n",
    "I may be off my dot\n",
    "But I want a cup of coffee\n",
    "From a proper coffee pot\n",
    "Tin coffee pots and iron coffee pots\n",
    "They’re no use to me\n",
    "If I can’t have a proper cup of coffee\n",
    "In a proper copper coffee pot\n",
    "I’ll have a cup of tea\n",
    "'''\n",
    "print(re.compile(r'tea|dot|pot$',re.M).sub('{\\g<0>}',text.rstrip()))"
   ]
  },
  {
   "cell_type": "markdown",
   "metadata": {
    "button": false,
    "editable": false,
    "new_sheet": false,
    "run_control": {
     "read_only": false
    }
   },
   "source": [
    "b) Using regular expressions, write code to highlight all words that begin with the characters `po` or `co`.\n",
    "\n",
    "Your answer should look like this:\n",
    "\n",
    "`All I want is a proper cup of {coffee}\n",
    "Made in a proper {copper} {coffee} {pot}\n",
    "I may be off my dot\n",
    "But I want a cup of {coffee}\n",
    "From a proper {coffee} {pot}\n",
    "Tin {coffee} {pots} and iron {coffee} {pots}\n",
    "They’re no use to me\n",
    "If I can’t have a proper cup of {coffee}\n",
    "In a proper {copper} {coffee} {pot}\n",
    "I’ll have a cup of tea`"
   ]
  },
  {
   "cell_type": "code",
   "execution_count": null,
   "metadata": {},
   "outputs": [],
   "source": [
    "import re\n",
    "print(re.compile(r'\\b(co.+?\\b|\\bpo.+?)\\b',re.M).sub('{\\g<0>}',text.rstrip()))"
   ]
  },
  {
   "cell_type": "code",
   "execution_count": null,
   "metadata": {},
   "outputs": [],
   "source": []
  }
 ],
 "metadata": {
  "kernelspec": {
   "display_name": "Python 3 (ipykernel)",
   "language": "python",
   "name": "python3"
  },
  "language_info": {
   "codemirror_mode": {
    "name": "ipython",
    "version": 3
   },
   "file_extension": ".py",
   "mimetype": "text/x-python",
   "name": "python",
   "nbconvert_exporter": "python",
   "pygments_lexer": "ipython3",
   "version": "3.9.7"
  }
 },
 "nbformat": 4,
 "nbformat_minor": 4
}
