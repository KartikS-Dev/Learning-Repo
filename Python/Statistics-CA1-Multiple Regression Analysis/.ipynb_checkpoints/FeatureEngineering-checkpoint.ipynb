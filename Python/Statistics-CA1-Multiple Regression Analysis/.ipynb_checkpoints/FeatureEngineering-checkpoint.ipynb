{
 "cells": [
  {
   "cell_type": "markdown",
   "id": "788f2c40",
   "metadata": {},
   "source": [
    "# <font size='10' color='#1ABC9C'> Feature Engineering </font>"
   ]
  },
  {
   "cell_type": "code",
   "execution_count": 1,
   "id": "29319fdb",
   "metadata": {},
   "outputs": [],
   "source": [
    "import pandas as pd\n",
    "import numpy as np\n",
    "import matplotlib.pyplot as plt\n",
    "%matplotlib inline \n",
    "## When using the 'inline' backend, \n",
    "## your matplotlib graphs will be included in your notebook, next to the code.\n",
    "import seaborn as sns\n",
    "\n",
    "pd.pandas.set_option('display.max_columns',None)"
   ]
  },
  {
   "cell_type": "code",
   "execution_count": 2,
   "id": "5f6468ce",
   "metadata": {},
   "outputs": [
    {
     "name": "stdout",
     "output_type": "stream",
     "text": [
      "(4508, 13)\n"
     ]
    }
   ],
   "source": [
    "dataset=pd.read_csv('IncomeData.csv')\n",
    "\n",
    "##What's the shape of data set\n",
    "print(dataset.shape)"
   ]
  },
  {
   "cell_type": "code",
   "execution_count": 3,
   "id": "8e12945b",
   "metadata": {
    "scrolled": true
   },
   "outputs": [
    {
     "data": {
      "text/html": [
       "<div>\n",
       "<style scoped>\n",
       "    .dataframe tbody tr th:only-of-type {\n",
       "        vertical-align: middle;\n",
       "    }\n",
       "\n",
       "    .dataframe tbody tr th {\n",
       "        vertical-align: top;\n",
       "    }\n",
       "\n",
       "    .dataframe thead th {\n",
       "        text-align: right;\n",
       "    }\n",
       "</style>\n",
       "<table border=\"1\" class=\"dataframe\">\n",
       "  <thead>\n",
       "    <tr style=\"text-align: right;\">\n",
       "      <th></th>\n",
       "      <th>age</th>\n",
       "      <th>yrsed</th>\n",
       "      <th>edcat</th>\n",
       "      <th>yrsempl</th>\n",
       "      <th>income</th>\n",
       "      <th>creddebt</th>\n",
       "      <th>othdebt</th>\n",
       "      <th>default</th>\n",
       "      <th>jobsat</th>\n",
       "      <th>homeown</th>\n",
       "      <th>address</th>\n",
       "      <th>cars</th>\n",
       "      <th>carvalue</th>\n",
       "    </tr>\n",
       "  </thead>\n",
       "  <tbody>\n",
       "    <tr>\n",
       "      <th>0</th>\n",
       "      <td>45</td>\n",
       "      <td>6</td>\n",
       "      <td>1</td>\n",
       "      <td>4</td>\n",
       "      <td>17</td>\n",
       "      <td>0.371518</td>\n",
       "      <td>1.294482</td>\n",
       "      <td>0</td>\n",
       "      <td>4</td>\n",
       "      <td>1</td>\n",
       "      <td>22</td>\n",
       "      <td>1</td>\n",
       "      <td>9.1</td>\n",
       "    </tr>\n",
       "    <tr>\n",
       "      <th>1</th>\n",
       "      <td>67</td>\n",
       "      <td>6</td>\n",
       "      <td>1</td>\n",
       "      <td>15</td>\n",
       "      <td>12</td>\n",
       "      <td>0.375552</td>\n",
       "      <td>0.392448</td>\n",
       "      <td>0</td>\n",
       "      <td>3</td>\n",
       "      <td>1</td>\n",
       "      <td>28</td>\n",
       "      <td>1</td>\n",
       "      <td>5.9</td>\n",
       "    </tr>\n",
       "    <tr>\n",
       "      <th>2</th>\n",
       "      <td>68</td>\n",
       "      <td>6</td>\n",
       "      <td>1</td>\n",
       "      <td>7</td>\n",
       "      <td>9</td>\n",
       "      <td>0.200970</td>\n",
       "      <td>0.789030</td>\n",
       "      <td>0</td>\n",
       "      <td>5</td>\n",
       "      <td>0</td>\n",
       "      <td>21</td>\n",
       "      <td>1</td>\n",
       "      <td>5.8</td>\n",
       "    </tr>\n",
       "    <tr>\n",
       "      <th>3</th>\n",
       "      <td>75</td>\n",
       "      <td>6</td>\n",
       "      <td>1</td>\n",
       "      <td>35</td>\n",
       "      <td>16</td>\n",
       "      <td>0.314096</td>\n",
       "      <td>0.757904</td>\n",
       "      <td>0</td>\n",
       "      <td>4</td>\n",
       "      <td>0</td>\n",
       "      <td>11</td>\n",
       "      <td>1</td>\n",
       "      <td>5.8</td>\n",
       "    </tr>\n",
       "    <tr>\n",
       "      <th>4</th>\n",
       "      <td>38</td>\n",
       "      <td>7</td>\n",
       "      <td>1</td>\n",
       "      <td>8</td>\n",
       "      <td>37</td>\n",
       "      <td>0.143190</td>\n",
       "      <td>0.411810</td>\n",
       "      <td>0</td>\n",
       "      <td>3</td>\n",
       "      <td>0</td>\n",
       "      <td>11</td>\n",
       "      <td>1</td>\n",
       "      <td>22.1</td>\n",
       "    </tr>\n",
       "  </tbody>\n",
       "</table>\n",
       "</div>"
      ],
      "text/plain": [
       "   age  yrsed  edcat  yrsempl  income  creddebt   othdebt  default  jobsat  \\\n",
       "0   45      6      1        4      17  0.371518  1.294482        0       4   \n",
       "1   67      6      1       15      12  0.375552  0.392448        0       3   \n",
       "2   68      6      1        7       9  0.200970  0.789030        0       5   \n",
       "3   75      6      1       35      16  0.314096  0.757904        0       4   \n",
       "4   38      7      1        8      37  0.143190  0.411810        0       3   \n",
       "\n",
       "   homeown  address  cars  carvalue  \n",
       "0        1       22     1       9.1  \n",
       "1        1       28     1       5.9  \n",
       "2        0       21     1       5.8  \n",
       "3        0       11     1       5.8  \n",
       "4        0       11     1      22.1  "
      ]
     },
     "execution_count": 3,
     "metadata": {},
     "output_type": "execute_result"
    }
   ],
   "source": [
    "## What are the Top 5 records\n",
    "dataset.head()"
   ]
  },
  {
   "cell_type": "markdown",
   "id": "579f70fb",
   "metadata": {},
   "source": [
    "## Spliting the Dataset into Training Data and Test Data"
   ]
  },
  {
   "cell_type": "code",
   "execution_count": 4,
   "id": "56442a87",
   "metadata": {},
   "outputs": [],
   "source": [
    "from sklearn.model_selection import train_test_split\n",
    "X_train, X_test, y_train, y_test = train_test_split(dataset,dataset['income'], test_size = 0.3,random_state=31) \n"
   ]
  },
  {
   "cell_type": "code",
   "execution_count": 5,
   "id": "3765e714",
   "metadata": {},
   "outputs": [
    {
     "data": {
      "text/plain": [
       "((3155, 13), (1353, 13))"
      ]
     },
     "execution_count": 5,
     "metadata": {},
     "output_type": "execute_result"
    }
   ],
   "source": [
    "X_train.shape ,  X_test.shape"
   ]
  },
  {
   "cell_type": "markdown",
   "id": "10b36820",
   "metadata": {},
   "source": [
    "## Check for Missing Values - X_train"
   ]
  },
  {
   "cell_type": "code",
   "execution_count": 6,
   "id": "e8d10a17",
   "metadata": {},
   "outputs": [
    {
     "name": "stdout",
     "output_type": "stream",
     "text": [
      "[]\n"
     ]
    }
   ],
   "source": [
    "## What percentage of Missing Values are there in the each feature\n",
    "\n",
    "## Create a List of all features with missing values\n",
    "features_miss_val=[features for features in X_train.columns if X_train[features].isnull().sum()>1] \n",
    "print(features_miss_val)"
   ]
  },
  {
   "cell_type": "markdown",
   "id": "abe015d1",
   "metadata": {},
   "source": [
    "no missing values in the training data set."
   ]
  },
  {
   "cell_type": "markdown",
   "id": "39ee0438",
   "metadata": {},
   "source": [
    "## <font size = 8  color='#F1C40F'>Transforming the Skewed Distributions - X_train</font>"
   ]
  },
  {
   "cell_type": "markdown",
   "id": "bf153dda",
   "metadata": {},
   "source": [
    "### For continuous numerical features\n",
    "creddebt- Continuous and Numeric Data\n",
    "\n",
    "othdebt - Continuous and Numeric Data\n",
    "\n",
    "carvalue- Continuous and Numeric Data\n",
    "\n",
    "Income - Continuous and Dependent Variable"
   ]
  },
  {
   "cell_type": "code",
   "execution_count": 7,
   "id": "2470916f",
   "metadata": {},
   "outputs": [
    {
     "data": {
      "text/html": [
       "<div>\n",
       "<style scoped>\n",
       "    .dataframe tbody tr th:only-of-type {\n",
       "        vertical-align: middle;\n",
       "    }\n",
       "\n",
       "    .dataframe tbody tr th {\n",
       "        vertical-align: top;\n",
       "    }\n",
       "\n",
       "    .dataframe thead th {\n",
       "        text-align: right;\n",
       "    }\n",
       "</style>\n",
       "<table border=\"1\" class=\"dataframe\">\n",
       "  <thead>\n",
       "    <tr style=\"text-align: right;\">\n",
       "      <th></th>\n",
       "      <th>age</th>\n",
       "      <th>yrsed</th>\n",
       "      <th>edcat</th>\n",
       "      <th>yrsempl</th>\n",
       "      <th>income</th>\n",
       "      <th>creddebt</th>\n",
       "      <th>othdebt</th>\n",
       "      <th>default</th>\n",
       "      <th>jobsat</th>\n",
       "      <th>homeown</th>\n",
       "      <th>address</th>\n",
       "      <th>cars</th>\n",
       "      <th>carvalue</th>\n",
       "    </tr>\n",
       "  </thead>\n",
       "  <tbody>\n",
       "    <tr>\n",
       "      <th>1727</th>\n",
       "      <td>79</td>\n",
       "      <td>13</td>\n",
       "      <td>2</td>\n",
       "      <td>34</td>\n",
       "      <td>16</td>\n",
       "      <td>0.376672</td>\n",
       "      <td>0.887328</td>\n",
       "      <td>0</td>\n",
       "      <td>4</td>\n",
       "      <td>0</td>\n",
       "      <td>44</td>\n",
       "      <td>2</td>\n",
       "      <td>8.5</td>\n",
       "    </tr>\n",
       "    <tr>\n",
       "      <th>880</th>\n",
       "      <td>25</td>\n",
       "      <td>18</td>\n",
       "      <td>4</td>\n",
       "      <td>0</td>\n",
       "      <td>36</td>\n",
       "      <td>4.130604</td>\n",
       "      <td>2.313396</td>\n",
       "      <td>1</td>\n",
       "      <td>2</td>\n",
       "      <td>1</td>\n",
       "      <td>4</td>\n",
       "      <td>1</td>\n",
       "      <td>23.4</td>\n",
       "    </tr>\n",
       "    <tr>\n",
       "      <th>983</th>\n",
       "      <td>34</td>\n",
       "      <td>19</td>\n",
       "      <td>4</td>\n",
       "      <td>3</td>\n",
       "      <td>62</td>\n",
       "      <td>1.777912</td>\n",
       "      <td>4.856088</td>\n",
       "      <td>1</td>\n",
       "      <td>2</td>\n",
       "      <td>1</td>\n",
       "      <td>8</td>\n",
       "      <td>1</td>\n",
       "      <td>21.2</td>\n",
       "    </tr>\n",
       "    <tr>\n",
       "      <th>2380</th>\n",
       "      <td>65</td>\n",
       "      <td>17</td>\n",
       "      <td>4</td>\n",
       "      <td>23</td>\n",
       "      <td>21</td>\n",
       "      <td>0.926877</td>\n",
       "      <td>1.194123</td>\n",
       "      <td>0</td>\n",
       "      <td>4</td>\n",
       "      <td>0</td>\n",
       "      <td>12</td>\n",
       "      <td>2</td>\n",
       "      <td>9.8</td>\n",
       "    </tr>\n",
       "    <tr>\n",
       "      <th>788</th>\n",
       "      <td>29</td>\n",
       "      <td>17</td>\n",
       "      <td>4</td>\n",
       "      <td>3</td>\n",
       "      <td>13</td>\n",
       "      <td>0.256360</td>\n",
       "      <td>0.627640</td>\n",
       "      <td>0</td>\n",
       "      <td>3</td>\n",
       "      <td>1</td>\n",
       "      <td>6</td>\n",
       "      <td>1</td>\n",
       "      <td>5.1</td>\n",
       "    </tr>\n",
       "  </tbody>\n",
       "</table>\n",
       "</div>"
      ],
      "text/plain": [
       "      age  yrsed  edcat  yrsempl  income  creddebt   othdebt  default  jobsat  \\\n",
       "1727   79     13      2       34      16  0.376672  0.887328        0       4   \n",
       "880    25     18      4        0      36  4.130604  2.313396        1       2   \n",
       "983    34     19      4        3      62  1.777912  4.856088        1       2   \n",
       "2380   65     17      4       23      21  0.926877  1.194123        0       4   \n",
       "788    29     17      4        3      13  0.256360  0.627640        0       3   \n",
       "\n",
       "      homeown  address  cars  carvalue  \n",
       "1727        0       44     2       8.5  \n",
       "880         1        4     1      23.4  \n",
       "983         1        8     1      21.2  \n",
       "2380        0       12     2       9.8  \n",
       "788         1        6     1       5.1  "
      ]
     },
     "execution_count": 7,
     "metadata": {},
     "output_type": "execute_result"
    }
   ],
   "source": [
    "X_train.head()"
   ]
  },
  {
   "cell_type": "code",
   "execution_count": 8,
   "id": "7419d84d",
   "metadata": {},
   "outputs": [
    {
     "name": "stderr",
     "output_type": "stream",
     "text": [
      "C:\\Users\\offic\\AppData\\Local\\Temp/ipykernel_14832/1857831683.py:4: SettingWithCopyWarning: \n",
      "A value is trying to be set on a copy of a slice from a DataFrame.\n",
      "Try using .loc[row_indexer,col_indexer] = value instead\n",
      "\n",
      "See the caveats in the documentation: https://pandas.pydata.org/pandas-docs/stable/user_guide/indexing.html#returning-a-view-versus-a-copy\n",
      "  X_train[feature] = np.log(X_train[feature])\n"
     ]
    },
    {
     "data": {
      "text/html": [
       "<div>\n",
       "<style scoped>\n",
       "    .dataframe tbody tr th:only-of-type {\n",
       "        vertical-align: middle;\n",
       "    }\n",
       "\n",
       "    .dataframe tbody tr th {\n",
       "        vertical-align: top;\n",
       "    }\n",
       "\n",
       "    .dataframe thead th {\n",
       "        text-align: right;\n",
       "    }\n",
       "</style>\n",
       "<table border=\"1\" class=\"dataframe\">\n",
       "  <thead>\n",
       "    <tr style=\"text-align: right;\">\n",
       "      <th></th>\n",
       "      <th>age</th>\n",
       "      <th>yrsed</th>\n",
       "      <th>edcat</th>\n",
       "      <th>yrsempl</th>\n",
       "      <th>income</th>\n",
       "      <th>creddebt</th>\n",
       "      <th>othdebt</th>\n",
       "      <th>default</th>\n",
       "      <th>jobsat</th>\n",
       "      <th>homeown</th>\n",
       "      <th>address</th>\n",
       "      <th>cars</th>\n",
       "      <th>carvalue</th>\n",
       "    </tr>\n",
       "  </thead>\n",
       "  <tbody>\n",
       "    <tr>\n",
       "      <th>1727</th>\n",
       "      <td>79</td>\n",
       "      <td>13</td>\n",
       "      <td>2</td>\n",
       "      <td>34</td>\n",
       "      <td>2.772589</td>\n",
       "      <td>-0.976380</td>\n",
       "      <td>-0.119541</td>\n",
       "      <td>0</td>\n",
       "      <td>4</td>\n",
       "      <td>0</td>\n",
       "      <td>44</td>\n",
       "      <td>2</td>\n",
       "      <td>2.140066</td>\n",
       "    </tr>\n",
       "    <tr>\n",
       "      <th>880</th>\n",
       "      <td>25</td>\n",
       "      <td>18</td>\n",
       "      <td>4</td>\n",
       "      <td>0</td>\n",
       "      <td>3.583519</td>\n",
       "      <td>1.418424</td>\n",
       "      <td>0.838717</td>\n",
       "      <td>1</td>\n",
       "      <td>2</td>\n",
       "      <td>1</td>\n",
       "      <td>4</td>\n",
       "      <td>1</td>\n",
       "      <td>3.152736</td>\n",
       "    </tr>\n",
       "    <tr>\n",
       "      <th>983</th>\n",
       "      <td>34</td>\n",
       "      <td>19</td>\n",
       "      <td>4</td>\n",
       "      <td>3</td>\n",
       "      <td>4.127134</td>\n",
       "      <td>0.575440</td>\n",
       "      <td>1.580233</td>\n",
       "      <td>1</td>\n",
       "      <td>2</td>\n",
       "      <td>1</td>\n",
       "      <td>8</td>\n",
       "      <td>1</td>\n",
       "      <td>3.054001</td>\n",
       "    </tr>\n",
       "    <tr>\n",
       "      <th>2380</th>\n",
       "      <td>65</td>\n",
       "      <td>17</td>\n",
       "      <td>4</td>\n",
       "      <td>23</td>\n",
       "      <td>3.044522</td>\n",
       "      <td>-0.075934</td>\n",
       "      <td>0.177412</td>\n",
       "      <td>0</td>\n",
       "      <td>4</td>\n",
       "      <td>0</td>\n",
       "      <td>12</td>\n",
       "      <td>2</td>\n",
       "      <td>2.282382</td>\n",
       "    </tr>\n",
       "    <tr>\n",
       "      <th>788</th>\n",
       "      <td>29</td>\n",
       "      <td>17</td>\n",
       "      <td>4</td>\n",
       "      <td>3</td>\n",
       "      <td>2.564949</td>\n",
       "      <td>-1.361173</td>\n",
       "      <td>-0.465789</td>\n",
       "      <td>0</td>\n",
       "      <td>3</td>\n",
       "      <td>1</td>\n",
       "      <td>6</td>\n",
       "      <td>1</td>\n",
       "      <td>1.629241</td>\n",
       "    </tr>\n",
       "  </tbody>\n",
       "</table>\n",
       "</div>"
      ],
      "text/plain": [
       "      age  yrsed  edcat  yrsempl    income  creddebt   othdebt  default  \\\n",
       "1727   79     13      2       34  2.772589 -0.976380 -0.119541        0   \n",
       "880    25     18      4        0  3.583519  1.418424  0.838717        1   \n",
       "983    34     19      4        3  4.127134  0.575440  1.580233        1   \n",
       "2380   65     17      4       23  3.044522 -0.075934  0.177412        0   \n",
       "788    29     17      4        3  2.564949 -1.361173 -0.465789        0   \n",
       "\n",
       "      jobsat  homeown  address  cars  carvalue  \n",
       "1727       4        0       44     2  2.140066  \n",
       "880        2        1        4     1  3.152736  \n",
       "983        2        1        8     1  3.054001  \n",
       "2380       4        0       12     2  2.282382  \n",
       "788        3        1        6     1  1.629241  "
      ]
     },
     "execution_count": 8,
     "metadata": {},
     "output_type": "execute_result"
    }
   ],
   "source": [
    "num_features = ['creddebt','othdebt','carvalue','income']\n",
    "\n",
    "for feature in num_features:\n",
    "    X_train[feature] = np.log(X_train[feature])\n",
    "X_train.head()"
   ]
  },
  {
   "cell_type": "markdown",
   "id": "f831202e",
   "metadata": {},
   "source": [
    "output after transformation"
   ]
  },
  {
   "cell_type": "markdown",
   "id": "3515ff76",
   "metadata": {},
   "source": [
    "### Handling Rare Categorical Features - X_train\n",
    "we need to remove those categorical variables that tend to occur less than 1% of the observation\n",
    "\n",
    "edcat - Categorical Data\n",
    "\n",
    "default - Categorical Data\n",
    "\n",
    "jobsat - Categorical Data\n",
    "\n",
    "homeown - Categorical Data"
   ]
  },
  {
   "cell_type": "code",
   "execution_count": 9,
   "id": "ac941323",
   "metadata": {},
   "outputs": [
    {
     "name": "stdout",
     "output_type": "stream",
     "text": [
      "['edcat', 'default', 'jobsat', 'homeown']\n"
     ]
    }
   ],
   "source": [
    "categ_features = [feature for feature in X_train.columns if 'edcat' in feature or 'default' in feature or 'jobsat' in feature or 'homeown' in feature]\n",
    "print(categ_features)"
   ]
  },
  {
   "cell_type": "code",
   "execution_count": 10,
   "id": "174d4778",
   "metadata": {},
   "outputs": [
    {
     "name": "stdout",
     "output_type": "stream",
     "text": [
      "[]\n",
      "[]\n",
      "[]\n",
      "[]\n"
     ]
    },
    {
     "name": "stderr",
     "output_type": "stream",
     "text": [
      "C:\\Users\\offic\\AppData\\Local\\Temp/ipykernel_14832/3810733446.py:6: SettingWithCopyWarning: \n",
      "A value is trying to be set on a copy of a slice from a DataFrame.\n",
      "Try using .loc[row_indexer,col_indexer] = value instead\n",
      "\n",
      "See the caveats in the documentation: https://pandas.pydata.org/pandas-docs/stable/user_guide/indexing.html#returning-a-view-versus-a-copy\n",
      "  X_train[feature]= np.where(X_train[feature].isin(temp_df),X_train[feature],'Rare_Var')\n"
     ]
    }
   ],
   "source": [
    "# finding the rarity of variable in categorcal feature\n",
    "\n",
    "for feature in categ_features:\n",
    "    percent_rarity=X_train.groupby(feature)['income'].count()/len(X_train)\n",
    "    temp_df=percent_rarity[percent_rarity>0.01].index\n",
    "    X_train[feature]= np.where(X_train[feature].isin(temp_df),X_train[feature],'Rare_Var')\n",
    "\n",
    "X_train.head(300)\n",
    "\n",
    "rare_value_edcat = [value for value in X_train['edcat'].values if 'Rare_Var' in value]\n",
    "print(rare_value_edcat)\n",
    "\n",
    "\n",
    "rare_value_default = [value for value in X_train['default'].values if 'Rare_Var' in value]\n",
    "print(rare_value_default)\n",
    "\n",
    "\n",
    "rare_value_jobsat = [value for value in X_train['jobsat'].values if 'Rare_Var' in value]\n",
    "print(rare_value_jobsat)\n",
    "\n",
    "\n",
    "rare_value_homeown = [value for value in X_train['homeown'].values if 'Rare_Var' in value]\n",
    "print(rare_value_homeown)\n"
   ]
  },
  {
   "cell_type": "markdown",
   "id": "2cc43364",
   "metadata": {},
   "source": [
    "It seems we don't have any rare value in the training dataset"
   ]
  },
  {
   "cell_type": "markdown",
   "id": "d6f1ee1c",
   "metadata": {},
   "source": [
    "### Feature Scaling - X-Train\n",
    "We need to do feature scaling because we have different feature measured with different units \n",
    "hence its good to do scaling before proceeding to apply machine learnign Algorithm.\n",
    "#### Helps in applying M.L. Algo in a better way\n",
    "###### Remember scaling is not applied on the Dependent Variable (income)"
   ]
  },
  {
   "cell_type": "code",
   "execution_count": 11,
   "id": "bf71ad8c",
   "metadata": {},
   "outputs": [
    {
     "name": "stdout",
     "output_type": "stream",
     "text": [
      "['age', 'yrsed', 'edcat', 'yrsempl', 'creddebt', 'othdebt', 'default', 'jobsat', 'homeown', 'address', 'cars', 'carvalue']\n"
     ]
    },
    {
     "data": {
      "text/plain": [
       "MinMaxScaler()"
      ]
     },
     "execution_count": 11,
     "metadata": {},
     "output_type": "execute_result"
    }
   ],
   "source": [
    "scale_feature = [feature for feature in X_train.columns if feature not in ['income'] ]\n",
    "print(scale_feature)\n",
    "from sklearn.preprocessing import MinMaxScaler\n",
    "scaler=MinMaxScaler()\n",
    "\n",
    "scaler.fit(X_train[scale_feature])"
   ]
  },
  {
   "cell_type": "code",
   "execution_count": 12,
   "id": "daa43eaa",
   "metadata": {},
   "outputs": [],
   "source": [
    "X_train = pd.concat([X_train['income'].reset_index(drop=True),pd.DataFrame(scaler.transform(X_train[scale_feature]),columns=scale_feature)],axis=1)"
   ]
  },
  {
   "cell_type": "code",
   "execution_count": 13,
   "id": "1be3ca61",
   "metadata": {},
   "outputs": [
    {
     "data": {
      "text/html": [
       "<div>\n",
       "<style scoped>\n",
       "    .dataframe tbody tr th:only-of-type {\n",
       "        vertical-align: middle;\n",
       "    }\n",
       "\n",
       "    .dataframe tbody tr th {\n",
       "        vertical-align: top;\n",
       "    }\n",
       "\n",
       "    .dataframe thead th {\n",
       "        text-align: right;\n",
       "    }\n",
       "</style>\n",
       "<table border=\"1\" class=\"dataframe\">\n",
       "  <thead>\n",
       "    <tr style=\"text-align: right;\">\n",
       "      <th></th>\n",
       "      <th>income</th>\n",
       "      <th>age</th>\n",
       "      <th>yrsed</th>\n",
       "      <th>edcat</th>\n",
       "      <th>yrsempl</th>\n",
       "      <th>creddebt</th>\n",
       "      <th>othdebt</th>\n",
       "      <th>default</th>\n",
       "      <th>jobsat</th>\n",
       "      <th>homeown</th>\n",
       "      <th>address</th>\n",
       "      <th>cars</th>\n",
       "      <th>carvalue</th>\n",
       "    </tr>\n",
       "  </thead>\n",
       "  <tbody>\n",
       "    <tr>\n",
       "      <th>0</th>\n",
       "      <td>2.772589</td>\n",
       "      <td>1.000000</td>\n",
       "      <td>0.411765</td>\n",
       "      <td>0.25</td>\n",
       "      <td>0.653846</td>\n",
       "      <td>0.475553</td>\n",
       "      <td>0.424034</td>\n",
       "      <td>0.0</td>\n",
       "      <td>0.75</td>\n",
       "      <td>0.0</td>\n",
       "      <td>0.771930</td>\n",
       "      <td>0.166667</td>\n",
       "      <td>0.354501</td>\n",
       "    </tr>\n",
       "    <tr>\n",
       "      <th>1</th>\n",
       "      <td>3.583519</td>\n",
       "      <td>0.114754</td>\n",
       "      <td>0.705882</td>\n",
       "      <td>0.75</td>\n",
       "      <td>0.000000</td>\n",
       "      <td>0.717623</td>\n",
       "      <td>0.532861</td>\n",
       "      <td>1.0</td>\n",
       "      <td>0.25</td>\n",
       "      <td>1.0</td>\n",
       "      <td>0.070175</td>\n",
       "      <td>0.000000</td>\n",
       "      <td>0.620105</td>\n",
       "    </tr>\n",
       "    <tr>\n",
       "      <th>2</th>\n",
       "      <td>4.127134</td>\n",
       "      <td>0.262295</td>\n",
       "      <td>0.764706</td>\n",
       "      <td>0.75</td>\n",
       "      <td>0.057692</td>\n",
       "      <td>0.632413</td>\n",
       "      <td>0.617074</td>\n",
       "      <td>1.0</td>\n",
       "      <td>0.25</td>\n",
       "      <td>1.0</td>\n",
       "      <td>0.140351</td>\n",
       "      <td>0.000000</td>\n",
       "      <td>0.594209</td>\n",
       "    </tr>\n",
       "    <tr>\n",
       "      <th>3</th>\n",
       "      <td>3.044522</td>\n",
       "      <td>0.770492</td>\n",
       "      <td>0.647059</td>\n",
       "      <td>0.75</td>\n",
       "      <td>0.442308</td>\n",
       "      <td>0.566571</td>\n",
       "      <td>0.457758</td>\n",
       "      <td>0.0</td>\n",
       "      <td>0.75</td>\n",
       "      <td>0.0</td>\n",
       "      <td>0.210526</td>\n",
       "      <td>0.166667</td>\n",
       "      <td>0.391828</td>\n",
       "    </tr>\n",
       "    <tr>\n",
       "      <th>4</th>\n",
       "      <td>2.564949</td>\n",
       "      <td>0.180328</td>\n",
       "      <td>0.647059</td>\n",
       "      <td>0.75</td>\n",
       "      <td>0.057692</td>\n",
       "      <td>0.436658</td>\n",
       "      <td>0.384711</td>\n",
       "      <td>0.0</td>\n",
       "      <td>0.50</td>\n",
       "      <td>1.0</td>\n",
       "      <td>0.105263</td>\n",
       "      <td>0.000000</td>\n",
       "      <td>0.220521</td>\n",
       "    </tr>\n",
       "  </tbody>\n",
       "</table>\n",
       "</div>"
      ],
      "text/plain": [
       "     income       age     yrsed  edcat   yrsempl  creddebt   othdebt  default  \\\n",
       "0  2.772589  1.000000  0.411765   0.25  0.653846  0.475553  0.424034      0.0   \n",
       "1  3.583519  0.114754  0.705882   0.75  0.000000  0.717623  0.532861      1.0   \n",
       "2  4.127134  0.262295  0.764706   0.75  0.057692  0.632413  0.617074      1.0   \n",
       "3  3.044522  0.770492  0.647059   0.75  0.442308  0.566571  0.457758      0.0   \n",
       "4  2.564949  0.180328  0.647059   0.75  0.057692  0.436658  0.384711      0.0   \n",
       "\n",
       "   jobsat  homeown   address      cars  carvalue  \n",
       "0    0.75      0.0  0.771930  0.166667  0.354501  \n",
       "1    0.25      1.0  0.070175  0.000000  0.620105  \n",
       "2    0.25      1.0  0.140351  0.000000  0.594209  \n",
       "3    0.75      0.0  0.210526  0.166667  0.391828  \n",
       "4    0.50      1.0  0.105263  0.000000  0.220521  "
      ]
     },
     "execution_count": 13,
     "metadata": {},
     "output_type": "execute_result"
    }
   ],
   "source": [
    "X_train.head()"
   ]
  },
  {
   "cell_type": "code",
   "execution_count": 14,
   "id": "ba0676d8",
   "metadata": {},
   "outputs": [
    {
     "data": {
      "text/plain": [
       "income      float64\n",
       "age         float64\n",
       "yrsed       float64\n",
       "edcat       float64\n",
       "yrsempl     float64\n",
       "creddebt    float64\n",
       "othdebt     float64\n",
       "default     float64\n",
       "jobsat      float64\n",
       "homeown     float64\n",
       "address     float64\n",
       "cars        float64\n",
       "carvalue    float64\n",
       "dtype: object"
      ]
     },
     "execution_count": 14,
     "metadata": {},
     "output_type": "execute_result"
    }
   ],
   "source": [
    "X_train.dtypes"
   ]
  },
  {
   "cell_type": "code",
   "execution_count": 15,
   "id": "050231f6",
   "metadata": {},
   "outputs": [],
   "source": [
    "X_train.to_csv('X_train.csv',index=False)"
   ]
  },
  {
   "cell_type": "markdown",
   "id": "d2526954",
   "metadata": {},
   "source": [
    "### <font color = \"Red\">We need to do same steps for test data also</font>"
   ]
  },
  {
   "cell_type": "markdown",
   "id": "14765746",
   "metadata": {},
   "source": [
    "## Check for Missing Values - X_test"
   ]
  },
  {
   "cell_type": "code",
   "execution_count": 16,
   "id": "91588a31",
   "metadata": {},
   "outputs": [
    {
     "name": "stdout",
     "output_type": "stream",
     "text": [
      "[]\n"
     ]
    }
   ],
   "source": [
    "## What percentage of Missing Values are there in the each feature\n",
    "\n",
    "## Create a List of all features with missing values\n",
    "features_miss_val=[features for features in X_test.columns if X_test[features].isnull().sum()>1] \n",
    "print(features_miss_val)"
   ]
  },
  {
   "cell_type": "markdown",
   "id": "6cdf3eb5",
   "metadata": {},
   "source": [
    "## <font size = 8  color='#F1C40F'>Transforming the Skewed Distributions - X_test</font>"
   ]
  },
  {
   "cell_type": "markdown",
   "id": "1238d2fa",
   "metadata": {},
   "source": [
    "### For continuous numerical features\n",
    "creddebt- Continuous and Numeric Data\n",
    "\n",
    "othdebt - Continuous and Numeric Data\n",
    "\n",
    "carvalue- Continuous and Numeric Data\n",
    "\n",
    "Income - Continuous and Dependent Variable"
   ]
  },
  {
   "cell_type": "code",
   "execution_count": 17,
   "id": "8f202462",
   "metadata": {},
   "outputs": [
    {
     "data": {
      "text/html": [
       "<div>\n",
       "<style scoped>\n",
       "    .dataframe tbody tr th:only-of-type {\n",
       "        vertical-align: middle;\n",
       "    }\n",
       "\n",
       "    .dataframe tbody tr th {\n",
       "        vertical-align: top;\n",
       "    }\n",
       "\n",
       "    .dataframe thead th {\n",
       "        text-align: right;\n",
       "    }\n",
       "</style>\n",
       "<table border=\"1\" class=\"dataframe\">\n",
       "  <thead>\n",
       "    <tr style=\"text-align: right;\">\n",
       "      <th></th>\n",
       "      <th>age</th>\n",
       "      <th>yrsed</th>\n",
       "      <th>edcat</th>\n",
       "      <th>yrsempl</th>\n",
       "      <th>income</th>\n",
       "      <th>creddebt</th>\n",
       "      <th>othdebt</th>\n",
       "      <th>default</th>\n",
       "      <th>jobsat</th>\n",
       "      <th>homeown</th>\n",
       "      <th>address</th>\n",
       "      <th>cars</th>\n",
       "      <th>carvalue</th>\n",
       "    </tr>\n",
       "  </thead>\n",
       "  <tbody>\n",
       "    <tr>\n",
       "      <th>2022</th>\n",
       "      <td>46</td>\n",
       "      <td>15</td>\n",
       "      <td>3</td>\n",
       "      <td>11</td>\n",
       "      <td>88</td>\n",
       "      <td>0.662200</td>\n",
       "      <td>2.417800</td>\n",
       "      <td>0</td>\n",
       "      <td>4</td>\n",
       "      <td>1</td>\n",
       "      <td>18</td>\n",
       "      <td>2</td>\n",
       "      <td>46.1</td>\n",
       "    </tr>\n",
       "    <tr>\n",
       "      <th>1139</th>\n",
       "      <td>53</td>\n",
       "      <td>8</td>\n",
       "      <td>1</td>\n",
       "      <td>14</td>\n",
       "      <td>40</td>\n",
       "      <td>0.211680</td>\n",
       "      <td>0.268320</td>\n",
       "      <td>0</td>\n",
       "      <td>2</td>\n",
       "      <td>1</td>\n",
       "      <td>18</td>\n",
       "      <td>2</td>\n",
       "      <td>15.5</td>\n",
       "    </tr>\n",
       "    <tr>\n",
       "      <th>595</th>\n",
       "      <td>33</td>\n",
       "      <td>15</td>\n",
       "      <td>3</td>\n",
       "      <td>6</td>\n",
       "      <td>49</td>\n",
       "      <td>1.207360</td>\n",
       "      <td>2.565640</td>\n",
       "      <td>0</td>\n",
       "      <td>2</td>\n",
       "      <td>1</td>\n",
       "      <td>11</td>\n",
       "      <td>1</td>\n",
       "      <td>25.7</td>\n",
       "    </tr>\n",
       "    <tr>\n",
       "      <th>1420</th>\n",
       "      <td>20</td>\n",
       "      <td>12</td>\n",
       "      <td>2</td>\n",
       "      <td>1</td>\n",
       "      <td>18</td>\n",
       "      <td>1.245888</td>\n",
       "      <td>0.608112</td>\n",
       "      <td>1</td>\n",
       "      <td>1</td>\n",
       "      <td>0</td>\n",
       "      <td>0</td>\n",
       "      <td>2</td>\n",
       "      <td>7.5</td>\n",
       "    </tr>\n",
       "    <tr>\n",
       "      <th>2486</th>\n",
       "      <td>67</td>\n",
       "      <td>18</td>\n",
       "      <td>4</td>\n",
       "      <td>5</td>\n",
       "      <td>52</td>\n",
       "      <td>0.989976</td>\n",
       "      <td>4.938024</td>\n",
       "      <td>1</td>\n",
       "      <td>1</td>\n",
       "      <td>0</td>\n",
       "      <td>26</td>\n",
       "      <td>2</td>\n",
       "      <td>23.1</td>\n",
       "    </tr>\n",
       "  </tbody>\n",
       "</table>\n",
       "</div>"
      ],
      "text/plain": [
       "      age  yrsed  edcat  yrsempl  income  creddebt   othdebt  default  jobsat  \\\n",
       "2022   46     15      3       11      88  0.662200  2.417800        0       4   \n",
       "1139   53      8      1       14      40  0.211680  0.268320        0       2   \n",
       "595    33     15      3        6      49  1.207360  2.565640        0       2   \n",
       "1420   20     12      2        1      18  1.245888  0.608112        1       1   \n",
       "2486   67     18      4        5      52  0.989976  4.938024        1       1   \n",
       "\n",
       "      homeown  address  cars  carvalue  \n",
       "2022        1       18     2      46.1  \n",
       "1139        1       18     2      15.5  \n",
       "595         1       11     1      25.7  \n",
       "1420        0        0     2       7.5  \n",
       "2486        0       26     2      23.1  "
      ]
     },
     "execution_count": 17,
     "metadata": {},
     "output_type": "execute_result"
    }
   ],
   "source": [
    "X_test.head()"
   ]
  },
  {
   "cell_type": "code",
   "execution_count": 18,
   "id": "da158265",
   "metadata": {},
   "outputs": [
    {
     "name": "stderr",
     "output_type": "stream",
     "text": [
      "C:\\Users\\offic\\anaconda3\\lib\\site-packages\\pandas\\core\\arraylike.py:364: RuntimeWarning: divide by zero encountered in log\n",
      "  result = getattr(ufunc, method)(*inputs, **kwargs)\n",
      "C:\\Users\\offic\\AppData\\Local\\Temp/ipykernel_14832/1302567761.py:4: SettingWithCopyWarning: \n",
      "A value is trying to be set on a copy of a slice from a DataFrame.\n",
      "Try using .loc[row_indexer,col_indexer] = value instead\n",
      "\n",
      "See the caveats in the documentation: https://pandas.pydata.org/pandas-docs/stable/user_guide/indexing.html#returning-a-view-versus-a-copy\n",
      "  X_test[feature] = np.log(X_test[feature])\n"
     ]
    },
    {
     "data": {
      "text/html": [
       "<div>\n",
       "<style scoped>\n",
       "    .dataframe tbody tr th:only-of-type {\n",
       "        vertical-align: middle;\n",
       "    }\n",
       "\n",
       "    .dataframe tbody tr th {\n",
       "        vertical-align: top;\n",
       "    }\n",
       "\n",
       "    .dataframe thead th {\n",
       "        text-align: right;\n",
       "    }\n",
       "</style>\n",
       "<table border=\"1\" class=\"dataframe\">\n",
       "  <thead>\n",
       "    <tr style=\"text-align: right;\">\n",
       "      <th></th>\n",
       "      <th>age</th>\n",
       "      <th>yrsed</th>\n",
       "      <th>edcat</th>\n",
       "      <th>yrsempl</th>\n",
       "      <th>income</th>\n",
       "      <th>creddebt</th>\n",
       "      <th>othdebt</th>\n",
       "      <th>default</th>\n",
       "      <th>jobsat</th>\n",
       "      <th>homeown</th>\n",
       "      <th>address</th>\n",
       "      <th>cars</th>\n",
       "      <th>carvalue</th>\n",
       "    </tr>\n",
       "  </thead>\n",
       "  <tbody>\n",
       "    <tr>\n",
       "      <th>2022</th>\n",
       "      <td>46</td>\n",
       "      <td>15</td>\n",
       "      <td>3</td>\n",
       "      <td>11</td>\n",
       "      <td>4.477337</td>\n",
       "      <td>-0.412188</td>\n",
       "      <td>0.882858</td>\n",
       "      <td>0</td>\n",
       "      <td>4</td>\n",
       "      <td>1</td>\n",
       "      <td>18</td>\n",
       "      <td>2</td>\n",
       "      <td>3.830813</td>\n",
       "    </tr>\n",
       "    <tr>\n",
       "      <th>1139</th>\n",
       "      <td>53</td>\n",
       "      <td>8</td>\n",
       "      <td>1</td>\n",
       "      <td>14</td>\n",
       "      <td>3.688879</td>\n",
       "      <td>-1.552680</td>\n",
       "      <td>-1.315575</td>\n",
       "      <td>0</td>\n",
       "      <td>2</td>\n",
       "      <td>1</td>\n",
       "      <td>18</td>\n",
       "      <td>2</td>\n",
       "      <td>2.740840</td>\n",
       "    </tr>\n",
       "    <tr>\n",
       "      <th>595</th>\n",
       "      <td>33</td>\n",
       "      <td>15</td>\n",
       "      <td>3</td>\n",
       "      <td>6</td>\n",
       "      <td>3.891820</td>\n",
       "      <td>0.188436</td>\n",
       "      <td>0.942208</td>\n",
       "      <td>0</td>\n",
       "      <td>2</td>\n",
       "      <td>1</td>\n",
       "      <td>11</td>\n",
       "      <td>1</td>\n",
       "      <td>3.246491</td>\n",
       "    </tr>\n",
       "    <tr>\n",
       "      <th>1420</th>\n",
       "      <td>20</td>\n",
       "      <td>12</td>\n",
       "      <td>2</td>\n",
       "      <td>1</td>\n",
       "      <td>2.890372</td>\n",
       "      <td>0.219849</td>\n",
       "      <td>-0.497396</td>\n",
       "      <td>1</td>\n",
       "      <td>1</td>\n",
       "      <td>0</td>\n",
       "      <td>0</td>\n",
       "      <td>2</td>\n",
       "      <td>2.014903</td>\n",
       "    </tr>\n",
       "    <tr>\n",
       "      <th>2486</th>\n",
       "      <td>67</td>\n",
       "      <td>18</td>\n",
       "      <td>4</td>\n",
       "      <td>5</td>\n",
       "      <td>3.951244</td>\n",
       "      <td>-0.010075</td>\n",
       "      <td>1.596965</td>\n",
       "      <td>1</td>\n",
       "      <td>1</td>\n",
       "      <td>0</td>\n",
       "      <td>26</td>\n",
       "      <td>2</td>\n",
       "      <td>3.139833</td>\n",
       "    </tr>\n",
       "  </tbody>\n",
       "</table>\n",
       "</div>"
      ],
      "text/plain": [
       "      age  yrsed  edcat  yrsempl    income  creddebt   othdebt  default  \\\n",
       "2022   46     15      3       11  4.477337 -0.412188  0.882858        0   \n",
       "1139   53      8      1       14  3.688879 -1.552680 -1.315575        0   \n",
       "595    33     15      3        6  3.891820  0.188436  0.942208        0   \n",
       "1420   20     12      2        1  2.890372  0.219849 -0.497396        1   \n",
       "2486   67     18      4        5  3.951244 -0.010075  1.596965        1   \n",
       "\n",
       "      jobsat  homeown  address  cars  carvalue  \n",
       "2022       4        1       18     2  3.830813  \n",
       "1139       2        1       18     2  2.740840  \n",
       "595        2        1       11     1  3.246491  \n",
       "1420       1        0        0     2  2.014903  \n",
       "2486       1        0       26     2  3.139833  "
      ]
     },
     "execution_count": 18,
     "metadata": {},
     "output_type": "execute_result"
    }
   ],
   "source": [
    "num_features = ['creddebt','othdebt','carvalue','income']\n",
    "\n",
    "for feature in num_features:\n",
    "    X_test[feature] = np.log(X_test[feature])\n",
    "X_test.head()"
   ]
  },
  {
   "cell_type": "markdown",
   "id": "7bef981d",
   "metadata": {},
   "source": [
    "output after transformation"
   ]
  },
  {
   "cell_type": "markdown",
   "id": "4e978dc4",
   "metadata": {},
   "source": [
    "### Handling Rare Categorical Features - X_test\n",
    "we need to remove those categorical variables that tend to occur less than 1% of the observation\n",
    "\n",
    "edcat - Categorical Data\n",
    "\n",
    "default - Categorical Data\n",
    "\n",
    "jobsat - Categorical Data\n",
    "\n",
    "homeown - Categorical Data"
   ]
  },
  {
   "cell_type": "code",
   "execution_count": 19,
   "id": "a776389c",
   "metadata": {},
   "outputs": [
    {
     "name": "stdout",
     "output_type": "stream",
     "text": [
      "['edcat', 'default', 'jobsat', 'homeown']\n"
     ]
    }
   ],
   "source": [
    "categ_features = [feature for feature in X_test.columns if 'edcat' in feature or 'default' in feature or 'jobsat' in feature or 'homeown' in feature]\n",
    "print(categ_features)"
   ]
  },
  {
   "cell_type": "code",
   "execution_count": 20,
   "id": "9e0635af",
   "metadata": {},
   "outputs": [
    {
     "name": "stdout",
     "output_type": "stream",
     "text": [
      "[]\n",
      "[]\n",
      "[]\n",
      "[]\n"
     ]
    },
    {
     "name": "stderr",
     "output_type": "stream",
     "text": [
      "C:\\Users\\offic\\AppData\\Local\\Temp/ipykernel_14832/226651975.py:6: SettingWithCopyWarning: \n",
      "A value is trying to be set on a copy of a slice from a DataFrame.\n",
      "Try using .loc[row_indexer,col_indexer] = value instead\n",
      "\n",
      "See the caveats in the documentation: https://pandas.pydata.org/pandas-docs/stable/user_guide/indexing.html#returning-a-view-versus-a-copy\n",
      "  X_test[feature]= np.where(X_test[feature].isin(temp_df),X_test[feature],'Rare_Var')\n"
     ]
    }
   ],
   "source": [
    "# finding the rarity of variable in categorcal feature\n",
    "\n",
    "for feature in categ_features:\n",
    "    percent_rarity=X_test.groupby(feature)['income'].count()/len(X_test)\n",
    "    temp_df=percent_rarity[percent_rarity>0.01].index\n",
    "    X_test[feature]= np.where(X_test[feature].isin(temp_df),X_test[feature],'Rare_Var')\n",
    "\n",
    "rare_value_edcat = [value for value in X_test['edcat'].values if 'Rare_Var' in value]\n",
    "print(rare_value_edcat)\n",
    "\n",
    "\n",
    "rare_value_default = [value for value in X_test['default'].values if 'Rare_Var' in value]\n",
    "print(rare_value_default)\n",
    "\n",
    "\n",
    "rare_value_jobsat = [value for value in X_test['jobsat'].values if 'Rare_Var' in value]\n",
    "print(rare_value_jobsat)\n",
    "\n",
    "\n",
    "rare_value_homeown = [value for value in X_test['homeown'].values if 'Rare_Var' in value]\n",
    "print(rare_value_homeown)\n"
   ]
  },
  {
   "cell_type": "markdown",
   "id": "69501ff4",
   "metadata": {},
   "source": [
    "### Feature Scaling - X-Test\n",
    "We need to do feature scaling because we have different feature measured with different units \n",
    "hence its good to do scaling before proceeding to apply machine learnign Algorithm.\n",
    "#### Helps in applying M.L. Algo in a better way\n",
    "###### Remember scaling is not applied on the Dependent Variable (income)"
   ]
  },
  {
   "cell_type": "code",
   "execution_count": 21,
   "id": "4beac1a3",
   "metadata": {},
   "outputs": [
    {
     "name": "stdout",
     "output_type": "stream",
     "text": [
      "        age  yrsed  edcat  yrsempl  income  creddebt  othdebt  default  \\\n",
      "2022  False  False  False    False   False     False    False    False   \n",
      "1139  False  False  False    False   False     False    False    False   \n",
      "595   False  False  False    False   False     False    False    False   \n",
      "1420  False  False  False    False   False     False    False    False   \n",
      "2486  False  False  False    False   False     False    False    False   \n",
      "...     ...    ...    ...      ...     ...       ...      ...      ...   \n",
      "483   False  False  False    False   False     False    False    False   \n",
      "1600  False  False  False    False   False     False    False    False   \n",
      "3505  False  False  False    False   False     False    False    False   \n",
      "2350  False  False  False    False   False     False    False    False   \n",
      "4417  False  False  False    False   False     False    False    False   \n",
      "\n",
      "      jobsat  homeown  address   cars  carvalue  \n",
      "2022   False    False    False  False     False  \n",
      "1139   False    False    False  False     False  \n",
      "595    False    False    False  False     False  \n",
      "1420   False    False    False  False     False  \n",
      "2486   False    False    False  False     False  \n",
      "...      ...      ...      ...    ...       ...  \n",
      "483    False    False    False  False     False  \n",
      "1600   False    False    False  False     False  \n",
      "3505   False    False    False  False     False  \n",
      "2350   False    False    False  False     False  \n",
      "4417   False    False    False  False     False  \n",
      "\n",
      "[1353 rows x 13 columns]\n",
      "It contains 0 infinite values\n",
      "It contains 0 nan values\n"
     ]
    },
    {
     "data": {
      "text/plain": [
       "age           int64\n",
       "yrsed         int64\n",
       "edcat        object\n",
       "yrsempl       int64\n",
       "income      float64\n",
       "creddebt    float64\n",
       "othdebt     float64\n",
       "default      object\n",
       "jobsat       object\n",
       "homeown      object\n",
       "address       int64\n",
       "cars          int64\n",
       "carvalue    float64\n",
       "dtype: object"
      ]
     },
     "execution_count": 21,
     "metadata": {},
     "output_type": "execute_result"
    }
   ],
   "source": [
    "##### checking for infinity\n",
    "  \n",
    "temp = X_test.isin([np.inf, -np.inf])\n",
    "print(temp)\n",
    "\n",
    "#### printing the count of infinity values\")\n",
    "  \n",
    "count = np.isinf(temp).values.sum()\n",
    "print(\"It contains \" + str(count) + \" infinite values\")\n",
    "\n",
    "count = np.isnan(temp).values.sum()\n",
    "print(\"It contains \" + str(count) + \" nan values\")\n",
    "\n",
    "X_test.dtypes"
   ]
  },
  {
   "cell_type": "code",
   "execution_count": null,
   "id": "66c01eb4",
   "metadata": {},
   "outputs": [],
   "source": [
    "scale_feature = [feature for feature in X_test.columns if feature not in ['income'] ]\n",
    "print(scale_feature)\n",
    "from sklearn.preprocessing import MinMaxScaler\n",
    "scaler2=MinMaxScaler()\n",
    "\n",
    "#this line helps to solve the Value error of infinte and large for float 62\n",
    "X_test = X_test.replace((np.inf, -np.inf, np.nan), 0).reset_index(drop=True)\n",
    "scaler2.fit(X_test[scale_feature])\n",
    "\n"
   ]
  },
  {
   "cell_type": "code",
   "execution_count": 23,
   "id": "6db9c1e5",
   "metadata": {},
   "outputs": [],
   "source": [
    "X_test = pd.concat([X_test['income'].reset_index(drop=True),pd.DataFrame(scaler.transform(X_test[scale_feature]),columns=scale_feature)],axis=1)\n"
   ]
  },
  {
   "cell_type": "code",
   "execution_count": 24,
   "id": "8ecda9ca",
   "metadata": {},
   "outputs": [
    {
     "data": {
      "text/html": [
       "<div>\n",
       "<style scoped>\n",
       "    .dataframe tbody tr th:only-of-type {\n",
       "        vertical-align: middle;\n",
       "    }\n",
       "\n",
       "    .dataframe tbody tr th {\n",
       "        vertical-align: top;\n",
       "    }\n",
       "\n",
       "    .dataframe thead th {\n",
       "        text-align: right;\n",
       "    }\n",
       "</style>\n",
       "<table border=\"1\" class=\"dataframe\">\n",
       "  <thead>\n",
       "    <tr style=\"text-align: right;\">\n",
       "      <th></th>\n",
       "      <th>income</th>\n",
       "      <th>age</th>\n",
       "      <th>yrsed</th>\n",
       "      <th>edcat</th>\n",
       "      <th>yrsempl</th>\n",
       "      <th>creddebt</th>\n",
       "      <th>othdebt</th>\n",
       "      <th>default</th>\n",
       "      <th>jobsat</th>\n",
       "      <th>homeown</th>\n",
       "      <th>address</th>\n",
       "      <th>cars</th>\n",
       "      <th>carvalue</th>\n",
       "    </tr>\n",
       "  </thead>\n",
       "  <tbody>\n",
       "    <tr>\n",
       "      <th>0</th>\n",
       "      <td>4.477337</td>\n",
       "      <td>0.459016</td>\n",
       "      <td>0.529412</td>\n",
       "      <td>0.50</td>\n",
       "      <td>0.211538</td>\n",
       "      <td>0.532582</td>\n",
       "      <td>0.537874</td>\n",
       "      <td>0.0</td>\n",
       "      <td>0.75</td>\n",
       "      <td>1.0</td>\n",
       "      <td>0.315789</td>\n",
       "      <td>0.166667</td>\n",
       "      <td>0.797952</td>\n",
       "    </tr>\n",
       "    <tr>\n",
       "      <th>1</th>\n",
       "      <td>3.688879</td>\n",
       "      <td>0.573770</td>\n",
       "      <td>0.117647</td>\n",
       "      <td>0.00</td>\n",
       "      <td>0.269231</td>\n",
       "      <td>0.417300</td>\n",
       "      <td>0.288202</td>\n",
       "      <td>0.0</td>\n",
       "      <td>0.25</td>\n",
       "      <td>1.0</td>\n",
       "      <td>0.315789</td>\n",
       "      <td>0.166667</td>\n",
       "      <td>0.512073</td>\n",
       "    </tr>\n",
       "    <tr>\n",
       "      <th>2</th>\n",
       "      <td>3.891820</td>\n",
       "      <td>0.245902</td>\n",
       "      <td>0.529412</td>\n",
       "      <td>0.50</td>\n",
       "      <td>0.115385</td>\n",
       "      <td>0.593294</td>\n",
       "      <td>0.544614</td>\n",
       "      <td>0.0</td>\n",
       "      <td>0.25</td>\n",
       "      <td>1.0</td>\n",
       "      <td>0.192982</td>\n",
       "      <td>0.000000</td>\n",
       "      <td>0.644696</td>\n",
       "    </tr>\n",
       "    <tr>\n",
       "      <th>3</th>\n",
       "      <td>2.890372</td>\n",
       "      <td>0.032787</td>\n",
       "      <td>0.352941</td>\n",
       "      <td>0.25</td>\n",
       "      <td>0.019231</td>\n",
       "      <td>0.596469</td>\n",
       "      <td>0.381121</td>\n",
       "      <td>1.0</td>\n",
       "      <td>0.00</td>\n",
       "      <td>0.0</td>\n",
       "      <td>0.000000</td>\n",
       "      <td>0.166667</td>\n",
       "      <td>0.321673</td>\n",
       "    </tr>\n",
       "    <tr>\n",
       "      <th>4</th>\n",
       "      <td>3.951244</td>\n",
       "      <td>0.803279</td>\n",
       "      <td>0.705882</td>\n",
       "      <td>0.75</td>\n",
       "      <td>0.096154</td>\n",
       "      <td>0.573228</td>\n",
       "      <td>0.618974</td>\n",
       "      <td>1.0</td>\n",
       "      <td>0.00</td>\n",
       "      <td>0.0</td>\n",
       "      <td>0.456140</td>\n",
       "      <td>0.166667</td>\n",
       "      <td>0.616721</td>\n",
       "    </tr>\n",
       "  </tbody>\n",
       "</table>\n",
       "</div>"
      ],
      "text/plain": [
       "     income       age     yrsed  edcat   yrsempl  creddebt   othdebt  default  \\\n",
       "0  4.477337  0.459016  0.529412   0.50  0.211538  0.532582  0.537874      0.0   \n",
       "1  3.688879  0.573770  0.117647   0.00  0.269231  0.417300  0.288202      0.0   \n",
       "2  3.891820  0.245902  0.529412   0.50  0.115385  0.593294  0.544614      0.0   \n",
       "3  2.890372  0.032787  0.352941   0.25  0.019231  0.596469  0.381121      1.0   \n",
       "4  3.951244  0.803279  0.705882   0.75  0.096154  0.573228  0.618974      1.0   \n",
       "\n",
       "   jobsat  homeown   address      cars  carvalue  \n",
       "0    0.75      1.0  0.315789  0.166667  0.797952  \n",
       "1    0.25      1.0  0.315789  0.166667  0.512073  \n",
       "2    0.25      1.0  0.192982  0.000000  0.644696  \n",
       "3    0.00      0.0  0.000000  0.166667  0.321673  \n",
       "4    0.00      0.0  0.456140  0.166667  0.616721  "
      ]
     },
     "execution_count": 24,
     "metadata": {},
     "output_type": "execute_result"
    }
   ],
   "source": [
    "X_test.head()"
   ]
  },
  {
   "cell_type": "code",
   "execution_count": 25,
   "id": "ce5b4ad2",
   "metadata": {},
   "outputs": [],
   "source": [
    "X_test.to_csv('X_test.csv',index=False)"
   ]
  },
  {
   "cell_type": "markdown",
   "id": "2455edd6",
   "metadata": {},
   "source": [
    "# Now We Are Ready For Feature Selection "
   ]
  },
  {
   "cell_type": "code",
   "execution_count": null,
   "id": "83612643",
   "metadata": {},
   "outputs": [],
   "source": []
  }
 ],
 "metadata": {
  "kernelspec": {
   "display_name": "Python 3 (ipykernel)",
   "language": "python",
   "name": "python3"
  },
  "language_info": {
   "codemirror_mode": {
    "name": "ipython",
    "version": 3
   },
   "file_extension": ".py",
   "mimetype": "text/x-python",
   "name": "python",
   "nbconvert_exporter": "python",
   "pygments_lexer": "ipython3",
   "version": "3.9.7"
  }
 },
 "nbformat": 4,
 "nbformat_minor": 5
}
