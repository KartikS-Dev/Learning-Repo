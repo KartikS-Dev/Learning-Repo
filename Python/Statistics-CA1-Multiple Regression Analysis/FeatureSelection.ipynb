{
 "cells": [
  {
   "cell_type": "markdown",
   "id": "00727a1c",
   "metadata": {},
   "source": [
    "# <font size='10' color='#1ABC9C'> Feature Selection </font>"
   ]
  },
  {
   "cell_type": "code",
   "execution_count": 1,
   "id": "51303eb8",
   "metadata": {},
   "outputs": [],
   "source": [
    "import pandas as pd\n",
    "import numpy as np\n",
    "import matplotlib.pyplot as plt\n",
    "%matplotlib inline \n",
    "## When using the 'inline' backend, \n",
    "## your matplotlib graphs will be included in your notebook, next to the code.\n",
    "import seaborn as sns\n",
    "\n",
    "pd.pandas.set_option('display.max_columns',None)"
   ]
  },
  {
   "cell_type": "code",
   "execution_count": 2,
   "id": "bc712e4b",
   "metadata": {},
   "outputs": [
    {
     "name": "stdout",
     "output_type": "stream",
     "text": [
      "(3155, 13)\n"
     ]
    }
   ],
   "source": [
    "dataset=pd.read_csv('X_train.csv')\n",
    "\n",
    "##What's the shape of data set\n",
    "print(dataset.shape)"
   ]
  },
  {
   "cell_type": "code",
   "execution_count": 3,
   "id": "aed81cb0",
   "metadata": {},
   "outputs": [
    {
     "data": {
      "text/html": [
       "<div>\n",
       "<style scoped>\n",
       "    .dataframe tbody tr th:only-of-type {\n",
       "        vertical-align: middle;\n",
       "    }\n",
       "\n",
       "    .dataframe tbody tr th {\n",
       "        vertical-align: top;\n",
       "    }\n",
       "\n",
       "    .dataframe thead th {\n",
       "        text-align: right;\n",
       "    }\n",
       "</style>\n",
       "<table border=\"1\" class=\"dataframe\">\n",
       "  <thead>\n",
       "    <tr style=\"text-align: right;\">\n",
       "      <th></th>\n",
       "      <th>income</th>\n",
       "      <th>age</th>\n",
       "      <th>yrsed</th>\n",
       "      <th>edcat</th>\n",
       "      <th>yrsempl</th>\n",
       "      <th>creddebt</th>\n",
       "      <th>othdebt</th>\n",
       "      <th>default</th>\n",
       "      <th>jobsat</th>\n",
       "      <th>homeown</th>\n",
       "      <th>address</th>\n",
       "      <th>cars</th>\n",
       "      <th>carvalue</th>\n",
       "    </tr>\n",
       "  </thead>\n",
       "  <tbody>\n",
       "    <tr>\n",
       "      <th>0</th>\n",
       "      <td>2.772589</td>\n",
       "      <td>1.000000</td>\n",
       "      <td>0.411765</td>\n",
       "      <td>0.25</td>\n",
       "      <td>0.653846</td>\n",
       "      <td>0.475553</td>\n",
       "      <td>0.424034</td>\n",
       "      <td>0.0</td>\n",
       "      <td>0.75</td>\n",
       "      <td>0.0</td>\n",
       "      <td>0.771930</td>\n",
       "      <td>0.166667</td>\n",
       "      <td>0.354501</td>\n",
       "    </tr>\n",
       "    <tr>\n",
       "      <th>1</th>\n",
       "      <td>3.583519</td>\n",
       "      <td>0.114754</td>\n",
       "      <td>0.705882</td>\n",
       "      <td>0.75</td>\n",
       "      <td>0.000000</td>\n",
       "      <td>0.717623</td>\n",
       "      <td>0.532861</td>\n",
       "      <td>1.0</td>\n",
       "      <td>0.25</td>\n",
       "      <td>1.0</td>\n",
       "      <td>0.070175</td>\n",
       "      <td>0.000000</td>\n",
       "      <td>0.620105</td>\n",
       "    </tr>\n",
       "    <tr>\n",
       "      <th>2</th>\n",
       "      <td>4.127134</td>\n",
       "      <td>0.262295</td>\n",
       "      <td>0.764706</td>\n",
       "      <td>0.75</td>\n",
       "      <td>0.057692</td>\n",
       "      <td>0.632413</td>\n",
       "      <td>0.617074</td>\n",
       "      <td>1.0</td>\n",
       "      <td>0.25</td>\n",
       "      <td>1.0</td>\n",
       "      <td>0.140351</td>\n",
       "      <td>0.000000</td>\n",
       "      <td>0.594209</td>\n",
       "    </tr>\n",
       "    <tr>\n",
       "      <th>3</th>\n",
       "      <td>3.044522</td>\n",
       "      <td>0.770492</td>\n",
       "      <td>0.647059</td>\n",
       "      <td>0.75</td>\n",
       "      <td>0.442308</td>\n",
       "      <td>0.566571</td>\n",
       "      <td>0.457758</td>\n",
       "      <td>0.0</td>\n",
       "      <td>0.75</td>\n",
       "      <td>0.0</td>\n",
       "      <td>0.210526</td>\n",
       "      <td>0.166667</td>\n",
       "      <td>0.391828</td>\n",
       "    </tr>\n",
       "    <tr>\n",
       "      <th>4</th>\n",
       "      <td>2.564949</td>\n",
       "      <td>0.180328</td>\n",
       "      <td>0.647059</td>\n",
       "      <td>0.75</td>\n",
       "      <td>0.057692</td>\n",
       "      <td>0.436658</td>\n",
       "      <td>0.384711</td>\n",
       "      <td>0.0</td>\n",
       "      <td>0.50</td>\n",
       "      <td>1.0</td>\n",
       "      <td>0.105263</td>\n",
       "      <td>0.000000</td>\n",
       "      <td>0.220521</td>\n",
       "    </tr>\n",
       "  </tbody>\n",
       "</table>\n",
       "</div>"
      ],
      "text/plain": [
       "     income       age     yrsed  edcat   yrsempl  creddebt   othdebt  default  \\\n",
       "0  2.772589  1.000000  0.411765   0.25  0.653846  0.475553  0.424034      0.0   \n",
       "1  3.583519  0.114754  0.705882   0.75  0.000000  0.717623  0.532861      1.0   \n",
       "2  4.127134  0.262295  0.764706   0.75  0.057692  0.632413  0.617074      1.0   \n",
       "3  3.044522  0.770492  0.647059   0.75  0.442308  0.566571  0.457758      0.0   \n",
       "4  2.564949  0.180328  0.647059   0.75  0.057692  0.436658  0.384711      0.0   \n",
       "\n",
       "   jobsat  homeown   address      cars  carvalue  \n",
       "0    0.75      0.0  0.771930  0.166667  0.354501  \n",
       "1    0.25      1.0  0.070175  0.000000  0.620105  \n",
       "2    0.25      1.0  0.140351  0.000000  0.594209  \n",
       "3    0.75      0.0  0.210526  0.166667  0.391828  \n",
       "4    0.50      1.0  0.105263  0.000000  0.220521  "
      ]
     },
     "execution_count": 3,
     "metadata": {},
     "output_type": "execute_result"
    }
   ],
   "source": [
    "dataset.head()"
   ]
  },
  {
   "cell_type": "code",
   "execution_count": 4,
   "id": "ce4daf97",
   "metadata": {},
   "outputs": [],
   "source": [
    "## We will use Lasso Regression for feature selection as it provides more significat features in less time\n",
    "  ## else using Linear regression we need to adjust and test number of features again and again\n",
    "from sklearn.linear_model import Lasso\n",
    "#from sklearn.linear_model import LinearRegression\n",
    "#from sklearn.feature_selection import RFE #RFE (Recursive Feature Elimination)\n",
    "from sklearn.feature_selection import SelectFromModel"
   ]
  },
  {
   "cell_type": "code",
   "execution_count": 5,
   "id": "aa42f22e",
   "metadata": {},
   "outputs": [],
   "source": [
    "## capturing the dependent feature\n",
    "y_train = dataset['income']"
   ]
  },
  {
   "cell_type": "code",
   "execution_count": 6,
   "id": "f2b1642e",
   "metadata": {},
   "outputs": [
    {
     "name": "stdout",
     "output_type": "stream",
     "text": [
      "0       2.772589\n",
      "1       3.583519\n",
      "2       4.127134\n",
      "3       3.044522\n",
      "4       2.564949\n",
      "          ...   \n",
      "3150    4.330733\n",
      "3151    4.499810\n",
      "3152    3.044522\n",
      "3153    2.944439\n",
      "3154    3.737670\n",
      "Name: income, Length: 3155, dtype: float64\n"
     ]
    }
   ],
   "source": [
    "print(y_train)"
   ]
  },
  {
   "cell_type": "code",
   "execution_count": 7,
   "id": "d1269297",
   "metadata": {},
   "outputs": [],
   "source": [
    "##Droping Dependent variable from the dataset\n",
    "x_train=dataset.drop(['income'],axis=1)"
   ]
  },
  {
   "cell_type": "code",
   "execution_count": 8,
   "id": "dbb546f0",
   "metadata": {
    "scrolled": true
   },
   "outputs": [
    {
     "name": "stdout",
     "output_type": "stream",
     "text": [
      "           age     yrsed  edcat   yrsempl  creddebt   othdebt  default  \\\n",
      "0     1.000000  0.411765   0.25  0.653846  0.475553  0.424034      0.0   \n",
      "1     0.114754  0.705882   0.75  0.000000  0.717623  0.532861      1.0   \n",
      "2     0.262295  0.764706   0.75  0.057692  0.632413  0.617074      1.0   \n",
      "3     0.770492  0.647059   0.75  0.442308  0.566571  0.457758      0.0   \n",
      "4     0.180328  0.647059   0.75  0.057692  0.436658  0.384711      0.0   \n",
      "...        ...       ...    ...       ...       ...       ...      ...   \n",
      "3150  0.721311  0.117647   0.00  0.346154  0.536394  0.484889      0.0   \n",
      "3151  0.475410  0.647059   0.75  0.076923  0.492312  0.648344      0.0   \n",
      "3152  0.737705  0.764706   0.75  0.346154  0.458285  0.414584      0.0   \n",
      "3153  0.114754  0.352941   0.25  0.076923  0.435174  0.390313      1.0   \n",
      "3154  0.655738  0.529412   0.50  0.076923  0.592692  0.408487      0.0   \n",
      "\n",
      "      jobsat  homeown   address      cars  carvalue  \n",
      "0       0.75      0.0  0.771930  0.166667  0.354501  \n",
      "1       0.25      1.0  0.070175  0.000000  0.620105  \n",
      "2       0.25      1.0  0.140351  0.000000  0.594209  \n",
      "3       0.75      0.0  0.210526  0.166667  0.391828  \n",
      "4       0.50      1.0  0.105263  0.000000  0.220521  \n",
      "...      ...      ...       ...       ...       ...  \n",
      "3150    0.50      1.0  0.438596  0.000000  0.668112  \n",
      "3151    0.50      1.0  0.315789  0.000000  0.881941  \n",
      "3152    0.50      0.0  0.315789  0.333333  0.275944  \n",
      "3153    0.75      0.0  0.052632  0.333333  0.422125  \n",
      "3154    0.00      0.0  0.368421  0.166667  0.573627  \n",
      "\n",
      "[3155 rows x 12 columns]\n"
     ]
    }
   ],
   "source": [
    "print(x_train)"
   ]
  },
  {
   "cell_type": "markdown",
   "id": "cc6dab9f",
   "metadata": {},
   "source": [
    "used Liner Regression for finding the good features, seems not efficient way."
   ]
  },
  {
   "cell_type": "code",
   "execution_count": 9,
   "id": "0561a5a0",
   "metadata": {},
   "outputs": [],
   "source": [
    "# RFE_regressor = LinearRegression()\n",
    "# rfe = RFE(RFE_regressor ,3)\n",
    "#Transforming data using RFE\n",
    "# x_train_rfe_1 = rfe.fit_transform(x_train,y_train)  \n",
    "#Fitting the data to model\n",
    "# RFE_regressor.fit(x_train,y_train) \n",
    "# print(rfe.support_)\n",
    "# print(rfe.ranking_)\n"
   ]
  },
  {
   "cell_type": "code",
   "execution_count": 10,
   "id": "b8508480",
   "metadata": {},
   "outputs": [],
   "source": [
    "# selected_features = x_train.columns[rfe.support_]\n",
    "\n",
    "# print('total number of features : {}'.format(x_train.shape[1]))\n",
    "# print('total number of selected features : {}'.format(len(selected_features)))"
   ]
  },
  {
   "cell_type": "markdown",
   "id": "04528a03",
   "metadata": {},
   "source": [
    "Now using Lasso for feature selection"
   ]
  },
  {
   "cell_type": "code",
   "execution_count": 11,
   "id": "42d4e5a5",
   "metadata": {},
   "outputs": [
    {
     "data": {
      "text/plain": [
       "SelectFromModel(estimator=Lasso(alpha=0.005, random_state=3))"
      ]
     },
     "execution_count": 11,
     "metadata": {},
     "output_type": "execute_result"
    }
   ],
   "source": [
    "#Alpha = 0.5 , random_sate =3\n",
    "feature_sel_model1 = SelectFromModel(Lasso(alpha=0.005,random_state=3))\n",
    "feature_sel_model1.fit(x_train,y_train)"
   ]
  },
  {
   "cell_type": "code",
   "execution_count": 12,
   "id": "99b2cfa4",
   "metadata": {},
   "outputs": [
    {
     "data": {
      "text/plain": [
       "array([False, False,  True,  True,  True,  True, False,  True,  True,\n",
       "       False, False,  True])"
      ]
     },
     "execution_count": 12,
     "metadata": {},
     "output_type": "execute_result"
    }
   ],
   "source": [
    "feature_sel_model1.get_support()"
   ]
  },
  {
   "cell_type": "code",
   "execution_count": 15,
   "id": "e515b061",
   "metadata": {},
   "outputs": [
    {
     "name": "stdout",
     "output_type": "stream",
     "text": [
      "total number of features : 12\n",
      "total number of selected features : 7\n"
     ]
    }
   ],
   "source": [
    " selected_features = x_train.columns[feature_sel_model1.get_support()]\n",
    "\n",
    "print('total number of features : {}'.format(x_train.shape[1]))\n",
    "print('total number of selected features : {}'.format(len(selected_features)))"
   ]
  },
  {
   "cell_type": "code",
   "execution_count": 16,
   "id": "8ec68e97",
   "metadata": {},
   "outputs": [
    {
     "data": {
      "text/html": [
       "<div>\n",
       "<style scoped>\n",
       "    .dataframe tbody tr th:only-of-type {\n",
       "        vertical-align: middle;\n",
       "    }\n",
       "\n",
       "    .dataframe tbody tr th {\n",
       "        vertical-align: top;\n",
       "    }\n",
       "\n",
       "    .dataframe thead th {\n",
       "        text-align: right;\n",
       "    }\n",
       "</style>\n",
       "<table border=\"1\" class=\"dataframe\">\n",
       "  <thead>\n",
       "    <tr style=\"text-align: right;\">\n",
       "      <th></th>\n",
       "      <th>edcat</th>\n",
       "      <th>yrsempl</th>\n",
       "      <th>creddebt</th>\n",
       "      <th>othdebt</th>\n",
       "      <th>jobsat</th>\n",
       "      <th>homeown</th>\n",
       "      <th>carvalue</th>\n",
       "    </tr>\n",
       "  </thead>\n",
       "  <tbody>\n",
       "    <tr>\n",
       "      <th>0</th>\n",
       "      <td>0.25</td>\n",
       "      <td>0.653846</td>\n",
       "      <td>0.475553</td>\n",
       "      <td>0.424034</td>\n",
       "      <td>0.75</td>\n",
       "      <td>0.0</td>\n",
       "      <td>0.354501</td>\n",
       "    </tr>\n",
       "    <tr>\n",
       "      <th>1</th>\n",
       "      <td>0.75</td>\n",
       "      <td>0.000000</td>\n",
       "      <td>0.717623</td>\n",
       "      <td>0.532861</td>\n",
       "      <td>0.25</td>\n",
       "      <td>1.0</td>\n",
       "      <td>0.620105</td>\n",
       "    </tr>\n",
       "    <tr>\n",
       "      <th>2</th>\n",
       "      <td>0.75</td>\n",
       "      <td>0.057692</td>\n",
       "      <td>0.632413</td>\n",
       "      <td>0.617074</td>\n",
       "      <td>0.25</td>\n",
       "      <td>1.0</td>\n",
       "      <td>0.594209</td>\n",
       "    </tr>\n",
       "    <tr>\n",
       "      <th>3</th>\n",
       "      <td>0.75</td>\n",
       "      <td>0.442308</td>\n",
       "      <td>0.566571</td>\n",
       "      <td>0.457758</td>\n",
       "      <td>0.75</td>\n",
       "      <td>0.0</td>\n",
       "      <td>0.391828</td>\n",
       "    </tr>\n",
       "    <tr>\n",
       "      <th>4</th>\n",
       "      <td>0.75</td>\n",
       "      <td>0.057692</td>\n",
       "      <td>0.436658</td>\n",
       "      <td>0.384711</td>\n",
       "      <td>0.50</td>\n",
       "      <td>1.0</td>\n",
       "      <td>0.220521</td>\n",
       "    </tr>\n",
       "  </tbody>\n",
       "</table>\n",
       "</div>"
      ],
      "text/plain": [
       "   edcat   yrsempl  creddebt   othdebt  jobsat  homeown  carvalue\n",
       "0   0.25  0.653846  0.475553  0.424034    0.75      0.0  0.354501\n",
       "1   0.75  0.000000  0.717623  0.532861    0.25      1.0  0.620105\n",
       "2   0.75  0.057692  0.632413  0.617074    0.25      1.0  0.594209\n",
       "3   0.75  0.442308  0.566571  0.457758    0.75      0.0  0.391828\n",
       "4   0.75  0.057692  0.436658  0.384711    0.50      1.0  0.220521"
      ]
     },
     "execution_count": 16,
     "metadata": {},
     "output_type": "execute_result"
    }
   ],
   "source": [
    "x_train_1=x_train[selected_features].head()\n",
    "x_train_1"
   ]
  },
  {
   "cell_type": "code",
   "execution_count": null,
   "id": "2e9f1cdc",
   "metadata": {},
   "outputs": [],
   "source": []
  }
 ],
 "metadata": {
  "kernelspec": {
   "display_name": "Python 3 (ipykernel)",
   "language": "python",
   "name": "python3"
  },
  "language_info": {
   "codemirror_mode": {
    "name": "ipython",
    "version": 3
   },
   "file_extension": ".py",
   "mimetype": "text/x-python",
   "name": "python",
   "nbconvert_exporter": "python",
   "pygments_lexer": "ipython3",
   "version": "3.9.7"
  }
 },
 "nbformat": 4,
 "nbformat_minor": 5
}
